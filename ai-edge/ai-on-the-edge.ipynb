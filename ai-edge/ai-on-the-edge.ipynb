{
 "cells": [
  {
   "cell_type": "markdown",
   "metadata": {
    "slideshow": {
     "slide_type": "-"
    }
   },
   "source": [
    "  # AI on the edge\n",
    "\n",
    "Deep learning on small devices\n"
   ]
  },
  {
   "cell_type": "markdown",
   "metadata": {
    "slideshow": {
     "slide_type": "slide"
    }
   },
   "source": [
    "- Motivation\n",
    "- Deep learning models\n",
    "- Running on devices"
   ]
  },
  {
   "cell_type": "markdown",
   "metadata": {
    "slideshow": {
     "slide_type": "slide"
    }
   },
   "source": [
    "## Why AI on devices?"
   ]
  },
  {
   "cell_type": "markdown",
   "metadata": {
    "slideshow": {
     "slide_type": "slide"
    }
   },
   "source": [
    "![cloud](assets/lsvm-machine-learning-cloud.jpg)"
   ]
  },
  {
   "cell_type": "markdown",
   "metadata": {
    "slideshow": {
     "slide_type": "slide"
    }
   },
   "source": [
    "![data center](assets/how_safe_datacenter.jpg)"
   ]
  },
  {
   "cell_type": "markdown",
   "metadata": {
    "slideshow": {
     "slide_type": "slide"
    }
   },
   "source": [
    "<img src=\"assets/GDP-Complience-V02-72dpi-RGB-01.jpg\" width=\"70%\">"
   ]
  },
  {
   "cell_type": "markdown",
   "metadata": {
    "slideshow": {
     "slide_type": "slide"
    }
   },
   "source": [
    "<img src=\"assets/qualcomm_on_device_intelligence.png\" width=\"80%\">"
   ]
  },
  {
   "cell_type": "markdown",
   "metadata": {
    "slideshow": {
     "slide_type": "slide"
    }
   },
   "source": [
    "## Deep learning models for devices"
   ]
  },
  {
   "cell_type": "markdown",
   "metadata": {
    "slideshow": {
     "slide_type": "slide"
    }
   },
   "source": [
    "## MobileNet\n",
    "\n",
    "https://arxiv.org/abs/1704.04861v1\n",
    "\n",
    "Standard convolution $h_i.w_i.d_i.d_j.k.k$\n",
    "\n",
    "Depthwise separable $h_i.w_i.d_i(d_j+k^2)$"
   ]
  },
  {
   "cell_type": "markdown",
   "metadata": {
    "slideshow": {
     "slide_type": "slide"
    }
   },
   "source": [
    "<img src=\"assets/depthwise_separable_conv_unit.png\" width=\"400\" style=\"float:left;\">\n",
    "<img src=\"assets/depthwise_separable_conv_layer.png\" width=\"400\" style=\"float:left;\">"
   ]
  },
  {
   "cell_type": "markdown",
   "metadata": {
    "slideshow": {
     "slide_type": "slide"
    }
   },
   "source": [
    "<img src=\"assets/mobilenets.png\" width=\"500\">"
   ]
  },
  {
   "cell_type": "markdown",
   "metadata": {
    "slideshow": {
     "slide_type": "slide"
    }
   },
   "source": [
    "<img src=\"assets/mobilenet_res.png\" width=900>\n",
    "\n",
    "<img src=\"assets/mobilenet_acc.png\" width=40%>"
   ]
  },
  {
   "cell_type": "markdown",
   "metadata": {
    "slideshow": {
     "slide_type": "slide"
    }
   },
   "source": [
    "## MobileNet V2\n",
    "\n",
    "https://arxiv.org/abs/1801.04381\n",
    "\n",
    "<img src=\"assets/mobilenetv2_unit.png\" width=60%>"
   ]
  },
  {
   "cell_type": "markdown",
   "metadata": {
    "slideshow": {
     "slide_type": "slide"
    }
   },
   "source": [
    "<img src=\"assets/mobilenetv2_block.png\" width=450 style=\"float:left;\">\n",
    "<img src=\"assets/mobilenetv2_arch.png\" width=450 style=\"float:left;\">"
   ]
  },
  {
   "cell_type": "markdown",
   "metadata": {
    "slideshow": {
     "slide_type": "slide"
    }
   },
   "source": [
    "<img src=\"assets/mobilenetv2_curve.png\">"
   ]
  },
  {
   "cell_type": "markdown",
   "metadata": {
    "slideshow": {
     "slide_type": "slide"
    }
   },
   "source": [
    "<img src=\"assets/mobilenetv2_compare.png\" width=500>"
   ]
  },
  {
   "cell_type": "markdown",
   "metadata": {
    "slideshow": {
     "slide_type": "slide"
    }
   },
   "source": [
    "<img src=\"assets/mobilenetv2_residual.png\" width=70%>\n",
    "\n",
    "<img src=\"assets/mobilenetv2_residual_curve.png\" width=70%>"
   ]
  },
  {
   "cell_type": "markdown",
   "metadata": {
    "slideshow": {
     "slide_type": "slide"
    }
   },
   "source": [
    "## SqueezeNet\n",
    "\n",
    "https://arxiv.org/abs/1602.07360\n",
    "\n",
    "https://github.com/DeepScale/SqueezeNet\n",
    "<img src=\"assets/squeezenet_unit.png\" width=800>"
   ]
  },
  {
   "cell_type": "markdown",
   "metadata": {
    "slideshow": {
     "slide_type": "slide"
    }
   },
   "source": [
    "<img src=\"assets/squeezenet_arch.png\" width=750>\n",
    "<img src=\"assets/squeezenet_bypass.png\" width=750>"
   ]
  },
  {
   "cell_type": "markdown",
   "metadata": {
    "slideshow": {
     "slide_type": "slide"
    }
   },
   "source": [
    "<img src=\"assets/squeezenet_compare.png\" width=800>"
   ]
  },
  {
   "cell_type": "markdown",
   "metadata": {
    "slideshow": {
     "slide_type": "slide"
    }
   },
   "source": [
    "## Running models on devices"
   ]
  },
  {
   "cell_type": "markdown",
   "metadata": {
    "slideshow": {
     "slide_type": "slide"
    }
   },
   "source": [
    "## CoreML\n",
    "\n",
    "https://developer.apple.com/documentation/coreml\n",
    "\n",
    "- download pre-trained .mlmodel\n",
    "  - or convert from Caffe, Tensorflow, Onyx, etc\n",
    "- add to XCode project to generate wrapper\n",
    "  - use optional Vision library to preprocess images\n",
    "- models"
   ]
  },
  {
   "cell_type": "markdown",
   "metadata": {
    "slideshow": {
     "slide_type": "slide"
    }
   },
   "source": [
    "## Demo\n",
    "\n",
    "https://github.com/hollance/MobileNet-CoreML"
   ]
  },
  {
   "cell_type": "markdown",
   "metadata": {
    "slideshow": {
     "slide_type": "slide"
    }
   },
   "source": [
    "|MobileNet|SqueezeNet|\n",
    "|--|--|\n",
    "|<img src=\"assets/coreml_mobilenet.png\" width=\"400\">|<img src=\"assets/coreml_sqeezenet.png\" width=\"400\">|"
   ]
  },
  {
   "cell_type": "markdown",
   "metadata": {
    "slideshow": {
     "slide_type": "slide"
    }
   },
   "source": [
    "## TensorFlow\n",
    "\n",
    "- TensorFlow: https://github.com/samjabrahams/tensorflow-on-raspberry-pi\n",
    "- TensorFlow Lite: https://medium.com/@haraldfernengel/compiling-tensorflow-lite-for-a-raspberry-pi-786b1b98e646\n",
    "<img src=\"assets/tflite-architecture.jpg\" width=500>"
   ]
  },
  {
   "cell_type": "code",
   "execution_count": null,
   "metadata": {
    "slideshow": {
     "slide_type": "-"
    }
   },
   "outputs": [],
   "source": [
    "# https://github.com/tensorflow/models/tree/master/research/slim/nets/mobilenet\n",
    "\n",
    "!git clone https://github.com/tensorflo"
   ]
  },
  {
   "cell_type": "code",
   "execution_count": null,
   "metadata": {},
   "outputs": [],
   "source": [
    "\n",
    "\n"
   ]
  },
  {
   "cell_type": "markdown",
   "metadata": {
    "slideshow": {
     "slide_type": "slide"
    }
   },
   "source": [
    "## Movidius"
   ]
  },
  {
   "cell_type": "markdown",
   "metadata": {
    "slideshow": {
     "slide_type": "slide"
    }
   },
   "source": [
    "## Embedded Learning Library (ELL)"
   ]
  },
  {
   "cell_type": "markdown",
   "metadata": {
    "slideshow": {
     "slide_type": "slide"
    }
   },
   "source": [
    "|For|Try|\n",
    "|--|--|\n",
    "|iOS|CoreML, TensorFlow Lite|\n",
    "|Android|TensorFlow Lite|\n",
    "|Raspberry Pi|TensorFlow, TensorFlow Lite|\n",
    "|Raspberry Pi for Vision|Movidius|\n",
    "|Smaller than Raspberry Pi|Embedded Learning Library|\n",
    "|FPGA|??|"
   ]
  },
  {
   "cell_type": "code",
   "execution_count": null,
   "metadata": {},
   "outputs": [],
   "source": []
  }
 ],
 "metadata": {
  "celltoolbar": "Slideshow",
  "kernelspec": {
   "display_name": "Python 3",
   "language": "python",
   "name": "python3"
  },
  "language_info": {
   "codemirror_mode": {
    "name": "ipython",
    "version": 3
   },
   "file_extension": ".py",
   "mimetype": "text/x-python",
   "name": "python",
   "nbconvert_exporter": "python",
   "pygments_lexer": "ipython3",
   "version": "3.6.4"
  },
  "livereveal": {
   "autolaunch": true,
   "overlay": "<div class='logo'><img src='assets/Stackup_Logo_Small.png'/></div>"
  }
 },
 "nbformat": 4,
 "nbformat_minor": 2
}
