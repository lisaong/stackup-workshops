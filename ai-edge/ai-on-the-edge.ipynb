{
 "cells": [
  {
   "cell_type": "markdown",
   "metadata": {
    "slideshow": {
     "slide_type": "-"
    }
   },
   "source": [
    "  # AI on the edge\n",
    "\n",
    "Deep learning on small devices\n"
   ]
  },
  {
   "cell_type": "markdown",
   "metadata": {
    "slideshow": {
     "slide_type": "slide"
    }
   },
   "source": [
    "- Motivation\n",
    "- Deep nets for devices\n",
    "- Running deep nets on devices"
   ]
  },
  {
   "cell_type": "markdown",
   "metadata": {
    "slideshow": {
     "slide_type": "slide"
    }
   },
   "source": [
    "## Why run AI on devices?"
   ]
  },
  {
   "cell_type": "markdown",
   "metadata": {
    "slideshow": {
     "slide_type": "subslide"
    }
   },
   "source": [
    "![cloud](assets/lsvm-machine-learning-cloud.jpg)"
   ]
  },
  {
   "cell_type": "markdown",
   "metadata": {
    "slideshow": {
     "slide_type": "subslide"
    }
   },
   "source": [
    "![data center](assets/how_safe_datacenter.jpg)"
   ]
  },
  {
   "cell_type": "markdown",
   "metadata": {
    "slideshow": {
     "slide_type": "subslide"
    }
   },
   "source": [
    "<img src='assets/GDP-Complience-V02-72dpi-RGB-01.jpg' width='70%'/>"
   ]
  },
  {
   "cell_type": "markdown",
   "metadata": {
    "slideshow": {
     "slide_type": "subslide"
    }
   },
   "source": [
    "<img src='assets/qualcomm_on_device_intelligence.png' width='80%'/>"
   ]
  },
  {
   "cell_type": "markdown",
   "metadata": {
    "slideshow": {
     "slide_type": "slide"
    }
   },
   "source": [
    "## What can run on devices?"
   ]
  },
  {
   "cell_type": "markdown",
   "metadata": {
    "slideshow": {
     "slide_type": "slide"
    }
   },
   "source": [
    "## AlexNet\n",
    "\n",
    "60 million parameters, 720 million multiply-adds\n",
    "\n",
    "<img src=\"assets/alexnet.png\"/>\n",
    "\n",
    "https://papers.nips.cc/paper/4824-imagenet-classification-with-deep-convolutional-neural-networks.pdf"
   ]
  },
  {
   "cell_type": "markdown",
   "metadata": {
    "slideshow": {
     "slide_type": "slide"
    }
   },
   "source": [
    "## SqueezeNet\n",
    "\n",
    "https://arxiv.org/abs/1602.07360\n",
    "\n",
    "https://github.com/DeepScale/SqueezeNet\n",
    "<img src='assets/squeezenet_unit.png' width='800'/>"
   ]
  },
  {
   "cell_type": "markdown",
   "metadata": {
    "slideshow": {
     "slide_type": "subslide"
    }
   },
   "source": [
    "<img src='assets/squeezenet_arch.png' width='65%'/>\n",
    "<img src='assets/squeezenet_bypass.png' width='70%'/>"
   ]
  },
  {
   "cell_type": "markdown",
   "metadata": {
    "slideshow": {
     "slide_type": "subslide"
    }
   },
   "source": [
    "<img src='assets/squeezenet_compare.png'/>"
   ]
  },
  {
   "cell_type": "markdown",
   "metadata": {
    "slideshow": {
     "slide_type": "subslide"
    }
   },
   "source": [
    "## MobileNet\n",
    "\n",
    "https://arxiv.org/abs/1704.04861v1\n",
    "\n",
    "Standard convolution:\n",
    "\n",
    "$$h_i.w_i.d_i.d_j.k^2$$\n",
    "\n",
    "Depthwise separable\n",
    "\n",
    "$$h_i.w_i.d_i(d_j+k^2)$$"
   ]
  },
  {
   "cell_type": "markdown",
   "metadata": {
    "slideshow": {
     "slide_type": "subslide"
    }
   },
   "source": [
    "<img src='assets/depthwise_separable_conv_unit.png' width='450' style='float:left;'/>\n",
    "<img src='assets/depthwise_separable_conv_layer.png' width='450' style='float:left;'/>"
   ]
  },
  {
   "cell_type": "markdown",
   "metadata": {
    "slideshow": {
     "slide_type": "subslide"
    }
   },
   "source": [
    "<img src='assets/mobilenets.png' width='500'/>"
   ]
  },
  {
   "cell_type": "markdown",
   "metadata": {
    "slideshow": {
     "slide_type": "subslide"
    }
   },
   "source": [
    "<img src='assets/mobilenet_res.png' width='900'/>\n",
    "<img src='assets/mobilenet_acc.png' width='40%'/>"
   ]
  },
  {
   "cell_type": "markdown",
   "metadata": {
    "slideshow": {
     "slide_type": "slide"
    }
   },
   "source": [
    "## ShuffleNet\n",
    "\n",
    "https://arxiv.org/abs/1707.01083\n",
    "\n",
    "https://github.com/MG2033/ShuffleNet\n",
    "\n",
    "<img src='assets/shufflenet_channelshuffle.png'/>"
   ]
  },
  {
   "cell_type": "markdown",
   "metadata": {
    "slideshow": {
     "slide_type": "subslide"
    }
   },
   "source": [
    "<img src='assets/shufflenet_unit.png'/>"
   ]
  },
  {
   "cell_type": "markdown",
   "metadata": {
    "slideshow": {
     "slide_type": "subslide"
    }
   },
   "source": [
    "<img src='assets/shufflenet_compare_class.png'/>"
   ]
  },
  {
   "cell_type": "markdown",
   "metadata": {
    "slideshow": {
     "slide_type": "slide"
    }
   },
   "source": [
    "## MobileNet V2\n",
    "\n",
    "https://arxiv.org/abs/1801.04381\n",
    "\n",
    "Convolution: \n",
    "\n",
    "$$h_i.w_i.d_i.d_j.k^2$$\n",
    "\n",
    "Depthwise separable convolution (MobileNet):\n",
    "\n",
    "$$h_i.w_i.d_i(d_j+k^2)$$\n",
    "\n",
    "Bottleneck residual convolution (MobileNet V2):\n",
    "\n",
    "$$h_i.w_i.d_i.t(d_i+d_j+k^2)$$\n"
   ]
  },
  {
   "cell_type": "markdown",
   "metadata": {
    "slideshow": {
     "slide_type": "subslide"
    }
   },
   "source": [
    "<img src='assets/mobilenetv2_unit.png' width='60%'/>"
   ]
  },
  {
   "cell_type": "markdown",
   "metadata": {
    "slideshow": {
     "slide_type": "subslide"
    }
   },
   "source": [
    "<img src='assets/mobilenetv2_residual.png' width='70%'/>\n",
    "<img src='assets/mobilenetv2_residual_curve.png' width='70%'/>"
   ]
  },
  {
   "cell_type": "markdown",
   "metadata": {
    "slideshow": {
     "slide_type": "subslide"
    }
   },
   "source": [
    "<img src='assets/mobilenetv2_block_compare.png' width='60%'/>"
   ]
  },
  {
   "cell_type": "markdown",
   "metadata": {
    "slideshow": {
     "slide_type": "subslide"
    }
   },
   "source": [
    "<img src='assets/mobilenetv2_block.png' width='500' style='float:left;'/>\n",
    "<img src='assets/mobilenetv2_arch.png' width='500' style='float:left;'/>"
   ]
  },
  {
   "cell_type": "markdown",
   "metadata": {
    "slideshow": {
     "slide_type": "subslide"
    }
   },
   "source": [
    "<img src='assets/mobilenetv2_curve.png'/>"
   ]
  },
  {
   "cell_type": "markdown",
   "metadata": {
    "slideshow": {
     "slide_type": "subslide"
    }
   },
   "source": [
    "<img src='assets/mobilenetv2_compare.png' width='65%'/>"
   ]
  },
  {
   "cell_type": "markdown",
   "metadata": {
    "slideshow": {
     "slide_type": "slide"
    }
   },
   "source": [
    "## How to run on devices?"
   ]
  },
  {
   "cell_type": "markdown",
   "metadata": {
    "slideshow": {
     "slide_type": "slide"
    }
   },
   "source": [
    "## CoreML\n",
    "\n",
    "https://developer.apple.com/documentation/coreml\n",
    "\n",
    "- download pre-trained .mlmodel\n",
    "  - or convert from Caffe, Tensorflow, Onyx, etc\n",
    "- add to XCode project to generate wrapper\n",
    "  - use optional Vision library to preprocess images\n",
    "- models"
   ]
  },
  {
   "cell_type": "markdown",
   "metadata": {
    "slideshow": {
     "slide_type": "subslide"
    }
   },
   "source": [
    "## Demo: Image Classification\n",
    "---\n",
    "https://github.com/hollance/MobileNet-CoreML"
   ]
  },
  {
   "cell_type": "markdown",
   "metadata": {
    "slideshow": {
     "slide_type": "subslide"
    }
   },
   "source": [
    "|MobileNet|SqueezeNet|\n",
    "|--|--|\n",
    "|<img src='assets/coreml_mobilenet.png' width='400'/>|<img src='assets/coreml_sqeezenet.png' width='400'/>|"
   ]
  },
  {
   "cell_type": "markdown",
   "metadata": {
    "slideshow": {
     "slide_type": "slide"
    }
   },
   "source": [
    "## TensorFlow\n",
    "\n",
    "- TensorFlow: https://github.com/samjabrahams/tensorflow-on-raspberry-pi\n",
    "- TensorFlow Lite: https://medium.com/@haraldfernengel/compiling-tensorflow-lite-for-a-raspberry-pi-786b1b98e646\n",
    "<img src='assets/tflite-architecture.jpg' width='500'/>"
   ]
  },
  {
   "cell_type": "markdown",
   "metadata": {
    "slideshow": {
     "slide_type": "subslide"
    }
   },
   "source": [
    "## Demo: Image Classification (again)\n",
    "---\n",
    "https://github.com/tensorflow/models/tree/master/research/slim/nets/mobilenet"
   ]
  },
  {
   "cell_type": "code",
   "execution_count": 14,
   "metadata": {},
   "outputs": [
    {
     "name": "stdout",
     "output_type": "stream",
     "text": [
      "TensorFlow:  1.8.0\n",
      "Linux, f7eb4f133388, 4.14.34-v7+, #1110 SMP Mon Apr 16 15:18:51 BST 2018, armv7l, \n"
     ]
    }
   ],
   "source": [
    "from __future__ import print_function\n",
    "\n",
    "import tensorflow as tf\n",
    "print(\"TensorFlow: \", tf.__version__)\n",
    "\n",
    "import platform\n",
    "print(\", \".join(platform.uname()))"
   ]
  },
  {
   "cell_type": "code",
   "execution_count": 5,
   "metadata": {
    "slideshow": {
     "slide_type": "subslide"
    }
   },
   "outputs": [
    {
     "name": "stdout",
     "output_type": "stream",
     "text": [
      "Cloning into 'models'...\n",
      "remote: Counting objects: 16153, done.\u001b[K\n",
      "remote: Compressing objects: 100% (2/2), done.\u001b[K\n",
      "remote: Total 16153 (delta 2), reused 2 (delta 2), pack-reused 16149\u001b[K\n",
      "Receiving objects: 100% (16153/16153), 424.03 MiB | 3.95 MiB/s, done.\n",
      "Resolving deltas: 100% (9560/9560), done.\n",
      "Checking out files: 100% (2163/2163), done.\n"
     ]
    }
   ],
   "source": [
    "from IPython import display\n",
    "\n",
    "# download tensorflow models\n",
    "!git clone https://github.com/tensorflow/models"
   ]
  },
  {
   "cell_type": "code",
   "execution_count": 6,
   "metadata": {
    "slideshow": {
     "slide_type": "subslide"
    }
   },
   "outputs": [
    {
     "name": "stdout",
     "output_type": "stream",
     "text": [
      "Successfully downloaded https://storage.googleapis.com/mobilenet_v2/checkpoints/mobilenet_v2_1.0_224.tgz as mobilenet_v2_1.0_224.ckpt\n"
     ]
    }
   ],
   "source": [
    "# download a recent MobileNet V2 checkpoint\n",
    "checkpoint_name = 'mobilenet_v2_1.0_224'\n",
    "url = 'https://storage.googleapis.com/mobilenet_v2/checkpoints/' + checkpoint_name + '.tgz'\n",
    "print('Downloading from ', url)\n",
    "\n",
    "!curl -L {url} -o {checkpoint_name}.tgz\n",
    "print('Unpacking')\n",
    "\n",
    "!tar -xvf {checkpoint_name}.tgz\n",
    "checkpoint = checkpoint_name + '.ckpt'\n",
    "\n",
    "display.clear_output()\n",
    "print('Successfully downloaded', url, 'as', checkpoint)"
   ]
  },
  {
   "cell_type": "code",
   "execution_count": 7,
   "metadata": {
    "slideshow": {
     "slide_type": "subslide"
    }
   },
   "outputs": [
    {
     "name": "stdout",
     "output_type": "stream",
     "text": [
      "  % Total    % Received % Xferd  Average Speed   Time    Time     Time  Current\n",
      "                                 Dload  Upload   Total   Spent    Left  Speed\n",
      "100  388k  100  388k    0     0   117k      0  0:00:03  0:00:03 --:--:--  117k\n"
     ]
    }
   ],
   "source": [
    "# download test image\n",
    "!curl -L -o test.jpg 'https://upload.wikimedia.org/wikipedia/commons/b/bf/Angela_Merkel._Tallinn_Digital_Summit.jpg'"
   ]
  },
  {
   "cell_type": "code",
   "execution_count": 9,
   "metadata": {
    "slideshow": {
     "slide_type": "subslide"
    }
   },
   "outputs": [],
   "source": [
    "# Setup image processing\n",
    "import sys\n",
    "sys.path += ['models/research/slim']\n",
    "\n",
    "import tensorflow as tf\n",
    "from nets.mobilenet import mobilenet_v2\n",
    "\n",
    "tf.reset_default_graph()\n",
    "\n",
    "file_input = tf.placeholder(tf.string, ())\n",
    "image = tf.image.decode_jpeg(tf.read_file(file_input))\n",
    "images = tf.expand_dims(image, 0)\n",
    "images = tf.cast(images, tf.float32) / 128.  - 1\n",
    "images.set_shape((None, None, None, 3))\n",
    "images = tf.image.resize_images(images, (224, 224))"
   ]
  },
  {
   "cell_type": "code",
   "execution_count": 10,
   "metadata": {
    "slideshow": {
     "slide_type": "subslide"
    }
   },
   "outputs": [],
   "source": [
    "# Setup checkpoint\n",
    "with tf.contrib.slim.arg_scope(mobilenet_v2.training_scope(is_training=False)):\n",
    "  logits, endpoints = mobilenet_v2.mobilenet(images)\n",
    "  \n",
    "# Restore using exponential moving average since it produces (1.5-2%)\n",
    "# higher accuracy\n",
    "ema = tf.train.ExponentialMovingAverage(0.999)\n",
    "vars = ema.variables_to_restore()\n",
    "\n",
    "saver = tf.train.Saver(vars)"
   ]
  },
  {
   "cell_type": "code",
   "execution_count": 18,
   "metadata": {
    "slideshow": {
     "slide_type": "subslide"
    }
   },
   "outputs": [
    {
     "name": "stdout",
     "output_type": "stream",
     "text": [
      "Collecting pillow\n",
      "\u001b[?25l  Downloading https://files.pythonhosted.org/packages/89/b8/2f49bf71cbd0e9485bb36f72d438421b69b7356180695ae10bd4fd3066f5/Pillow-5.1.0.tar.gz (14.3MB)\n",
      "\u001b[K    100% |████████████████████████████████| 14.3MB 488kB/s ta 0:00:01\n",
      "\u001b[?25hBuilding wheels for collected packages: pillow\n",
      "  Running setup.py bdist_wheel for pillow ... \u001b[?25lerror\n",
      "  Complete output from command /usr/bin/python -u -c \"import setuptools, tokenize;__file__='/tmp/pip-install-BtvoKd/pillow/setup.py';f=getattr(tokenize, 'open', open)(__file__);code=f.read().replace('\\r\\n', '\\n');f.close();exec(compile(code, __file__, 'exec'))\" bdist_wheel -d /tmp/pip-wheel-6U_w2w --python-tag cp27:\n",
      "  running bdist_wheel\n",
      "  running build\n",
      "  running build_py\n",
      "  creating build\n",
      "  creating build/lib.linux-armv7l-2.7\n",
      "  creating build/lib.linux-armv7l-2.7/PIL\n",
      "  copying src/PIL/ImageMorph.py -> build/lib.linux-armv7l-2.7/PIL\n",
      "  copying src/PIL/IcnsImagePlugin.py -> build/lib.linux-armv7l-2.7/PIL\n",
      "  copying src/PIL/IptcImagePlugin.py -> build/lib.linux-armv7l-2.7/PIL\n",
      "  copying src/PIL/ImageFile.py -> build/lib.linux-armv7l-2.7/PIL\n",
      "  copying src/PIL/ImageTransform.py -> build/lib.linux-armv7l-2.7/PIL\n",
      "  copying src/PIL/_binary.py -> build/lib.linux-armv7l-2.7/PIL\n",
      "  copying src/PIL/ImageColor.py -> build/lib.linux-armv7l-2.7/PIL\n",
      "  copying src/PIL/ImageDraw.py -> build/lib.linux-armv7l-2.7/PIL\n",
      "  copying src/PIL/ImageSequence.py -> build/lib.linux-armv7l-2.7/PIL\n",
      "  copying src/PIL/PalmImagePlugin.py -> build/lib.linux-armv7l-2.7/PIL\n",
      "  copying src/PIL/ImageTk.py -> build/lib.linux-armv7l-2.7/PIL\n",
      "  copying src/PIL/GribStubImagePlugin.py -> build/lib.linux-armv7l-2.7/PIL\n",
      "  copying src/PIL/GimpGradientFile.py -> build/lib.linux-armv7l-2.7/PIL\n",
      "  copying src/PIL/GifImagePlugin.py -> build/lib.linux-armv7l-2.7/PIL\n",
      "  copying src/PIL/PcxImagePlugin.py -> build/lib.linux-armv7l-2.7/PIL\n",
      "  copying src/PIL/XpmImagePlugin.py -> build/lib.linux-armv7l-2.7/PIL\n",
      "  copying src/PIL/GdImageFile.py -> build/lib.linux-armv7l-2.7/PIL\n",
      "  copying src/PIL/PsdImagePlugin.py -> build/lib.linux-armv7l-2.7/PIL\n",
      "  copying src/PIL/ImageWin.py -> build/lib.linux-armv7l-2.7/PIL\n",
      "  copying src/PIL/WmfImagePlugin.py -> build/lib.linux-armv7l-2.7/PIL\n",
      "  copying src/PIL/ImageEnhance.py -> build/lib.linux-armv7l-2.7/PIL\n",
      "  copying src/PIL/PdfParser.py -> build/lib.linux-armv7l-2.7/PIL\n",
      "  copying src/PIL/IcoImagePlugin.py -> build/lib.linux-armv7l-2.7/PIL\n",
      "  copying src/PIL/PpmImagePlugin.py -> build/lib.linux-armv7l-2.7/PIL\n",
      "  copying src/PIL/DcxImagePlugin.py -> build/lib.linux-armv7l-2.7/PIL\n",
      "  copying src/PIL/_util.py -> build/lib.linux-armv7l-2.7/PIL\n",
      "  copying src/PIL/ImageFont.py -> build/lib.linux-armv7l-2.7/PIL\n",
      "  copying src/PIL/SunImagePlugin.py -> build/lib.linux-armv7l-2.7/PIL\n",
      "  copying src/PIL/Hdf5StubImagePlugin.py -> build/lib.linux-armv7l-2.7/PIL\n",
      "  copying src/PIL/BlpImagePlugin.py -> build/lib.linux-armv7l-2.7/PIL\n",
      "  copying src/PIL/SgiImagePlugin.py -> build/lib.linux-armv7l-2.7/PIL\n",
      "  copying src/PIL/FitsStubImagePlugin.py -> build/lib.linux-armv7l-2.7/PIL\n",
      "  copying src/PIL/BufrStubImagePlugin.py -> build/lib.linux-armv7l-2.7/PIL\n",
      "  copying src/PIL/PyAccess.py -> build/lib.linux-armv7l-2.7/PIL\n",
      "  copying src/PIL/JpegPresets.py -> build/lib.linux-armv7l-2.7/PIL\n",
      "  copying src/PIL/BmpImagePlugin.py -> build/lib.linux-armv7l-2.7/PIL\n",
      "  copying src/PIL/PSDraw.py -> build/lib.linux-armv7l-2.7/PIL\n",
      "  copying src/PIL/Jpeg2KImagePlugin.py -> build/lib.linux-armv7l-2.7/PIL\n",
      "  copying src/PIL/WebPImagePlugin.py -> build/lib.linux-armv7l-2.7/PIL\n",
      "  copying src/PIL/ImImagePlugin.py -> build/lib.linux-armv7l-2.7/PIL\n",
      "  copying src/PIL/MpoImagePlugin.py -> build/lib.linux-armv7l-2.7/PIL\n",
      "  copying src/PIL/ImageMath.py -> build/lib.linux-armv7l-2.7/PIL\n",
      "  copying src/PIL/ImageQt.py -> build/lib.linux-armv7l-2.7/PIL\n",
      "  copying src/PIL/ImageGrab.py -> build/lib.linux-armv7l-2.7/PIL\n",
      "  copying src/PIL/SpiderImagePlugin.py -> build/lib.linux-armv7l-2.7/PIL\n",
      "  copying src/PIL/ImageMode.py -> build/lib.linux-armv7l-2.7/PIL\n",
      "  copying src/PIL/TarIO.py -> build/lib.linux-armv7l-2.7/PIL\n",
      "  copying src/PIL/WalImageFile.py -> build/lib.linux-armv7l-2.7/PIL\n",
      "  copying src/PIL/XVThumbImagePlugin.py -> build/lib.linux-armv7l-2.7/PIL\n",
      "  copying src/PIL/ImageFilter.py -> build/lib.linux-armv7l-2.7/PIL\n",
      "  copying src/PIL/BdfFontFile.py -> build/lib.linux-armv7l-2.7/PIL\n",
      "  copying src/PIL/PaletteFile.py -> build/lib.linux-armv7l-2.7/PIL\n",
      "  copying src/PIL/EpsImagePlugin.py -> build/lib.linux-armv7l-2.7/PIL\n",
      "  copying src/PIL/MspImagePlugin.py -> build/lib.linux-armv7l-2.7/PIL\n",
      "  copying src/PIL/_tkinter_finder.py -> build/lib.linux-armv7l-2.7/PIL\n",
      "  copying src/PIL/ImageDraw2.py -> build/lib.linux-armv7l-2.7/PIL\n",
      "  copying src/PIL/FliImagePlugin.py -> build/lib.linux-armv7l-2.7/PIL\n",
      "  copying src/PIL/JpegImagePlugin.py -> build/lib.linux-armv7l-2.7/PIL\n",
      "  copying src/PIL/TiffImagePlugin.py -> build/lib.linux-armv7l-2.7/PIL\n",
      "  copying src/PIL/MicImagePlugin.py -> build/lib.linux-armv7l-2.7/PIL\n",
      "  copying src/PIL/__init__.py -> build/lib.linux-armv7l-2.7/PIL\n",
      "  copying src/PIL/PixarImagePlugin.py -> build/lib.linux-armv7l-2.7/PIL\n",
      "  copying src/PIL/ExifTags.py -> build/lib.linux-armv7l-2.7/PIL\n",
      "  copying src/PIL/FpxImagePlugin.py -> build/lib.linux-armv7l-2.7/PIL\n",
      "  copying src/PIL/ImagePalette.py -> build/lib.linux-armv7l-2.7/PIL\n",
      "  copying src/PIL/PcfFontFile.py -> build/lib.linux-armv7l-2.7/PIL\n",
      "  copying src/PIL/XbmImagePlugin.py -> build/lib.linux-armv7l-2.7/PIL\n",
      "  copying src/PIL/MpegImagePlugin.py -> build/lib.linux-armv7l-2.7/PIL\n",
      "  copying src/PIL/PdfImagePlugin.py -> build/lib.linux-armv7l-2.7/PIL\n",
      "  copying src/PIL/GbrImagePlugin.py -> build/lib.linux-armv7l-2.7/PIL\n",
      "  copying src/PIL/GimpPaletteFile.py -> build/lib.linux-armv7l-2.7/PIL\n",
      "  copying src/PIL/ImageCms.py -> build/lib.linux-armv7l-2.7/PIL\n",
      "  copying src/PIL/McIdasImagePlugin.py -> build/lib.linux-armv7l-2.7/PIL\n",
      "  copying src/PIL/ImageShow.py -> build/lib.linux-armv7l-2.7/PIL\n",
      "  copying src/PIL/CurImagePlugin.py -> build/lib.linux-armv7l-2.7/PIL\n",
      "  copying src/PIL/ImageChops.py -> build/lib.linux-armv7l-2.7/PIL\n",
      "  copying src/PIL/FontFile.py -> build/lib.linux-armv7l-2.7/PIL\n",
      "  copying src/PIL/ImtImagePlugin.py -> build/lib.linux-armv7l-2.7/PIL\n",
      "  copying src/PIL/PcdImagePlugin.py -> build/lib.linux-armv7l-2.7/PIL\n",
      "  copying src/PIL/TiffTags.py -> build/lib.linux-armv7l-2.7/PIL\n",
      "  copying src/PIL/ContainerIO.py -> build/lib.linux-armv7l-2.7/PIL\n",
      "  copying src/PIL/version.py -> build/lib.linux-armv7l-2.7/PIL\n",
      "  copying src/PIL/Image.py -> build/lib.linux-armv7l-2.7/PIL\n",
      "  copying src/PIL/ImagePath.py -> build/lib.linux-armv7l-2.7/PIL\n",
      "  copying src/PIL/TgaImagePlugin.py -> build/lib.linux-armv7l-2.7/PIL\n",
      "  copying src/PIL/PngImagePlugin.py -> build/lib.linux-armv7l-2.7/PIL\n",
      "  copying src/PIL/FtexImagePlugin.py -> build/lib.linux-armv7l-2.7/PIL\n",
      "  copying src/PIL/ImageOps.py -> build/lib.linux-armv7l-2.7/PIL\n",
      "  copying src/PIL/DdsImagePlugin.py -> build/lib.linux-armv7l-2.7/PIL\n",
      "  copying src/PIL/OleFileIO.py -> build/lib.linux-armv7l-2.7/PIL\n",
      "  copying src/PIL/features.py -> build/lib.linux-armv7l-2.7/PIL\n",
      "  copying src/PIL/ImageStat.py -> build/lib.linux-armv7l-2.7/PIL\n",
      "  running egg_info\n",
      "  writing src/Pillow.egg-info/PKG-INFO\n",
      "  writing top-level names to src/Pillow.egg-info/top_level.txt\n",
      "  writing dependency_links to src/Pillow.egg-info/dependency_links.txt\n",
      "  reading manifest file 'src/Pillow.egg-info/SOURCES.txt'\n",
      "  reading manifest template 'MANIFEST.in'\n",
      "  warning: no files found matching '*.c'\n",
      "  warning: no files found matching '*.h'\n",
      "  warning: no files found matching '*.sh'\n",
      "  no previously-included directories found matching 'docs/_static'\n",
      "  warning: no previously-included files found matching '.appveyor.yml'\n",
      "  warning: no previously-included files found matching '.coveragerc'\n",
      "  warning: no previously-included files found matching '.codecov.yml'\n",
      "  warning: no previously-included files found matching '.editorconfig'\n",
      "  warning: no previously-included files found matching '.landscape.yaml'\n",
      "  warning: no previously-included files found matching '.travis'\n",
      "  warning: no previously-included files found matching '.travis/*'\n",
      "  warning: no previously-included files found matching 'build_children.sh'\n",
      "  warning: no previously-included files found matching 'tox.ini'\n",
      "  warning: no previously-included files matching '.git*' found anywhere in distribution\n",
      "  warning: no previously-included files matching '*.pyc' found anywhere in distribution\n",
      "  warning: no previously-included files matching '*.so' found anywhere in distribution\n",
      "  writing manifest file 'src/Pillow.egg-info/SOURCES.txt'\n",
      "  running build_ext\n",
      "  \n",
      "  \n",
      "  The headers or library files could not be found for zlib,\n",
      "  a required dependency when compiling Pillow from source.\n",
      "  \n",
      "  Please see the install instructions at:\n",
      "     https://pillow.readthedocs.io/en/latest/installation.html\n",
      "  \n",
      "  Traceback (most recent call last):\n",
      "    File \"<string>\", line 1, in <module>\n",
      "    File \"/tmp/pip-install-BtvoKd/pillow/setup.py\", line 806, in <module>\n",
      "      raise RequiredDependencyException(msg)\n",
      "  __main__.RequiredDependencyException:\n",
      "  \n",
      "  The headers or library files could not be found for zlib,\n",
      "  a required dependency when compiling Pillow from source.\n",
      "  \n",
      "  Please see the install instructions at:\n",
      "     https://pillow.readthedocs.io/en/latest/installation.html\n",
      "  \n",
      "  \n",
      "  \n",
      "  ----------------------------------------\n",
      "\u001b[31m  Failed building wheel for pillow\u001b[0m\n",
      "\u001b[?25h  Running setup.py clean for pillow\n"
     ]
    },
    {
     "name": "stdout",
     "output_type": "stream",
     "text": [
      "Failed to build pillow\n",
      "Installing collected packages: pillow\n",
      "  Running setup.py install for pillow ... \u001b[?25lerror\n",
      "    Complete output from command /usr/bin/python -u -c \"import setuptools, tokenize;__file__='/tmp/pip-install-BtvoKd/pillow/setup.py';f=getattr(tokenize, 'open', open)(__file__);code=f.read().replace('\\r\\n', '\\n');f.close();exec(compile(code, __file__, 'exec'))\" install --record /tmp/pip-record-NULuE0/install-record.txt --single-version-externally-managed --compile:\n",
      "    running install\n",
      "    running build\n",
      "    running build_py\n",
      "    creating build\n",
      "    creating build/lib.linux-armv7l-2.7\n",
      "    creating build/lib.linux-armv7l-2.7/PIL\n",
      "    copying src/PIL/ImageMorph.py -> build/lib.linux-armv7l-2.7/PIL\n",
      "    copying src/PIL/IcnsImagePlugin.py -> build/lib.linux-armv7l-2.7/PIL\n",
      "    copying src/PIL/IptcImagePlugin.py -> build/lib.linux-armv7l-2.7/PIL\n",
      "    copying src/PIL/ImageFile.py -> build/lib.linux-armv7l-2.7/PIL\n",
      "    copying src/PIL/ImageTransform.py -> build/lib.linux-armv7l-2.7/PIL\n",
      "    copying src/PIL/_binary.py -> build/lib.linux-armv7l-2.7/PIL\n",
      "    copying src/PIL/ImageColor.py -> build/lib.linux-armv7l-2.7/PIL\n",
      "    copying src/PIL/ImageDraw.py -> build/lib.linux-armv7l-2.7/PIL\n",
      "    copying src/PIL/ImageSequence.py -> build/lib.linux-armv7l-2.7/PIL\n",
      "    copying src/PIL/PalmImagePlugin.py -> build/lib.linux-armv7l-2.7/PIL\n",
      "    copying src/PIL/ImageTk.py -> build/lib.linux-armv7l-2.7/PIL\n",
      "    copying src/PIL/GribStubImagePlugin.py -> build/lib.linux-armv7l-2.7/PIL\n",
      "    copying src/PIL/GimpGradientFile.py -> build/lib.linux-armv7l-2.7/PIL\n",
      "    copying src/PIL/GifImagePlugin.py -> build/lib.linux-armv7l-2.7/PIL\n",
      "    copying src/PIL/PcxImagePlugin.py -> build/lib.linux-armv7l-2.7/PIL\n",
      "    copying src/PIL/XpmImagePlugin.py -> build/lib.linux-armv7l-2.7/PIL\n",
      "    copying src/PIL/GdImageFile.py -> build/lib.linux-armv7l-2.7/PIL\n",
      "    copying src/PIL/PsdImagePlugin.py -> build/lib.linux-armv7l-2.7/PIL\n",
      "    copying src/PIL/ImageWin.py -> build/lib.linux-armv7l-2.7/PIL\n",
      "    copying src/PIL/WmfImagePlugin.py -> build/lib.linux-armv7l-2.7/PIL\n",
      "    copying src/PIL/ImageEnhance.py -> build/lib.linux-armv7l-2.7/PIL\n",
      "    copying src/PIL/PdfParser.py -> build/lib.linux-armv7l-2.7/PIL\n",
      "    copying src/PIL/IcoImagePlugin.py -> build/lib.linux-armv7l-2.7/PIL\n",
      "    copying src/PIL/PpmImagePlugin.py -> build/lib.linux-armv7l-2.7/PIL\n",
      "    copying src/PIL/DcxImagePlugin.py -> build/lib.linux-armv7l-2.7/PIL\n",
      "    copying src/PIL/_util.py -> build/lib.linux-armv7l-2.7/PIL\n",
      "    copying src/PIL/ImageFont.py -> build/lib.linux-armv7l-2.7/PIL\n",
      "    copying src/PIL/SunImagePlugin.py -> build/lib.linux-armv7l-2.7/PIL\n",
      "    copying src/PIL/Hdf5StubImagePlugin.py -> build/lib.linux-armv7l-2.7/PIL\n",
      "    copying src/PIL/BlpImagePlugin.py -> build/lib.linux-armv7l-2.7/PIL\n",
      "    copying src/PIL/SgiImagePlugin.py -> build/lib.linux-armv7l-2.7/PIL\n",
      "    copying src/PIL/FitsStubImagePlugin.py -> build/lib.linux-armv7l-2.7/PIL\n",
      "    copying src/PIL/BufrStubImagePlugin.py -> build/lib.linux-armv7l-2.7/PIL\n",
      "    copying src/PIL/PyAccess.py -> build/lib.linux-armv7l-2.7/PIL\n",
      "    copying src/PIL/JpegPresets.py -> build/lib.linux-armv7l-2.7/PIL\n",
      "    copying src/PIL/BmpImagePlugin.py -> build/lib.linux-armv7l-2.7/PIL\n",
      "    copying src/PIL/PSDraw.py -> build/lib.linux-armv7l-2.7/PIL\n",
      "    copying src/PIL/Jpeg2KImagePlugin.py -> build/lib.linux-armv7l-2.7/PIL\n",
      "    copying src/PIL/WebPImagePlugin.py -> build/lib.linux-armv7l-2.7/PIL\n",
      "    copying src/PIL/ImImagePlugin.py -> build/lib.linux-armv7l-2.7/PIL\n",
      "    copying src/PIL/MpoImagePlugin.py -> build/lib.linux-armv7l-2.7/PIL\n",
      "    copying src/PIL/ImageMath.py -> build/lib.linux-armv7l-2.7/PIL\n",
      "    copying src/PIL/ImageQt.py -> build/lib.linux-armv7l-2.7/PIL\n",
      "    copying src/PIL/ImageGrab.py -> build/lib.linux-armv7l-2.7/PIL\n",
      "    copying src/PIL/SpiderImagePlugin.py -> build/lib.linux-armv7l-2.7/PIL\n",
      "    copying src/PIL/ImageMode.py -> build/lib.linux-armv7l-2.7/PIL\n",
      "    copying src/PIL/TarIO.py -> build/lib.linux-armv7l-2.7/PIL\n",
      "    copying src/PIL/WalImageFile.py -> build/lib.linux-armv7l-2.7/PIL\n",
      "    copying src/PIL/XVThumbImagePlugin.py -> build/lib.linux-armv7l-2.7/PIL\n",
      "    copying src/PIL/ImageFilter.py -> build/lib.linux-armv7l-2.7/PIL\n",
      "    copying src/PIL/BdfFontFile.py -> build/lib.linux-armv7l-2.7/PIL\n",
      "    copying src/PIL/PaletteFile.py -> build/lib.linux-armv7l-2.7/PIL\n",
      "    copying src/PIL/EpsImagePlugin.py -> build/lib.linux-armv7l-2.7/PIL\n",
      "    copying src/PIL/MspImagePlugin.py -> build/lib.linux-armv7l-2.7/PIL\n",
      "    copying src/PIL/_tkinter_finder.py -> build/lib.linux-armv7l-2.7/PIL\n",
      "    copying src/PIL/ImageDraw2.py -> build/lib.linux-armv7l-2.7/PIL\n",
      "    copying src/PIL/FliImagePlugin.py -> build/lib.linux-armv7l-2.7/PIL\n",
      "    copying src/PIL/JpegImagePlugin.py -> build/lib.linux-armv7l-2.7/PIL\n",
      "    copying src/PIL/TiffImagePlugin.py -> build/lib.linux-armv7l-2.7/PIL\n",
      "    copying src/PIL/MicImagePlugin.py -> build/lib.linux-armv7l-2.7/PIL\n",
      "    copying src/PIL/__init__.py -> build/lib.linux-armv7l-2.7/PIL\n",
      "    copying src/PIL/PixarImagePlugin.py -> build/lib.linux-armv7l-2.7/PIL\n",
      "    copying src/PIL/ExifTags.py -> build/lib.linux-armv7l-2.7/PIL\n",
      "    copying src/PIL/FpxImagePlugin.py -> build/lib.linux-armv7l-2.7/PIL\n",
      "    copying src/PIL/ImagePalette.py -> build/lib.linux-armv7l-2.7/PIL\n",
      "    copying src/PIL/PcfFontFile.py -> build/lib.linux-armv7l-2.7/PIL\n",
      "    copying src/PIL/XbmImagePlugin.py -> build/lib.linux-armv7l-2.7/PIL\n",
      "    copying src/PIL/MpegImagePlugin.py -> build/lib.linux-armv7l-2.7/PIL\n",
      "    copying src/PIL/PdfImagePlugin.py -> build/lib.linux-armv7l-2.7/PIL\n",
      "    copying src/PIL/GbrImagePlugin.py -> build/lib.linux-armv7l-2.7/PIL\n",
      "    copying src/PIL/GimpPaletteFile.py -> build/lib.linux-armv7l-2.7/PIL\n",
      "    copying src/PIL/ImageCms.py -> build/lib.linux-armv7l-2.7/PIL\n",
      "    copying src/PIL/McIdasImagePlugin.py -> build/lib.linux-armv7l-2.7/PIL\n",
      "    copying src/PIL/ImageShow.py -> build/lib.linux-armv7l-2.7/PIL\n",
      "    copying src/PIL/CurImagePlugin.py -> build/lib.linux-armv7l-2.7/PIL\n",
      "    copying src/PIL/ImageChops.py -> build/lib.linux-armv7l-2.7/PIL\n",
      "    copying src/PIL/FontFile.py -> build/lib.linux-armv7l-2.7/PIL\n",
      "    copying src/PIL/ImtImagePlugin.py -> build/lib.linux-armv7l-2.7/PIL\n",
      "    copying src/PIL/PcdImagePlugin.py -> build/lib.linux-armv7l-2.7/PIL\n",
      "    copying src/PIL/TiffTags.py -> build/lib.linux-armv7l-2.7/PIL\n",
      "    copying src/PIL/ContainerIO.py -> build/lib.linux-armv7l-2.7/PIL\n",
      "    copying src/PIL/version.py -> build/lib.linux-armv7l-2.7/PIL\n",
      "    copying src/PIL/Image.py -> build/lib.linux-armv7l-2.7/PIL\n",
      "    copying src/PIL/ImagePath.py -> build/lib.linux-armv7l-2.7/PIL\n",
      "    copying src/PIL/TgaImagePlugin.py -> build/lib.linux-armv7l-2.7/PIL\n",
      "    copying src/PIL/PngImagePlugin.py -> build/lib.linux-armv7l-2.7/PIL\n",
      "    copying src/PIL/FtexImagePlugin.py -> build/lib.linux-armv7l-2.7/PIL\n",
      "    copying src/PIL/ImageOps.py -> build/lib.linux-armv7l-2.7/PIL\n",
      "    copying src/PIL/DdsImagePlugin.py -> build/lib.linux-armv7l-2.7/PIL\n",
      "    copying src/PIL/OleFileIO.py -> build/lib.linux-armv7l-2.7/PIL\n",
      "    copying src/PIL/features.py -> build/lib.linux-armv7l-2.7/PIL\n",
      "    copying src/PIL/ImageStat.py -> build/lib.linux-armv7l-2.7/PIL\n",
      "    running egg_info\n",
      "    writing src/Pillow.egg-info/PKG-INFO\n",
      "    writing top-level names to src/Pillow.egg-info/top_level.txt\n",
      "    writing dependency_links to src/Pillow.egg-info/dependency_links.txt\n",
      "    reading manifest file 'src/Pillow.egg-info/SOURCES.txt'\n",
      "    reading manifest template 'MANIFEST.in'\n",
      "    warning: no files found matching '*.c'\n",
      "    warning: no files found matching '*.h'\n",
      "    warning: no files found matching '*.sh'\n",
      "    no previously-included directories found matching 'docs/_static'\n",
      "    warning: no previously-included files found matching '.appveyor.yml'\n",
      "    warning: no previously-included files found matching '.coveragerc'\n",
      "    warning: no previously-included files found matching '.codecov.yml'\n",
      "    warning: no previously-included files found matching '.editorconfig'\n",
      "    warning: no previously-included files found matching '.landscape.yaml'\n",
      "    warning: no previously-included files found matching '.travis'\n",
      "    warning: no previously-included files found matching '.travis/*'\n",
      "    warning: no previously-included files found matching 'build_children.sh'\n",
      "    warning: no previously-included files found matching 'tox.ini'\n",
      "    warning: no previously-included files matching '.git*' found anywhere in distribution\n",
      "    warning: no previously-included files matching '*.pyc' found anywhere in distribution\n",
      "    warning: no previously-included files matching '*.so' found anywhere in distribution\n",
      "    writing manifest file 'src/Pillow.egg-info/SOURCES.txt'\n",
      "    running build_ext\n",
      "    \n",
      "    \n",
      "    The headers or library files could not be found for zlib,\n",
      "    a required dependency when compiling Pillow from source.\n",
      "    \n",
      "    Please see the install instructions at:\n",
      "       https://pillow.readthedocs.io/en/latest/installation.html\n",
      "    \n",
      "    Traceback (most recent call last):\n",
      "      File \"<string>\", line 1, in <module>\n",
      "      File \"/tmp/pip-install-BtvoKd/pillow/setup.py\", line 806, in <module>\n",
      "        raise RequiredDependencyException(msg)\n",
      "    __main__.RequiredDependencyException:\n",
      "    \n",
      "    The headers or library files could not be found for zlib,\n",
      "    a required dependency when compiling Pillow from source.\n",
      "    \n",
      "    Please see the install instructions at:\n",
      "       https://pillow.readthedocs.io/en/latest/installation.html\n",
      "    \n",
      "    \n",
      "    \n",
      "    ----------------------------------------\n"
     ]
    },
    {
     "name": "stdout",
     "output_type": "stream",
     "text": [
      "\u001b[31mCommand \"/usr/bin/python -u -c \"import setuptools, tokenize;__file__='/tmp/pip-install-BtvoKd/pillow/setup.py';f=getattr(tokenize, 'open', open)(__file__);code=f.read().replace('\\r\\n', '\\n');f.close();exec(compile(code, __file__, 'exec'))\" install --record /tmp/pip-record-NULuE0/install-record.txt --single-version-externally-managed --compile\" failed with error code 1 in /tmp/pip-install-BtvoKd/pillow/\u001b[0m\n",
      "\u001b[?25h"
     ]
    },
    {
     "ename": "ImportError",
     "evalue": "No module named PIL",
     "output_type": "error",
     "traceback": [
      "\u001b[0;31m---------------------------------------------------------------------------\u001b[0m",
      "\u001b[0;31mImportError\u001b[0m                               Traceback (most recent call last)",
      "\u001b[0;32m<ipython-input-18-44e6d9b3203c>\u001b[0m in \u001b[0;36m<module>\u001b[0;34m()\u001b[0m\n\u001b[1;32m      5\u001b[0m \u001b[0;32mfrom\u001b[0m \u001b[0mIPython\u001b[0m \u001b[0;32mimport\u001b[0m \u001b[0mdisplay\u001b[0m\u001b[0;34m\u001b[0m\u001b[0m\n\u001b[1;32m      6\u001b[0m \u001b[0;32mfrom\u001b[0m \u001b[0mdatasets\u001b[0m \u001b[0;32mimport\u001b[0m \u001b[0mimagenet\u001b[0m\u001b[0;34m\u001b[0m\u001b[0m\n\u001b[0;32m----> 7\u001b[0;31m \u001b[0;32mimport\u001b[0m \u001b[0mPIL\u001b[0m\u001b[0;34m\u001b[0m\u001b[0m\n\u001b[0m\u001b[1;32m      8\u001b[0m \u001b[0mdisplay\u001b[0m\u001b[0;34m.\u001b[0m\u001b[0mdisplay\u001b[0m\u001b[0;34m(\u001b[0m\u001b[0mdisplay\u001b[0m\u001b[0;34m.\u001b[0m\u001b[0mImage\u001b[0m\u001b[0;34m(\u001b[0m\u001b[0;34m'test.jpg'\u001b[0m\u001b[0;34m,\u001b[0m \u001b[0mwidth\u001b[0m\u001b[0;34m=\u001b[0m\u001b[0;36m128\u001b[0m\u001b[0;34m)\u001b[0m\u001b[0;34m)\u001b[0m\u001b[0;34m\u001b[0m\u001b[0m\n\u001b[1;32m      9\u001b[0m \u001b[0;34m\u001b[0m\u001b[0m\n",
      "\u001b[0;31mImportError\u001b[0m: No module named PIL"
     ]
    }
   ],
   "source": [
    "# Restore from checkpoint\n",
    "import numpy as np\n",
    "from IPython import display\n",
    "from datasets import imagenet\n",
    "import PIL\n",
    "display.display(display.Image('test.jpg', width=128))\n",
    "\n",
    "with tf.Session() as sess:\n",
    "    saver.restore(sess,  checkpoint)\n",
    "    y = endpoints['Predictions'].eval(feed_dict={file_input: 'test.jpg'})\n",
    "\n",
    "label_map = imagenet.create_readable_names_for_imagenet_labels()\n",
    "print('Top 1 prediction: ', y.argmax(), label_map[y.argmax()], y.max())"
   ]
  },
  {
   "cell_type": "markdown",
   "metadata": {
    "slideshow": {
     "slide_type": "slide"
    }
   },
   "source": [
    "## Movidius"
   ]
  },
  {
   "cell_type": "markdown",
   "metadata": {
    "slideshow": {
     "slide_type": "subslide"
    }
   },
   "source": [
    "<img src='assets/ncs_workflow.jpg'/>\n",
    "\n",
    "Python and C API: https://github.com/movidius/ncsdk\n",
    "\n",
    "Caffe and TensorFlow models: https://github.com/movidius/ncappzoo/ "
   ]
  },
  {
   "cell_type": "markdown",
   "metadata": {
    "slideshow": {
     "slide_type": "subslide"
    }
   },
   "source": [
    "<img src='assets/NCS1_ArchDiagram.jpg'/>"
   ]
  },
  {
   "cell_type": "markdown",
   "metadata": {
    "slideshow": {
     "slide_type": "subslide"
    }
   },
   "source": [
    "https://www.pyimagesearch.com/2018/02/19/real-time-object-detection-on-the-raspberry-pi-with-the-movidius-ncs/\n",
    "\n",
    "<img src='assets/pi_ncs_objectdetection_table.jpg'/>"
   ]
  },
  {
   "cell_type": "markdown",
   "metadata": {
    "slideshow": {
     "slide_type": "subslide"
    }
   },
   "source": [
    "## Demo: Object Detection\n",
    "---"
   ]
  },
  {
   "cell_type": "markdown",
   "metadata": {
    "slideshow": {
     "slide_type": "slide"
    }
   },
   "source": [
    "## Embedded Learning Library (ELL)"
   ]
  },
  {
   "cell_type": "markdown",
   "metadata": {
    "slideshow": {
     "slide_type": "subslide"
    }
   },
   "source": [
    "https://microsoft.github.io/ELL/\n"
   ]
  },
  {
   "cell_type": "markdown",
   "metadata": {
    "slideshow": {
     "slide_type": "subslide"
    }
   },
   "source": [
    "## ImageNet 2012 Classification on Raspberry Pi 3\n",
    "\n",
    "<img src='assets/ell_pareto.png'/>"
   ]
  },
  {
   "cell_type": "markdown",
   "metadata": {
    "slideshow": {
     "slide_type": "subslide"
    }
   },
   "source": [
    "## Optimized Deep Neural Net\n",
    "\n",
    "<img src='assets/ell_tiny.png'/>\n",
    "\n",
    "https://microsoft.github.io/ELL/gallery/ILSVRC2012/BrazilianGuava.html"
   ]
  },
  {
   "cell_type": "markdown",
   "metadata": {
    "slideshow": {
     "slide_type": "subslide"
    }
   },
   "source": [
    "## Audio Keyword Classification on Cortex M4\n",
    "---\n",
    "\n",
    "<video controls src='assets/ell_demo.mp4'/>"
   ]
  },
  {
   "cell_type": "markdown",
   "metadata": {
    "slideshow": {
     "slide_type": "subslide"
    }
   },
   "source": [
    "## Demo: Keyword Classification\n",
    "\n",
    "---\n",
    "\n",
    "https://microsoft.github.io/ELL/tutorials/Getting-started-with-audio-keyword-classification-on-the-Raspberry-Pi/"
   ]
  },
  {
   "cell_type": "markdown",
   "metadata": {
    "slideshow": {
     "slide_type": "slide"
    }
   },
   "source": [
    "## Field Programmable Gate Arrays\n",
    "\n",
    "<img src='assets/Hot-Chips-Stratix-10-board-1-.jpg'/>"
   ]
  },
  {
   "cell_type": "markdown",
   "metadata": {
    "slideshow": {
     "slide_type": "subslide"
    }
   },
   "source": [
    "<img src='assets/silicon_alternatives.png'/>\n",
    "\n",
    "https://www.microsoft.com/en-us/research/blog/microsoft-unveils-project-brainwave/"
   ]
  },
  {
   "cell_type": "markdown",
   "metadata": {
    "slideshow": {
     "slide_type": "subslide"
    }
   },
   "source": [
    "## Neural Net Accelerators\n",
    "- https://arxiv.org/abs/1712.08934\n",
    "- https://github.com/Xilinx/RFNoC-HLS-NeuralNet\n",
    "- https://github.com/doonny/PipeCNN\n",
    "\n",
    "<img src='assets/Demo-DE5-net.gif'/>"
   ]
  },
  {
   "cell_type": "markdown",
   "metadata": {
    "slideshow": {
     "slide_type": "subslide"
    }
   },
   "source": [
    "## Project Brainwave\n",
    "---\n",
    "https://github.com/Azure/aml-real-time-ai/blob/master/notebooks/resnet50/00_QuickStart.ipynb"
   ]
  },
  {
   "cell_type": "markdown",
   "metadata": {
    "slideshow": {
     "slide_type": "slide"
    }
   },
   "source": [
    "## Summary\n",
    "\n",
    "Models\n",
    "- Image Classification / Object Detection: MobileNetV2, SqueezeNet\n",
    "- Keyword Classification: GRU + Classifier\n",
    "\n",
    "Running Models\n",
    "- CoreML\n",
    "- TensorFlow / TensorFlow Lite\n",
    "- Movidius Neural Compute Stick\n",
    "- Embedded Learning Library\n",
    "- FPGAs"
   ]
  },
  {
   "cell_type": "code",
   "execution_count": 12,
   "metadata": {
    "collapsed": true,
    "slideshow": {
     "slide_type": "skip"
    }
   },
   "outputs": [],
   "source": [
    "# https://tomroelandts.com/articles/how-to-compute-colorful-fractals-using-numpy-and-matplotlib\n",
    "import numpy as np\n",
    "\n",
    "m = 480\n",
    "n = 320\n",
    " \n",
    "s = 300  # Scale.\n",
    "x = np.linspace(-m / s, m / s, num=m).reshape((1, m))\n",
    "y = np.linspace(-n / s, n / s, num=n).reshape((n, 1))\n",
    "Z = np.tile(x, (n, 1)) + 1j * np.tile(y, (1, m))\n",
    " \n",
    "C = np.full((n, m), -0.4 + 0.6j)\n",
    "M = np.full((n, m), True, dtype=bool)\n",
    "N = np.zeros((n, m))\n",
    "for i in range(256):\n",
    "    Z[M] = Z[M] * Z[M] + C[M]\n",
    "    M[np.abs(Z) > 2] = False\n",
    "    N[M] = i"
   ]
  },
  {
   "cell_type": "code",
   "execution_count": 13,
   "metadata": {
    "slideshow": {
     "slide_type": "slide"
    }
   },
   "outputs": [
    {
     "name": "stdout",
     "output_type": "stream",
     "text": [
      "Thank you!\n"
     ]
    },
    {
     "data": {
      "image/png": "[encoded data removed]",
      "text/plain": [
       "<matplotlib.figure.Figure at 0x114b65550>"
      ]
     },
     "metadata": {},
     "output_type": "display_data"
    }
   ],
   "source": [
    "import matplotlib.pyplot as plt\n",
    "\n",
    "fig = plt.figure()\n",
    "fig.set_size_inches(m / 100, n / 100)\n",
    "ax = fig.add_axes([0, 0, 1, 1], frameon=False, aspect=1)\n",
    "ax.set_xticks([])\n",
    "ax.set_yticks([])\n",
    "plt.imshow(np.flipud(N), cmap='hot')\n",
    "\n",
    "print('Thank you!')"
   ]
  },
  {
   "cell_type": "code",
   "execution_count": null,
   "metadata": {
    "collapsed": true,
    "slideshow": {
     "slide_type": "slide"
    }
   },
   "outputs": [],
   "source": []
  }
 ],
 "metadata": {
  "celltoolbar": "Slideshow",
  "kernelspec": {
   "display_name": "Python 2",
   "language": "python",
   "name": "python2"
  },
  "language_info": {
   "codemirror_mode": {
    "name": "ipython",
    "version": 2
   },
   "file_extension": ".py",
   "mimetype": "text/x-python",
   "name": "python",
   "nbconvert_exporter": "python",
   "pygments_lexer": "ipython2",
   "version": "2.7.13"
  },
  "livereveal": {
   "autolaunch": true,
   "overlay": "<div class='logo'><img src='assets/Stackup_Logo_Small.png' width='90%'/></div>"
  }
 },
 "nbformat": 4,
 "nbformat_minor": 2
}
