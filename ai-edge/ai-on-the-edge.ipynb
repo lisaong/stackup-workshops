{
 "cells": [
  {
   "cell_type": "markdown",
   "metadata": {
    "slideshow": {
     "slide_type": "-"
    }
   },
   "source": [
    "  # AI on the edge\n",
    "\n",
    "Deep learning on small devices\n"
   ]
  },
  {
   "cell_type": "markdown",
   "metadata": {
    "slideshow": {
     "slide_type": "slide"
    }
   },
   "source": [
    "- Motivation\n",
    "- Deep learning models\n",
    "- CoreML\n",
    "- Tensorflow\n",
    "- Movidius\n",
    "- ELL"
   ]
  },
  {
   "cell_type": "markdown",
   "metadata": {
    "slideshow": {
     "slide_type": "slide"
    }
   },
   "source": [
    "Why AI on devices?"
   ]
  },
  {
   "cell_type": "markdown",
   "metadata": {
    "slideshow": {
     "slide_type": "slide"
    }
   },
   "source": [
    "![cloud](assets/lsvm-machine-learning-cloud.jpg)"
   ]
  },
  {
   "cell_type": "markdown",
   "metadata": {
    "slideshow": {
     "slide_type": "slide"
    }
   },
   "source": [
    "![data center](assets/how_safe_datacenter.jpg)"
   ]
  },
  {
   "cell_type": "markdown",
   "metadata": {
    "slideshow": {
     "slide_type": "slide"
    }
   },
   "source": [
    "![privacy](assets/GDP-Complience-V02-72dpi-RGB-01.jpg)"
   ]
  },
  {
   "cell_type": "markdown",
   "metadata": {
    "slideshow": {
     "slide_type": "slide"
    }
   },
   "source": [
    "![qualcomm](assets\\qualcomm_on_device_intelligence.png)"
   ]
  },
  {
   "cell_type": "markdown",
   "metadata": {
    "slideshow": {
     "slide_type": "slide"
    }
   },
   "source": [
    "Deep learning models"
   ]
  },
  {
   "cell_type": "markdown",
   "metadata": {
    "slideshow": {
     "slide_type": "slide"
    }
   },
   "source": [
    "MobileNets\n",
    "\n",
    "https://arxiv.org/abs/1704.04861v1\n",
    "\n",
    "![mobilenets architecture](assets/mobilenets.png)"
   ]
  },
  {
   "cell_type": "markdown",
   "metadata": {
    "slideshow": {
     "slide_type": "slide"
    }
   },
   "source": [
    "![depthwise-separable convolution](assets/depthwise_separable_conv.png)"
   ]
  },
  {
   "cell_type": "markdown",
   "metadata": {
    "slideshow": {
     "slide_type": "slide"
    }
   },
   "source": [
    "SqueezeNet\n",
    "\n",
    "https://arxiv.org/abs/1602.07360\n",
    "\n",
    "https://github.com/DeepScale/SqueezeNet"
   ]
  },
  {
   "cell_type": "code",
   "execution_count": null,
   "metadata": {},
   "outputs": [],
   "source": []
  },
  {
   "cell_type": "markdown",
   "metadata": {
    "slideshow": {
     "slide_type": "slide"
    }
   },
   "source": [
    "CoreML\n",
    "\n",
    "https://developer.apple.com/documentation/coreml\n",
    "\n",
    "- download pre-trained .mlmodel\n",
    "  - or convert from Caffe, Tensorflow, Onyx, etc\n",
    "- add to XCode project to generate wrapper\n",
    "  - use optional Vision library to preprocess images"
   ]
  },
  {
   "cell_type": "markdown",
   "metadata": {
    "slideshow": {
     "slide_type": "slide"
    }
   },
   "source": [
    "Demo - CoreML\n",
    "\n",
    "https://github.com/hollance/MobileNet-CoreML"
   ]
  },
  {
   "cell_type": "markdown",
   "metadata": {},
   "source": [
    "Plumber's helper?\n",
    "\n",
    "![screenshot](assets/coreml_demo1.png)"
   ]
  },
  {
   "cell_type": "code",
   "execution_count": null,
   "metadata": {},
   "outputs": [],
   "source": []
  }
 ],
 "metadata": {
  "celltoolbar": "Slideshow",
  "kernelspec": {
   "display_name": "Python 3",
   "language": "python",
   "name": "python3"
  },
  "language_info": {
   "codemirror_mode": {
    "name": "ipython",
    "version": 3
   },
   "file_extension": ".py",
   "mimetype": "text/x-python",
   "name": "python",
   "nbconvert_exporter": "python",
   "pygments_lexer": "ipython3",
   "version": "3.6.4"
  },
  "livereveal": {
   "autolaunch": true,
   "overlay": "<div class='logo'><img src='assets/Stackup_Logo_Small.png'/></div>"
  }
 },
 "nbformat": 4,
 "nbformat_minor": 2
}
