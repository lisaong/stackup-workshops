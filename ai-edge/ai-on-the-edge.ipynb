{
 "cells": [
  {
   "cell_type": "markdown",
   "metadata": {
    "slideshow": {
     "slide_type": "-"
    }
   },
   "source": [
    "  # AI on the edge\n",
    "\n",
    "Deep learning on small devices\n"
   ]
  },
  {
   "cell_type": "markdown",
   "metadata": {
    "slideshow": {
     "slide_type": "slide"
    }
   },
   "source": [
    "- Motivation\n",
    "- Deep nets for devices\n",
    "- Running deep nets on devices"
   ]
  },
  {
   "cell_type": "markdown",
   "metadata": {
    "slideshow": {
     "slide_type": "slide"
    }
   },
   "source": [
    "## Why run AI on devices?"
   ]
  },
  {
   "cell_type": "markdown",
   "metadata": {
    "slideshow": {
     "slide_type": "subslide"
    }
   },
   "source": [
    "![cloud](assets/lsvm-machine-learning-cloud.jpg)"
   ]
  },
  {
   "cell_type": "markdown",
   "metadata": {
    "slideshow": {
     "slide_type": "subslide"
    }
   },
   "source": [
    "![data center](assets/how_safe_datacenter.jpg)"
   ]
  },
  {
   "cell_type": "markdown",
   "metadata": {
    "slideshow": {
     "slide_type": "subslide"
    }
   },
   "source": [
    "<img src='assets/GDP-Complience-V02-72dpi-RGB-01.jpg' width='70%'/>"
   ]
  },
  {
   "cell_type": "markdown",
   "metadata": {
    "slideshow": {
     "slide_type": "subslide"
    }
   },
   "source": [
    "<img src='assets/qualcomm_on_device_intelligence.png' width='80%'/>"
   ]
  },
  {
   "cell_type": "markdown",
   "metadata": {
    "slideshow": {
     "slide_type": "slide"
    }
   },
   "source": [
    "## What can run (fast enough) on devices?"
   ]
  },
  {
   "cell_type": "markdown",
   "metadata": {
    "slideshow": {
     "slide_type": "slide"
    }
   },
   "source": [
    "## AlexNet (2012)\n",
    "\n",
    "<img src=\"assets/alexnet.png\"/>\n",
    "\n",
    "60 million parameters, 720 million multiply-adds\n",
    "\n",
    "[paper](https://papers.nips.cc/paper/4824-imagenet-classification-with-deep-convolutional-neural-networks.pdf)"
   ]
  },
  {
   "cell_type": "markdown",
   "metadata": {
    "slideshow": {
     "slide_type": "slide"
    }
   },
   "source": [
    "## SqueezeNet (2016)\n",
    "\n",
    "<img src='assets/squeezenet_unit.png' width='800'/>\n",
    "\n",
    "[source](https://github.com/DeepScale/SqueezeNet)"
   ]
  },
  {
   "cell_type": "markdown",
   "metadata": {
    "slideshow": {
     "slide_type": "subslide"
    }
   },
   "source": [
    "<img src='assets/squeezenet_arch.png' width='55%'/>\n",
    "<img src='assets/squeezenet_bypass.png' width='60%'/>"
   ]
  },
  {
   "cell_type": "markdown",
   "metadata": {
    "slideshow": {
     "slide_type": "subslide"
    }
   },
   "source": [
    "<img src='assets/squeezenet_compare.png'/>"
   ]
  },
  {
   "cell_type": "markdown",
   "metadata": {
    "slideshow": {
     "slide_type": "subslide"
    }
   },
   "source": [
    "## MobileNet (2017)\n",
    "\n",
    "Convolution:\n",
    "\n",
    "$$h_i.w_i.d_i.d_j.k^2$$\n",
    "\n",
    "Depthwise separable convolution:\n",
    "\n",
    "$$h_i.w_i.d_i(d_j+k^2)$$\n",
    "\n",
    "[paper](https://arxiv.org/abs/1704.04861v1)"
   ]
  },
  {
   "cell_type": "markdown",
   "metadata": {
    "slideshow": {
     "slide_type": "subslide"
    }
   },
   "source": [
    "<img src='assets/depthwise_separable_conv_unit.png' width='400' style='float:left;'/>\n",
    "<img src='assets/depthwise_separable_conv_layer.png' width='400' style='float:left;'/>"
   ]
  },
  {
   "cell_type": "markdown",
   "metadata": {
    "slideshow": {
     "slide_type": "subslide"
    }
   },
   "source": [
    "<img src='assets/mobilenet_res.png' width='800'/>\n",
    "<img src='assets/mobilenet_acc.png' width='40%'/>"
   ]
  },
  {
   "cell_type": "markdown",
   "metadata": {
    "slideshow": {
     "slide_type": "slide"
    }
   },
   "source": [
    "## ShuffleNet (2017)\n",
    "\n",
    "<img src='assets/shufflenet_channelshuffle.png'/>\n",
    "\n",
    "[paper](https://arxiv.org/abs/1707.01083)"
   ]
  },
  {
   "cell_type": "markdown",
   "metadata": {
    "slideshow": {
     "slide_type": "subslide"
    }
   },
   "source": [
    "<img src='assets/shufflenet_unit.png'/>"
   ]
  },
  {
   "cell_type": "markdown",
   "metadata": {
    "slideshow": {
     "slide_type": "subslide"
    }
   },
   "source": [
    "<img src='assets/shufflenet_compare_class.png'/>"
   ]
  },
  {
   "cell_type": "markdown",
   "metadata": {
    "slideshow": {
     "slide_type": "slide"
    }
   },
   "source": [
    "## MobileNet V2 (2018)\n",
    "\n",
    "Convolution: \n",
    "\n",
    "$$h_i.w_i.d_i.d_j.k^2$$\n",
    "\n",
    "Depthwise separable (MobileNet V1):\n",
    "\n",
    "$$h_i.w_i.d_i(d_j+k^2)$$\n",
    "\n",
    "Depthwise bottleneck + residuals (MobileNet V2):\n",
    "\n",
    "$$h_i.w_i.d_i.t(d_i+d_j+k^2)$$\n",
    "\n",
    "[paper](https://arxiv.org/abs/1801.04381)"
   ]
  },
  {
   "cell_type": "markdown",
   "metadata": {
    "slideshow": {
     "slide_type": "subslide"
    }
   },
   "source": [
    "<img src='assets/mobilenetv2_block_compare.png' width='55%'/>"
   ]
  },
  {
   "cell_type": "markdown",
   "metadata": {
    "slideshow": {
     "slide_type": "subslide"
    }
   },
   "source": [
    "<img src='assets/mobilenetv2_compare.png' width='55%'/>"
   ]
  },
  {
   "cell_type": "markdown",
   "metadata": {
    "slideshow": {
     "slide_type": "subslide"
    }
   },
   "source": [
    "<img src='assets/mobilenetv2_curve.png' width='80%'/>"
   ]
  },
  {
   "cell_type": "markdown",
   "metadata": {
    "slideshow": {
     "slide_type": "slide"
    }
   },
   "source": [
    "## How to run on devices?"
   ]
  },
  {
   "cell_type": "markdown",
   "metadata": {
    "slideshow": {
     "slide_type": "slide"
    }
   },
   "source": [
    "## CoreML\n",
    "\n",
    "- download pre-trained .mlmodel\n",
    "  - or convert from Caffe, Tensorflow, ONNX (Open Neural Network eXchange)\n",
    "- add to XCode project to generate wrapper\n",
    "  - use optional Vision library to preprocess images\n",
    "\n",
    "[docs](https://developer.apple.com/documentation/coreml)"
   ]
  },
  {
   "cell_type": "markdown",
   "metadata": {
    "slideshow": {
     "slide_type": "subslide"
    }
   },
   "source": [
    "## Demo: Image Classification\n",
    "---\n",
    "CoreML on iOS Simulator\n",
    "\n",
    "[github](https://github.com/hollance/MobileNet-CoreML)"
   ]
  },
  {
   "cell_type": "markdown",
   "metadata": {
    "slideshow": {
     "slide_type": "subslide"
    }
   },
   "source": [
    "|MobileNet|SqueezeNet|\n",
    "|--|--|\n",
    "|<img src='assets/coreml_mobilenet.png' width='400'/>|<img src='assets/coreml_sqeezenet.png' width='400'/>|"
   ]
  },
  {
   "cell_type": "markdown",
   "metadata": {
    "slideshow": {
     "slide_type": "slide"
    }
   },
   "source": [
    "## TensorFlow / TensorFlow Lite\n",
    "\n",
    "- Compilable to Raspbian\n",
    "- TensorFlow Lite: optimized for Android, iOS\n",
    "\n",
    "<img src='assets/tflite-architecture.jpg' width='500'/>"
   ]
  },
  {
   "cell_type": "markdown",
   "metadata": {
    "slideshow": {
     "slide_type": "subslide"
    }
   },
   "source": [
    "## Demo: Image Classification\n",
    "---\n",
    "Raspberry Pi 3 with TensorFlow"
   ]
  },
  {
   "cell_type": "code",
   "execution_count": 1,
   "metadata": {
    "slideshow": {
     "slide_type": "subslide"
    }
   },
   "outputs": [
    {
     "name": "stdout",
     "output_type": "stream",
     "text": [
      "TensorFlow:  1.8.0\n",
      "Linux, 6303d3806fc5, 4.14.34-v7+, #1110 SMP Mon Apr 16 15:18:51 BST 2018, armv7l, \n"
     ]
    }
   ],
   "source": [
    "from __future__ import print_function\n",
    "import sys\n",
    "import platform\n",
    "print(\", \".join(platform.uname()))\n",
    "\n",
    "from IPython import display\n",
    "import numpy as np\n",
    "import PIL\n",
    "import tensorflow as tf\n",
    "print(\"TensorFlow: \", tf.__version__)\n",
    "\n",
    "# model stuff\n",
    "from datasets import imagenet\n",
    "sys.path += ['/models/research/slim']\n",
    "from nets.mobilenet import mobilenet_v2"
   ]
  },
  {
   "cell_type": "code",
   "execution_count": null,
   "metadata": {
    "slideshow": {
     "slide_type": "subslide"
    }
   },
   "outputs": [],
   "source": [
    "# Download a recent MobileNet V2 checkpoint\n",
    "checkpoint_name = 'mobilenet_v2_1.0_224'\n",
    "checkpoint = checkpoint_name + '.ckpt'\n",
    "url = 'https://storage.googleapis.com/mobilenet_v2/checkpoints/' + checkpoint_name + '.tgz'\n",
    "\n",
    "!curl -L {url} -o {checkpoint_name}.tgz\n",
    "!tar -xvf {checkpoint_name}.tgz\n",
    "\n",
    "display.clear_output()\n",
    "print('Downloaded', url, 'as', checkpoint)"
   ]
  },
  {
   "cell_type": "code",
   "execution_count": null,
   "metadata": {
    "slideshow": {
     "slide_type": "subslide"
    }
   },
   "outputs": [],
   "source": [
    "# Setup image processing\n",
    "tf.reset_default_graph()\n",
    "\n",
    "file_input = tf.placeholder(tf.string, ())\n",
    "image = tf.image.decode_jpeg(tf.read_file(file_input))\n",
    "images = tf.expand_dims(image, 0)\n",
    "images = tf.cast(images, tf.float32) / 128.  - 1\n",
    "images.set_shape((None, None, None, 3))\n",
    "images = tf.image.resize_images(images, (224, 224))"
   ]
  },
  {
   "cell_type": "code",
   "execution_count": null,
   "metadata": {
    "slideshow": {
     "slide_type": "fragment"
    }
   },
   "outputs": [],
   "source": [
    "# Setup checkpoint\n",
    "with tf.contrib.slim.arg_scope(mobilenet_v2.training_scope(is_training=False)):\n",
    "  logits, endpoints = mobilenet_v2.mobilenet(images)\n",
    "  \n",
    "# Restore using exponential moving average for (1.5-2%) higher accuracy\n",
    "ema = tf.train.ExponentialMovingAverage(0.999)\n",
    "vars = ema.variables_to_restore()\n",
    "\n",
    "saver = tf.train.Saver(vars)"
   ]
  },
  {
   "cell_type": "code",
   "execution_count": null,
   "metadata": {
    "slideshow": {
     "slide_type": "subslide"
    }
   },
   "outputs": [],
   "source": [
    "# Download test image\n",
    "!curl -L -o test.jpg 'https://upload.wikimedia.org/wikipedia/commons/b/bf/Angela_Merkel._Tallinn_Digital_Summit.jpg'\n",
    "\n",
    "# Restore from checkpoint and do prediction\n",
    "with tf.Session() as sess:\n",
    "    saver.restore(sess,  checkpoint)\n",
    "    %time y = endpoints['Predictions'].eval(feed_dict={file_input: 'test.jpg'})\n",
    "\n",
    "label_map = imagenet.create_readable_names_for_imagenet_labels()\n",
    "print('Top 1 prediction: ', y.argmax(), label_map[y.argmax()], y.max())\n",
    "display.display(display.Image('test.jpg', width=128))"
   ]
  },
  {
   "cell_type": "markdown",
   "metadata": {
    "slideshow": {
     "slide_type": "slide"
    }
   },
   "source": [
    "## Movidius\n",
    "\n",
    "<img src='assets/ncs_workflow.jpg'/>\n",
    "\n",
    "[SDK](https://github.com/movidius/ncsdk) for Python, C++ | [Models](https://github.com/movidius/ncappzoo/) for Caffe, TensorFlow"
   ]
  },
  {
   "cell_type": "markdown",
   "metadata": {
    "slideshow": {
     "slide_type": "subslide"
    }
   },
   "source": [
    "<img src='assets/NCS1_ArchDiagram.jpg'/>"
   ]
  },
  {
   "cell_type": "markdown",
   "metadata": {
    "slideshow": {
     "slide_type": "subslide"
    }
   },
   "source": [
    "<img src='assets/pi_ncs_objectdetection_table.jpg'/>\n",
    "\n",
    "[study](https://www.pyimagesearch.com/2018/02/19/real-time-object-detection-on-the-raspberry-pi-with-the-movidius-ncs/)"
   ]
  },
  {
   "cell_type": "markdown",
   "metadata": {
    "slideshow": {
     "slide_type": "subslide"
    }
   },
   "source": [
    "## Demo: Object Detection\n",
    "---\n",
    "Raspberry Pi 3 + Movidius in Python"
   ]
  },
  {
   "cell_type": "code",
   "execution_count": 69,
   "metadata": {
    "scrolled": true,
    "slideshow": {
     "slide_type": "subslide"
    }
   },
   "outputs": [],
   "source": [
    "import os\n",
    "import sys\n",
    "import platform\n",
    "\n",
    "import mvnc.mvncapi as mvapi\n",
    "mvapi.SetGlobalOption(mvapi.GlobalOption.LOG_LEVEL, 0)\n",
    "\n",
    "# utilities\n",
    "sys.path += ['/ncappzoo/apps/ssd-object-detector']\n",
    "from utils import deserialize_output"
   ]
  },
  {
   "cell_type": "code",
   "execution_count": 70,
   "metadata": {
    "slideshow": {
     "slide_type": "subslide"
    }
   },
   "outputs": [],
   "source": [
    "import numpy as np\n",
    "import skimage.io\n",
    "import skimage.transform\n",
    "import PIL\n",
    "from IPython import display\n",
    "\n",
    "# pre-process the test image\n",
    "IMAGE = 'assets/rub.jpg'\n",
    "MEAN = 127.5\n",
    "SCALE = 0.00789\n",
    "\n",
    "raw_image = skimage.io.imread(IMAGE)\n",
    "image = skimage.transform.resize(raw_image, [300, 300], preserve_range=True)\n",
    "image = image[:, :, ::-1] # RGB -> BGR\n",
    "image = image.astype(np.float16)\n",
    "image = (image - np.float16(MEAN)) * SCALE"
   ]
  },
  {
   "cell_type": "code",
   "execution_count": 71,
   "metadata": {
    "slideshow": {
     "slide_type": "fragment"
    }
   },
   "outputs": [],
   "source": [
    "# load the labels\n",
    "LABELS = '/ncappzoo/caffe/SSD_MobileNet/labels.txt'\n",
    "\n",
    "labels = [line.rstrip('\\n') for line in open(LABELS) if line != 'classes\\n']"
   ]
  },
  {
   "cell_type": "code",
   "execution_count": 72,
   "metadata": {
    "slideshow": {
     "slide_type": "subslide"
    }
   },
   "outputs": [
    {
     "name": "stdout",
     "output_type": "stream",
     "text": [
      "Linux, raspberrypi, 4.14.34-v7+, #1110 SMP Mon Apr 16 15:18:51 BST 2018, armv7l, \n",
      "opened Movidius:  1.4\n",
      "loaded graph:  /ncappzoo/caffe/SSD_MobileNet/graph\n",
      "execution time: 80.6337 ms\n",
      "96.0%\t15: person: Top Left: (121, 24) Bottom Right: (300, 241)\n",
      "96.0%\t15: person: Top Left: (14, 128) Bottom Right: (300, 299)\n"
     ]
    },
    {
     "data": {
      "image/jpeg": "[encoded data removed]",
      "text/plain": [
       "<IPython.core.display.Image object>"
      ]
     },
     "metadata": {},
     "output_type": "display_data"
    }
   ],
   "source": [
    "GRAPH = '/ncappzoo/caffe/SSD_MobileNet/graph'\n",
    "\n",
    "ncs_name = mvapi.EnumerateDevices()[0] # pick the first device\n",
    "movidius = mvapi.Device(ncs_name)\n",
    "\n",
    "print(\", \".join(platform.uname()))\n",
    "\n",
    "try:\n",
    "    movidius.OpenDevice()\n",
    "    print('opened Movidius: ', ncs_name)\n",
    "\n",
    "    with open(GRAPH, mode='rb') as f:\n",
    "        blob = f.read()\n",
    "    graph = movidius.AllocateGraph(blob)\n",
    "    print('loaded graph: ', GRAPH)\n",
    "\n",
    "    # warm start with a dummy forward pass\n",
    "    graph.LoadTensor(image, 'user object')\n",
    "    output, userobj = graph.GetResult()\n",
    "\n",
    "    # actual timed inference\n",
    "    graph.LoadTensor(image, 'user object')\n",
    "    output, userobj = graph.GetResult()\n",
    "    inference_time = graph.GetGraphOption(mvapi.GraphOption.TIME_TAKEN)\n",
    "    \n",
    "    # deserialize and print output\n",
    "    CONFIDENCE_THRESHOLD = 0.60\n",
    "    output_dict = deserialize_output.ssd(output, CONFIDENCE_THRESHOLD, image.shape)\n",
    "\n",
    "    print(\"execution time:\", str(np.sum(inference_time)), \"ms\")\n",
    "\n",
    "    for i in range(0, output_dict['num_detections']):\n",
    "        print(\"%3.1f%%\\t\" % output_dict['detection_scores_' + str(i)]\n",
    "               + labels[int(output_dict['detection_classes_' + str(i)])]\n",
    "               + \": Top Left: \" + str(output_dict['detection_boxes_' + str(i)][0])\n",
    "               + \" Bottom Right: \" + str(output_dict['detection_boxes_' + str(i)][1]))\n",
    "\n",
    "    display.display(display.Image(IMAGE))\n",
    "\n",
    "finally:\n",
    "    graph.DeallocateGraph()\n",
    "    movidius.CloseDevice()"
   ]
  },
  {
   "cell_type": "markdown",
   "metadata": {
    "slideshow": {
     "slide_type": "slide"
    }
   },
   "source": [
    "## Embedded Learning Library (ELL)\n",
    "\n",
    "<img src='assets/ell_workflow.png' width='50%'/>\n",
    "\n",
    "[code](https://microsoft.github.io/ELL/)"
   ]
  },
  {
   "cell_type": "markdown",
   "metadata": {
    "slideshow": {
     "slide_type": "subslide"
    }
   },
   "source": [
    "## How fast on Raspberry Pi 3\n",
    "\n",
    "<img src='assets/ell_pareto.png'/>"
   ]
  },
  {
   "cell_type": "markdown",
   "metadata": {
    "slideshow": {
     "slide_type": "subslide"
    }
   },
   "source": [
    "<img src='assets/ell_tiny.png'/>\n",
    "\n",
    "[model file](https://microsoft.github.io/ELL/gallery/ILSVRC2012/BrazilianGuava.html)"
   ]
  },
  {
   "cell_type": "markdown",
   "metadata": {
    "slideshow": {
     "slide_type": "subslide"
    }
   },
   "source": [
    "## Audio Keyword Detection, Cortex M4\n",
    "---\n",
    "\n",
    "<video controls src='assets/ell_demo.mp4'/>"
   ]
  },
  {
   "cell_type": "markdown",
   "metadata": {
    "slideshow": {
     "slide_type": "subslide"
    }
   },
   "source": [
    "## Demo: Keyword Classification\n",
    "\n",
    "---\n",
    "\n",
    "Raspberry Pi 3"
   ]
  },
  {
   "cell_type": "markdown",
   "metadata": {
    "slideshow": {
     "slide_type": "slide"
    }
   },
   "source": [
    "## Field Programmable Gate Arrays\n",
    "\n",
    "<img src='assets/Hot-Chips-Stratix-10-board-1-.jpg'/>"
   ]
  },
  {
   "cell_type": "markdown",
   "metadata": {
    "slideshow": {
     "slide_type": "subslide"
    }
   },
   "source": [
    "<img src='assets/silicon_alternatives.png'/>\n",
    "\n",
    "https://www.microsoft.com/en-us/research/blog/microsoft-unveils-project-brainwave/"
   ]
  },
  {
   "cell_type": "markdown",
   "metadata": {
    "slideshow": {
     "slide_type": "subslide"
    }
   },
   "source": [
    "## Neural Net Accelerators\n",
    "- [comparison study](https://arxiv.org/abs/1712.08934)\n",
    "- [Xilinx](https://github.com/Xilinx/RFNoC-HLS-NeuralNet)\n",
    "- [PipeCNN](https://github.com/doonny/PipeCNN)\n",
    "\n",
    "<img src='assets/Demo-DE5-net.gif'/>"
   ]
  },
  {
   "cell_type": "markdown",
   "metadata": {
    "slideshow": {
     "slide_type": "subslide"
    }
   },
   "source": [
    "## FPGAs on cloud\n",
    "---\n",
    "[ResNet50](https://github.com/Azure/aml-real-time-ai/blob/master/notebooks/resnet50/00_QuickStart.ipynb)"
   ]
  },
  {
   "cell_type": "markdown",
   "metadata": {
    "slideshow": {
     "slide_type": "slide"
    }
   },
   "source": [
    "## Summary\n",
    "\n",
    "Models\n",
    "- Image Classification / Object Detection: MobileNetV2, SqueezeNet\n",
    "- Keyword Classification: GRU + Classifier\n",
    "\n",
    "Running Models\n",
    "- CoreML\n",
    "- TensorFlow / TensorFlow Lite\n",
    "- Movidius Neural Compute Stick\n",
    "- Embedded Learning Library\n",
    "- FPGAs"
   ]
  },
  {
   "cell_type": "code",
   "execution_count": 12,
   "metadata": {
    "collapsed": true,
    "slideshow": {
     "slide_type": "skip"
    }
   },
   "outputs": [],
   "source": [
    "# https://tomroelandts.com/articles/how-to-compute-colorful-fractals-using-numpy-and-matplotlib\n",
    "import numpy as np\n",
    "\n",
    "m = 480\n",
    "n = 320\n",
    " \n",
    "s = 300  # Scale.\n",
    "x = np.linspace(-m / s, m / s, num=m).reshape((1, m))\n",
    "y = np.linspace(-n / s, n / s, num=n).reshape((n, 1))\n",
    "Z = np.tile(x, (n, 1)) + 1j * np.tile(y, (1, m))\n",
    " \n",
    "C = np.full((n, m), -0.4 + 0.6j)\n",
    "M = np.full((n, m), True, dtype=bool)\n",
    "N = np.zeros((n, m))\n",
    "for i in range(256):\n",
    "    Z[M] = Z[M] * Z[M] + C[M]\n",
    "    M[np.abs(Z) > 2] = False\n",
    "    N[M] = i"
   ]
  },
  {
   "cell_type": "code",
   "execution_count": 13,
   "metadata": {
    "slideshow": {
     "slide_type": "slide"
    }
   },
   "outputs": [
    {
     "name": "stdout",
     "output_type": "stream",
     "text": [
      "Thank you!\n"
     ]
    },
    {
     "data": {
      "image/png": "[encoded data removed]",
      "text/plain": [
       "<matplotlib.figure.Figure at 0x114b65550>"
      ]
     },
     "metadata": {},
     "output_type": "display_data"
    }
   ],
   "source": [
    "import matplotlib.pyplot as plt\n",
    "\n",
    "fig = plt.figure()\n",
    "fig.set_size_inches(m / 100, n / 100)\n",
    "ax = fig.add_axes([0, 0, 1, 1], frameon=False, aspect=1)\n",
    "ax.set_xticks([])\n",
    "ax.set_yticks([])\n",
    "plt.imshow(np.flipud(N), cmap='hot')\n",
    "\n",
    "print('Thank you!')"
   ]
  },
  {
   "cell_type": "markdown",
   "metadata": {
    "collapsed": true,
    "slideshow": {
     "slide_type": "slide"
    }
   },
   "source": [
    "## Upcoming Talks\n",
    "\n",
    "June: Blockchain\n",
    "\n",
    "July: Terraform\n",
    "\n",
    "August: Containers\n",
    "\n",
    "Join the 'Stackup' meetup group here: http://bit.ly/stackupmeetup"
   ]
  },
  {
   "cell_type": "code",
   "execution_count": null,
   "metadata": {
    "slideshow": {
     "slide_type": "slide"
    }
   },
   "outputs": [],
   "source": []
  }
 ],
 "metadata": {
  "celltoolbar": "Slideshow",
  "kernelspec": {
   "display_name": "Python 2",
   "language": "python",
   "name": "python2"
  },
  "language_info": {
   "codemirror_mode": {
    "name": "ipython",
    "version": 2
   },
   "file_extension": ".py",
   "mimetype": "text/x-python",
   "name": "python",
   "nbconvert_exporter": "python",
   "pygments_lexer": "ipython2",
   "version": "2.7.13"
  },
  "livereveal": {
   "autolaunch": true,
   "overlay": "<div class='logo'><img src='assets/Stackup_Logo_Small.png' width='90%'/></div>"
  }
 },
 "nbformat": 4,
 "nbformat_minor": 2
}
