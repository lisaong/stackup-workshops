{
 "cells": [
  {
   "cell_type": "markdown",
   "metadata": {},
   "source": [
    "# Fraiser Dialog Speaker Classification\n",
    "\n",
    "### On a Raspberry Pi 3 (DietPi Buster image)\n",
    "\n",
    "Data Source: https://www.kaggle.com/sulabhbista/frasier-dialogs/data#script.csv\n",
    "\n",
    "Columns:\n",
    "- url: URL from where the dialog was downloaded\n",
    "- cast: Name of the cast\n",
    "- dialog: Dialog utterance by the cast\n",
    "- timestamp: Date/time when the a specific row was downloaded\n",
    "\n",
    "Tasks:\n",
    "- Explore the text data\n",
    "  - E.g. Check the top words used by each speaker\n",
    "- Balance classes, if applicable\n",
    "- Tokenise the data and train a classifier to predict the speaker\n",
    " - Use pre-trained word embedding\n",
    " - Use own word embedding"
   ]
  },
  {
   "cell_type": "code",
   "execution_count": 89,
   "metadata": {},
   "outputs": [
    {
     "name": "stderr",
     "output_type": "stream",
     "text": [
      "[nltk_data] Downloading package punkt to /root/nltk_data...\n",
      "[nltk_data]   Package punkt is already up-to-date!\n",
      "[nltk_data] Downloading package stopwords to /root/nltk_data...\n",
      "[nltk_data]   Package stopwords is already up-to-date!\n"
     ]
    }
   ],
   "source": [
    "import pandas as pd\n",
    "import nltk\n",
    "from nltk.corpus import stopwords\n",
    "nltk.download('punkt')\n",
    "nltk.download('stopwords')\n",
    "\n",
    "import pickle\n",
    "\n",
    "import matplotlib.pyplot as plt\n",
    "import seaborn as sns\n",
    "sns.set(style='whitegrid')\n",
    "\n",
    "import tensorflow as tf\n",
    "\n",
    "from sklearn.model_selection import train_test_split\n",
    "from sklearn.preprocessing import LabelEncoder\n",
    "\n",
    "%matplotlib inline"
   ]
  },
  {
   "cell_type": "code",
   "execution_count": 90,
   "metadata": {},
   "outputs": [
    {
     "data": {
      "text/html": [
       "<div>\n",
       "<style scoped>\n",
       "    .dataframe tbody tr th:only-of-type {\n",
       "        vertical-align: middle;\n",
       "    }\n",
       "\n",
       "    .dataframe tbody tr th {\n",
       "        vertical-align: top;\n",
       "    }\n",
       "\n",
       "    .dataframe thead th {\n",
       "        text-align: right;\n",
       "    }\n",
       "</style>\n",
       "<table border=\"1\" class=\"dataframe\">\n",
       "  <thead>\n",
       "    <tr style=\"text-align: right;\">\n",
       "      <th></th>\n",
       "      <th>url</th>\n",
       "      <th>cast</th>\n",
       "      <th>dialog</th>\n",
       "      <th>timestamp</th>\n",
       "    </tr>\n",
       "  </thead>\n",
       "  <tbody>\n",
       "    <tr>\n",
       "      <th>0</th>\n",
       "      <td>http://www.kacl780.net/frasier/transcripts/sea...</td>\n",
       "      <td>Frasier</td>\n",
       "      <td>[firmly] Listen to yourself, Bob!  You follow ...</td>\n",
       "      <td>2018-04-13 07:43:16</td>\n",
       "    </tr>\n",
       "    <tr>\n",
       "      <th>1</th>\n",
       "      <td>http://www.kacl780.net/frasier/transcripts/sea...</td>\n",
       "      <td>Roz</td>\n",
       "      <td>Yes, Dr Crane.  On line four, we have Russell ...</td>\n",
       "      <td>2018-04-13 07:43:16</td>\n",
       "    </tr>\n",
       "    <tr>\n",
       "      <th>2</th>\n",
       "      <td>http://www.kacl780.net/frasier/transcripts/sea...</td>\n",
       "      <td>Frasier</td>\n",
       "      <td>[presses a button] Hello, Russell.  This is Dr...</td>\n",
       "      <td>2018-04-13 07:43:16</td>\n",
       "    </tr>\n",
       "    <tr>\n",
       "      <th>3</th>\n",
       "      <td>http://www.kacl780.net/frasier/transcripts/sea...</td>\n",
       "      <td>Russell</td>\n",
       "      <td>[v.o.] Well, I've been feeling sort of, uh, yo...</td>\n",
       "      <td>2018-04-13 07:43:16</td>\n",
       "    </tr>\n",
       "    <tr>\n",
       "      <th>4</th>\n",
       "      <td>http://www.kacl780.net/frasier/transcripts/sea...</td>\n",
       "      <td>Frasier</td>\n",
       "      <td>Er, Russell, we're just about at the end of ou...</td>\n",
       "      <td>2018-04-13 07:43:16</td>\n",
       "    </tr>\n",
       "  </tbody>\n",
       "</table>\n",
       "</div>"
      ],
      "text/plain": [
       "                                                 url     cast  \\\n",
       "0  http://www.kacl780.net/frasier/transcripts/sea...  Frasier   \n",
       "1  http://www.kacl780.net/frasier/transcripts/sea...      Roz   \n",
       "2  http://www.kacl780.net/frasier/transcripts/sea...  Frasier   \n",
       "3  http://www.kacl780.net/frasier/transcripts/sea...  Russell   \n",
       "4  http://www.kacl780.net/frasier/transcripts/sea...  Frasier   \n",
       "\n",
       "                                              dialog            timestamp  \n",
       "0  [firmly] Listen to yourself, Bob!  You follow ...  2018-04-13 07:43:16  \n",
       "1  Yes, Dr Crane.  On line four, we have Russell ...  2018-04-13 07:43:16  \n",
       "2  [presses a button] Hello, Russell.  This is Dr...  2018-04-13 07:43:16  \n",
       "3  [v.o.] Well, I've been feeling sort of, uh, yo...  2018-04-13 07:43:16  \n",
       "4  Er, Russell, we're just about at the end of ou...  2018-04-13 07:43:16  "
      ]
     },
     "execution_count": 90,
     "metadata": {},
     "output_type": "execute_result"
    }
   ],
   "source": [
    "df = pd.read_csv('./script.csv')\n",
    "df.head()"
   ]
  },
  {
   "cell_type": "code",
   "execution_count": 91,
   "metadata": {},
   "outputs": [
    {
     "name": "stdout",
     "output_type": "stream",
     "text": [
      "<class 'pandas.core.frame.DataFrame'>\n",
      "RangeIndex: 63945 entries, 0 to 63944\n",
      "Data columns (total 4 columns):\n",
      "url          63945 non-null object\n",
      "cast         63943 non-null object\n",
      "dialog       63788 non-null object\n",
      "timestamp    63945 non-null object\n",
      "dtypes: object(4)\n",
      "memory usage: 999.2+ KB\n"
     ]
    }
   ],
   "source": [
    "df.info()"
   ]
  },
  {
   "cell_type": "code",
   "execution_count": 92,
   "metadata": {},
   "outputs": [
    {
     "data": {
      "text/html": [
       "<div>\n",
       "<style scoped>\n",
       "    .dataframe tbody tr th:only-of-type {\n",
       "        vertical-align: middle;\n",
       "    }\n",
       "\n",
       "    .dataframe tbody tr th {\n",
       "        vertical-align: top;\n",
       "    }\n",
       "\n",
       "    .dataframe thead th {\n",
       "        text-align: right;\n",
       "    }\n",
       "</style>\n",
       "<table border=\"1\" class=\"dataframe\">\n",
       "  <thead>\n",
       "    <tr style=\"text-align: right;\">\n",
       "      <th></th>\n",
       "      <th>cast</th>\n",
       "      <th>dialog</th>\n",
       "    </tr>\n",
       "  </thead>\n",
       "  <tbody>\n",
       "    <tr>\n",
       "      <th>0</th>\n",
       "      <td>Frasier</td>\n",
       "      <td>[firmly] Listen to yourself, Bob!  You follow ...</td>\n",
       "    </tr>\n",
       "    <tr>\n",
       "      <th>1</th>\n",
       "      <td>Roz</td>\n",
       "      <td>Yes, Dr Crane.  On line four, we have Russell ...</td>\n",
       "    </tr>\n",
       "    <tr>\n",
       "      <th>2</th>\n",
       "      <td>Frasier</td>\n",
       "      <td>[presses a button] Hello, Russell.  This is Dr...</td>\n",
       "    </tr>\n",
       "    <tr>\n",
       "      <th>3</th>\n",
       "      <td>Russell</td>\n",
       "      <td>[v.o.] Well, I've been feeling sort of, uh, yo...</td>\n",
       "    </tr>\n",
       "    <tr>\n",
       "      <th>4</th>\n",
       "      <td>Frasier</td>\n",
       "      <td>Er, Russell, we're just about at the end of ou...</td>\n",
       "    </tr>\n",
       "  </tbody>\n",
       "</table>\n",
       "</div>"
      ],
      "text/plain": [
       "      cast                                             dialog\n",
       "0  Frasier  [firmly] Listen to yourself, Bob!  You follow ...\n",
       "1      Roz  Yes, Dr Crane.  On line four, we have Russell ...\n",
       "2  Frasier  [presses a button] Hello, Russell.  This is Dr...\n",
       "3  Russell  [v.o.] Well, I've been feeling sort of, uh, yo...\n",
       "4  Frasier  Er, Russell, we're just about at the end of ou..."
      ]
     },
     "execution_count": 92,
     "metadata": {},
     "output_type": "execute_result"
    }
   ],
   "source": [
    "# dropping some unneeded columns\n",
    "\n",
    "df.drop(columns=['url', 'timestamp'], inplace=True)\n",
    "df.head()"
   ]
  },
  {
   "cell_type": "code",
   "execution_count": 93,
   "metadata": {},
   "outputs": [],
   "source": [
    "# cleaning some NaN columns\n",
    "df.dropna(inplace=True)"
   ]
  },
  {
   "cell_type": "code",
   "execution_count": 94,
   "metadata": {},
   "outputs": [
    {
     "data": {
      "text/plain": [
       "array(['Frasier', 'Roz', 'Russell', ...,\n",
       "       'Rachel: You can do me one quick favor',\n",
       "       'leaving is because I want what all of you have now', 'Pilot'],\n",
       "      dtype=object)"
      ]
     },
     "execution_count": 94,
     "metadata": {},
     "output_type": "execute_result"
    }
   ],
   "source": [
    "df['cast'].unique()"
   ]
  },
  {
   "cell_type": "code",
   "execution_count": 95,
   "metadata": {},
   "outputs": [
    {
     "data": {
      "text/plain": [
       "Frasier    21088\n",
       "Niles      10178\n",
       "Martin      7629\n",
       "Daphne      5243\n",
       "Roz         4735\n",
       "Name: cast, dtype: int64"
      ]
     },
     "execution_count": 95,
     "metadata": {},
     "output_type": "execute_result"
    }
   ],
   "source": [
    "# some cast values contain dialog, let's focus on cast with top 5 value_counts\n",
    "\n",
    "main_cast_counts = df['cast'].value_counts()[:5]\n",
    "main_cast_counts"
   ]
  },
  {
   "cell_type": "code",
   "execution_count": 96,
   "metadata": {},
   "outputs": [
    {
     "data": {
      "text/html": [
       "<div>\n",
       "<style scoped>\n",
       "    .dataframe tbody tr th:only-of-type {\n",
       "        vertical-align: middle;\n",
       "    }\n",
       "\n",
       "    .dataframe tbody tr th {\n",
       "        vertical-align: top;\n",
       "    }\n",
       "\n",
       "    .dataframe thead th {\n",
       "        text-align: right;\n",
       "    }\n",
       "</style>\n",
       "<table border=\"1\" class=\"dataframe\">\n",
       "  <thead>\n",
       "    <tr style=\"text-align: right;\">\n",
       "      <th></th>\n",
       "      <th>cast</th>\n",
       "      <th>dialog</th>\n",
       "    </tr>\n",
       "  </thead>\n",
       "  <tbody>\n",
       "    <tr>\n",
       "      <th>0</th>\n",
       "      <td>Frasier</td>\n",
       "      <td>[firmly] Listen to yourself, Bob!  You follow ...</td>\n",
       "    </tr>\n",
       "    <tr>\n",
       "      <th>1</th>\n",
       "      <td>Roz</td>\n",
       "      <td>Yes, Dr Crane.  On line four, we have Russell ...</td>\n",
       "    </tr>\n",
       "    <tr>\n",
       "      <th>2</th>\n",
       "      <td>Frasier</td>\n",
       "      <td>[presses a button] Hello, Russell.  This is Dr...</td>\n",
       "    </tr>\n",
       "    <tr>\n",
       "      <th>4</th>\n",
       "      <td>Frasier</td>\n",
       "      <td>Er, Russell, we're just about at the end of ou...</td>\n",
       "    </tr>\n",
       "    <tr>\n",
       "      <th>5</th>\n",
       "      <td>Roz</td>\n",
       "      <td>No, we cut to the news thirty seconds ago.</td>\n",
       "    </tr>\n",
       "  </tbody>\n",
       "</table>\n",
       "</div>"
      ],
      "text/plain": [
       "      cast                                             dialog\n",
       "0  Frasier  [firmly] Listen to yourself, Bob!  You follow ...\n",
       "1      Roz  Yes, Dr Crane.  On line four, we have Russell ...\n",
       "2  Frasier  [presses a button] Hello, Russell.  This is Dr...\n",
       "4  Frasier  Er, Russell, we're just about at the end of ou...\n",
       "5      Roz         No, we cut to the news thirty seconds ago."
      ]
     },
     "execution_count": 96,
     "metadata": {},
     "output_type": "execute_result"
    }
   ],
   "source": [
    "df_main = df.loc[df['cast'].isin(main_cast_counts.keys())]\n",
    "df_main.head()"
   ]
  },
  {
   "cell_type": "markdown",
   "metadata": {},
   "source": [
    "## Data Exploration and Imbalance Checking"
   ]
  },
  {
   "cell_type": "code",
   "execution_count": 97,
   "metadata": {},
   "outputs": [],
   "source": [
    "# There are 2x more Fraiser lines than the 2nd highest (Niles).\n",
    "# Let's try to balance the dataset by sampling from the Fraiser rows\n",
    "# Before we do that, let's see what the average dialog length is for Fraiser"
   ]
  },
  {
   "cell_type": "code",
   "execution_count": 98,
   "metadata": {},
   "outputs": [
    {
     "data": {
      "text/plain": [
       "0        [firmly, Listen, to, yourself, Bob, You, follo...\n",
       "2        [presses, a, button, Hello, Russell, This, is,...\n",
       "4        [Er, Russell, we're, just, about, at, the, end...\n",
       "6        [annoyed, rips, off, his, headphones, Oh, for,...\n",
       "7        [Well, the, rest, of, the, show, was, pretty, ...\n",
       "9        [Roz, in, the, trade, we, call, that, avoidanc...\n",
       "11       [I, am, not, a, piece, of, Lalique, I, can, ha...\n",
       "13       [takes, the, notepaper, You, say, my, brother,...\n",
       "17       [looks, up, Oh, I'm, sorry, Niles, I, didn't, ...\n",
       "19       [Oh, Niles, you're, a, psychiatrist, you, know...\n",
       "21                                                   [And]\n",
       "23       [Yes, I, know, what, you, think, about, everyt...\n",
       "26                            [Two, cafe, latte, supremos]\n",
       "27                                        [No, thank, you]\n",
       "29       [I'm, fine, I, love, my, new, life, I, love, t...\n",
       "31       [So, does, he, laughs, The, fresh, air's, good...\n",
       "33                                           [Is, it, Dad]\n",
       "35                                           [Oh, my, God]\n",
       "37                                 [What, his, hip, again]\n",
       "39                                     [What, can, we, do]\n",
       "41        [Oh, Niles, a, home, He's, still, a, young, man]\n",
       "43       [Absolutely, Besides, we, were, never, simpatico]\n",
       "45             [Oh, yes, yes, of, course, of, course, why]\n",
       "47                                             [Who, does]\n",
       "49       [I, do, I, I, like, her, from, a, distance, Yo...\n",
       "52                                        [It, says, that]\n",
       "54          [Alright, I'll, make, up, the, spare, bedroom]\n",
       "56                             [Oh, God, I, am, aren't, I]\n",
       "58       [depressed, No, I, seem, to, have, lost, my, a...\n",
       "61                                    [upbeat, Hi, laughs]\n",
       "                               ...                        \n",
       "63877    [Here, we, are, Roz, I, thought, this, art, de...\n",
       "63878    [Well, that, just, shows, you, I, thought, I'd...\n",
       "63881    [Well, I, didn't, want, to, say, anything, unt...\n",
       "63882    [I, see, you're, all, ahead, of, me, Uh, liste...\n",
       "63883    [Now, you, see, this, is, exactly, what, I, wa...\n",
       "63885    [We, all, knew, we, weren't, going, to, stay, ...\n",
       "63887    [Yes, That's, where, I'm, moving, to, San, Fra...\n",
       "63889    [My, new, job, I, start, next, week, Now, don'...\n",
       "63891                                 [To, San, Francisco]\n",
       "63893    [You, know, it's, just, an, hour, by, plane, s...\n",
       "63896    [I'm, happy, for, myself, And, scared, too, Bu...\n",
       "63902    [changing, subject, Let, me, just, help, you, ...\n",
       "63911    [Oh, well, if, you, really, must, go, all, rig...\n",
       "63912    [I'm, on, TV, next, week, and, the, only, thin...\n",
       "63913                                               [What]\n",
       "63916                                [Let, her, talk, Dad]\n",
       "63919    [Well, I, promise, I'll, fly, up, for, all, th...\n",
       "63921    [Yeah, Dad's, right, I, mean, once, I'm, gone,...\n",
       "63924                                               [Sure]\n",
       "63926                            [Right, Coffee, tomorrow]\n",
       "63929                                       [I, love, you]\n",
       "63930    [You, all, know, how, I, feel, about, you, and...\n",
       "63933    [It, may, be, that, the, gulfs, will, wash, us...\n",
       "63934    [Made, weak, by, time, and, fate, but, strong,...\n",
       "63935    [I've, been, thinking, about, that, poem, a, l...\n",
       "63936    [We, had, a, big, party, that, night, It, was,...\n",
       "63938    [Oh, good, heavens, looking, out, of, window, ...\n",
       "63940    [And, I've, never, had, more, delightful, comp...\n",
       "63942    [Well, I, just, know, I'd, always, regret, it,...\n",
       "63944    [with, nervous, excitement, Wish, me, luck, Ni...\n",
       "Name: dialog, Length: 21088, dtype: object"
      ]
     },
     "execution_count": 98,
     "metadata": {},
     "output_type": "execute_result"
    }
   ],
   "source": [
    "tokenizer = nltk.tokenize.RegexpTokenizer(r'[\\w\\']+') # include aposptophes\n",
    "\n",
    "tokens = df_main.loc[df_main['cast'] == 'Frasier', 'dialog'].apply(tokenizer.tokenize)\n",
    "tokens"
   ]
  },
  {
   "cell_type": "code",
   "execution_count": 109,
   "metadata": {},
   "outputs": [
    {
     "data": {
      "text/plain": [
       "0        [firmly, Listen, Bob, follow, work, eavesdrop,...\n",
       "2        [presses, button, Hello, Russell, Dr, Frasier,...\n",
       "4        [Er, Russell, end, hour, Let, see, cut, chase,...\n",
       "6        [annoyed, rips, headphones, Oh, crying, loud, ...\n",
       "7        [Well, rest, show, pretty, good, Roz, says, no...\n",
       "9        [Roz, trade, call, avoidance, change, subject,...\n",
       "11              [piece, Lalique, handle, criticism, today]\n",
       "13                [takes, notepaper, say, brother, called]\n",
       "17       [looks, Oh, sorry, Niles, realise, stopped, ta...\n",
       "19       [Oh, Niles, psychiatrist, know, like, listen, ...\n",
       "21                                                      []\n",
       "23       [Yes, know, think, everything, last, time, une...\n",
       "26                            [Two, cafe, latte, supremos]\n",
       "27                                                 [thank]\n",
       "29       [fine, love, new, life, love, solitude, miss, ...\n",
       "31                              [laughs, fresh, air, good]\n",
       "33                                                   [Dad]\n",
       "35                                               [Oh, God]\n",
       "37                                                   [hip]\n",
       "39                                                      []\n",
       "41                    [Oh, Niles, home, still, young, man]\n",
       "43                 [Absolutely, Besides, never, simpatico]\n",
       "45                          [Oh, yes, yes, course, course]\n",
       "47                                                      []\n",
       "49       [like, distance, know, way, like, sun, Maris, ...\n",
       "52                                                  [says]\n",
       "54                         [Alright, make, spare, bedroom]\n",
       "56                                               [Oh, God]\n",
       "58                       [depressed, seem, lost, appetite]\n",
       "61                                    [upbeat, Hi, laughs]\n",
       "                               ...                        \n",
       "63877      [Roz, thought, art, deco, mirror, seemed, like]\n",
       "63878    [Well, shows, thought, get, bigger, reaction, ...\n",
       "63881    [Well, want, say, anything, dinner, bring, party]\n",
       "63882    [see, ahead, Uh, listen, couple, weeks, ago, g...\n",
       "63883    [see, exactly, trying, avoid, think, leaving, ...\n",
       "63885    [knew, going, stay, together, forever, mean, l...\n",
       "63887                        [Yes, moving, San, Francisco]\n",
       "63889    [new, job, start, next, week, sit, choking, ba...\n",
       "63891                                     [San, Francisco]\n",
       "63893       [know, hour, plane, coming, back, often, like]\n",
       "63896    [happy, scared, good, scared, Sort, way, felt,...\n",
       "63902               [changing, subject, Let, help, dishes]\n",
       "63911    [Oh, well, really, must, go, right, tell, go, ...\n",
       "63912    [TV, next, week, thing, worse, seeing, going, ...\n",
       "63913                                                   []\n",
       "63916                                     [Let, talk, Dad]\n",
       "63919                   [Well, promise, fly, German, ones]\n",
       "63921         [Yeah, Dad, right, mean, gone, getting, rid]\n",
       "63924                                               [Sure]\n",
       "63926                            [Right, Coffee, tomorrow]\n",
       "63929                                               [love]\n",
       "63930                                 [know, feel, reason]\n",
       "63933    [may, gulfs, wash, us, may, shall, touch, Happ...\n",
       "63934    [Made, weak, time, fate, strong, strive, seek,...\n",
       "63935    [thinking, poem, lot, lately, think, says, tem...\n",
       "63936                           [big, party, night, sweet]\n",
       "63938        [Oh, good, heavens, looking, window, touched]\n",
       "63940                         [never, delightful, company]\n",
       "63942           [Well, know, always, regret, take, chance]\n",
       "63944     [nervous, excitement, Wish, luck, Nick, Hartley]\n",
       "Name: dialog, Length: 21088, dtype: object"
      ]
     },
     "execution_count": 109,
     "metadata": {},
     "output_type": "execute_result"
    }
   ],
   "source": [
    "# remove stopwords\n",
    "def tokenise_no_stopwords(text):\n",
    "    stoplist = set(stopwords.words('english'))\n",
    "    tokenizer = nltk.tokenize.RegexpTokenizer(r'[\\w]+') # include aposptophes\n",
    "    return [tok for tok in tokenizer.tokenize(text) if (tok.lower() not in stoplist)]\n",
    "\n",
    "tokens = df_main.loc[df_main['cast'] == 'Frasier', 'dialog'].apply(tokenise_no_stopwords)\n",
    "tokens"
   ]
  },
  {
   "cell_type": "code",
   "execution_count": 110,
   "metadata": {},
   "outputs": [],
   "source": [
    "# plot wordcount distributions\n",
    "def plot_wordcount_distribution(cast, df_input):\n",
    "    tokens = df_input.loc[df_input['cast'] == cast, 'dialog'].apply(tokenise_no_stopwords)\n",
    "    lengths = tokens.apply(len)\n",
    "    sns.distplot(lengths, kde=False)\n",
    "    plt.xlabel(cast)\n",
    "    plt.show()\n",
    "    return lengths.describe()"
   ]
  },
  {
   "cell_type": "code",
   "execution_count": 111,
   "metadata": {},
   "outputs": [
    {
     "data": {
      "image/png": "[encoded data removed]",
      "text/plain": [
       "<Figure size 432x288 with 1 Axes>"
      ]
     },
     "metadata": {
      "needs_background": "light"
     },
     "output_type": "display_data"
    },
    {
     "data": {
      "image/png": "[encoded data removed]",
      "text/plain": [
       "<Figure size 432x288 with 1 Axes>"
      ]
     },
     "metadata": {
      "needs_background": "light"
     },
     "output_type": "display_data"
    },
    {
     "data": {
      "image/png": "[encoded data removed]",
      "text/plain": [
       "<Figure size 432x288 with 1 Axes>"
      ]
     },
     "metadata": {
      "needs_background": "light"
     },
     "output_type": "display_data"
    },
    {
     "data": {
      "image/png": "[encoded data removed]",
      "text/plain": [
       "<Figure size 432x288 with 1 Axes>"
      ]
     },
     "metadata": {
      "needs_background": "light"
     },
     "output_type": "display_data"
    },
    {
     "data": {
      "image/png": "[encoded data removed]",
      "text/plain": [
       "<Figure size 432x288 with 1 Axes>"
      ]
     },
     "metadata": {
      "needs_background": "light"
     },
     "output_type": "display_data"
    }
   ],
   "source": [
    "stats = pd.DataFrame({'Frasier': plot_wordcount_distribution('Frasier', df_main)})\n",
    "stats = pd.concat([stats, pd.DataFrame({'Niles': plot_wordcount_distribution('Niles', df_main)})], axis=1) # col-wise concat\n",
    "stats = pd.concat([stats, pd.DataFrame({'Martin': plot_wordcount_distribution('Martin', df_main)})], axis=1)\n",
    "stats = pd.concat([stats, pd.DataFrame({'Roz': plot_wordcount_distribution('Roz', df_main)})], axis=1) \n",
    "stats = pd.concat([stats, pd.DataFrame({'Daphne': plot_wordcount_distribution('Daphne', df_main)})], axis=1)"
   ]
  },
  {
   "cell_type": "code",
   "execution_count": 112,
   "metadata": {},
   "outputs": [
    {
     "data": {
      "text/html": [
       "<div>\n",
       "<style scoped>\n",
       "    .dataframe tbody tr th:only-of-type {\n",
       "        vertical-align: middle;\n",
       "    }\n",
       "\n",
       "    .dataframe tbody tr th {\n",
       "        vertical-align: top;\n",
       "    }\n",
       "\n",
       "    .dataframe thead th {\n",
       "        text-align: right;\n",
       "    }\n",
       "</style>\n",
       "<table border=\"1\" class=\"dataframe\">\n",
       "  <thead>\n",
       "    <tr style=\"text-align: right;\">\n",
       "      <th></th>\n",
       "      <th>Frasier</th>\n",
       "      <th>Niles</th>\n",
       "      <th>Martin</th>\n",
       "      <th>Roz</th>\n",
       "      <th>Daphne</th>\n",
       "    </tr>\n",
       "  </thead>\n",
       "  <tbody>\n",
       "    <tr>\n",
       "      <th>count</th>\n",
       "      <td>21088.000000</td>\n",
       "      <td>10178.000000</td>\n",
       "      <td>7629.000000</td>\n",
       "      <td>4735.000000</td>\n",
       "      <td>5243.000000</td>\n",
       "    </tr>\n",
       "    <tr>\n",
       "      <th>mean</th>\n",
       "      <td>6.793484</td>\n",
       "      <td>6.218609</td>\n",
       "      <td>6.196618</td>\n",
       "      <td>5.760718</td>\n",
       "      <td>6.083349</td>\n",
       "    </tr>\n",
       "    <tr>\n",
       "      <th>std</th>\n",
       "      <td>6.559465</td>\n",
       "      <td>5.734493</td>\n",
       "      <td>6.491666</td>\n",
       "      <td>5.630727</td>\n",
       "      <td>5.980073</td>\n",
       "    </tr>\n",
       "    <tr>\n",
       "      <th>min</th>\n",
       "      <td>0.000000</td>\n",
       "      <td>0.000000</td>\n",
       "      <td>0.000000</td>\n",
       "      <td>0.000000</td>\n",
       "      <td>0.000000</td>\n",
       "    </tr>\n",
       "    <tr>\n",
       "      <th>25%</th>\n",
       "      <td>2.000000</td>\n",
       "      <td>2.000000</td>\n",
       "      <td>2.000000</td>\n",
       "      <td>2.000000</td>\n",
       "      <td>2.000000</td>\n",
       "    </tr>\n",
       "    <tr>\n",
       "      <th>50%</th>\n",
       "      <td>5.000000</td>\n",
       "      <td>5.000000</td>\n",
       "      <td>5.000000</td>\n",
       "      <td>4.000000</td>\n",
       "      <td>4.000000</td>\n",
       "    </tr>\n",
       "    <tr>\n",
       "      <th>75%</th>\n",
       "      <td>9.000000</td>\n",
       "      <td>8.000000</td>\n",
       "      <td>8.000000</td>\n",
       "      <td>8.000000</td>\n",
       "      <td>8.000000</td>\n",
       "    </tr>\n",
       "    <tr>\n",
       "      <th>max</th>\n",
       "      <td>106.000000</td>\n",
       "      <td>60.000000</td>\n",
       "      <td>229.000000</td>\n",
       "      <td>94.000000</td>\n",
       "      <td>74.000000</td>\n",
       "    </tr>\n",
       "  </tbody>\n",
       "</table>\n",
       "</div>"
      ],
      "text/plain": [
       "            Frasier         Niles       Martin          Roz       Daphne\n",
       "count  21088.000000  10178.000000  7629.000000  4735.000000  5243.000000\n",
       "mean       6.793484      6.218609     6.196618     5.760718     6.083349\n",
       "std        6.559465      5.734493     6.491666     5.630727     5.980073\n",
       "min        0.000000      0.000000     0.000000     0.000000     0.000000\n",
       "25%        2.000000      2.000000     2.000000     2.000000     2.000000\n",
       "50%        5.000000      5.000000     5.000000     4.000000     4.000000\n",
       "75%        9.000000      8.000000     8.000000     8.000000     8.000000\n",
       "max      106.000000     60.000000   229.000000    94.000000    74.000000"
      ]
     },
     "execution_count": 112,
     "metadata": {},
     "output_type": "execute_result"
    }
   ],
   "source": [
    "# stats at a glance\n",
    "stats"
   ]
  },
  {
   "cell_type": "code",
   "execution_count": 113,
   "metadata": {},
   "outputs": [],
   "source": [
    "# 75% percentile is about 8-9 tokens\n",
    "# The distributions are quite similar, so we will undersample from Frasier to balance the classes a bit more\n",
    "# They don't have to be exactly the same."
   ]
  },
  {
   "cell_type": "code",
   "execution_count": 114,
   "metadata": {},
   "outputs": [
    {
     "data": {
      "image/png": "[encoded data removed]",
      "text/plain": [
       "<Figure size 432x288 with 1 Axes>"
      ]
     },
     "metadata": {
      "needs_background": "light"
     },
     "output_type": "display_data"
    }
   ],
   "source": [
    "df_frasier_sampled = df_main.loc[df_main['cast'] == 'Frasier'].sample(frac=.5)\n",
    "\n",
    "stats = pd.concat([stats, pd.DataFrame({'Frasier (sampled)': plot_wordcount_distribution('Frasier', df_frasier_sampled)})], axis=1)"
   ]
  },
  {
   "cell_type": "code",
   "execution_count": 115,
   "metadata": {},
   "outputs": [
    {
     "data": {
      "text/html": [
       "<div>\n",
       "<style scoped>\n",
       "    .dataframe tbody tr th:only-of-type {\n",
       "        vertical-align: middle;\n",
       "    }\n",
       "\n",
       "    .dataframe tbody tr th {\n",
       "        vertical-align: top;\n",
       "    }\n",
       "\n",
       "    .dataframe thead th {\n",
       "        text-align: right;\n",
       "    }\n",
       "</style>\n",
       "<table border=\"1\" class=\"dataframe\">\n",
       "  <thead>\n",
       "    <tr style=\"text-align: right;\">\n",
       "      <th></th>\n",
       "      <th>Frasier</th>\n",
       "      <th>Niles</th>\n",
       "      <th>Martin</th>\n",
       "      <th>Roz</th>\n",
       "      <th>Daphne</th>\n",
       "      <th>Frasier (sampled)</th>\n",
       "    </tr>\n",
       "  </thead>\n",
       "  <tbody>\n",
       "    <tr>\n",
       "      <th>count</th>\n",
       "      <td>21088.000000</td>\n",
       "      <td>10178.000000</td>\n",
       "      <td>7629.000000</td>\n",
       "      <td>4735.000000</td>\n",
       "      <td>5243.000000</td>\n",
       "      <td>10544.000000</td>\n",
       "    </tr>\n",
       "    <tr>\n",
       "      <th>mean</th>\n",
       "      <td>6.793484</td>\n",
       "      <td>6.218609</td>\n",
       "      <td>6.196618</td>\n",
       "      <td>5.760718</td>\n",
       "      <td>6.083349</td>\n",
       "      <td>6.835167</td>\n",
       "    </tr>\n",
       "    <tr>\n",
       "      <th>std</th>\n",
       "      <td>6.559465</td>\n",
       "      <td>5.734493</td>\n",
       "      <td>6.491666</td>\n",
       "      <td>5.630727</td>\n",
       "      <td>5.980073</td>\n",
       "      <td>6.437845</td>\n",
       "    </tr>\n",
       "    <tr>\n",
       "      <th>min</th>\n",
       "      <td>0.000000</td>\n",
       "      <td>0.000000</td>\n",
       "      <td>0.000000</td>\n",
       "      <td>0.000000</td>\n",
       "      <td>0.000000</td>\n",
       "      <td>0.000000</td>\n",
       "    </tr>\n",
       "    <tr>\n",
       "      <th>25%</th>\n",
       "      <td>2.000000</td>\n",
       "      <td>2.000000</td>\n",
       "      <td>2.000000</td>\n",
       "      <td>2.000000</td>\n",
       "      <td>2.000000</td>\n",
       "      <td>2.000000</td>\n",
       "    </tr>\n",
       "    <tr>\n",
       "      <th>50%</th>\n",
       "      <td>5.000000</td>\n",
       "      <td>5.000000</td>\n",
       "      <td>5.000000</td>\n",
       "      <td>4.000000</td>\n",
       "      <td>4.000000</td>\n",
       "      <td>5.000000</td>\n",
       "    </tr>\n",
       "    <tr>\n",
       "      <th>75%</th>\n",
       "      <td>9.000000</td>\n",
       "      <td>8.000000</td>\n",
       "      <td>8.000000</td>\n",
       "      <td>8.000000</td>\n",
       "      <td>8.000000</td>\n",
       "      <td>9.000000</td>\n",
       "    </tr>\n",
       "    <tr>\n",
       "      <th>max</th>\n",
       "      <td>106.000000</td>\n",
       "      <td>60.000000</td>\n",
       "      <td>229.000000</td>\n",
       "      <td>94.000000</td>\n",
       "      <td>74.000000</td>\n",
       "      <td>66.000000</td>\n",
       "    </tr>\n",
       "  </tbody>\n",
       "</table>\n",
       "</div>"
      ],
      "text/plain": [
       "            Frasier         Niles       Martin          Roz       Daphne  \\\n",
       "count  21088.000000  10178.000000  7629.000000  4735.000000  5243.000000   \n",
       "mean       6.793484      6.218609     6.196618     5.760718     6.083349   \n",
       "std        6.559465      5.734493     6.491666     5.630727     5.980073   \n",
       "min        0.000000      0.000000     0.000000     0.000000     0.000000   \n",
       "25%        2.000000      2.000000     2.000000     2.000000     2.000000   \n",
       "50%        5.000000      5.000000     5.000000     4.000000     4.000000   \n",
       "75%        9.000000      8.000000     8.000000     8.000000     8.000000   \n",
       "max      106.000000     60.000000   229.000000    94.000000    74.000000   \n",
       "\n",
       "       Frasier (sampled)  \n",
       "count       10544.000000  \n",
       "mean            6.835167  \n",
       "std             6.437845  \n",
       "min             0.000000  \n",
       "25%             2.000000  \n",
       "50%             5.000000  \n",
       "75%             9.000000  \n",
       "max            66.000000  "
      ]
     },
     "execution_count": 115,
     "metadata": {},
     "output_type": "execute_result"
    }
   ],
   "source": [
    "# compare before and after undersampling.\n",
    "stats"
   ]
  },
  {
   "cell_type": "code",
   "execution_count": 116,
   "metadata": {},
   "outputs": [],
   "source": [
    "# create our dataset\n",
    "df_main_balanced = df_frasier_sampled\n",
    "\n",
    "cast = ['Niles', 'Martin', 'Roz', 'Daphne']\n",
    "for c in cast:\n",
    "    df_main_balanced = pd.concat([df_main_balanced, \n",
    "                                  df_main.loc[df_main['cast'] == c]])"
   ]
  },
  {
   "cell_type": "code",
   "execution_count": 117,
   "metadata": {},
   "outputs": [
    {
     "data": {
      "text/plain": [
       "Frasier    10544\n",
       "Niles      10178\n",
       "Martin      7629\n",
       "Daphne      5243\n",
       "Roz         4735\n",
       "Name: cast, dtype: int64"
      ]
     },
     "execution_count": 117,
     "metadata": {},
     "output_type": "execute_result"
    }
   ],
   "source": [
    "df_main_balanced['cast'].value_counts()"
   ]
  },
  {
   "cell_type": "code",
   "execution_count": 118,
   "metadata": {},
   "outputs": [],
   "source": [
    "# save a snapshot of our balanced dataframe\n",
    "pickle.dump(df_main_balanced, open('./df_main_balanced.pkl', 'wb'))"
   ]
  },
  {
   "cell_type": "markdown",
   "metadata": {},
   "source": [
    "## Tokenisation"
   ]
  },
  {
   "cell_type": "code",
   "execution_count": 119,
   "metadata": {},
   "outputs": [
    {
     "data": {
      "text/html": [
       "<div>\n",
       "<style scoped>\n",
       "    .dataframe tbody tr th:only-of-type {\n",
       "        vertical-align: middle;\n",
       "    }\n",
       "\n",
       "    .dataframe tbody tr th {\n",
       "        vertical-align: top;\n",
       "    }\n",
       "\n",
       "    .dataframe thead th {\n",
       "        text-align: right;\n",
       "    }\n",
       "</style>\n",
       "<table border=\"1\" class=\"dataframe\">\n",
       "  <thead>\n",
       "    <tr style=\"text-align: right;\">\n",
       "      <th></th>\n",
       "      <th>cast</th>\n",
       "      <th>dialog</th>\n",
       "    </tr>\n",
       "  </thead>\n",
       "  <tbody>\n",
       "    <tr>\n",
       "      <th>46082</th>\n",
       "      <td>Frasier</td>\n",
       "      <td>Well, whatever you have to tell yourself, Roz.</td>\n",
       "    </tr>\n",
       "    <tr>\n",
       "      <th>52653</th>\n",
       "      <td>Frasier</td>\n",
       "      <td>Well of course it would.  Niles, we've been th...</td>\n",
       "    </tr>\n",
       "    <tr>\n",
       "      <th>8879</th>\n",
       "      <td>Frasier</td>\n",
       "      <td>Yes.</td>\n",
       "    </tr>\n",
       "    <tr>\n",
       "      <th>2957</th>\n",
       "      <td>Frasier</td>\n",
       "      <td>Well let me see, I think I'll have the...</td>\n",
       "    </tr>\n",
       "    <tr>\n",
       "      <th>8658</th>\n",
       "      <td>Frasier</td>\n",
       "      <td>Denise, could you just hold on for a moment?</td>\n",
       "    </tr>\n",
       "  </tbody>\n",
       "</table>\n",
       "</div>"
      ],
      "text/plain": [
       "          cast                                             dialog\n",
       "46082  Frasier     Well, whatever you have to tell yourself, Roz.\n",
       "52653  Frasier  Well of course it would.  Niles, we've been th...\n",
       "8879   Frasier                                               Yes.\n",
       "2957   Frasier          Well let me see, I think I'll have the...\n",
       "8658   Frasier       Denise, could you just hold on for a moment?"
      ]
     },
     "execution_count": 119,
     "metadata": {},
     "output_type": "execute_result"
    }
   ],
   "source": [
    "df_main_balanced = pickle.load(open('./df_main_balanced.pkl', 'rb'))\n",
    "df_main_balanced.head()"
   ]
  },
  {
   "cell_type": "code",
   "execution_count": 120,
   "metadata": {},
   "outputs": [],
   "source": [
    "def tokenise_no_stopwords_join(text):\n",
    "    stoplist = set(stopwords.words('english'))\n",
    "    tokenizer = nltk.tokenize.RegexpTokenizer(r'[\\w]+') # include aposptophes\n",
    "    return ' '.join([tok for tok in tokenizer.tokenize(text) if (tok.lower() not in stoplist)])\n",
    "\n",
    "df_main_balanced['dialog_nostop'] = df_main_balanced['dialog'].apply(tokenise_no_stopwords_join)"
   ]
  },
  {
   "cell_type": "code",
   "execution_count": 121,
   "metadata": {},
   "outputs": [
    {
     "data": {
      "text/html": [
       "<div>\n",
       "<style scoped>\n",
       "    .dataframe tbody tr th:only-of-type {\n",
       "        vertical-align: middle;\n",
       "    }\n",
       "\n",
       "    .dataframe tbody tr th {\n",
       "        vertical-align: top;\n",
       "    }\n",
       "\n",
       "    .dataframe thead th {\n",
       "        text-align: right;\n",
       "    }\n",
       "</style>\n",
       "<table border=\"1\" class=\"dataframe\">\n",
       "  <thead>\n",
       "    <tr style=\"text-align: right;\">\n",
       "      <th></th>\n",
       "      <th>cast</th>\n",
       "      <th>dialog</th>\n",
       "      <th>dialog_nostop</th>\n",
       "    </tr>\n",
       "  </thead>\n",
       "  <tbody>\n",
       "    <tr>\n",
       "      <th>46082</th>\n",
       "      <td>Frasier</td>\n",
       "      <td>Well, whatever you have to tell yourself, Roz.</td>\n",
       "      <td>Well whatever tell Roz</td>\n",
       "    </tr>\n",
       "    <tr>\n",
       "      <th>52653</th>\n",
       "      <td>Frasier</td>\n",
       "      <td>Well of course it would.  Niles, we've been th...</td>\n",
       "      <td>Well course would Niles last ten tortured year...</td>\n",
       "    </tr>\n",
       "    <tr>\n",
       "      <th>8879</th>\n",
       "      <td>Frasier</td>\n",
       "      <td>Yes.</td>\n",
       "      <td>Yes</td>\n",
       "    </tr>\n",
       "    <tr>\n",
       "      <th>2957</th>\n",
       "      <td>Frasier</td>\n",
       "      <td>Well let me see, I think I'll have the...</td>\n",
       "      <td>Well let see think</td>\n",
       "    </tr>\n",
       "    <tr>\n",
       "      <th>8658</th>\n",
       "      <td>Frasier</td>\n",
       "      <td>Denise, could you just hold on for a moment?</td>\n",
       "      <td>Denise could hold moment</td>\n",
       "    </tr>\n",
       "  </tbody>\n",
       "</table>\n",
       "</div>"
      ],
      "text/plain": [
       "          cast                                             dialog  \\\n",
       "46082  Frasier     Well, whatever you have to tell yourself, Roz.   \n",
       "52653  Frasier  Well of course it would.  Niles, we've been th...   \n",
       "8879   Frasier                                               Yes.   \n",
       "2957   Frasier          Well let me see, I think I'll have the...   \n",
       "8658   Frasier       Denise, could you just hold on for a moment?   \n",
       "\n",
       "                                           dialog_nostop  \n",
       "46082                             Well whatever tell Roz  \n",
       "52653  Well course would Niles last ten tortured year...  \n",
       "8879                                                 Yes  \n",
       "2957                                  Well let see think  \n",
       "8658                            Denise could hold moment  "
      ]
     },
     "execution_count": 121,
     "metadata": {},
     "output_type": "execute_result"
    }
   ],
   "source": [
    "df_main_balanced.head()"
   ]
  },
  {
   "cell_type": "code",
   "execution_count": 122,
   "metadata": {},
   "outputs": [],
   "source": [
    "# save a snapshot of our balanced dataframe without stopwords\n",
    "pickle.dump(df_main_balanced, open('./df_main_balanced_nostop.pkl', 'wb'))"
   ]
  },
  {
   "cell_type": "code",
   "execution_count": 123,
   "metadata": {},
   "outputs": [],
   "source": [
    "X = df_main_balanced['dialog_nostop']\n",
    "\n",
    "le_y = LabelEncoder()\n",
    "y = le_y.fit_transform(df_main_balanced['cast'])\n",
    "y = tf.keras.utils.to_categorical(y)"
   ]
  },
  {
   "cell_type": "code",
   "execution_count": 124,
   "metadata": {},
   "outputs": [],
   "source": [
    "X_train, X_test, y_train, y_test = train_test_split(X, y, stratify=y, test_size=.1,\n",
    "                                                    random_state=42)"
   ]
  },
  {
   "cell_type": "code",
   "execution_count": 134,
   "metadata": {
    "scrolled": true
   },
   "outputs": [
    {
     "data": {
      "text/plain": [
       "((34496, 11), array([[   0,    0,  297, ...,   12, 2792,  223],\n",
       "        [   0,    0,    0, ...,   89,  121,   55],\n",
       "        [   0,    0,    0, ...,   41,    4,   28],\n",
       "        ...,\n",
       "        [   0,    0,    0, ...,  681, 2535, 1008],\n",
       "        [   0,    0,    0, ...,    0, 3331,  104],\n",
       "        [   0,    0,    0, ...,    0,    0,   21]]))"
      ]
     },
     "execution_count": 134,
     "metadata": {},
     "output_type": "execute_result"
    }
   ],
   "source": [
    "# Tokenise, limiting to most frequent 5000 words\n",
    "max_vocab_length = 5000\n",
    "tokenizer = tf.keras.preprocessing.text.Tokenizer(num_words=max_vocab_length, filters='')\n",
    "tokenizer.fit_on_texts(X_train)\n",
    "\n",
    "# Create sequences\n",
    "X_train_seq = tokenizer.texts_to_sequences(X_train)\n",
    "\n",
    "# Set seq length near 75th percentile\n",
    "seq_length = 11\n",
    "\n",
    "# Pad sequences with pre-padding so that activations will be non-zero towards end of sequence\n",
    "X_train_seq = tf.keras.preprocessing.sequence.pad_sequences(X_train_seq, maxlen=seq_length, \n",
    "                                                            padding='pre')\n",
    "X_train_seq.shape, X_train_seq"
   ]
  },
  {
   "cell_type": "code",
   "execution_count": 135,
   "metadata": {},
   "outputs": [
    {
     "data": {
      "text/plain": [
       "((3833, 11), array([[   0,    0,    0, ...,    0,    0,   34],\n",
       "        [   2,   27, 1749, ...,   56,  106,  203],\n",
       "        [   0,    0,    0, ...,   34,   93,  177],\n",
       "        ...,\n",
       "        [   0,    0,    0, ...,    1,   27, 3240],\n",
       "        [   0,    0,    0, ...,    8,  332,    5],\n",
       "        [   0,    0,    0, ...,   35,   43,  280]]))"
      ]
     },
     "execution_count": 135,
     "metadata": {},
     "output_type": "execute_result"
    }
   ],
   "source": [
    "X_test_seq = tokenizer.texts_to_sequences(X_test)\n",
    "X_test_seq = tf.keras.preprocessing.sequence.pad_sequences(X_test_seq, maxlen=seq_length,\n",
    "                                                           padding='pre')\n",
    "X_test_seq.shape, X_test_seq"
   ]
  },
  {
   "cell_type": "code",
   "execution_count": 160,
   "metadata": {},
   "outputs": [
    {
     "data": {
      "text/plain": [
       "17875"
      ]
     },
     "execution_count": 160,
     "metadata": {},
     "output_type": "execute_result"
    }
   ],
   "source": [
    "len(tokenizer.index_word)"
   ]
  },
  {
   "cell_type": "markdown",
   "metadata": {},
   "source": [
    "## Model Engineering\n",
    "\n",
    "- Simple 1D convolutional layer\n",
    "- Simple GRU layer"
   ]
  },
  {
   "cell_type": "code",
   "execution_count": 165,
   "metadata": {},
   "outputs": [],
   "source": [
    "from tensorflow.keras.models import Sequential, load_model\n",
    "from tensorflow.keras.layers import Conv1D, Dense, Embedding, GlobalAvgPool1D, GRU\n",
    "from tensorflow.keras.callbacks import ModelCheckpoint, TensorBoard\n",
    "import os, datetime"
   ]
  },
  {
   "cell_type": "code",
   "execution_count": 161,
   "metadata": {},
   "outputs": [
    {
     "name": "stdout",
     "output_type": "stream",
     "text": [
      "Model: \"sequential_11\"\n",
      "_________________________________________________________________\n",
      "Layer (type)                 Output Shape              Param #   \n",
      "=================================================================\n",
      "embedding_11 (Embedding)     (None, 11, 50)            250050    \n",
      "_________________________________________________________________\n",
      "conv1d_13 (Conv1D)           (None, 11, 16)            4016      \n",
      "_________________________________________________________________\n",
      "global_average_pooling1d_4 ( (None, 16)                0         \n",
      "_________________________________________________________________\n",
      "dense_19 (Dense)             (None, 5)                 85        \n",
      "=================================================================\n",
      "Total params: 254,151\n",
      "Trainable params: 254,151\n",
      "Non-trainable params: 0\n",
      "_________________________________________________________________\n"
     ]
    }
   ],
   "source": [
    "# Simple CNN model with non-pre-trained Embedding\n",
    "cnn_simple = Sequential()\n",
    "cnn_simple.add(Embedding(max_vocab_length+1, 50, input_length=seq_length))\n",
    "cnn_simple.add(Conv1D(16, kernel_size=5, padding='same', activation='relu'))\n",
    "cnn_simple.add(GlobalAvgPool1D())\n",
    "cnn_simple.add(Dense(5, activation='softmax'))\n",
    "cnn_simple.summary()"
   ]
  },
  {
   "cell_type": "code",
   "execution_count": 162,
   "metadata": {},
   "outputs": [
    {
     "name": "stdout",
     "output_type": "stream",
     "text": [
      "Train on 31046 samples, validate on 3450 samples\n",
      "Epoch 1/15\n",
      "31046/31046 [==============================] - 43s 1ms/sample - loss: 1.5141 - accuracy: 0.3317 - val_loss: 1.4289 - val_accuracy: 0.3751\n",
      "Epoch 2/15\n",
      "31046/31046 [==============================] - 79s 3ms/sample - loss: 1.3282 - accuracy: 0.4410 - val_loss: 1.3582 - val_accuracy: 0.4220\n",
      "Epoch 3/15\n",
      "31046/31046 [==============================] - 18s 588us/sample - loss: 1.2220 - accuracy: 0.4992 - val_loss: 1.3578 - val_accuracy: 0.4325\n",
      "Epoch 4/15\n",
      "31046/31046 [==============================] - 18s 566us/sample - loss: 1.1519 - accuracy: 0.5312 - val_loss: 1.3691 - val_accuracy: 0.4348\n",
      "Epoch 5/15\n",
      "31046/31046 [==============================] - 18s 584us/sample - loss: 1.1017 - accuracy: 0.5518 - val_loss: 1.3932 - val_accuracy: 0.4258\n",
      "Epoch 6/15\n",
      "31046/31046 [==============================] - 17s 532us/sample - loss: 1.0678 - accuracy: 0.5663 - val_loss: 1.4221 - val_accuracy: 0.4290\n",
      "Epoch 7/15\n",
      "31046/31046 [==============================] - 16s 525us/sample - loss: 1.0402 - accuracy: 0.5765 - val_loss: 1.4650 - val_accuracy: 0.4232\n",
      "Epoch 8/15\n",
      "31046/31046 [==============================] - 24s 763us/sample - loss: 1.0186 - accuracy: 0.5872 - val_loss: 1.4916 - val_accuracy: 0.4145\n",
      "Epoch 9/15\n",
      "31046/31046 [==============================] - 16s 529us/sample - loss: 1.0024 - accuracy: 0.5935 - val_loss: 1.5143 - val_accuracy: 0.4194\n",
      "Epoch 10/15\n",
      "31046/31046 [==============================] - 16s 525us/sample - loss: 0.9871 - accuracy: 0.5965 - val_loss: 1.5506 - val_accuracy: 0.4159\n",
      "Epoch 11/15\n",
      "31046/31046 [==============================] - 16s 523us/sample - loss: 0.9747 - accuracy: 0.6028 - val_loss: 1.5789 - val_accuracy: 0.4188\n",
      "Epoch 12/15\n",
      "31046/31046 [==============================] - 16s 528us/sample - loss: 0.9630 - accuracy: 0.6063 - val_loss: 1.6109 - val_accuracy: 0.4072\n",
      "Epoch 13/15\n",
      "31046/31046 [==============================] - 16s 523us/sample - loss: 0.9525 - accuracy: 0.6129 - val_loss: 1.6306 - val_accuracy: 0.4104\n",
      "Epoch 14/15\n",
      "31046/31046 [==============================] - 16s 522us/sample - loss: 0.9422 - accuracy: 0.6155 - val_loss: 1.6561 - val_accuracy: 0.4099\n",
      "Epoch 15/15\n",
      "31046/31046 [==============================] - 18s 582us/sample - loss: 0.9322 - accuracy: 0.6193 - val_loss: 1.6967 - val_accuracy: 0.4104\n"
     ]
    },
    {
     "data": {
      "text/plain": [
       "<tensorflow.python.keras.callbacks.History at 0x46fad3d0>"
      ]
     },
     "execution_count": 162,
     "metadata": {},
     "output_type": "execute_result"
    }
   ],
   "source": [
    "log_dir = os.path.join('./logs', 'fraiser', 'cnn_simple',\n",
    "                                   datetime.datetime.now().strftime(\"%Y%m%d-%H%M%S\"))\n",
    "\n",
    "tb = TensorBoard(log_dir=log_dir)\n",
    "mc = ModelCheckpoint('fraiser_cnn_simple.h5', save_best_only=True, monitor='val_accuracy')\n",
    "\n",
    "cnn_simple.compile(optimizer='adam', loss='categorical_crossentropy', metrics=['accuracy'])\n",
    "cnn_simple.fit(X_train_seq, y_train, validation_split=.1,\n",
    "                       batch_size=128, epochs=15, callbacks=[tb, mc])"
   ]
  },
  {
   "cell_type": "code",
   "execution_count": 163,
   "metadata": {},
   "outputs": [
    {
     "data": {
      "text/plain": [
       "[1.3699064555505285, 0.4276024]"
      ]
     },
     "execution_count": 163,
     "metadata": {},
     "output_type": "execute_result"
    }
   ],
   "source": [
    "best_model = load_model('fraiser_cnn_simple.h5')\n",
    "best_model.evaluate(X_test_seq, y_test, verbose=0) # loss, accuracy"
   ]
  },
  {
   "cell_type": "code",
   "execution_count": 166,
   "metadata": {},
   "outputs": [
    {
     "name": "stdout",
     "output_type": "stream",
     "text": [
      "Model: \"sequential_13\"\n",
      "_________________________________________________________________\n",
      "Layer (type)                 Output Shape              Param #   \n",
      "=================================================================\n",
      "embedding_13 (Embedding)     (None, 11, 50)            250050    \n",
      "_________________________________________________________________\n",
      "gru (GRU)                    (None, 16)                3264      \n",
      "_________________________________________________________________\n",
      "dense_20 (Dense)             (None, 5)                 85        \n",
      "=================================================================\n",
      "Total params: 253,399\n",
      "Trainable params: 253,399\n",
      "Non-trainable params: 0\n",
      "_________________________________________________________________\n"
     ]
    }
   ],
   "source": [
    "# Simple RNN model with non-pre-trained Embedding\n",
    "rnn_simple = Sequential()\n",
    "rnn_simple.add(Embedding(max_vocab_length+1, 50, input_length=seq_length))\n",
    "rnn_simple.add(GRU(16))\n",
    "rnn_simple.add(Dense(5, activation='softmax'))\n",
    "rnn_simple.summary()"
   ]
  },
  {
   "cell_type": "code",
   "execution_count": null,
   "metadata": {},
   "outputs": [
    {
     "name": "stdout",
     "output_type": "stream",
     "text": [
      "Train on 31046 samples, validate on 3450 samples\n",
      "Epoch 1/15\n",
      "  128/31046 [..............................] - ETA: 3:44:49 - loss: 1.6110 - accuracy: 0.2266"
     ]
    }
   ],
   "source": [
    "log_dir = os.path.join('./logs', 'fraiser', 'rnn_simple',\n",
    "                                   datetime.datetime.now().strftime(\"%Y%m%d-%H%M%S\"))\n",
    "\n",
    "tb = TensorBoard(log_dir=log_dir)\n",
    "mc = ModelCheckpoint('fraiser_rnn_simple.h5', save_best_only=True, monitor='val_accuracy')\n",
    "\n",
    "rnn_simple.compile(optimizer='adam', loss='categorical_crossentropy', metrics=['accuracy'])\n",
    "rnn_simple.fit(X_train_seq, y_train, validation_split=.1,\n",
    "                       batch_size=128, epochs=15, callbacks=[tb, mc])"
   ]
  },
  {
   "cell_type": "code",
   "execution_count": null,
   "metadata": {},
   "outputs": [],
   "source": [
    "best_model = load_model('fraiser_rnn_simple.h5')\n",
    "best_model.evaluate(X_test_seq, y_test, verbose=0) # loss, accuracy"
   ]
  }
 ],
 "metadata": {
  "kernelspec": {
   "display_name": "Python 3",
   "language": "python",
   "name": "python3"
  },
  "language_info": {
   "codemirror_mode": {
    "name": "ipython",
    "version": 3
   },
   "file_extension": ".py",
   "mimetype": "text/x-python",
   "name": "python",
   "nbconvert_exporter": "python",
   "pygments_lexer": "ipython3",
   "version": "3.7.3"
  }
 },
 "nbformat": 4,
 "nbformat_minor": 2
}
