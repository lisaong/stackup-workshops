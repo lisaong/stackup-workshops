{
 "cells": [
  {
   "cell_type": "markdown",
   "metadata": {},
   "source": [
    "# Fraiser Dialog Speaker Classification\n",
    "\n",
    "### On a Raspberry Pi 3 (DietPi Buster image)\n",
    "\n",
    "Data Source: https://www.kaggle.com/sulabhbista/frasier-dialogs/data#script.csv\n",
    "\n",
    "Columns:\n",
    "- url: URL from where the dialog was downloaded\n",
    "- cast: Name of the cast\n",
    "- dialog: Dialog utterance by the cast\n",
    "- timestamp: Date/time when the a specific row was downloaded\n",
    "\n",
    "Tasks:\n",
    "- Explore the text data\n",
    "  - E.g. Check the top words used by each speaker\n",
    "- Balance classes, if applicable\n",
    "- Tokenise the data and train a classifier to predict the speaker\n",
    " - Use pre-trained word embedding\n",
    " - Use own word embedding"
   ]
  },
  {
   "cell_type": "code",
   "execution_count": 2,
   "metadata": {},
   "outputs": [
    {
     "name": "stderr",
     "output_type": "stream",
     "text": [
      "[nltk_data] Downloading package punkt to /root/nltk_data...\n",
      "[nltk_data]   Package punkt is already up-to-date!\n",
      "[nltk_data] Downloading package stopwords to /root/nltk_data...\n",
      "[nltk_data]   Package stopwords is already up-to-date!\n"
     ]
    }
   ],
   "source": [
    "import pandas as pd\n",
    "import nltk\n",
    "from nltk.corpus import stopwords\n",
    "nltk.download('punkt')\n",
    "nltk.download('stopwords')\n",
    "\n",
    "import pickle\n",
    "import numpy as np\n",
    "\n",
    "import matplotlib.pyplot as plt\n",
    "import seaborn as sns\n",
    "sns.set(style='whitegrid')\n",
    "\n",
    "import tensorflow as tf\n",
    "\n",
    "from sklearn.model_selection import train_test_split\n",
    "from sklearn.preprocessing import LabelEncoder\n",
    "\n",
    "%matplotlib inline"
   ]
  },
  {
   "cell_type": "code",
   "execution_count": 3,
   "metadata": {},
   "outputs": [
    {
     "data": {
      "text/html": [
       "<div>\n",
       "<style scoped>\n",
       "    .dataframe tbody tr th:only-of-type {\n",
       "        vertical-align: middle;\n",
       "    }\n",
       "\n",
       "    .dataframe tbody tr th {\n",
       "        vertical-align: top;\n",
       "    }\n",
       "\n",
       "    .dataframe thead th {\n",
       "        text-align: right;\n",
       "    }\n",
       "</style>\n",
       "<table border=\"1\" class=\"dataframe\">\n",
       "  <thead>\n",
       "    <tr style=\"text-align: right;\">\n",
       "      <th></th>\n",
       "      <th>url</th>\n",
       "      <th>cast</th>\n",
       "      <th>dialog</th>\n",
       "      <th>timestamp</th>\n",
       "    </tr>\n",
       "  </thead>\n",
       "  <tbody>\n",
       "    <tr>\n",
       "      <th>0</th>\n",
       "      <td>http://www.kacl780.net/frasier/transcripts/sea...</td>\n",
       "      <td>Frasier</td>\n",
       "      <td>[firmly] Listen to yourself, Bob!  You follow ...</td>\n",
       "      <td>2018-04-13 07:43:16</td>\n",
       "    </tr>\n",
       "    <tr>\n",
       "      <th>1</th>\n",
       "      <td>http://www.kacl780.net/frasier/transcripts/sea...</td>\n",
       "      <td>Roz</td>\n",
       "      <td>Yes, Dr Crane.  On line four, we have Russell ...</td>\n",
       "      <td>2018-04-13 07:43:16</td>\n",
       "    </tr>\n",
       "    <tr>\n",
       "      <th>2</th>\n",
       "      <td>http://www.kacl780.net/frasier/transcripts/sea...</td>\n",
       "      <td>Frasier</td>\n",
       "      <td>[presses a button] Hello, Russell.  This is Dr...</td>\n",
       "      <td>2018-04-13 07:43:16</td>\n",
       "    </tr>\n",
       "    <tr>\n",
       "      <th>3</th>\n",
       "      <td>http://www.kacl780.net/frasier/transcripts/sea...</td>\n",
       "      <td>Russell</td>\n",
       "      <td>[v.o.] Well, I've been feeling sort of, uh, yo...</td>\n",
       "      <td>2018-04-13 07:43:16</td>\n",
       "    </tr>\n",
       "    <tr>\n",
       "      <th>4</th>\n",
       "      <td>http://www.kacl780.net/frasier/transcripts/sea...</td>\n",
       "      <td>Frasier</td>\n",
       "      <td>Er, Russell, we're just about at the end of ou...</td>\n",
       "      <td>2018-04-13 07:43:16</td>\n",
       "    </tr>\n",
       "  </tbody>\n",
       "</table>\n",
       "</div>"
      ],
      "text/plain": [
       "                                                 url     cast  \\\n",
       "0  http://www.kacl780.net/frasier/transcripts/sea...  Frasier   \n",
       "1  http://www.kacl780.net/frasier/transcripts/sea...      Roz   \n",
       "2  http://www.kacl780.net/frasier/transcripts/sea...  Frasier   \n",
       "3  http://www.kacl780.net/frasier/transcripts/sea...  Russell   \n",
       "4  http://www.kacl780.net/frasier/transcripts/sea...  Frasier   \n",
       "\n",
       "                                              dialog            timestamp  \n",
       "0  [firmly] Listen to yourself, Bob!  You follow ...  2018-04-13 07:43:16  \n",
       "1  Yes, Dr Crane.  On line four, we have Russell ...  2018-04-13 07:43:16  \n",
       "2  [presses a button] Hello, Russell.  This is Dr...  2018-04-13 07:43:16  \n",
       "3  [v.o.] Well, I've been feeling sort of, uh, yo...  2018-04-13 07:43:16  \n",
       "4  Er, Russell, we're just about at the end of ou...  2018-04-13 07:43:16  "
      ]
     },
     "execution_count": 3,
     "metadata": {},
     "output_type": "execute_result"
    }
   ],
   "source": [
    "df = pd.read_csv('./script.csv')\n",
    "df.head()"
   ]
  },
  {
   "cell_type": "code",
   "execution_count": 4,
   "metadata": {},
   "outputs": [
    {
     "name": "stdout",
     "output_type": "stream",
     "text": [
      "<class 'pandas.core.frame.DataFrame'>\n",
      "RangeIndex: 63945 entries, 0 to 63944\n",
      "Data columns (total 4 columns):\n",
      "url          63945 non-null object\n",
      "cast         63943 non-null object\n",
      "dialog       63788 non-null object\n",
      "timestamp    63945 non-null object\n",
      "dtypes: object(4)\n",
      "memory usage: 999.2+ KB\n"
     ]
    }
   ],
   "source": [
    "df.info()"
   ]
  },
  {
   "cell_type": "code",
   "execution_count": 5,
   "metadata": {},
   "outputs": [
    {
     "data": {
      "text/html": [
       "<div>\n",
       "<style scoped>\n",
       "    .dataframe tbody tr th:only-of-type {\n",
       "        vertical-align: middle;\n",
       "    }\n",
       "\n",
       "    .dataframe tbody tr th {\n",
       "        vertical-align: top;\n",
       "    }\n",
       "\n",
       "    .dataframe thead th {\n",
       "        text-align: right;\n",
       "    }\n",
       "</style>\n",
       "<table border=\"1\" class=\"dataframe\">\n",
       "  <thead>\n",
       "    <tr style=\"text-align: right;\">\n",
       "      <th></th>\n",
       "      <th>cast</th>\n",
       "      <th>dialog</th>\n",
       "    </tr>\n",
       "  </thead>\n",
       "  <tbody>\n",
       "    <tr>\n",
       "      <th>0</th>\n",
       "      <td>Frasier</td>\n",
       "      <td>[firmly] Listen to yourself, Bob!  You follow ...</td>\n",
       "    </tr>\n",
       "    <tr>\n",
       "      <th>1</th>\n",
       "      <td>Roz</td>\n",
       "      <td>Yes, Dr Crane.  On line four, we have Russell ...</td>\n",
       "    </tr>\n",
       "    <tr>\n",
       "      <th>2</th>\n",
       "      <td>Frasier</td>\n",
       "      <td>[presses a button] Hello, Russell.  This is Dr...</td>\n",
       "    </tr>\n",
       "    <tr>\n",
       "      <th>3</th>\n",
       "      <td>Russell</td>\n",
       "      <td>[v.o.] Well, I've been feeling sort of, uh, yo...</td>\n",
       "    </tr>\n",
       "    <tr>\n",
       "      <th>4</th>\n",
       "      <td>Frasier</td>\n",
       "      <td>Er, Russell, we're just about at the end of ou...</td>\n",
       "    </tr>\n",
       "  </tbody>\n",
       "</table>\n",
       "</div>"
      ],
      "text/plain": [
       "      cast                                             dialog\n",
       "0  Frasier  [firmly] Listen to yourself, Bob!  You follow ...\n",
       "1      Roz  Yes, Dr Crane.  On line four, we have Russell ...\n",
       "2  Frasier  [presses a button] Hello, Russell.  This is Dr...\n",
       "3  Russell  [v.o.] Well, I've been feeling sort of, uh, yo...\n",
       "4  Frasier  Er, Russell, we're just about at the end of ou..."
      ]
     },
     "execution_count": 5,
     "metadata": {},
     "output_type": "execute_result"
    }
   ],
   "source": [
    "# dropping some unneeded columns\n",
    "\n",
    "df.drop(columns=['url', 'timestamp'], inplace=True)\n",
    "df.head()"
   ]
  },
  {
   "cell_type": "code",
   "execution_count": 6,
   "metadata": {},
   "outputs": [],
   "source": [
    "# cleaning some NaN columns\n",
    "df.dropna(inplace=True)"
   ]
  },
  {
   "cell_type": "code",
   "execution_count": 7,
   "metadata": {},
   "outputs": [
    {
     "data": {
      "text/plain": [
       "array(['Frasier', 'Roz', 'Russell', ...,\n",
       "       'Rachel: You can do me one quick favor',\n",
       "       'leaving is because I want what all of you have now', 'Pilot'],\n",
       "      dtype=object)"
      ]
     },
     "execution_count": 7,
     "metadata": {},
     "output_type": "execute_result"
    }
   ],
   "source": [
    "df['cast'].unique()"
   ]
  },
  {
   "cell_type": "code",
   "execution_count": 8,
   "metadata": {},
   "outputs": [
    {
     "data": {
      "text/plain": [
       "Frasier    21088\n",
       "Niles      10178\n",
       "Martin      7629\n",
       "Daphne      5243\n",
       "Roz         4735\n",
       "Name: cast, dtype: int64"
      ]
     },
     "execution_count": 8,
     "metadata": {},
     "output_type": "execute_result"
    }
   ],
   "source": [
    "# some cast values contain dialog, let's focus on cast with top 5 value_counts\n",
    "\n",
    "main_cast_counts = df['cast'].value_counts()[:5]\n",
    "main_cast_counts"
   ]
  },
  {
   "cell_type": "code",
   "execution_count": 9,
   "metadata": {},
   "outputs": [
    {
     "data": {
      "text/html": [
       "<div>\n",
       "<style scoped>\n",
       "    .dataframe tbody tr th:only-of-type {\n",
       "        vertical-align: middle;\n",
       "    }\n",
       "\n",
       "    .dataframe tbody tr th {\n",
       "        vertical-align: top;\n",
       "    }\n",
       "\n",
       "    .dataframe thead th {\n",
       "        text-align: right;\n",
       "    }\n",
       "</style>\n",
       "<table border=\"1\" class=\"dataframe\">\n",
       "  <thead>\n",
       "    <tr style=\"text-align: right;\">\n",
       "      <th></th>\n",
       "      <th>cast</th>\n",
       "      <th>dialog</th>\n",
       "    </tr>\n",
       "  </thead>\n",
       "  <tbody>\n",
       "    <tr>\n",
       "      <th>0</th>\n",
       "      <td>Frasier</td>\n",
       "      <td>[firmly] Listen to yourself, Bob!  You follow ...</td>\n",
       "    </tr>\n",
       "    <tr>\n",
       "      <th>1</th>\n",
       "      <td>Roz</td>\n",
       "      <td>Yes, Dr Crane.  On line four, we have Russell ...</td>\n",
       "    </tr>\n",
       "    <tr>\n",
       "      <th>2</th>\n",
       "      <td>Frasier</td>\n",
       "      <td>[presses a button] Hello, Russell.  This is Dr...</td>\n",
       "    </tr>\n",
       "    <tr>\n",
       "      <th>4</th>\n",
       "      <td>Frasier</td>\n",
       "      <td>Er, Russell, we're just about at the end of ou...</td>\n",
       "    </tr>\n",
       "    <tr>\n",
       "      <th>5</th>\n",
       "      <td>Roz</td>\n",
       "      <td>No, we cut to the news thirty seconds ago.</td>\n",
       "    </tr>\n",
       "  </tbody>\n",
       "</table>\n",
       "</div>"
      ],
      "text/plain": [
       "      cast                                             dialog\n",
       "0  Frasier  [firmly] Listen to yourself, Bob!  You follow ...\n",
       "1      Roz  Yes, Dr Crane.  On line four, we have Russell ...\n",
       "2  Frasier  [presses a button] Hello, Russell.  This is Dr...\n",
       "4  Frasier  Er, Russell, we're just about at the end of ou...\n",
       "5      Roz         No, we cut to the news thirty seconds ago."
      ]
     },
     "execution_count": 9,
     "metadata": {},
     "output_type": "execute_result"
    }
   ],
   "source": [
    "df_main = df.loc[df['cast'].isin(main_cast_counts.keys())]\n",
    "df_main.head()"
   ]
  },
  {
   "cell_type": "markdown",
   "metadata": {},
   "source": [
    "## Data Exploration and Imbalance Checking"
   ]
  },
  {
   "cell_type": "code",
   "execution_count": 10,
   "metadata": {},
   "outputs": [],
   "source": [
    "# There are 2x more Fraiser lines than the 2nd highest (Niles).\n",
    "# Let's try to balance the dataset by sampling from the Fraiser rows\n",
    "# Before we do that, let's see what the average dialog length is for Fraiser"
   ]
  },
  {
   "cell_type": "code",
   "execution_count": 11,
   "metadata": {},
   "outputs": [
    {
     "data": {
      "text/plain": [
       "0        [firmly, Listen, to, yourself, Bob, You, follo...\n",
       "2        [presses, a, button, Hello, Russell, This, is,...\n",
       "4        [Er, Russell, we're, just, about, at, the, end...\n",
       "6        [annoyed, rips, off, his, headphones, Oh, for,...\n",
       "7        [Well, the, rest, of, the, show, was, pretty, ...\n",
       "9        [Roz, in, the, trade, we, call, that, avoidanc...\n",
       "11       [I, am, not, a, piece, of, Lalique, I, can, ha...\n",
       "13       [takes, the, notepaper, You, say, my, brother,...\n",
       "17       [looks, up, Oh, I'm, sorry, Niles, I, didn't, ...\n",
       "19       [Oh, Niles, you're, a, psychiatrist, you, know...\n",
       "21                                                   [And]\n",
       "23       [Yes, I, know, what, you, think, about, everyt...\n",
       "26                            [Two, cafe, latte, supremos]\n",
       "27                                        [No, thank, you]\n",
       "29       [I'm, fine, I, love, my, new, life, I, love, t...\n",
       "31       [So, does, he, laughs, The, fresh, air's, good...\n",
       "33                                           [Is, it, Dad]\n",
       "35                                           [Oh, my, God]\n",
       "37                                 [What, his, hip, again]\n",
       "39                                     [What, can, we, do]\n",
       "41        [Oh, Niles, a, home, He's, still, a, young, man]\n",
       "43       [Absolutely, Besides, we, were, never, simpatico]\n",
       "45             [Oh, yes, yes, of, course, of, course, why]\n",
       "47                                             [Who, does]\n",
       "49       [I, do, I, I, like, her, from, a, distance, Yo...\n",
       "52                                        [It, says, that]\n",
       "54          [Alright, I'll, make, up, the, spare, bedroom]\n",
       "56                             [Oh, God, I, am, aren't, I]\n",
       "58       [depressed, No, I, seem, to, have, lost, my, a...\n",
       "61                                    [upbeat, Hi, laughs]\n",
       "                               ...                        \n",
       "63877    [Here, we, are, Roz, I, thought, this, art, de...\n",
       "63878    [Well, that, just, shows, you, I, thought, I'd...\n",
       "63881    [Well, I, didn't, want, to, say, anything, unt...\n",
       "63882    [I, see, you're, all, ahead, of, me, Uh, liste...\n",
       "63883    [Now, you, see, this, is, exactly, what, I, wa...\n",
       "63885    [We, all, knew, we, weren't, going, to, stay, ...\n",
       "63887    [Yes, That's, where, I'm, moving, to, San, Fra...\n",
       "63889    [My, new, job, I, start, next, week, Now, don'...\n",
       "63891                                 [To, San, Francisco]\n",
       "63893    [You, know, it's, just, an, hour, by, plane, s...\n",
       "63896    [I'm, happy, for, myself, And, scared, too, Bu...\n",
       "63902    [changing, subject, Let, me, just, help, you, ...\n",
       "63911    [Oh, well, if, you, really, must, go, all, rig...\n",
       "63912    [I'm, on, TV, next, week, and, the, only, thin...\n",
       "63913                                               [What]\n",
       "63916                                [Let, her, talk, Dad]\n",
       "63919    [Well, I, promise, I'll, fly, up, for, all, th...\n",
       "63921    [Yeah, Dad's, right, I, mean, once, I'm, gone,...\n",
       "63924                                               [Sure]\n",
       "63926                            [Right, Coffee, tomorrow]\n",
       "63929                                       [I, love, you]\n",
       "63930    [You, all, know, how, I, feel, about, you, and...\n",
       "63933    [It, may, be, that, the, gulfs, will, wash, us...\n",
       "63934    [Made, weak, by, time, and, fate, but, strong,...\n",
       "63935    [I've, been, thinking, about, that, poem, a, l...\n",
       "63936    [We, had, a, big, party, that, night, It, was,...\n",
       "63938    [Oh, good, heavens, looking, out, of, window, ...\n",
       "63940    [And, I've, never, had, more, delightful, comp...\n",
       "63942    [Well, I, just, know, I'd, always, regret, it,...\n",
       "63944    [with, nervous, excitement, Wish, me, luck, Ni...\n",
       "Name: dialog, Length: 21088, dtype: object"
      ]
     },
     "execution_count": 11,
     "metadata": {},
     "output_type": "execute_result"
    }
   ],
   "source": [
    "tokenizer = nltk.tokenize.RegexpTokenizer(r'[\\w\\']+') # include aposptophes\n",
    "\n",
    "tokens = df_main.loc[df_main['cast'] == 'Frasier', 'dialog'].apply(tokenizer.tokenize)\n",
    "tokens"
   ]
  },
  {
   "cell_type": "code",
   "execution_count": 12,
   "metadata": {},
   "outputs": [
    {
     "data": {
      "text/plain": [
       "0        [firmly, Listen, Bob, follow, work, eavesdrop,...\n",
       "2        [presses, button, Hello, Russell, Dr, Frasier,...\n",
       "4        [Er, Russell, end, hour, Let, see, cut, chase,...\n",
       "6        [annoyed, rips, headphones, Oh, crying, loud, ...\n",
       "7        [Well, rest, show, pretty, good, Roz, says, no...\n",
       "9        [Roz, trade, call, avoidance, change, subject,...\n",
       "11              [piece, Lalique, handle, criticism, today]\n",
       "13                [takes, notepaper, say, brother, called]\n",
       "17       [looks, Oh, sorry, Niles, realise, stopped, ta...\n",
       "19       [Oh, Niles, psychiatrist, know, like, listen, ...\n",
       "21                                                      []\n",
       "23       [Yes, know, think, everything, last, time, une...\n",
       "26                            [Two, cafe, latte, supremos]\n",
       "27                                                 [thank]\n",
       "29       [fine, love, new, life, love, solitude, miss, ...\n",
       "31                              [laughs, fresh, air, good]\n",
       "33                                                   [Dad]\n",
       "35                                               [Oh, God]\n",
       "37                                                   [hip]\n",
       "39                                                      []\n",
       "41                    [Oh, Niles, home, still, young, man]\n",
       "43                 [Absolutely, Besides, never, simpatico]\n",
       "45                          [Oh, yes, yes, course, course]\n",
       "47                                                      []\n",
       "49       [like, distance, know, way, like, sun, Maris, ...\n",
       "52                                                  [says]\n",
       "54                         [Alright, make, spare, bedroom]\n",
       "56                                               [Oh, God]\n",
       "58                       [depressed, seem, lost, appetite]\n",
       "61                                    [upbeat, Hi, laughs]\n",
       "                               ...                        \n",
       "63877      [Roz, thought, art, deco, mirror, seemed, like]\n",
       "63878    [Well, shows, thought, get, bigger, reaction, ...\n",
       "63881    [Well, want, say, anything, dinner, bring, party]\n",
       "63882    [see, ahead, Uh, listen, couple, weeks, ago, g...\n",
       "63883    [see, exactly, trying, avoid, think, leaving, ...\n",
       "63885    [knew, going, stay, together, forever, mean, l...\n",
       "63887                        [Yes, moving, San, Francisco]\n",
       "63889    [new, job, start, next, week, sit, choking, ba...\n",
       "63891                                     [San, Francisco]\n",
       "63893       [know, hour, plane, coming, back, often, like]\n",
       "63896    [happy, scared, good, scared, Sort, way, felt,...\n",
       "63902               [changing, subject, Let, help, dishes]\n",
       "63911    [Oh, well, really, must, go, right, tell, go, ...\n",
       "63912    [TV, next, week, thing, worse, seeing, going, ...\n",
       "63913                                                   []\n",
       "63916                                     [Let, talk, Dad]\n",
       "63919                   [Well, promise, fly, German, ones]\n",
       "63921         [Yeah, Dad, right, mean, gone, getting, rid]\n",
       "63924                                               [Sure]\n",
       "63926                            [Right, Coffee, tomorrow]\n",
       "63929                                               [love]\n",
       "63930                                 [know, feel, reason]\n",
       "63933    [may, gulfs, wash, us, may, shall, touch, Happ...\n",
       "63934    [Made, weak, time, fate, strong, strive, seek,...\n",
       "63935    [thinking, poem, lot, lately, think, says, tem...\n",
       "63936                           [big, party, night, sweet]\n",
       "63938        [Oh, good, heavens, looking, window, touched]\n",
       "63940                         [never, delightful, company]\n",
       "63942           [Well, know, always, regret, take, chance]\n",
       "63944     [nervous, excitement, Wish, luck, Nick, Hartley]\n",
       "Name: dialog, Length: 21088, dtype: object"
      ]
     },
     "execution_count": 12,
     "metadata": {},
     "output_type": "execute_result"
    }
   ],
   "source": [
    "# remove stopwords\n",
    "def tokenise_no_stopwords(text):\n",
    "    stoplist = set(stopwords.words('english'))\n",
    "    tokenizer = nltk.tokenize.RegexpTokenizer(r'[\\w]+') # include aposptophes\n",
    "    return [tok for tok in tokenizer.tokenize(text) if (tok.lower() not in stoplist)]\n",
    "\n",
    "tokens = df_main.loc[df_main['cast'] == 'Frasier', 'dialog'].apply(tokenise_no_stopwords)\n",
    "tokens"
   ]
  },
  {
   "cell_type": "code",
   "execution_count": 13,
   "metadata": {},
   "outputs": [],
   "source": [
    "# plot wordcount distributions\n",
    "def plot_wordcount_distribution(cast, df_input):\n",
    "    tokens = df_input.loc[df_input['cast'] == cast, 'dialog'].apply(tokenise_no_stopwords)\n",
    "    lengths = tokens.apply(len)\n",
    "    sns.distplot(lengths, kde=False)\n",
    "    plt.xlabel(cast)\n",
    "    plt.show()\n",
    "    return lengths.describe()"
   ]
  },
  {
   "cell_type": "code",
   "execution_count": 14,
   "metadata": {},
   "outputs": [
    {
     "name": "stderr",
     "output_type": "stream",
     "text": [
      "/usr/lib/python3/dist-packages/scipy/stats/stats.py:1713: FutureWarning: Using a non-tuple sequence for multidimensional indexing is deprecated; use `arr[tuple(seq)]` instead of `arr[seq]`. In the future this will be interpreted as an array index, `arr[np.array(seq)]`, which will result either in an error or a different result.\n",
      "  return np.add.reduce(sorted[indexer] * weights, axis=axis) / sumval\n"
     ]
    },
    {
     "data": {
      "image/png": "[encoded data removed]",
      "text/plain": [
       "<Figure size 432x288 with 1 Axes>"
      ]
     },
     "metadata": {
      "needs_background": "light"
     },
     "output_type": "display_data"
    },
    {
     "data": {
      "image/png": "[encoded data removed]",
      "text/plain": [
       "<Figure size 432x288 with 1 Axes>"
      ]
     },
     "metadata": {
      "needs_background": "light"
     },
     "output_type": "display_data"
    },
    {
     "data": {
      "image/png": "[encoded data removed]",
      "text/plain": [
       "<Figure size 432x288 with 1 Axes>"
      ]
     },
     "metadata": {
      "needs_background": "light"
     },
     "output_type": "display_data"
    },
    {
     "data": {
      "image/png": "[encoded data removed]",
      "text/plain": [
       "<Figure size 432x288 with 1 Axes>"
      ]
     },
     "metadata": {
      "needs_background": "light"
     },
     "output_type": "display_data"
    },
    {
     "data": {
      "image/png": "[encoded data removed]",
      "text/plain": [
       "<Figure size 432x288 with 1 Axes>"
      ]
     },
     "metadata": {
      "needs_background": "light"
     },
     "output_type": "display_data"
    }
   ],
   "source": [
    "stats = pd.DataFrame({'Frasier': plot_wordcount_distribution('Frasier', df_main)})\n",
    "stats = pd.concat([stats, pd.DataFrame({'Niles': plot_wordcount_distribution('Niles', df_main)})], axis=1) # col-wise concat\n",
    "stats = pd.concat([stats, pd.DataFrame({'Martin': plot_wordcount_distribution('Martin', df_main)})], axis=1)\n",
    "stats = pd.concat([stats, pd.DataFrame({'Roz': plot_wordcount_distribution('Roz', df_main)})], axis=1) \n",
    "stats = pd.concat([stats, pd.DataFrame({'Daphne': plot_wordcount_distribution('Daphne', df_main)})], axis=1)"
   ]
  },
  {
   "cell_type": "code",
   "execution_count": 15,
   "metadata": {},
   "outputs": [
    {
     "data": {
      "text/html": [
       "<div>\n",
       "<style scoped>\n",
       "    .dataframe tbody tr th:only-of-type {\n",
       "        vertical-align: middle;\n",
       "    }\n",
       "\n",
       "    .dataframe tbody tr th {\n",
       "        vertical-align: top;\n",
       "    }\n",
       "\n",
       "    .dataframe thead th {\n",
       "        text-align: right;\n",
       "    }\n",
       "</style>\n",
       "<table border=\"1\" class=\"dataframe\">\n",
       "  <thead>\n",
       "    <tr style=\"text-align: right;\">\n",
       "      <th></th>\n",
       "      <th>Frasier</th>\n",
       "      <th>Niles</th>\n",
       "      <th>Martin</th>\n",
       "      <th>Roz</th>\n",
       "      <th>Daphne</th>\n",
       "    </tr>\n",
       "  </thead>\n",
       "  <tbody>\n",
       "    <tr>\n",
       "      <th>count</th>\n",
       "      <td>21088.000000</td>\n",
       "      <td>10178.000000</td>\n",
       "      <td>7629.000000</td>\n",
       "      <td>4735.000000</td>\n",
       "      <td>5243.000000</td>\n",
       "    </tr>\n",
       "    <tr>\n",
       "      <th>mean</th>\n",
       "      <td>6.793484</td>\n",
       "      <td>6.218609</td>\n",
       "      <td>6.196618</td>\n",
       "      <td>5.760718</td>\n",
       "      <td>6.083349</td>\n",
       "    </tr>\n",
       "    <tr>\n",
       "      <th>std</th>\n",
       "      <td>6.559465</td>\n",
       "      <td>5.734493</td>\n",
       "      <td>6.491666</td>\n",
       "      <td>5.630727</td>\n",
       "      <td>5.980073</td>\n",
       "    </tr>\n",
       "    <tr>\n",
       "      <th>min</th>\n",
       "      <td>0.000000</td>\n",
       "      <td>0.000000</td>\n",
       "      <td>0.000000</td>\n",
       "      <td>0.000000</td>\n",
       "      <td>0.000000</td>\n",
       "    </tr>\n",
       "    <tr>\n",
       "      <th>25%</th>\n",
       "      <td>2.000000</td>\n",
       "      <td>2.000000</td>\n",
       "      <td>2.000000</td>\n",
       "      <td>2.000000</td>\n",
       "      <td>2.000000</td>\n",
       "    </tr>\n",
       "    <tr>\n",
       "      <th>50%</th>\n",
       "      <td>5.000000</td>\n",
       "      <td>5.000000</td>\n",
       "      <td>5.000000</td>\n",
       "      <td>4.000000</td>\n",
       "      <td>4.000000</td>\n",
       "    </tr>\n",
       "    <tr>\n",
       "      <th>75%</th>\n",
       "      <td>9.000000</td>\n",
       "      <td>8.000000</td>\n",
       "      <td>8.000000</td>\n",
       "      <td>8.000000</td>\n",
       "      <td>8.000000</td>\n",
       "    </tr>\n",
       "    <tr>\n",
       "      <th>max</th>\n",
       "      <td>106.000000</td>\n",
       "      <td>60.000000</td>\n",
       "      <td>229.000000</td>\n",
       "      <td>94.000000</td>\n",
       "      <td>74.000000</td>\n",
       "    </tr>\n",
       "  </tbody>\n",
       "</table>\n",
       "</div>"
      ],
      "text/plain": [
       "            Frasier         Niles       Martin          Roz       Daphne\n",
       "count  21088.000000  10178.000000  7629.000000  4735.000000  5243.000000\n",
       "mean       6.793484      6.218609     6.196618     5.760718     6.083349\n",
       "std        6.559465      5.734493     6.491666     5.630727     5.980073\n",
       "min        0.000000      0.000000     0.000000     0.000000     0.000000\n",
       "25%        2.000000      2.000000     2.000000     2.000000     2.000000\n",
       "50%        5.000000      5.000000     5.000000     4.000000     4.000000\n",
       "75%        9.000000      8.000000     8.000000     8.000000     8.000000\n",
       "max      106.000000     60.000000   229.000000    94.000000    74.000000"
      ]
     },
     "execution_count": 15,
     "metadata": {},
     "output_type": "execute_result"
    }
   ],
   "source": [
    "# stats at a glance\n",
    "stats"
   ]
  },
  {
   "cell_type": "code",
   "execution_count": 16,
   "metadata": {},
   "outputs": [],
   "source": [
    "# 75% percentile is about 8-9 tokens\n",
    "# The distributions are quite similar, so we will undersample from Frasier to balance the classes a bit more\n",
    "# They don't have to be exactly the same."
   ]
  },
  {
   "cell_type": "code",
   "execution_count": 17,
   "metadata": {},
   "outputs": [
    {
     "data": {
      "image/png": "[encoded data removed]",
      "text/plain": [
       "<Figure size 432x288 with 1 Axes>"
      ]
     },
     "metadata": {
      "needs_background": "light"
     },
     "output_type": "display_data"
    }
   ],
   "source": [
    "df_frasier_sampled = df_main.loc[df_main['cast'] == 'Frasier'].sample(frac=.5)\n",
    "\n",
    "stats = pd.concat([stats, pd.DataFrame({'Frasier (sampled)': plot_wordcount_distribution('Frasier', df_frasier_sampled)})], axis=1)"
   ]
  },
  {
   "cell_type": "code",
   "execution_count": 18,
   "metadata": {},
   "outputs": [
    {
     "data": {
      "text/html": [
       "<div>\n",
       "<style scoped>\n",
       "    .dataframe tbody tr th:only-of-type {\n",
       "        vertical-align: middle;\n",
       "    }\n",
       "\n",
       "    .dataframe tbody tr th {\n",
       "        vertical-align: top;\n",
       "    }\n",
       "\n",
       "    .dataframe thead th {\n",
       "        text-align: right;\n",
       "    }\n",
       "</style>\n",
       "<table border=\"1\" class=\"dataframe\">\n",
       "  <thead>\n",
       "    <tr style=\"text-align: right;\">\n",
       "      <th></th>\n",
       "      <th>Frasier</th>\n",
       "      <th>Niles</th>\n",
       "      <th>Martin</th>\n",
       "      <th>Roz</th>\n",
       "      <th>Daphne</th>\n",
       "      <th>Frasier (sampled)</th>\n",
       "    </tr>\n",
       "  </thead>\n",
       "  <tbody>\n",
       "    <tr>\n",
       "      <th>count</th>\n",
       "      <td>21088.000000</td>\n",
       "      <td>10178.000000</td>\n",
       "      <td>7629.000000</td>\n",
       "      <td>4735.000000</td>\n",
       "      <td>5243.000000</td>\n",
       "      <td>10544.000000</td>\n",
       "    </tr>\n",
       "    <tr>\n",
       "      <th>mean</th>\n",
       "      <td>6.793484</td>\n",
       "      <td>6.218609</td>\n",
       "      <td>6.196618</td>\n",
       "      <td>5.760718</td>\n",
       "      <td>6.083349</td>\n",
       "      <td>6.803775</td>\n",
       "    </tr>\n",
       "    <tr>\n",
       "      <th>std</th>\n",
       "      <td>6.559465</td>\n",
       "      <td>5.734493</td>\n",
       "      <td>6.491666</td>\n",
       "      <td>5.630727</td>\n",
       "      <td>5.980073</td>\n",
       "      <td>6.601465</td>\n",
       "    </tr>\n",
       "    <tr>\n",
       "      <th>min</th>\n",
       "      <td>0.000000</td>\n",
       "      <td>0.000000</td>\n",
       "      <td>0.000000</td>\n",
       "      <td>0.000000</td>\n",
       "      <td>0.000000</td>\n",
       "      <td>0.000000</td>\n",
       "    </tr>\n",
       "    <tr>\n",
       "      <th>25%</th>\n",
       "      <td>2.000000</td>\n",
       "      <td>2.000000</td>\n",
       "      <td>2.000000</td>\n",
       "      <td>2.000000</td>\n",
       "      <td>2.000000</td>\n",
       "      <td>2.000000</td>\n",
       "    </tr>\n",
       "    <tr>\n",
       "      <th>50%</th>\n",
       "      <td>5.000000</td>\n",
       "      <td>5.000000</td>\n",
       "      <td>5.000000</td>\n",
       "      <td>4.000000</td>\n",
       "      <td>4.000000</td>\n",
       "      <td>5.000000</td>\n",
       "    </tr>\n",
       "    <tr>\n",
       "      <th>75%</th>\n",
       "      <td>9.000000</td>\n",
       "      <td>8.000000</td>\n",
       "      <td>8.000000</td>\n",
       "      <td>8.000000</td>\n",
       "      <td>8.000000</td>\n",
       "      <td>9.000000</td>\n",
       "    </tr>\n",
       "    <tr>\n",
       "      <th>max</th>\n",
       "      <td>106.000000</td>\n",
       "      <td>60.000000</td>\n",
       "      <td>229.000000</td>\n",
       "      <td>94.000000</td>\n",
       "      <td>74.000000</td>\n",
       "      <td>71.000000</td>\n",
       "    </tr>\n",
       "  </tbody>\n",
       "</table>\n",
       "</div>"
      ],
      "text/plain": [
       "            Frasier         Niles       Martin          Roz       Daphne  \\\n",
       "count  21088.000000  10178.000000  7629.000000  4735.000000  5243.000000   \n",
       "mean       6.793484      6.218609     6.196618     5.760718     6.083349   \n",
       "std        6.559465      5.734493     6.491666     5.630727     5.980073   \n",
       "min        0.000000      0.000000     0.000000     0.000000     0.000000   \n",
       "25%        2.000000      2.000000     2.000000     2.000000     2.000000   \n",
       "50%        5.000000      5.000000     5.000000     4.000000     4.000000   \n",
       "75%        9.000000      8.000000     8.000000     8.000000     8.000000   \n",
       "max      106.000000     60.000000   229.000000    94.000000    74.000000   \n",
       "\n",
       "       Frasier (sampled)  \n",
       "count       10544.000000  \n",
       "mean            6.803775  \n",
       "std             6.601465  \n",
       "min             0.000000  \n",
       "25%             2.000000  \n",
       "50%             5.000000  \n",
       "75%             9.000000  \n",
       "max            71.000000  "
      ]
     },
     "execution_count": 18,
     "metadata": {},
     "output_type": "execute_result"
    }
   ],
   "source": [
    "# compare before and after undersampling.\n",
    "stats"
   ]
  },
  {
   "cell_type": "code",
   "execution_count": 19,
   "metadata": {},
   "outputs": [],
   "source": [
    "# create our dataset\n",
    "df_main_balanced = df_frasier_sampled\n",
    "\n",
    "cast = ['Niles', 'Martin', 'Roz', 'Daphne']\n",
    "for c in cast:\n",
    "    df_main_balanced = pd.concat([df_main_balanced, \n",
    "                                  df_main.loc[df_main['cast'] == c]])"
   ]
  },
  {
   "cell_type": "code",
   "execution_count": 20,
   "metadata": {},
   "outputs": [
    {
     "data": {
      "text/plain": [
       "Frasier    10544\n",
       "Niles      10178\n",
       "Martin      7629\n",
       "Daphne      5243\n",
       "Roz         4735\n",
       "Name: cast, dtype: int64"
      ]
     },
     "execution_count": 20,
     "metadata": {},
     "output_type": "execute_result"
    }
   ],
   "source": [
    "df_main_balanced['cast'].value_counts()"
   ]
  },
  {
   "cell_type": "code",
   "execution_count": 21,
   "metadata": {},
   "outputs": [],
   "source": [
    "# save a snapshot of our balanced dataframe\n",
    "pickle.dump(df_main_balanced, open('./df_main_balanced.pkl', 'wb'))"
   ]
  },
  {
   "cell_type": "markdown",
   "metadata": {},
   "source": [
    "## Tokenisation"
   ]
  },
  {
   "cell_type": "code",
   "execution_count": 22,
   "metadata": {},
   "outputs": [
    {
     "data": {
      "text/html": [
       "<div>\n",
       "<style scoped>\n",
       "    .dataframe tbody tr th:only-of-type {\n",
       "        vertical-align: middle;\n",
       "    }\n",
       "\n",
       "    .dataframe tbody tr th {\n",
       "        vertical-align: top;\n",
       "    }\n",
       "\n",
       "    .dataframe thead th {\n",
       "        text-align: right;\n",
       "    }\n",
       "</style>\n",
       "<table border=\"1\" class=\"dataframe\">\n",
       "  <thead>\n",
       "    <tr style=\"text-align: right;\">\n",
       "      <th></th>\n",
       "      <th>cast</th>\n",
       "      <th>dialog</th>\n",
       "    </tr>\n",
       "  </thead>\n",
       "  <tbody>\n",
       "    <tr>\n",
       "      <th>31010</th>\n",
       "      <td>Frasier</td>\n",
       "      <td>What the hell is that?</td>\n",
       "    </tr>\n",
       "    <tr>\n",
       "      <th>54907</th>\n",
       "      <td>Frasier</td>\n",
       "      <td>It is!  Oh, Niles, this just gets better and b...</td>\n",
       "    </tr>\n",
       "    <tr>\n",
       "      <th>57139</th>\n",
       "      <td>Frasier</td>\n",
       "      <td>There we are.</td>\n",
       "    </tr>\n",
       "    <tr>\n",
       "      <th>51873</th>\n",
       "      <td>Frasier</td>\n",
       "      <td>Listen, I'm sorry that I ruined your evening.</td>\n",
       "    </tr>\n",
       "    <tr>\n",
       "      <th>58703</th>\n",
       "      <td>Frasier</td>\n",
       "      <td>Well, then you should have said something, now...</td>\n",
       "    </tr>\n",
       "  </tbody>\n",
       "</table>\n",
       "</div>"
      ],
      "text/plain": [
       "          cast                                             dialog\n",
       "31010  Frasier                             What the hell is that?\n",
       "54907  Frasier  It is!  Oh, Niles, this just gets better and b...\n",
       "57139  Frasier                                      There we are.\n",
       "51873  Frasier      Listen, I'm sorry that I ruined your evening.\n",
       "58703  Frasier  Well, then you should have said something, now..."
      ]
     },
     "execution_count": 22,
     "metadata": {},
     "output_type": "execute_result"
    }
   ],
   "source": [
    "df_main_balanced = pickle.load(open('./df_main_balanced.pkl', 'rb'))\n",
    "df_main_balanced.head()"
   ]
  },
  {
   "cell_type": "code",
   "execution_count": 23,
   "metadata": {},
   "outputs": [],
   "source": [
    "def tokenise_no_stopwords_join(text):\n",
    "    stoplist = set(stopwords.words('english'))\n",
    "    tokenizer = nltk.tokenize.RegexpTokenizer(r'[\\w]+') # include aposptophes\n",
    "    return ' '.join([tok for tok in tokenizer.tokenize(text) if (tok.lower() not in stoplist)])\n",
    "\n",
    "df_main_balanced['dialog_nostop'] = df_main_balanced['dialog'].apply(tokenise_no_stopwords_join)"
   ]
  },
  {
   "cell_type": "code",
   "execution_count": 24,
   "metadata": {},
   "outputs": [
    {
     "data": {
      "text/html": [
       "<div>\n",
       "<style scoped>\n",
       "    .dataframe tbody tr th:only-of-type {\n",
       "        vertical-align: middle;\n",
       "    }\n",
       "\n",
       "    .dataframe tbody tr th {\n",
       "        vertical-align: top;\n",
       "    }\n",
       "\n",
       "    .dataframe thead th {\n",
       "        text-align: right;\n",
       "    }\n",
       "</style>\n",
       "<table border=\"1\" class=\"dataframe\">\n",
       "  <thead>\n",
       "    <tr style=\"text-align: right;\">\n",
       "      <th></th>\n",
       "      <th>cast</th>\n",
       "      <th>dialog</th>\n",
       "      <th>dialog_nostop</th>\n",
       "    </tr>\n",
       "  </thead>\n",
       "  <tbody>\n",
       "    <tr>\n",
       "      <th>31010</th>\n",
       "      <td>Frasier</td>\n",
       "      <td>What the hell is that?</td>\n",
       "      <td>hell</td>\n",
       "    </tr>\n",
       "    <tr>\n",
       "      <th>54907</th>\n",
       "      <td>Frasier</td>\n",
       "      <td>It is!  Oh, Niles, this just gets better and b...</td>\n",
       "      <td>Oh Niles gets better better Balanced skin soci...</td>\n",
       "    </tr>\n",
       "    <tr>\n",
       "      <th>57139</th>\n",
       "      <td>Frasier</td>\n",
       "      <td>There we are.</td>\n",
       "      <td></td>\n",
       "    </tr>\n",
       "    <tr>\n",
       "      <th>51873</th>\n",
       "      <td>Frasier</td>\n",
       "      <td>Listen, I'm sorry that I ruined your evening.</td>\n",
       "      <td>Listen sorry ruined evening</td>\n",
       "    </tr>\n",
       "    <tr>\n",
       "      <th>58703</th>\n",
       "      <td>Frasier</td>\n",
       "      <td>Well, then you should have said something, now...</td>\n",
       "      <td>Well said something deep unscramble egg Niles</td>\n",
       "    </tr>\n",
       "  </tbody>\n",
       "</table>\n",
       "</div>"
      ],
      "text/plain": [
       "          cast                                             dialog  \\\n",
       "31010  Frasier                             What the hell is that?   \n",
       "54907  Frasier  It is!  Oh, Niles, this just gets better and b...   \n",
       "57139  Frasier                                      There we are.   \n",
       "51873  Frasier      Listen, I'm sorry that I ruined your evening.   \n",
       "58703  Frasier  Well, then you should have said something, now...   \n",
       "\n",
       "                                           dialog_nostop  \n",
       "31010                                               hell  \n",
       "54907  Oh Niles gets better better Balanced skin soci...  \n",
       "57139                                                     \n",
       "51873                        Listen sorry ruined evening  \n",
       "58703      Well said something deep unscramble egg Niles  "
      ]
     },
     "execution_count": 24,
     "metadata": {},
     "output_type": "execute_result"
    }
   ],
   "source": [
    "df_main_balanced.head()"
   ]
  },
  {
   "cell_type": "code",
   "execution_count": 25,
   "metadata": {},
   "outputs": [],
   "source": [
    "# save a snapshot of our balanced dataframe without stopwords\n",
    "pickle.dump(df_main_balanced, open('./df_main_balanced_nostop.pkl', 'wb'))"
   ]
  },
  {
   "cell_type": "code",
   "execution_count": 26,
   "metadata": {},
   "outputs": [],
   "source": [
    "X = df_main_balanced['dialog_nostop']\n",
    "\n",
    "le_y = LabelEncoder()\n",
    "y = le_y.fit_transform(df_main_balanced['cast'])\n",
    "y = tf.keras.utils.to_categorical(y)"
   ]
  },
  {
   "cell_type": "code",
   "execution_count": 27,
   "metadata": {},
   "outputs": [],
   "source": [
    "X_train, X_test, y_train, y_test = train_test_split(X, y, stratify=y, test_size=.1,\n",
    "                                                    random_state=42)"
   ]
  },
  {
   "cell_type": "code",
   "execution_count": 28,
   "metadata": {
    "scrolled": true
   },
   "outputs": [
    {
     "data": {
      "text/plain": [
       "((34496, 11), array([[   0,    0,  283, ...,   12, 3073,  237],\n",
       "        [   0,    0,    0, ...,   94,  126,   56],\n",
       "        [   0,    0,    0, ...,   24, 2183, 4546],\n",
       "        ...,\n",
       "        [   0,    0,    0, ...,  610, 2522,  938],\n",
       "        [   0,    0,    0, ...,    0, 2309,  112],\n",
       "        [   0,    0,    0, ...,    0,    0,   21]]))"
      ]
     },
     "execution_count": 28,
     "metadata": {},
     "output_type": "execute_result"
    }
   ],
   "source": [
    "# Tokenise, limiting to most frequent 5000 words\n",
    "max_vocab_length = 5000\n",
    "tokenizer = tf.keras.preprocessing.text.Tokenizer(num_words=max_vocab_length, filters='')\n",
    "tokenizer.fit_on_texts(X_train)\n",
    "\n",
    "# Create sequences\n",
    "X_train_seq = tokenizer.texts_to_sequences(X_train)\n",
    "\n",
    "# Set seq length near 75th percentile\n",
    "seq_length = 11\n",
    "\n",
    "# Pad sequences with pre-padding so that activations will be non-zero towards end of sequence\n",
    "X_train_seq = tf.keras.preprocessing.sequence.pad_sequences(X_train_seq, maxlen=seq_length, \n",
    "                                                            padding='pre')\n",
    "X_train_seq.shape, X_train_seq"
   ]
  },
  {
   "cell_type": "code",
   "execution_count": 29,
   "metadata": {},
   "outputs": [
    {
     "data": {
      "text/plain": [
       "((3833, 11), array([[   0,    0,    0, ...,    0,    0,   35],\n",
       "        [   0,    0,    0, ...,   71,   26, 1185],\n",
       "        [   0,    0,    0, ...,   35,   98,  173],\n",
       "        ...,\n",
       "        [   7,  212, 2639, ...,  646,  172,  132],\n",
       "        [   0,    0,    0, ...,    0, 1290, 1174],\n",
       "        [   0,    0,    0, ...,   33,   45,  298]]))"
      ]
     },
     "execution_count": 29,
     "metadata": {},
     "output_type": "execute_result"
    }
   ],
   "source": [
    "X_test_seq = tokenizer.texts_to_sequences(X_test)\n",
    "X_test_seq = tf.keras.preprocessing.sequence.pad_sequences(X_test_seq, maxlen=seq_length,\n",
    "                                                           padding='pre')\n",
    "X_test_seq.shape, X_test_seq"
   ]
  },
  {
   "cell_type": "code",
   "execution_count": 30,
   "metadata": {},
   "outputs": [
    {
     "data": {
      "text/plain": [
       "17872"
      ]
     },
     "execution_count": 30,
     "metadata": {},
     "output_type": "execute_result"
    }
   ],
   "source": [
    "len(tokenizer.index_word)"
   ]
  },
  {
   "cell_type": "code",
   "execution_count": 31,
   "metadata": {},
   "outputs": [],
   "source": [
    "# save our tokenizer, label encoder, etc\n",
    "preprocessors = {\n",
    "    'le_y': le_y,\n",
    "    'tokenizer': tokenizer\n",
    "}\n",
    "\n",
    "pickle.dump(preprocessors, open('./fraiser_preprocessors.pkl', 'wb'))"
   ]
  },
  {
   "cell_type": "code",
   "execution_count": 35,
   "metadata": {},
   "outputs": [],
   "source": [
    "# save our training and test sets\n",
    "dataset = {\n",
    "    'X_train_seq': X_train_seq,\n",
    "    'y_train': y_train,\n",
    "    'X_test_seq': X_test_seq,\n",
    "    'y_test': y_test\n",
    "}\n",
    "\n",
    "pickle.dump(dataset, open('./fraiser_seq_datasets.pkl', 'wb'))"
   ]
  },
  {
   "cell_type": "markdown",
   "metadata": {},
   "source": [
    "## Model Engineering\n",
    "\n",
    "- Simple 1D convolutional layer\n",
    "- Simple GRU layer"
   ]
  },
  {
   "cell_type": "code",
   "execution_count": 35,
   "metadata": {},
   "outputs": [],
   "source": [
    "from tensorflow.keras.models import Sequential, load_model\n",
    "from tensorflow.keras.layers import Conv1D, Dense, Embedding, GlobalAvgPool1D, GRU\n",
    "from tensorflow.keras.callbacks import ModelCheckpoint, TensorBoard\n",
    "import os, datetime"
   ]
  },
  {
   "cell_type": "code",
   "execution_count": 36,
   "metadata": {},
   "outputs": [
    {
     "name": "stdout",
     "output_type": "stream",
     "text": [
      "Model: \"sequential\"\n",
      "_________________________________________________________________\n",
      "Layer (type)                 Output Shape              Param #   \n",
      "=================================================================\n",
      "embedding (Embedding)        (None, 11, 50)            250050    \n",
      "_________________________________________________________________\n",
      "conv1d (Conv1D)              (None, 11, 16)            4016      \n",
      "_________________________________________________________________\n",
      "global_average_pooling1d (Gl (None, 16)                0         \n",
      "_________________________________________________________________\n",
      "dense (Dense)                (None, 5)                 85        \n",
      "=================================================================\n",
      "Total params: 254,151\n",
      "Trainable params: 254,151\n",
      "Non-trainable params: 0\n",
      "_________________________________________________________________\n"
     ]
    }
   ],
   "source": [
    "# Simple CNN model with non-pre-trained Embedding\n",
    "cnn_simple = Sequential()\n",
    "cnn_simple.add(Embedding(max_vocab_length+1, 50, input_length=seq_length))\n",
    "cnn_simple.add(Conv1D(16, kernel_size=5, padding='same', activation='relu'))\n",
    "cnn_simple.add(GlobalAvgPool1D())\n",
    "cnn_simple.add(Dense(5, activation='softmax'))\n",
    "cnn_simple.summary()"
   ]
  },
  {
   "cell_type": "code",
   "execution_count": 37,
   "metadata": {},
   "outputs": [
    {
     "name": "stdout",
     "output_type": "stream",
     "text": [
      "Train on 31046 samples, validate on 3450 samples\n",
      "Epoch 1/15\n",
      "31046/31046 [==============================] - 48s 2ms/sample - loss: 1.5202 - accuracy: 0.3182 - val_loss: 1.4486 - val_accuracy: 0.3786\n",
      "Epoch 2/15\n",
      "31046/31046 [==============================] - 26s 826us/sample - loss: 1.3575 - accuracy: 0.4326 - val_loss: 1.3650 - val_accuracy: 0.4151\n",
      "Epoch 3/15\n",
      "31046/31046 [==============================] - 19s 611us/sample - loss: 1.2403 - accuracy: 0.4872 - val_loss: 1.3540 - val_accuracy: 0.4255\n",
      "Epoch 4/15\n",
      "31046/31046 [==============================] - 19s 622us/sample - loss: 1.1639 - accuracy: 0.5223 - val_loss: 1.3581 - val_accuracy: 0.4246\n",
      "Epoch 5/15\n",
      "31046/31046 [==============================] - 18s 588us/sample - loss: 1.1120 - accuracy: 0.5470 - val_loss: 1.3903 - val_accuracy: 0.4183\n",
      "Epoch 6/15\n",
      "31046/31046 [==============================] - 18s 571us/sample - loss: 1.0745 - accuracy: 0.5602 - val_loss: 1.4169 - val_accuracy: 0.4229\n",
      "Epoch 7/15\n",
      "31046/31046 [==============================] - 17s 537us/sample - loss: 1.0481 - accuracy: 0.5728 - val_loss: 1.4526 - val_accuracy: 0.4151\n",
      "Epoch 8/15\n",
      "31046/31046 [==============================] - 17s 537us/sample - loss: 1.0246 - accuracy: 0.5824 - val_loss: 1.4813 - val_accuracy: 0.4235\n",
      "Epoch 9/15\n",
      "31046/31046 [==============================] - 17s 533us/sample - loss: 1.0067 - accuracy: 0.5877 - val_loss: 1.5240 - val_accuracy: 0.4104\n",
      "Epoch 10/15\n",
      "31046/31046 [==============================] - 17s 535us/sample - loss: 0.9912 - accuracy: 0.5966 - val_loss: 1.5378 - val_accuracy: 0.4183\n",
      "Epoch 11/15\n",
      "31046/31046 [==============================] - 17s 540us/sample - loss: 0.9776 - accuracy: 0.6002 - val_loss: 1.5676 - val_accuracy: 0.4168\n",
      "Epoch 12/15\n",
      "31046/31046 [==============================] - 17s 536us/sample - loss: 0.9647 - accuracy: 0.6045 - val_loss: 1.6055 - val_accuracy: 0.4090\n",
      "Epoch 13/15\n",
      "31046/31046 [==============================] - 16s 531us/sample - loss: 0.9537 - accuracy: 0.6122 - val_loss: 1.6382 - val_accuracy: 0.4038\n",
      "Epoch 14/15\n",
      "31046/31046 [==============================] - 17s 537us/sample - loss: 0.9428 - accuracy: 0.6152 - val_loss: 1.6577 - val_accuracy: 0.4020\n",
      "Epoch 15/15\n",
      "31046/31046 [==============================] - 17s 532us/sample - loss: 0.9288 - accuracy: 0.6227 - val_loss: 1.6820 - val_accuracy: 0.4142\n"
     ]
    },
    {
     "data": {
      "text/plain": [
       "<tensorflow.python.keras.callbacks.History at 0x5f0801d0>"
      ]
     },
     "execution_count": 37,
     "metadata": {},
     "output_type": "execute_result"
    }
   ],
   "source": [
    "log_dir = os.path.join('./logs', 'fraiser', 'cnn_simple',\n",
    "                                   datetime.datetime.now().strftime(\"%Y%m%d-%H%M%S\"))\n",
    "\n",
    "tb = TensorBoard(log_dir=log_dir)\n",
    "mc = ModelCheckpoint('fraiser_cnn_simple.h5', save_best_only=True, monitor='val_accuracy')\n",
    "\n",
    "cnn_simple.compile(optimizer='adam', loss='categorical_crossentropy', metrics=['accuracy'])\n",
    "cnn_simple.fit(X_train_seq, y_train, validation_split=.1,\n",
    "                       batch_size=128, epochs=15, callbacks=[tb, mc])"
   ]
  },
  {
   "cell_type": "code",
   "execution_count": 38,
   "metadata": {},
   "outputs": [
    {
     "data": {
      "text/plain": [
       "[1.3546042654740105, 0.41455778]"
      ]
     },
     "execution_count": 38,
     "metadata": {},
     "output_type": "execute_result"
    }
   ],
   "source": [
    "best_model = load_model('fraiser_cnn_simple.h5')\n",
    "best_model.evaluate(X_test_seq, y_test, verbose=0) # loss, accuracy"
   ]
  },
  {
   "cell_type": "code",
   "execution_count": 39,
   "metadata": {},
   "outputs": [
    {
     "name": "stdout",
     "output_type": "stream",
     "text": [
      "Model: \"sequential_1\"\n",
      "_________________________________________________________________\n",
      "Layer (type)                 Output Shape              Param #   \n",
      "=================================================================\n",
      "embedding_1 (Embedding)      (None, 11, 50)            250050    \n",
      "_________________________________________________________________\n",
      "gru (GRU)                    (None, 16)                3264      \n",
      "_________________________________________________________________\n",
      "dense_1 (Dense)              (None, 5)                 85        \n",
      "=================================================================\n",
      "Total params: 253,399\n",
      "Trainable params: 253,399\n",
      "Non-trainable params: 0\n",
      "_________________________________________________________________\n"
     ]
    }
   ],
   "source": [
    "# Simple RNN model with non-pre-trained Embedding\n",
    "rnn_simple = Sequential()\n",
    "rnn_simple.add(Embedding(max_vocab_length+1, 50, input_length=seq_length))\n",
    "rnn_simple.add(GRU(16))\n",
    "rnn_simple.add(Dense(5, activation='softmax'))\n",
    "rnn_simple.summary()"
   ]
  },
  {
   "cell_type": "code",
   "execution_count": 40,
   "metadata": {},
   "outputs": [
    {
     "name": "stdout",
     "output_type": "stream",
     "text": [
      "Train on 31046 samples, validate on 3450 samples\n",
      "Epoch 1/15\n",
      "31046/31046 [==============================] - 113s 4ms/sample - loss: 1.5127 - accuracy: 0.3250 - val_loss: 1.4256 - val_accuracy: 0.3719\n",
      "Epoch 2/15\n",
      "31046/31046 [==============================] - 294s 9ms/sample - loss: 1.3245 - accuracy: 0.4436 - val_loss: 1.3648 - val_accuracy: 0.4136\n",
      "Epoch 3/15\n",
      "31046/31046 [==============================] - 49s 2ms/sample - loss: 1.2137 - accuracy: 0.4993 - val_loss: 1.3828 - val_accuracy: 0.4212\n",
      "Epoch 4/15\n",
      "31046/31046 [==============================] - 29s 941us/sample - loss: 1.1432 - accuracy: 0.5336 - val_loss: 1.4092 - val_accuracy: 0.4220\n",
      "Epoch 5/15\n",
      "31046/31046 [==============================] - 29s 924us/sample - loss: 1.0960 - accuracy: 0.5554 - val_loss: 1.4360 - val_accuracy: 0.4209\n",
      "Epoch 6/15\n",
      "31046/31046 [==============================] - 28s 894us/sample - loss: 1.0572 - accuracy: 0.5711 - val_loss: 1.4727 - val_accuracy: 0.4180\n",
      "Epoch 7/15\n",
      "31046/31046 [==============================] - 31s 988us/sample - loss: 1.0272 - accuracy: 0.5856 - val_loss: 1.5188 - val_accuracy: 0.4165\n",
      "Epoch 8/15\n",
      "31046/31046 [==============================] - 29s 918us/sample - loss: 1.0012 - accuracy: 0.5974 - val_loss: 1.5464 - val_accuracy: 0.4043\n",
      "Epoch 9/15\n",
      "31046/31046 [==============================] - 28s 889us/sample - loss: 0.9755 - accuracy: 0.6075 - val_loss: 1.5799 - val_accuracy: 0.4046\n",
      "Epoch 10/15\n",
      "31046/31046 [==============================] - 27s 884us/sample - loss: 0.9486 - accuracy: 0.6218 - val_loss: 1.6054 - val_accuracy: 0.4029\n",
      "Epoch 11/15\n",
      "31046/31046 [==============================] - 29s 934us/sample - loss: 0.9256 - accuracy: 0.6296 - val_loss: 1.6515 - val_accuracy: 0.4014\n",
      "Epoch 12/15\n",
      "31046/31046 [==============================] - 29s 921us/sample - loss: 0.8994 - accuracy: 0.6392 - val_loss: 1.6945 - val_accuracy: 0.4023\n",
      "Epoch 13/15\n",
      "31046/31046 [==============================] - 28s 905us/sample - loss: 0.8754 - accuracy: 0.6485 - val_loss: 1.7287 - val_accuracy: 0.4000\n",
      "Epoch 14/15\n",
      "31046/31046 [==============================] - 28s 888us/sample - loss: 0.8514 - accuracy: 0.6576 - val_loss: 1.7747 - val_accuracy: 0.3968\n",
      "Epoch 15/15\n",
      "31046/31046 [==============================] - 28s 893us/sample - loss: 0.8292 - accuracy: 0.6681 - val_loss: 1.8008 - val_accuracy: 0.3942\n"
     ]
    },
    {
     "data": {
      "text/plain": [
       "<tensorflow.python.keras.callbacks.History at 0x59a6b2f0>"
      ]
     },
     "execution_count": 40,
     "metadata": {},
     "output_type": "execute_result"
    }
   ],
   "source": [
    "log_dir = os.path.join('./logs', 'fraiser', 'rnn_simple',\n",
    "                                   datetime.datetime.now().strftime(\"%Y%m%d-%H%M%S\"))\n",
    "\n",
    "tb = TensorBoard(log_dir=log_dir)\n",
    "mc = ModelCheckpoint('fraiser_rnn_simple.h5', save_best_only=True, monitor='val_accuracy')\n",
    "\n",
    "rnn_simple.compile(optimizer='adam', loss='categorical_crossentropy', metrics=['accuracy'])\n",
    "rnn_simple.fit(X_train_seq, y_train, validation_split=.1,\n",
    "                       batch_size=128, epochs=15, callbacks=[tb, mc])"
   ]
  },
  {
   "cell_type": "code",
   "execution_count": 41,
   "metadata": {},
   "outputs": [
    {
     "data": {
      "text/plain": [
       "[1.3991612650351024, 0.4268197]"
      ]
     },
     "execution_count": 41,
     "metadata": {},
     "output_type": "execute_result"
    }
   ],
   "source": [
    "best_model = load_model('fraiser_rnn_simple.h5')\n",
    "best_model.evaluate(X_test_seq, y_test, verbose=0) # loss, accuracy"
   ]
  },
  {
   "cell_type": "markdown",
   "metadata": {},
   "source": [
    "## Pre-trained Embedding\n",
    "\n",
    "- Glove: https://keras.io/examples/pretrained_word_embeddings/\n",
    "\n",
    "```\n",
    "wget https://nlp.stanford.edu/data/glove.6B.zip\n",
    "unzip glove.6B.zip\n",
    "```\n",
    "\n",
    "- Pre-load in Embedding for each model"
   ]
  },
  {
   "cell_type": "code",
   "execution_count": 43,
   "metadata": {},
   "outputs": [],
   "source": [
    "from tensorflow.keras.initializers import Constant"
   ]
  },
  {
   "cell_type": "code",
   "execution_count": 44,
   "metadata": {},
   "outputs": [
    {
     "name": "stdout",
     "output_type": "stream",
     "text": [
      "Found 400000 word vectors.\n"
     ]
    }
   ],
   "source": [
    "# Indexing word vectors\n",
    "embeddings_index = {}\n",
    "with open('./glove.6B.50d.txt') as f:\n",
    "    for line in f:\n",
    "        word, coefs = line.split(maxsplit=1)\n",
    "        coefs = np.fromstring(coefs, 'f', sep=' ')\n",
    "        embeddings_index[word] = coefs\n",
    "\n",
    "print('Found %s word vectors.' % len(embeddings_index))"
   ]
  },
  {
   "cell_type": "code",
   "execution_count": 45,
   "metadata": {},
   "outputs": [],
   "source": [
    "# prepare embedding matrix\n",
    "embedding_dim = 50\n",
    "word_index = tokenizer.word_index\n",
    "num_words = min(max_vocab_length, len(word_index) + 1)\n",
    "\n",
    "embedding_matrix = np.zeros((num_words, embedding_dim))\n",
    "for word, i in word_index.items():\n",
    "    if i >= max_vocab_length:\n",
    "        continue\n",
    "    embedding_vector = embeddings_index.get(word)\n",
    "    if embedding_vector is not None:\n",
    "        # words not found in embedding index will be all-zeros.\n",
    "        embedding_matrix[i] = embedding_vector\n",
    "\n",
    "# load pre-trained word embeddings into an Embedding layer\n",
    "# note that we set trainable = False so as to keep the embeddings fixed\n",
    "pretrained_embedding = Embedding(num_words, embedding_dim, input_length=seq_length,\n",
    "                            embeddings_initializer=Constant(embedding_matrix),\n",
    "                            trainable=False)"
   ]
  },
  {
   "cell_type": "code",
   "execution_count": 46,
   "metadata": {},
   "outputs": [
    {
     "name": "stdout",
     "output_type": "stream",
     "text": [
      "Model: \"sequential_2\"\n",
      "_________________________________________________________________\n",
      "Layer (type)                 Output Shape              Param #   \n",
      "=================================================================\n",
      "embedding_2 (Embedding)      (None, 11, 50)            250000    \n",
      "_________________________________________________________________\n",
      "conv1d_1 (Conv1D)            (None, 11, 16)            4016      \n",
      "_________________________________________________________________\n",
      "global_average_pooling1d_1 ( (None, 16)                0         \n",
      "_________________________________________________________________\n",
      "dense_2 (Dense)              (None, 5)                 85        \n",
      "=================================================================\n",
      "Total params: 254,101\n",
      "Trainable params: 4,101\n",
      "Non-trainable params: 250,000\n",
      "_________________________________________________________________\n"
     ]
    }
   ],
   "source": [
    "# Simple CNN model with pre-trained Embedding\n",
    "cnn_simple_pt = Sequential()\n",
    "cnn_simple_pt.add(pretrained_embedding)\n",
    "cnn_simple_pt.add(Conv1D(16, kernel_size=5, padding='same', activation='relu'))\n",
    "cnn_simple_pt.add(GlobalAvgPool1D())\n",
    "cnn_simple_pt.add(Dense(5, activation='softmax'))\n",
    "\n",
    "# save the model and reload kernel so that we can continue training\n",
    "# this is because loading the word vectors can put a strain in memory\n",
    "cnn_simple_pt.save('fraiser_cnn_simple_pt.h5')\n",
    "\n",
    "cnn_simple_pt.summary()"
   ]
  },
  {
   "cell_type": "code",
   "execution_count": 47,
   "metadata": {},
   "outputs": [
    {
     "name": "stdout",
     "output_type": "stream",
     "text": [
      "Model: \"sequential_3\"\n",
      "_________________________________________________________________\n",
      "Layer (type)                 Output Shape              Param #   \n",
      "=================================================================\n",
      "embedding_2 (Embedding)      (None, 11, 50)            250000    \n",
      "_________________________________________________________________\n",
      "gru_1 (GRU)                  (None, 16)                3264      \n",
      "_________________________________________________________________\n",
      "dense_3 (Dense)              (None, 5)                 85        \n",
      "=================================================================\n",
      "Total params: 253,349\n",
      "Trainable params: 3,349\n",
      "Non-trainable params: 250,000\n",
      "_________________________________________________________________\n"
     ]
    }
   ],
   "source": [
    "# Simple RNN model with pre-trained Embedding\n",
    "rnn_simple_pt = Sequential()\n",
    "rnn_simple_pt.add(pretrained_embedding)\n",
    "rnn_simple_pt.add(GRU(16))\n",
    "rnn_simple_pt.add(Dense(5, activation='softmax'))\n",
    "\n",
    "# save the model and reload kernel so that we can continue training\n",
    "rnn_simple_pt.save('fraiser_rnn_simple_pt.h5')\n",
    "\n",
    "rnn_simple_pt.summary()"
   ]
  },
  {
   "cell_type": "markdown",
   "metadata": {},
   "source": [
    "### Reload kernel to continue training\n",
    "\n",
    "Due to limited memory on the Raspberry Pi, we should re-load the kernel at this point so that memory can be freed."
   ]
  },
  {
   "cell_type": "code",
   "execution_count": 33,
   "metadata": {},
   "outputs": [],
   "source": [
    "# reload kernel so that we can continue training\n",
    "# import some libraries here since we are reloading the kernel\n",
    "from tensorflow.keras.models import load_model\n",
    "from tensorflow.keras.callbacks import ModelCheckpoint, TensorBoard\n",
    "import os, datetime\n",
    "import pickle"
   ]
  },
  {
   "cell_type": "code",
   "execution_count": 36,
   "metadata": {},
   "outputs": [],
   "source": [
    "# load our saved datasets\n",
    "dataset = pickle.load(open('./fraiser_seq_datasets.pkl', 'rb'))\n",
    "\n",
    "X_train_seq = dataset['X_train_seq']\n",
    "y_train = dataset['y_train']\n",
    "X_test_seq = dataset['X_test_seq']\n",
    "y_test = dataset['y_test']"
   ]
  },
  {
   "cell_type": "code",
   "execution_count": 37,
   "metadata": {},
   "outputs": [
    {
     "name": "stdout",
     "output_type": "stream",
     "text": [
      "WARNING:tensorflow:No training configuration found in save file: the model was *not* compiled. Compile it manually.\n",
      "Train on 31046 samples, validate on 3450 samples\n",
      "Epoch 1/15\n",
      "31046/31046 [==============================] - 17s 544us/sample - loss: 1.5600 - accuracy: 0.2852 - val_loss: 1.5491 - val_accuracy: 0.2878\n",
      "Epoch 2/15\n",
      "31046/31046 [==============================] - 15s 476us/sample - loss: 1.5314 - accuracy: 0.3097 - val_loss: 1.5329 - val_accuracy: 0.2997\n",
      "Epoch 3/15\n",
      "31046/31046 [==============================] - 14s 451us/sample - loss: 1.5152 - accuracy: 0.3228 - val_loss: 1.5247 - val_accuracy: 0.3049\n",
      "Epoch 4/15\n",
      "31046/31046 [==============================] - 14s 451us/sample - loss: 1.5041 - accuracy: 0.3323 - val_loss: 1.5129 - val_accuracy: 0.3220\n",
      "Epoch 5/15\n",
      "31046/31046 [==============================] - 9s 299us/sample - loss: 1.4955 - accuracy: 0.3405 - val_loss: 1.5078 - val_accuracy: 0.3171\n",
      "Epoch 6/15\n",
      "31046/31046 [==============================] - 12s 401us/sample - loss: 1.4879 - accuracy: 0.3448 - val_loss: 1.5007 - val_accuracy: 0.3301\n",
      "Epoch 7/15\n",
      "31046/31046 [==============================] - 12s 383us/sample - loss: 1.4810 - accuracy: 0.3509 - val_loss: 1.4990 - val_accuracy: 0.3313\n",
      "Epoch 8/15\n",
      "31046/31046 [==============================] - 8s 267us/sample - loss: 1.4751 - accuracy: 0.3548 - val_loss: 1.4976 - val_accuracy: 0.3307\n",
      "Epoch 9/15\n",
      "31046/31046 [==============================] - 11s 340us/sample - loss: 1.4692 - accuracy: 0.3608 - val_loss: 1.4898 - val_accuracy: 0.3374\n",
      "Epoch 10/15\n",
      "31046/31046 [==============================] - 8s 261us/sample - loss: 1.4640 - accuracy: 0.3622 - val_loss: 1.4884 - val_accuracy: 0.3362\n",
      "Epoch 11/15\n",
      "31046/31046 [==============================] - 7s 221us/sample - loss: 1.4591 - accuracy: 0.3668 - val_loss: 1.4889 - val_accuracy: 0.3354\n",
      "Epoch 12/15\n",
      "31046/31046 [==============================] - 7s 235us/sample - loss: 1.4545 - accuracy: 0.3693 - val_loss: 1.4860 - val_accuracy: 0.3368\n",
      "Epoch 13/15\n",
      "31046/31046 [==============================] - 11s 355us/sample - loss: 1.4499 - accuracy: 0.3731 - val_loss: 1.4826 - val_accuracy: 0.3383\n",
      "Epoch 14/15\n",
      "31046/31046 [==============================] - 8s 263us/sample - loss: 1.4458 - accuracy: 0.3763 - val_loss: 1.4842 - val_accuracy: 0.3357\n",
      "Epoch 15/15\n",
      "31046/31046 [==============================] - 13s 410us/sample - loss: 1.4419 - accuracy: 0.3779 - val_loss: 1.4813 - val_accuracy: 0.3420\n"
     ]
    },
    {
     "data": {
      "text/plain": [
       "<tensorflow.python.keras.callbacks.History at 0x61bddd10>"
      ]
     },
     "execution_count": 37,
     "metadata": {},
     "output_type": "execute_result"
    }
   ],
   "source": [
    "# load our saved models and start training\n",
    "cnn_simple_pt = load_model('fraiser_cnn_simple_pt.h5')\n",
    "\n",
    "log_dir = os.path.join('./logs', 'fraiser', 'cnn_simple_pt',\n",
    "                                   datetime.datetime.now().strftime(\"%Y%m%d-%H%M%S\"))\n",
    "\n",
    "tb = TensorBoard(log_dir=log_dir)\n",
    "mc = ModelCheckpoint('fraiser_cnn_simple_pt.h5', save_best_only=True, monitor='val_accuracy')\n",
    "\n",
    "cnn_simple_pt.compile(optimizer='adam', loss='categorical_crossentropy', metrics=['accuracy'])\n",
    "cnn_simple_pt.fit(X_train_seq, y_train, validation_split=.1,\n",
    "                       batch_size=128, epochs=15, callbacks=[tb, mc])"
   ]
  },
  {
   "cell_type": "code",
   "execution_count": 38,
   "metadata": {},
   "outputs": [
    {
     "data": {
      "text/plain": [
       "[1.485282383169109, 0.33889905]"
      ]
     },
     "execution_count": 38,
     "metadata": {},
     "output_type": "execute_result"
    }
   ],
   "source": [
    "best_model = load_model('fraiser_cnn_simple_pt.h5')\n",
    "best_model.evaluate(X_test_seq, y_test, verbose=0) # loss, accuracy"
   ]
  },
  {
   "cell_type": "code",
   "execution_count": null,
   "metadata": {},
   "outputs": [],
   "source": []
  },
  {
   "cell_type": "code",
   "execution_count": 39,
   "metadata": {},
   "outputs": [
    {
     "name": "stdout",
     "output_type": "stream",
     "text": [
      "WARNING:tensorflow:No training configuration found in save file: the model was *not* compiled. Compile it manually.\n",
      "Train on 31046 samples, validate on 3450 samples\n",
      "Epoch 1/15\n",
      "31046/31046 [==============================] - 189s 6ms/sample - loss: 1.5656 - accuracy: 0.2815 - val_loss: 1.5517 - val_accuracy: 0.2838\n",
      "Epoch 2/15\n",
      "31046/31046 [==============================] - 41s 1ms/sample - loss: 1.5318 - accuracy: 0.3101 - val_loss: 1.5301 - val_accuracy: 0.3029\n",
      "Epoch 3/15\n",
      "31046/31046 [==============================] - 33s 1ms/sample - loss: 1.5109 - accuracy: 0.3255 - val_loss: 1.5094 - val_accuracy: 0.3113\n",
      "Epoch 4/15\n",
      "31046/31046 [==============================] - 35s 1ms/sample - loss: 1.4897 - accuracy: 0.3441 - val_loss: 1.4868 - val_accuracy: 0.3357\n",
      "Epoch 5/15\n",
      "31046/31046 [==============================] - 36s 1ms/sample - loss: 1.4713 - accuracy: 0.3550 - val_loss: 1.4727 - val_accuracy: 0.3528\n",
      "Epoch 6/15\n",
      "31046/31046 [==============================] - 24s 783us/sample - loss: 1.4587 - accuracy: 0.3624 - val_loss: 1.4637 - val_accuracy: 0.3525\n",
      "Epoch 7/15\n",
      "31046/31046 [==============================] - 22s 695us/sample - loss: 1.4502 - accuracy: 0.3665 - val_loss: 1.4596 - val_accuracy: 0.3507\n",
      "Epoch 8/15\n",
      "31046/31046 [==============================] - 26s 824us/sample - loss: 1.4432 - accuracy: 0.3721 - val_loss: 1.4567 - val_accuracy: 0.3586\n",
      "Epoch 9/15\n",
      "31046/31046 [==============================] - 29s 919us/sample - loss: 1.4365 - accuracy: 0.3744 - val_loss: 1.4494 - val_accuracy: 0.3664\n",
      "Epoch 10/15\n",
      "31046/31046 [==============================] - 144s 5ms/sample - loss: 1.4325 - accuracy: 0.3751 - val_loss: 1.4473 - val_accuracy: 0.3672\n",
      "Epoch 11/15\n",
      "31046/31046 [==============================] - 32s 1ms/sample - loss: 1.4277 - accuracy: 0.3799 - val_loss: 1.4440 - val_accuracy: 0.3687\n",
      "Epoch 12/15\n",
      "31046/31046 [==============================] - 28s 909us/sample - loss: 1.4232 - accuracy: 0.3831 - val_loss: 1.4420 - val_accuracy: 0.3730\n",
      "Epoch 13/15\n",
      "31046/31046 [==============================] - 23s 735us/sample - loss: 1.4194 - accuracy: 0.3865 - val_loss: 1.4441 - val_accuracy: 0.3713\n",
      "Epoch 14/15\n",
      "31046/31046 [==============================] - 26s 826us/sample - loss: 1.4162 - accuracy: 0.3874 - val_loss: 1.4388 - val_accuracy: 0.3762\n",
      "Epoch 15/15\n",
      "31046/31046 [==============================] - 31s 1ms/sample - loss: 1.4138 - accuracy: 0.3910 - val_loss: 1.4382 - val_accuracy: 0.3812\n"
     ]
    },
    {
     "data": {
      "text/plain": [
       "<tensorflow.python.keras.callbacks.History at 0x61128470>"
      ]
     },
     "execution_count": 39,
     "metadata": {},
     "output_type": "execute_result"
    }
   ],
   "source": [
    "rnn_simple_pt = load_model('fraiser_rnn_simple_pt.h5')\n",
    "\n",
    "log_dir = os.path.join('./logs', 'fraiser', 'rnn_simple_pt',\n",
    "                                   datetime.datetime.now().strftime(\"%Y%m%d-%H%M%S\"))\n",
    "\n",
    "tb = TensorBoard(log_dir=log_dir)\n",
    "mc = ModelCheckpoint('fraiser_rnn_simple_pt.h5', save_best_only=True, monitor='val_accuracy')\n",
    "\n",
    "rnn_simple_pt.compile(optimizer='adam', loss='categorical_crossentropy', metrics=['accuracy'])\n",
    "rnn_simple_pt.fit(X_train_seq, y_train, validation_split=.1,\n",
    "                       batch_size=128, epochs=15, callbacks=[tb, mc])"
   ]
  },
  {
   "cell_type": "code",
   "execution_count": 40,
   "metadata": {},
   "outputs": [
    {
     "data": {
      "text/plain": [
       "[1.4476444168561065, 0.3675972]"
      ]
     },
     "execution_count": 40,
     "metadata": {},
     "output_type": "execute_result"
    }
   ],
   "source": [
    "best_model = load_model('fraiser_rnn_simple_pt.h5')\n",
    "best_model.evaluate(X_test_seq, y_test, verbose=0) # loss, accuracy"
   ]
  },
  {
   "cell_type": "code",
   "execution_count": null,
   "metadata": {},
   "outputs": [],
   "source": [
    "# train longer\n",
    "rnn_simple_pt.fit(X_train_seq, y_train, validation_split=.1,\n",
    "                       batch_size=128, epochs=50, callbacks=[tb, mc])"
   ]
  }
 ],
 "metadata": {
  "kernelspec": {
   "display_name": "Python 3",
   "language": "python",
   "name": "python3"
  },
  "language_info": {
   "codemirror_mode": {
    "name": "ipython",
    "version": 3
   },
   "file_extension": ".py",
   "mimetype": "text/x-python",
   "name": "python",
   "nbconvert_exporter": "python",
   "pygments_lexer": "ipython3",
   "version": "3.7.3"
  }
 },
 "nbformat": 4,
 "nbformat_minor": 2
}
