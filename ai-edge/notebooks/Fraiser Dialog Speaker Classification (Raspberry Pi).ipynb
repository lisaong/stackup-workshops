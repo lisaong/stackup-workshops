{
 "cells": [
  {
   "cell_type": "markdown",
   "metadata": {},
   "source": [
    "# Fraiser Dialog Speaker Classification\n",
    "\n",
    "### On a Raspberry Pi 3 (DietPi Buster image)\n",
    "\n",
    "Data Source: https://www.kaggle.com/sulabhbista/frasier-dialogs/data#script.csv\n",
    "\n",
    "Columns:\n",
    "- url: URL from where the dialog was downloaded\n",
    "- cast: Name of the cast\n",
    "- dialog: Dialog utterance by the cast\n",
    "- timestamp: Date/time when the a specific row was downloaded\n",
    "\n",
    "Tasks:\n",
    "- Explore the text data\n",
    "  - E.g. Check the top words used by each speaker\n",
    "- Balance classes, if applicable\n",
    "- Tokenise the data and train a classifier to predict the speaker\n",
    " - Use pre-trained word embedding\n",
    " - Use own word embedding"
   ]
  },
  {
   "cell_type": "code",
   "execution_count": 6,
   "metadata": {},
   "outputs": [
    {
     "name": "stdout",
     "output_type": "stream",
     "text": [
      "Looking in indexes: https://pypi.org/simple, https://www.piwheels.org/simple\n",
      "Requirement already satisfied: seaborn in /usr/local/lib/python3.7/dist-packages (0.9.0)\n",
      "Collecting nltk\n",
      "\u001b[?25l  Downloading https://www.piwheels.org/simple/nltk/nltk-3.4.5-py3-none-any.whl (1.4MB)\n",
      "\u001b[K    100% |████████████████████████████████| 1.5MB 192kB/s ta 0:00:01    12% |███▉                            | 174kB 534kB/s eta 0:00:03\n",
      "\u001b[?25hRequirement already satisfied: scipy>=0.14.0 in /usr/lib/python3/dist-packages (from seaborn) (1.1.0)\n",
      "Requirement already satisfied: numpy>=1.9.3 in /usr/lib/python3/dist-packages (from seaborn) (1.16.2)\n",
      "Requirement already satisfied: matplotlib>=1.4.3 in /usr/lib/python3/dist-packages (from seaborn) (3.0.2)\n",
      "Requirement already satisfied: pandas>=0.15.2 in /usr/lib/python3/dist-packages (from seaborn) (0.23.3+dfsg)\n",
      "Requirement already satisfied: six in /usr/lib/python3/dist-packages (from nltk) (1.12.0)\n",
      "Installing collected packages: nltk\n",
      "Successfully installed nltk-3.4.5\n"
     ]
    }
   ],
   "source": [
    "!pip3 install seaborn nltk"
   ]
  },
  {
   "cell_type": "code",
   "execution_count": 7,
   "metadata": {},
   "outputs": [
    {
     "name": "stderr",
     "output_type": "stream",
     "text": [
      "[nltk_data] Downloading package punkt to /root/nltk_data...\n",
      "[nltk_data]   Unzipping tokenizers/punkt.zip.\n"
     ]
    }
   ],
   "source": [
    "import pandas as pd\n",
    "import nltk\n",
    "nltk.download('punkt')\n",
    "\n",
    "import pickle\n",
    "\n",
    "import matplotlib.pyplot as plt\n",
    "import seaborn as sns\n",
    "sns.set(style='whitegrid')\n",
    "\n",
    "%matplotlib inline"
   ]
  },
  {
   "cell_type": "code",
   "execution_count": 28,
   "metadata": {},
   "outputs": [
    {
     "data": {
      "text/html": [
       "<div>\n",
       "<style scoped>\n",
       "    .dataframe tbody tr th:only-of-type {\n",
       "        vertical-align: middle;\n",
       "    }\n",
       "\n",
       "    .dataframe tbody tr th {\n",
       "        vertical-align: top;\n",
       "    }\n",
       "\n",
       "    .dataframe thead th {\n",
       "        text-align: right;\n",
       "    }\n",
       "</style>\n",
       "<table border=\"1\" class=\"dataframe\">\n",
       "  <thead>\n",
       "    <tr style=\"text-align: right;\">\n",
       "      <th></th>\n",
       "      <th>url</th>\n",
       "      <th>cast</th>\n",
       "      <th>dialog</th>\n",
       "      <th>timestamp</th>\n",
       "    </tr>\n",
       "  </thead>\n",
       "  <tbody>\n",
       "    <tr>\n",
       "      <th>0</th>\n",
       "      <td>http://www.kacl780.net/frasier/transcripts/sea...</td>\n",
       "      <td>Frasier</td>\n",
       "      <td>[firmly] Listen to yourself, Bob!  You follow ...</td>\n",
       "      <td>2018-04-13 07:43:16</td>\n",
       "    </tr>\n",
       "    <tr>\n",
       "      <th>1</th>\n",
       "      <td>http://www.kacl780.net/frasier/transcripts/sea...</td>\n",
       "      <td>Roz</td>\n",
       "      <td>Yes, Dr Crane.  On line four, we have Russell ...</td>\n",
       "      <td>2018-04-13 07:43:16</td>\n",
       "    </tr>\n",
       "    <tr>\n",
       "      <th>2</th>\n",
       "      <td>http://www.kacl780.net/frasier/transcripts/sea...</td>\n",
       "      <td>Frasier</td>\n",
       "      <td>[presses a button] Hello, Russell.  This is Dr...</td>\n",
       "      <td>2018-04-13 07:43:16</td>\n",
       "    </tr>\n",
       "    <tr>\n",
       "      <th>3</th>\n",
       "      <td>http://www.kacl780.net/frasier/transcripts/sea...</td>\n",
       "      <td>Russell</td>\n",
       "      <td>[v.o.] Well, I've been feeling sort of, uh, yo...</td>\n",
       "      <td>2018-04-13 07:43:16</td>\n",
       "    </tr>\n",
       "    <tr>\n",
       "      <th>4</th>\n",
       "      <td>http://www.kacl780.net/frasier/transcripts/sea...</td>\n",
       "      <td>Frasier</td>\n",
       "      <td>Er, Russell, we're just about at the end of ou...</td>\n",
       "      <td>2018-04-13 07:43:16</td>\n",
       "    </tr>\n",
       "  </tbody>\n",
       "</table>\n",
       "</div>"
      ],
      "text/plain": [
       "                                                 url     cast  \\\n",
       "0  http://www.kacl780.net/frasier/transcripts/sea...  Frasier   \n",
       "1  http://www.kacl780.net/frasier/transcripts/sea...      Roz   \n",
       "2  http://www.kacl780.net/frasier/transcripts/sea...  Frasier   \n",
       "3  http://www.kacl780.net/frasier/transcripts/sea...  Russell   \n",
       "4  http://www.kacl780.net/frasier/transcripts/sea...  Frasier   \n",
       "\n",
       "                                              dialog            timestamp  \n",
       "0  [firmly] Listen to yourself, Bob!  You follow ...  2018-04-13 07:43:16  \n",
       "1  Yes, Dr Crane.  On line four, we have Russell ...  2018-04-13 07:43:16  \n",
       "2  [presses a button] Hello, Russell.  This is Dr...  2018-04-13 07:43:16  \n",
       "3  [v.o.] Well, I've been feeling sort of, uh, yo...  2018-04-13 07:43:16  \n",
       "4  Er, Russell, we're just about at the end of ou...  2018-04-13 07:43:16  "
      ]
     },
     "execution_count": 28,
     "metadata": {},
     "output_type": "execute_result"
    }
   ],
   "source": [
    "df = pd.read_csv('./script.csv')\n",
    "df.head()"
   ]
  },
  {
   "cell_type": "code",
   "execution_count": 29,
   "metadata": {},
   "outputs": [
    {
     "name": "stdout",
     "output_type": "stream",
     "text": [
      "<class 'pandas.core.frame.DataFrame'>\n",
      "RangeIndex: 63945 entries, 0 to 63944\n",
      "Data columns (total 4 columns):\n",
      "url          63945 non-null object\n",
      "cast         63943 non-null object\n",
      "dialog       63788 non-null object\n",
      "timestamp    63945 non-null object\n",
      "dtypes: object(4)\n",
      "memory usage: 999.2+ KB\n"
     ]
    }
   ],
   "source": [
    "df.info()"
   ]
  },
  {
   "cell_type": "code",
   "execution_count": 30,
   "metadata": {},
   "outputs": [
    {
     "data": {
      "text/html": [
       "<div>\n",
       "<style scoped>\n",
       "    .dataframe tbody tr th:only-of-type {\n",
       "        vertical-align: middle;\n",
       "    }\n",
       "\n",
       "    .dataframe tbody tr th {\n",
       "        vertical-align: top;\n",
       "    }\n",
       "\n",
       "    .dataframe thead th {\n",
       "        text-align: right;\n",
       "    }\n",
       "</style>\n",
       "<table border=\"1\" class=\"dataframe\">\n",
       "  <thead>\n",
       "    <tr style=\"text-align: right;\">\n",
       "      <th></th>\n",
       "      <th>cast</th>\n",
       "      <th>dialog</th>\n",
       "    </tr>\n",
       "  </thead>\n",
       "  <tbody>\n",
       "    <tr>\n",
       "      <th>0</th>\n",
       "      <td>Frasier</td>\n",
       "      <td>[firmly] Listen to yourself, Bob!  You follow ...</td>\n",
       "    </tr>\n",
       "    <tr>\n",
       "      <th>1</th>\n",
       "      <td>Roz</td>\n",
       "      <td>Yes, Dr Crane.  On line four, we have Russell ...</td>\n",
       "    </tr>\n",
       "    <tr>\n",
       "      <th>2</th>\n",
       "      <td>Frasier</td>\n",
       "      <td>[presses a button] Hello, Russell.  This is Dr...</td>\n",
       "    </tr>\n",
       "    <tr>\n",
       "      <th>3</th>\n",
       "      <td>Russell</td>\n",
       "      <td>[v.o.] Well, I've been feeling sort of, uh, yo...</td>\n",
       "    </tr>\n",
       "    <tr>\n",
       "      <th>4</th>\n",
       "      <td>Frasier</td>\n",
       "      <td>Er, Russell, we're just about at the end of ou...</td>\n",
       "    </tr>\n",
       "  </tbody>\n",
       "</table>\n",
       "</div>"
      ],
      "text/plain": [
       "      cast                                             dialog\n",
       "0  Frasier  [firmly] Listen to yourself, Bob!  You follow ...\n",
       "1      Roz  Yes, Dr Crane.  On line four, we have Russell ...\n",
       "2  Frasier  [presses a button] Hello, Russell.  This is Dr...\n",
       "3  Russell  [v.o.] Well, I've been feeling sort of, uh, yo...\n",
       "4  Frasier  Er, Russell, we're just about at the end of ou..."
      ]
     },
     "execution_count": 30,
     "metadata": {},
     "output_type": "execute_result"
    }
   ],
   "source": [
    "# dropping some unneeded columns\n",
    "\n",
    "df.drop(columns=['url', 'timestamp'], inplace=True)\n",
    "df.head()"
   ]
  },
  {
   "cell_type": "code",
   "execution_count": 31,
   "metadata": {},
   "outputs": [],
   "source": [
    "# cleaning some NaN columns\n",
    "df.dropna(inplace=True)"
   ]
  },
  {
   "cell_type": "code",
   "execution_count": 32,
   "metadata": {},
   "outputs": [
    {
     "data": {
      "text/plain": [
       "array(['Frasier', 'Roz', 'Russell', ...,\n",
       "       'Rachel: You can do me one quick favor',\n",
       "       'leaving is because I want what all of you have now', 'Pilot'],\n",
       "      dtype=object)"
      ]
     },
     "execution_count": 32,
     "metadata": {},
     "output_type": "execute_result"
    }
   ],
   "source": [
    "df['cast'].unique()"
   ]
  },
  {
   "cell_type": "code",
   "execution_count": 33,
   "metadata": {},
   "outputs": [
    {
     "data": {
      "text/plain": [
       "Frasier    21088\n",
       "Niles      10178\n",
       "Martin      7629\n",
       "Daphne      5243\n",
       "Roz         4735\n",
       "Name: cast, dtype: int64"
      ]
     },
     "execution_count": 33,
     "metadata": {},
     "output_type": "execute_result"
    }
   ],
   "source": [
    "# some cast values contain dialog, let's focus on cast with top 5 value_counts\n",
    "\n",
    "main_cast_counts = df['cast'].value_counts()[:5]\n",
    "main_cast_counts"
   ]
  },
  {
   "cell_type": "code",
   "execution_count": 34,
   "metadata": {},
   "outputs": [
    {
     "data": {
      "text/html": [
       "<div>\n",
       "<style scoped>\n",
       "    .dataframe tbody tr th:only-of-type {\n",
       "        vertical-align: middle;\n",
       "    }\n",
       "\n",
       "    .dataframe tbody tr th {\n",
       "        vertical-align: top;\n",
       "    }\n",
       "\n",
       "    .dataframe thead th {\n",
       "        text-align: right;\n",
       "    }\n",
       "</style>\n",
       "<table border=\"1\" class=\"dataframe\">\n",
       "  <thead>\n",
       "    <tr style=\"text-align: right;\">\n",
       "      <th></th>\n",
       "      <th>cast</th>\n",
       "      <th>dialog</th>\n",
       "    </tr>\n",
       "  </thead>\n",
       "  <tbody>\n",
       "    <tr>\n",
       "      <th>0</th>\n",
       "      <td>Frasier</td>\n",
       "      <td>[firmly] Listen to yourself, Bob!  You follow ...</td>\n",
       "    </tr>\n",
       "    <tr>\n",
       "      <th>1</th>\n",
       "      <td>Roz</td>\n",
       "      <td>Yes, Dr Crane.  On line four, we have Russell ...</td>\n",
       "    </tr>\n",
       "    <tr>\n",
       "      <th>2</th>\n",
       "      <td>Frasier</td>\n",
       "      <td>[presses a button] Hello, Russell.  This is Dr...</td>\n",
       "    </tr>\n",
       "    <tr>\n",
       "      <th>4</th>\n",
       "      <td>Frasier</td>\n",
       "      <td>Er, Russell, we're just about at the end of ou...</td>\n",
       "    </tr>\n",
       "    <tr>\n",
       "      <th>5</th>\n",
       "      <td>Roz</td>\n",
       "      <td>No, we cut to the news thirty seconds ago.</td>\n",
       "    </tr>\n",
       "  </tbody>\n",
       "</table>\n",
       "</div>"
      ],
      "text/plain": [
       "      cast                                             dialog\n",
       "0  Frasier  [firmly] Listen to yourself, Bob!  You follow ...\n",
       "1      Roz  Yes, Dr Crane.  On line four, we have Russell ...\n",
       "2  Frasier  [presses a button] Hello, Russell.  This is Dr...\n",
       "4  Frasier  Er, Russell, we're just about at the end of ou...\n",
       "5      Roz         No, we cut to the news thirty seconds ago."
      ]
     },
     "execution_count": 34,
     "metadata": {},
     "output_type": "execute_result"
    }
   ],
   "source": [
    "df_main = df.loc[df['cast'].isin(main_cast_counts.keys())]\n",
    "df_main.head()"
   ]
  },
  {
   "cell_type": "markdown",
   "metadata": {},
   "source": [
    "## Data Exploration and Imbalance Checking"
   ]
  },
  {
   "cell_type": "code",
   "execution_count": 35,
   "metadata": {},
   "outputs": [],
   "source": [
    "# There are 2x more Fraiser lines than the 2nd highest (Niles).\n",
    "# Let's try to balance the dataset by sampling from the Fraiser rows\n",
    "# Before we do that, let's see what the average dialog length is for Fraiser"
   ]
  },
  {
   "cell_type": "code",
   "execution_count": 36,
   "metadata": {},
   "outputs": [
    {
     "data": {
      "text/plain": [
       "0        [firmly, Listen, to, yourself, Bob, You, follo...\n",
       "2        [presses, a, button, Hello, Russell, This, is,...\n",
       "4        [Er, Russell, we're, just, about, at, the, end...\n",
       "6        [annoyed, rips, off, his, headphones, Oh, for,...\n",
       "7        [Well, the, rest, of, the, show, was, pretty, ...\n",
       "9        [Roz, in, the, trade, we, call, that, avoidanc...\n",
       "11       [I, am, not, a, piece, of, Lalique, I, can, ha...\n",
       "13       [takes, the, notepaper, You, say, my, brother,...\n",
       "17       [looks, up, Oh, I'm, sorry, Niles, I, didn't, ...\n",
       "19       [Oh, Niles, you're, a, psychiatrist, you, know...\n",
       "21                                                   [And]\n",
       "23       [Yes, I, know, what, you, think, about, everyt...\n",
       "26                            [Two, cafe, latte, supremos]\n",
       "27                                        [No, thank, you]\n",
       "29       [I'm, fine, I, love, my, new, life, I, love, t...\n",
       "31       [So, does, he, laughs, The, fresh, air's, good...\n",
       "33                                           [Is, it, Dad]\n",
       "35                                           [Oh, my, God]\n",
       "37                                 [What, his, hip, again]\n",
       "39                                     [What, can, we, do]\n",
       "41        [Oh, Niles, a, home, He's, still, a, young, man]\n",
       "43       [Absolutely, Besides, we, were, never, simpatico]\n",
       "45             [Oh, yes, yes, of, course, of, course, why]\n",
       "47                                             [Who, does]\n",
       "49       [I, do, I, I, like, her, from, a, distance, Yo...\n",
       "52                                        [It, says, that]\n",
       "54          [Alright, I'll, make, up, the, spare, bedroom]\n",
       "56                             [Oh, God, I, am, aren't, I]\n",
       "58       [depressed, No, I, seem, to, have, lost, my, a...\n",
       "61                                    [upbeat, Hi, laughs]\n",
       "                               ...                        \n",
       "63877    [Here, we, are, Roz, I, thought, this, art, de...\n",
       "63878    [Well, that, just, shows, you, I, thought, I'd...\n",
       "63881    [Well, I, didn't, want, to, say, anything, unt...\n",
       "63882    [I, see, you're, all, ahead, of, me, Uh, liste...\n",
       "63883    [Now, you, see, this, is, exactly, what, I, wa...\n",
       "63885    [We, all, knew, we, weren't, going, to, stay, ...\n",
       "63887    [Yes, That's, where, I'm, moving, to, San, Fra...\n",
       "63889    [My, new, job, I, start, next, week, Now, don'...\n",
       "63891                                 [To, San, Francisco]\n",
       "63893    [You, know, it's, just, an, hour, by, plane, s...\n",
       "63896    [I'm, happy, for, myself, And, scared, too, Bu...\n",
       "63902    [changing, subject, Let, me, just, help, you, ...\n",
       "63911    [Oh, well, if, you, really, must, go, all, rig...\n",
       "63912    [I'm, on, TV, next, week, and, the, only, thin...\n",
       "63913                                               [What]\n",
       "63916                                [Let, her, talk, Dad]\n",
       "63919    [Well, I, promise, I'll, fly, up, for, all, th...\n",
       "63921    [Yeah, Dad's, right, I, mean, once, I'm, gone,...\n",
       "63924                                               [Sure]\n",
       "63926                            [Right, Coffee, tomorrow]\n",
       "63929                                       [I, love, you]\n",
       "63930    [You, all, know, how, I, feel, about, you, and...\n",
       "63933    [It, may, be, that, the, gulfs, will, wash, us...\n",
       "63934    [Made, weak, by, time, and, fate, but, strong,...\n",
       "63935    [I've, been, thinking, about, that, poem, a, l...\n",
       "63936    [We, had, a, big, party, that, night, It, was,...\n",
       "63938    [Oh, good, heavens, looking, out, of, window, ...\n",
       "63940    [And, I've, never, had, more, delightful, comp...\n",
       "63942    [Well, I, just, know, I'd, always, regret, it,...\n",
       "63944    [with, nervous, excitement, Wish, me, luck, Ni...\n",
       "Name: dialog, Length: 21088, dtype: object"
      ]
     },
     "execution_count": 36,
     "metadata": {},
     "output_type": "execute_result"
    }
   ],
   "source": [
    "tokenizer = nltk.tokenize.RegexpTokenizer(r'[\\w\\']+') # include aposptophes\n",
    "\n",
    "tokens = df_main.loc[df_main['cast'] == 'Frasier', 'dialog'].apply(tokenizer.tokenize)\n",
    "tokens"
   ]
  },
  {
   "cell_type": "code",
   "execution_count": 37,
   "metadata": {},
   "outputs": [
    {
     "data": {
      "image/png": "[encoded data removed]",
      "text/plain": [
       "<Figure size 432x288 with 1 Axes>"
      ]
     },
     "metadata": {
      "needs_background": "light"
     },
     "output_type": "display_data"
    }
   ],
   "source": [
    "lengths = tokens.apply(len)\n",
    "sns.distplot(lengths, kde=False)\n",
    "plt.show()"
   ]
  },
  {
   "cell_type": "code",
   "execution_count": 38,
   "metadata": {},
   "outputs": [
    {
     "data": {
      "text/plain": [
       "count    21088.000000\n",
       "mean        13.954097\n",
       "std         13.583504\n",
       "min          1.000000\n",
       "25%          5.000000\n",
       "50%         10.000000\n",
       "75%         19.000000\n",
       "max        250.000000\n",
       "Name: dialog, dtype: float64"
      ]
     },
     "execution_count": 38,
     "metadata": {},
     "output_type": "execute_result"
    }
   ],
   "source": [
    "lengths.describe()"
   ]
  },
  {
   "cell_type": "code",
   "execution_count": 39,
   "metadata": {},
   "outputs": [],
   "source": [
    "# capturing the above into a function\n",
    "def plot_wordcount_distribution(cast, df_input):\n",
    "    tokenizer = nltk.tokenize.RegexpTokenizer(r'[\\w\\']+') # include aposptophes\n",
    "    tokens = df_input.loc[df_input['cast'] == cast, 'dialog'].apply(tokenizer.tokenize)\n",
    "    lengths = tokens.apply(len)\n",
    "    sns.distplot(lengths, kde=False)\n",
    "    plt.xlabel(cast)\n",
    "    plt.show()\n",
    "    return lengths.describe()"
   ]
  },
  {
   "cell_type": "code",
   "execution_count": 40,
   "metadata": {},
   "outputs": [
    {
     "data": {
      "image/png": "[encoded data removed]",
      "text/plain": [
       "<Figure size 432x288 with 1 Axes>"
      ]
     },
     "metadata": {
      "needs_background": "light"
     },
     "output_type": "display_data"
    },
    {
     "data": {
      "image/png": "[encoded data removed]",
      "text/plain": [
       "<Figure size 432x288 with 1 Axes>"
      ]
     },
     "metadata": {
      "needs_background": "light"
     },
     "output_type": "display_data"
    },
    {
     "data": {
      "image/png": "[encoded data removed]",
      "text/plain": [
       "<Figure size 432x288 with 1 Axes>"
      ]
     },
     "metadata": {
      "needs_background": "light"
     },
     "output_type": "display_data"
    },
    {
     "data": {
      "image/png": "[encoded data removed]",
      "text/plain": [
       "<Figure size 432x288 with 1 Axes>"
      ]
     },
     "metadata": {
      "needs_background": "light"
     },
     "output_type": "display_data"
    },
    {
     "data": {
      "image/png": "[encoded data removed]",
      "text/plain": [
       "<Figure size 432x288 with 1 Axes>"
      ]
     },
     "metadata": {
      "needs_background": "light"
     },
     "output_type": "display_data"
    }
   ],
   "source": [
    "stats = pd.DataFrame({'Frasier': plot_wordcount_distribution('Frasier', df_main)})\n",
    "stats = pd.concat([stats, pd.DataFrame({'Niles': plot_wordcount_distribution('Niles', df_main)})], axis=1) # col-wise concat\n",
    "stats = pd.concat([stats, pd.DataFrame({'Martin': plot_wordcount_distribution('Martin', df_main)})], axis=1)\n",
    "stats = pd.concat([stats, pd.DataFrame({'Roz': plot_wordcount_distribution('Roz', df_main)})], axis=1) \n",
    "stats = pd.concat([stats, pd.DataFrame({'Daphne': plot_wordcount_distribution('Daphne', df_main)})], axis=1)"
   ]
  },
  {
   "cell_type": "code",
   "execution_count": 41,
   "metadata": {},
   "outputs": [
    {
     "data": {
      "text/html": [
       "<div>\n",
       "<style scoped>\n",
       "    .dataframe tbody tr th:only-of-type {\n",
       "        vertical-align: middle;\n",
       "    }\n",
       "\n",
       "    .dataframe tbody tr th {\n",
       "        vertical-align: top;\n",
       "    }\n",
       "\n",
       "    .dataframe thead th {\n",
       "        text-align: right;\n",
       "    }\n",
       "</style>\n",
       "<table border=\"1\" class=\"dataframe\">\n",
       "  <thead>\n",
       "    <tr style=\"text-align: right;\">\n",
       "      <th></th>\n",
       "      <th>Frasier</th>\n",
       "      <th>Niles</th>\n",
       "      <th>Martin</th>\n",
       "      <th>Roz</th>\n",
       "      <th>Daphne</th>\n",
       "    </tr>\n",
       "  </thead>\n",
       "  <tbody>\n",
       "    <tr>\n",
       "      <th>count</th>\n",
       "      <td>21088.000000</td>\n",
       "      <td>10178.000000</td>\n",
       "      <td>7629.000000</td>\n",
       "      <td>4735.000000</td>\n",
       "      <td>5243.000000</td>\n",
       "    </tr>\n",
       "    <tr>\n",
       "      <th>mean</th>\n",
       "      <td>13.954097</td>\n",
       "      <td>12.746512</td>\n",
       "      <td>12.874033</td>\n",
       "      <td>12.062302</td>\n",
       "      <td>12.732596</td>\n",
       "    </tr>\n",
       "    <tr>\n",
       "      <th>std</th>\n",
       "      <td>13.583504</td>\n",
       "      <td>11.720568</td>\n",
       "      <td>13.316791</td>\n",
       "      <td>11.796728</td>\n",
       "      <td>12.514220</td>\n",
       "    </tr>\n",
       "    <tr>\n",
       "      <th>min</th>\n",
       "      <td>1.000000</td>\n",
       "      <td>1.000000</td>\n",
       "      <td>1.000000</td>\n",
       "      <td>1.000000</td>\n",
       "      <td>1.000000</td>\n",
       "    </tr>\n",
       "    <tr>\n",
       "      <th>25%</th>\n",
       "      <td>5.000000</td>\n",
       "      <td>5.000000</td>\n",
       "      <td>5.000000</td>\n",
       "      <td>4.000000</td>\n",
       "      <td>5.000000</td>\n",
       "    </tr>\n",
       "    <tr>\n",
       "      <th>50%</th>\n",
       "      <td>10.000000</td>\n",
       "      <td>9.000000</td>\n",
       "      <td>9.000000</td>\n",
       "      <td>9.000000</td>\n",
       "      <td>9.000000</td>\n",
       "    </tr>\n",
       "    <tr>\n",
       "      <th>75%</th>\n",
       "      <td>19.000000</td>\n",
       "      <td>17.000000</td>\n",
       "      <td>17.000000</td>\n",
       "      <td>16.000000</td>\n",
       "      <td>16.000000</td>\n",
       "    </tr>\n",
       "    <tr>\n",
       "      <th>max</th>\n",
       "      <td>250.000000</td>\n",
       "      <td>119.000000</td>\n",
       "      <td>429.000000</td>\n",
       "      <td>181.000000</td>\n",
       "      <td>146.000000</td>\n",
       "    </tr>\n",
       "  </tbody>\n",
       "</table>\n",
       "</div>"
      ],
      "text/plain": [
       "            Frasier         Niles       Martin          Roz       Daphne\n",
       "count  21088.000000  10178.000000  7629.000000  4735.000000  5243.000000\n",
       "mean      13.954097     12.746512    12.874033    12.062302    12.732596\n",
       "std       13.583504     11.720568    13.316791    11.796728    12.514220\n",
       "min        1.000000      1.000000     1.000000     1.000000     1.000000\n",
       "25%        5.000000      5.000000     5.000000     4.000000     5.000000\n",
       "50%       10.000000      9.000000     9.000000     9.000000     9.000000\n",
       "75%       19.000000     17.000000    17.000000    16.000000    16.000000\n",
       "max      250.000000    119.000000   429.000000   181.000000   146.000000"
      ]
     },
     "execution_count": 41,
     "metadata": {},
     "output_type": "execute_result"
    }
   ],
   "source": [
    "# stats at a glance\n",
    "stats"
   ]
  },
  {
   "cell_type": "code",
   "execution_count": 42,
   "metadata": {},
   "outputs": [],
   "source": [
    "# 75% percentile is about 18-29 tokens\n",
    "# The distributions are quite similar, so we will undersample from Frasier to balance the classes a bit more\n",
    "# They don't have to be exactly the same."
   ]
  },
  {
   "cell_type": "code",
   "execution_count": 43,
   "metadata": {},
   "outputs": [
    {
     "data": {
      "image/png": "[encoded data removed]",
      "text/plain": [
       "<Figure size 432x288 with 1 Axes>"
      ]
     },
     "metadata": {
      "needs_background": "light"
     },
     "output_type": "display_data"
    }
   ],
   "source": [
    "df_frasier_sampled = df_main.loc[df_main['cast'] == 'Frasier'].sample(frac=.5)\n",
    "\n",
    "stats = pd.concat([stats, pd.DataFrame({'Frasier (sampled)': plot_wordcount_distribution('Frasier', df_frasier_sampled)})], axis=1)"
   ]
  },
  {
   "cell_type": "code",
   "execution_count": 44,
   "metadata": {},
   "outputs": [
    {
     "data": {
      "text/html": [
       "<div>\n",
       "<style scoped>\n",
       "    .dataframe tbody tr th:only-of-type {\n",
       "        vertical-align: middle;\n",
       "    }\n",
       "\n",
       "    .dataframe tbody tr th {\n",
       "        vertical-align: top;\n",
       "    }\n",
       "\n",
       "    .dataframe thead th {\n",
       "        text-align: right;\n",
       "    }\n",
       "</style>\n",
       "<table border=\"1\" class=\"dataframe\">\n",
       "  <thead>\n",
       "    <tr style=\"text-align: right;\">\n",
       "      <th></th>\n",
       "      <th>Frasier</th>\n",
       "      <th>Niles</th>\n",
       "      <th>Martin</th>\n",
       "      <th>Roz</th>\n",
       "      <th>Daphne</th>\n",
       "      <th>Frasier (sampled)</th>\n",
       "    </tr>\n",
       "  </thead>\n",
       "  <tbody>\n",
       "    <tr>\n",
       "      <th>count</th>\n",
       "      <td>21088.000000</td>\n",
       "      <td>10178.000000</td>\n",
       "      <td>7629.000000</td>\n",
       "      <td>4735.000000</td>\n",
       "      <td>5243.000000</td>\n",
       "      <td>10544.000000</td>\n",
       "    </tr>\n",
       "    <tr>\n",
       "      <th>mean</th>\n",
       "      <td>13.954097</td>\n",
       "      <td>12.746512</td>\n",
       "      <td>12.874033</td>\n",
       "      <td>12.062302</td>\n",
       "      <td>12.732596</td>\n",
       "      <td>13.995827</td>\n",
       "    </tr>\n",
       "    <tr>\n",
       "      <th>std</th>\n",
       "      <td>13.583504</td>\n",
       "      <td>11.720568</td>\n",
       "      <td>13.316791</td>\n",
       "      <td>11.796728</td>\n",
       "      <td>12.514220</td>\n",
       "      <td>13.708237</td>\n",
       "    </tr>\n",
       "    <tr>\n",
       "      <th>min</th>\n",
       "      <td>1.000000</td>\n",
       "      <td>1.000000</td>\n",
       "      <td>1.000000</td>\n",
       "      <td>1.000000</td>\n",
       "      <td>1.000000</td>\n",
       "      <td>1.000000</td>\n",
       "    </tr>\n",
       "    <tr>\n",
       "      <th>25%</th>\n",
       "      <td>5.000000</td>\n",
       "      <td>5.000000</td>\n",
       "      <td>5.000000</td>\n",
       "      <td>4.000000</td>\n",
       "      <td>5.000000</td>\n",
       "      <td>5.000000</td>\n",
       "    </tr>\n",
       "    <tr>\n",
       "      <th>50%</th>\n",
       "      <td>10.000000</td>\n",
       "      <td>9.000000</td>\n",
       "      <td>9.000000</td>\n",
       "      <td>9.000000</td>\n",
       "      <td>9.000000</td>\n",
       "      <td>10.000000</td>\n",
       "    </tr>\n",
       "    <tr>\n",
       "      <th>75%</th>\n",
       "      <td>19.000000</td>\n",
       "      <td>17.000000</td>\n",
       "      <td>17.000000</td>\n",
       "      <td>16.000000</td>\n",
       "      <td>16.000000</td>\n",
       "      <td>19.000000</td>\n",
       "    </tr>\n",
       "    <tr>\n",
       "      <th>max</th>\n",
       "      <td>250.000000</td>\n",
       "      <td>119.000000</td>\n",
       "      <td>429.000000</td>\n",
       "      <td>181.000000</td>\n",
       "      <td>146.000000</td>\n",
       "      <td>250.000000</td>\n",
       "    </tr>\n",
       "  </tbody>\n",
       "</table>\n",
       "</div>"
      ],
      "text/plain": [
       "            Frasier         Niles       Martin          Roz       Daphne  \\\n",
       "count  21088.000000  10178.000000  7629.000000  4735.000000  5243.000000   \n",
       "mean      13.954097     12.746512    12.874033    12.062302    12.732596   \n",
       "std       13.583504     11.720568    13.316791    11.796728    12.514220   \n",
       "min        1.000000      1.000000     1.000000     1.000000     1.000000   \n",
       "25%        5.000000      5.000000     5.000000     4.000000     5.000000   \n",
       "50%       10.000000      9.000000     9.000000     9.000000     9.000000   \n",
       "75%       19.000000     17.000000    17.000000    16.000000    16.000000   \n",
       "max      250.000000    119.000000   429.000000   181.000000   146.000000   \n",
       "\n",
       "       Frasier (sampled)  \n",
       "count       10544.000000  \n",
       "mean           13.995827  \n",
       "std            13.708237  \n",
       "min             1.000000  \n",
       "25%             5.000000  \n",
       "50%            10.000000  \n",
       "75%            19.000000  \n",
       "max           250.000000  "
      ]
     },
     "execution_count": 44,
     "metadata": {},
     "output_type": "execute_result"
    }
   ],
   "source": [
    "# compare before and after undersampling.\n",
    "stats"
   ]
  },
  {
   "cell_type": "code",
   "execution_count": 45,
   "metadata": {},
   "outputs": [],
   "source": [
    "# create our dataset\n",
    "df_main_balanced = df_frasier_sampled\n",
    "\n",
    "cast = ['Niles', 'Martin', 'Roz', 'Daphne']\n",
    "for c in cast:\n",
    "    df_main_balanced = pd.concat([df_main_balanced, \n",
    "                                  df_main.loc[df_main['cast'] == c]])"
   ]
  },
  {
   "cell_type": "code",
   "execution_count": 46,
   "metadata": {},
   "outputs": [
    {
     "data": {
      "text/plain": [
       "Frasier    10544\n",
       "Niles      10178\n",
       "Martin      7629\n",
       "Daphne      5243\n",
       "Roz         4735\n",
       "Name: cast, dtype: int64"
      ]
     },
     "execution_count": 46,
     "metadata": {},
     "output_type": "execute_result"
    }
   ],
   "source": [
    "df_main_balanced['cast'].value_counts()"
   ]
  },
  {
   "cell_type": "code",
   "execution_count": 47,
   "metadata": {},
   "outputs": [],
   "source": [
    "# save a snapshot of our balanced dataframe\n",
    "pickle.dump(df_main_balanced, open('./df_main_balanced.pkl', 'wb'))"
   ]
  },
  {
   "cell_type": "markdown",
   "metadata": {},
   "source": [
    "## Tokenisation and Model Engineering"
   ]
  },
  {
   "cell_type": "code",
   "execution_count": null,
   "metadata": {},
   "outputs": [],
   "source": []
  }
 ],
 "metadata": {
  "kernelspec": {
   "display_name": "Python 3",
   "language": "python",
   "name": "python3"
  },
  "language_info": {
   "codemirror_mode": {
    "name": "ipython",
    "version": 3
   },
   "file_extension": ".py",
   "mimetype": "text/x-python",
   "name": "python",
   "nbconvert_exporter": "python",
   "pygments_lexer": "ipython3",
   "version": "3.7.3"
  }
 },
 "nbformat": 4,
 "nbformat_minor": 2
}
