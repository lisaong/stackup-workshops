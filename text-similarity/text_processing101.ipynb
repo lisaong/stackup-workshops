{
  "nbformat": 4,
  "nbformat_minor": 0,
  "metadata": {
    "colab": {
      "name": "text_processing101.ipynb",
      "provenance": [],
      "collapsed_sections": [],
      "toc_visible": true,
      "authorship_tag": "ABX9TyM8iMngl0LueYGfIZNKwddR",
      "include_colab_link": true
    },
    "kernelspec": {
      "name": "python3",
      "display_name": "Python 3"
    }
  },
  "cells": [
    {
      "cell_type": "markdown",
      "metadata": {
        "id": "view-in-github",
        "colab_type": "text"
      },
      "source": [
        "<a href=\"https://colab.research.google.com/github/lisaong/stackup-workshops/blob/master/text-similarity/text_processing101.ipynb\" target=\"_parent\"><img src=\"https://colab.research.google.com/assets/colab-badge.svg\" alt=\"Open In Colab\"/></a>"
      ]
    },
    {
      "cell_type": "markdown",
      "metadata": {
        "id": "uR9eZTvhAMD9",
        "colab_type": "text"
      },
      "source": [
        "# Text Processing 101 Demo Notebook\n",
        "\n",
        "Useful references:\n",
        "- spacy usage: https://spacy.io/usage\n",
        "- spacy cheatsheet: https://www.datacamp.com/community/blog/spacy-cheatsheet\n",
        "- matplotlib: https://www.datacamp.com/community/blog/python-matplotlib-cheat-sheet\n",
        "- seaborn: https://www.datacamp.com/community/blog/seaborn-cheat-sheet-python\n",
        "- numpy: https://www.datacamp.com/community/blog/python-numpy-cheat-sheet"
      ]
    },
    {
      "cell_type": "markdown",
      "metadata": {
        "id": "1574A2QSDjvH",
        "colab_type": "text"
      },
      "source": [
        "## Part 1 - Text Processing\n",
        "\n",
        "1. Load a language model\n",
        "2. Tokenise the text\n",
        "3. Clean and Explore the text\n"
      ]
    },
    {
      "cell_type": "markdown",
      "metadata": {
        "id": "rMrcwUp-DgYF",
        "colab_type": "text"
      },
      "source": [
        "### Language models\n",
        "\n",
        "Install spacy language models for:\n",
        "- English\n",
        "- Chinese\n",
        "\n",
        "Language models come in different sizes, larger models include more words. Each language is trained on a different corpus (large collections of text from web, conversations, newspapers, etc).\n",
        "\n",
        "For example:\n",
        "\n",
        "| Model | English (OntoNotes, Common Crawl) | Chinese (OntoNotes) |\n",
        "|--|--|--|\n",
        "| Small | 11MB | 45MB|\n",
        "| Medium | 45MB | 75MB |\n",
        "| Large | 746MB | 575MB |\n",
        "\n",
        "Full list here: https://spacy.io/usage/models"
      ]
    },
    {
      "cell_type": "code",
      "metadata": {
        "id": "VxLd2U-mEOfF",
        "colab_type": "code",
        "colab": {
          "base_uri": "https://localhost:8080/",
          "height": 598
        },
        "outputId": "16b36583-f777-4a24-df58-3c8376bd7aee"
      },
      "source": [
        "# Instal spacy 2.3 so that we can use Chinese models\n",
        "!pip install spacy==2.3"
      ],
      "execution_count": 1,
      "outputs": [
        {
          "output_type": "stream",
          "text": [
            "Collecting spacy==2.3\n",
            "\u001b[?25l  Downloading https://files.pythonhosted.org/packages/31/c7/e66e2af1cfa418c3a3917c116c4e00ccffa546f18f59e6acd7953d833c5c/spacy-2.3.0-cp36-cp36m-manylinux1_x86_64.whl (10.0MB)\n",
            "\u001b[K     |████████████████████████████████| 10.0MB 551kB/s \n",
            "\u001b[?25hRequirement already satisfied: catalogue<1.1.0,>=0.0.7 in /usr/local/lib/python3.6/dist-packages (from spacy==2.3) (1.0.0)\n",
            "Collecting thinc==7.4.1\n",
            "\u001b[?25l  Downloading https://files.pythonhosted.org/packages/10/ae/ef3ae5e93639c0ef8e3eb32e3c18341e511b3c515fcfc603f4b808087651/thinc-7.4.1-cp36-cp36m-manylinux1_x86_64.whl (2.1MB)\n",
            "\u001b[K     |████████████████████████████████| 2.1MB 44.9MB/s \n",
            "\u001b[?25hRequirement already satisfied: murmurhash<1.1.0,>=0.28.0 in /usr/local/lib/python3.6/dist-packages (from spacy==2.3) (1.0.2)\n",
            "Requirement already satisfied: preshed<3.1.0,>=3.0.2 in /usr/local/lib/python3.6/dist-packages (from spacy==2.3) (3.0.2)\n",
            "Requirement already satisfied: srsly<1.1.0,>=1.0.2 in /usr/local/lib/python3.6/dist-packages (from spacy==2.3) (1.0.2)\n",
            "Requirement already satisfied: setuptools in /usr/local/lib/python3.6/dist-packages (from spacy==2.3) (47.3.1)\n",
            "Requirement already satisfied: tqdm<5.0.0,>=4.38.0 in /usr/local/lib/python3.6/dist-packages (from spacy==2.3) (4.41.1)\n",
            "Requirement already satisfied: blis<0.5.0,>=0.4.0 in /usr/local/lib/python3.6/dist-packages (from spacy==2.3) (0.4.1)\n",
            "Requirement already satisfied: wasabi<1.1.0,>=0.4.0 in /usr/local/lib/python3.6/dist-packages (from spacy==2.3) (0.6.0)\n",
            "Requirement already satisfied: numpy>=1.15.0 in /usr/local/lib/python3.6/dist-packages (from spacy==2.3) (1.18.5)\n",
            "Requirement already satisfied: plac<1.2.0,>=0.9.6 in /usr/local/lib/python3.6/dist-packages (from spacy==2.3) (1.1.3)\n",
            "Requirement already satisfied: cymem<2.1.0,>=2.0.2 in /usr/local/lib/python3.6/dist-packages (from spacy==2.3) (2.0.3)\n",
            "Requirement already satisfied: requests<3.0.0,>=2.13.0 in /usr/local/lib/python3.6/dist-packages (from spacy==2.3) (2.23.0)\n",
            "Requirement already satisfied: importlib-metadata>=0.20; python_version < \"3.8\" in /usr/local/lib/python3.6/dist-packages (from catalogue<1.1.0,>=0.0.7->spacy==2.3) (1.6.1)\n",
            "Requirement already satisfied: idna<3,>=2.5 in /usr/local/lib/python3.6/dist-packages (from requests<3.0.0,>=2.13.0->spacy==2.3) (2.9)\n",
            "Requirement already satisfied: certifi>=2017.4.17 in /usr/local/lib/python3.6/dist-packages (from requests<3.0.0,>=2.13.0->spacy==2.3) (2020.4.5.2)\n",
            "Requirement already satisfied: urllib3!=1.25.0,!=1.25.1,<1.26,>=1.21.1 in /usr/local/lib/python3.6/dist-packages (from requests<3.0.0,>=2.13.0->spacy==2.3) (1.24.3)\n",
            "Requirement already satisfied: chardet<4,>=3.0.2 in /usr/local/lib/python3.6/dist-packages (from requests<3.0.0,>=2.13.0->spacy==2.3) (3.0.4)\n",
            "Requirement already satisfied: zipp>=0.5 in /usr/local/lib/python3.6/dist-packages (from importlib-metadata>=0.20; python_version < \"3.8\"->catalogue<1.1.0,>=0.0.7->spacy==2.3) (3.1.0)\n",
            "Installing collected packages: thinc, spacy\n",
            "  Found existing installation: thinc 7.4.0\n",
            "    Uninstalling thinc-7.4.0:\n",
            "      Successfully uninstalled thinc-7.4.0\n",
            "  Found existing installation: spacy 2.2.4\n",
            "    Uninstalling spacy-2.2.4:\n",
            "      Successfully uninstalled spacy-2.2.4\n",
            "Successfully installed spacy-2.3.0 thinc-7.4.1\n"
          ],
          "name": "stdout"
        }
      ]
    },
    {
      "cell_type": "code",
      "metadata": {
        "id": "Ag4fSPT_0yqf",
        "colab_type": "code",
        "colab": {
          "base_uri": "https://localhost:8080/",
          "height": 598
        },
        "outputId": "ed8e6917-1aa7-4ed7-d386-61a1bc0a5ecc"
      },
      "source": [
        "# We will load the medium-sized model, which will include word vectors\n",
        "# word vectors are useful in Part 2 for finding the meaning of a text sequence\n",
        "!python -m spacy download en_core_web_md"
      ],
      "execution_count": 2,
      "outputs": [
        {
          "output_type": "stream",
          "text": [
            "Collecting en_core_web_md==2.3.0\n",
            "\u001b[?25l  Downloading https://github.com/explosion/spacy-models/releases/download/en_core_web_md-2.3.0/en_core_web_md-2.3.0.tar.gz (50.8MB)\n",
            "\u001b[K     |████████████████████████████████| 50.8MB 1.2MB/s \n",
            "\u001b[?25hRequirement already satisfied: spacy<2.4.0,>=2.3.0 in /usr/local/lib/python3.6/dist-packages (from en_core_web_md==2.3.0) (2.3.0)\n",
            "Requirement already satisfied: thinc==7.4.1 in /usr/local/lib/python3.6/dist-packages (from spacy<2.4.0,>=2.3.0->en_core_web_md==2.3.0) (7.4.1)\n",
            "Requirement already satisfied: cymem<2.1.0,>=2.0.2 in /usr/local/lib/python3.6/dist-packages (from spacy<2.4.0,>=2.3.0->en_core_web_md==2.3.0) (2.0.3)\n",
            "Requirement already satisfied: catalogue<1.1.0,>=0.0.7 in /usr/local/lib/python3.6/dist-packages (from spacy<2.4.0,>=2.3.0->en_core_web_md==2.3.0) (1.0.0)\n",
            "Requirement already satisfied: murmurhash<1.1.0,>=0.28.0 in /usr/local/lib/python3.6/dist-packages (from spacy<2.4.0,>=2.3.0->en_core_web_md==2.3.0) (1.0.2)\n",
            "Requirement already satisfied: numpy>=1.15.0 in /usr/local/lib/python3.6/dist-packages (from spacy<2.4.0,>=2.3.0->en_core_web_md==2.3.0) (1.18.5)\n",
            "Requirement already satisfied: tqdm<5.0.0,>=4.38.0 in /usr/local/lib/python3.6/dist-packages (from spacy<2.4.0,>=2.3.0->en_core_web_md==2.3.0) (4.41.1)\n",
            "Requirement already satisfied: plac<1.2.0,>=0.9.6 in /usr/local/lib/python3.6/dist-packages (from spacy<2.4.0,>=2.3.0->en_core_web_md==2.3.0) (1.1.3)\n",
            "Requirement already satisfied: blis<0.5.0,>=0.4.0 in /usr/local/lib/python3.6/dist-packages (from spacy<2.4.0,>=2.3.0->en_core_web_md==2.3.0) (0.4.1)\n",
            "Requirement already satisfied: wasabi<1.1.0,>=0.4.0 in /usr/local/lib/python3.6/dist-packages (from spacy<2.4.0,>=2.3.0->en_core_web_md==2.3.0) (0.6.0)\n",
            "Requirement already satisfied: preshed<3.1.0,>=3.0.2 in /usr/local/lib/python3.6/dist-packages (from spacy<2.4.0,>=2.3.0->en_core_web_md==2.3.0) (3.0.2)\n",
            "Requirement already satisfied: srsly<1.1.0,>=1.0.2 in /usr/local/lib/python3.6/dist-packages (from spacy<2.4.0,>=2.3.0->en_core_web_md==2.3.0) (1.0.2)\n",
            "Requirement already satisfied: setuptools in /usr/local/lib/python3.6/dist-packages (from spacy<2.4.0,>=2.3.0->en_core_web_md==2.3.0) (47.3.1)\n",
            "Requirement already satisfied: requests<3.0.0,>=2.13.0 in /usr/local/lib/python3.6/dist-packages (from spacy<2.4.0,>=2.3.0->en_core_web_md==2.3.0) (2.23.0)\n",
            "Requirement already satisfied: importlib-metadata>=0.20; python_version < \"3.8\" in /usr/local/lib/python3.6/dist-packages (from catalogue<1.1.0,>=0.0.7->spacy<2.4.0,>=2.3.0->en_core_web_md==2.3.0) (1.6.1)\n",
            "Requirement already satisfied: chardet<4,>=3.0.2 in /usr/local/lib/python3.6/dist-packages (from requests<3.0.0,>=2.13.0->spacy<2.4.0,>=2.3.0->en_core_web_md==2.3.0) (3.0.4)\n",
            "Requirement already satisfied: idna<3,>=2.5 in /usr/local/lib/python3.6/dist-packages (from requests<3.0.0,>=2.13.0->spacy<2.4.0,>=2.3.0->en_core_web_md==2.3.0) (2.9)\n",
            "Requirement already satisfied: certifi>=2017.4.17 in /usr/local/lib/python3.6/dist-packages (from requests<3.0.0,>=2.13.0->spacy<2.4.0,>=2.3.0->en_core_web_md==2.3.0) (2020.4.5.2)\n",
            "Requirement already satisfied: urllib3!=1.25.0,!=1.25.1,<1.26,>=1.21.1 in /usr/local/lib/python3.6/dist-packages (from requests<3.0.0,>=2.13.0->spacy<2.4.0,>=2.3.0->en_core_web_md==2.3.0) (1.24.3)\n",
            "Requirement already satisfied: zipp>=0.5 in /usr/local/lib/python3.6/dist-packages (from importlib-metadata>=0.20; python_version < \"3.8\"->catalogue<1.1.0,>=0.0.7->spacy<2.4.0,>=2.3.0->en_core_web_md==2.3.0) (3.1.0)\n",
            "Building wheels for collected packages: en-core-web-md\n",
            "  Building wheel for en-core-web-md (setup.py) ... \u001b[?25l\u001b[?25hdone\n",
            "  Created wheel for en-core-web-md: filename=en_core_web_md-2.3.0-cp36-none-any.whl size=50921515 sha256=c090042df55ae74a3380e2b5be39a630bfbc1ff5029f2cc5a388af3f6596f79a\n",
            "  Stored in directory: /tmp/pip-ephem-wheel-cache-to7kw3_w/wheels/0d/1f/15/ea2b10dec65de31d56a2b3f383f4e21e1e6358f27877853fbb\n",
            "Successfully built en-core-web-md\n",
            "Installing collected packages: en-core-web-md\n",
            "Successfully installed en-core-web-md-2.3.0\n",
            "\u001b[38;5;2m✔ Download and installation successful\u001b[0m\n",
            "You can now load the model via spacy.load('en_core_web_md')\n"
          ],
          "name": "stdout"
        }
      ]
    },
    {
      "cell_type": "code",
      "metadata": {
        "id": "bgeTgri2D2Ag",
        "colab_type": "code",
        "colab": {
          "base_uri": "https://localhost:8080/",
          "height": 738
        },
        "outputId": "8c7b5f99-233a-4082-c607-610aa51a31ff"
      },
      "source": [
        "# do the same for the Chinese model\n",
        "!python -m spacy download zh_core_web_md"
      ],
      "execution_count": 3,
      "outputs": [
        {
          "output_type": "stream",
          "text": [
            "Collecting zh_core_web_md==2.3.1\n",
            "\u001b[?25l  Downloading https://github.com/explosion/spacy-models/releases/download/zh_core_web_md-2.3.1/zh_core_web_md-2.3.1.tar.gz (78.9MB)\n",
            "\u001b[K     |████████████████████████████████| 78.9MB 1.1MB/s \n",
            "\u001b[?25hRequirement already satisfied: spacy<2.4.0,>=2.3.0 in /usr/local/lib/python3.6/dist-packages (from zh_core_web_md==2.3.1) (2.3.0)\n",
            "Requirement already satisfied: jieba in /usr/local/lib/python3.6/dist-packages (from zh_core_web_md==2.3.1) (0.42.1)\n",
            "Collecting pkuseg>=0.0.22\n",
            "\u001b[?25l  Downloading https://files.pythonhosted.org/packages/64/3a/090a533c7f0682d653633cfd2d33e9aab3e671379fb199aeb7fa9bd3c34a/pkuseg-0.0.25.tar.gz (48.8MB)\n",
            "\u001b[K     |████████████████████████████████| 48.8MB 1.3MB/s \n",
            "\u001b[?25hRequirement already satisfied: preshed<3.1.0,>=3.0.2 in /usr/local/lib/python3.6/dist-packages (from spacy<2.4.0,>=2.3.0->zh_core_web_md==2.3.1) (3.0.2)\n",
            "Requirement already satisfied: catalogue<1.1.0,>=0.0.7 in /usr/local/lib/python3.6/dist-packages (from spacy<2.4.0,>=2.3.0->zh_core_web_md==2.3.1) (1.0.0)\n",
            "Requirement already satisfied: srsly<1.1.0,>=1.0.2 in /usr/local/lib/python3.6/dist-packages (from spacy<2.4.0,>=2.3.0->zh_core_web_md==2.3.1) (1.0.2)\n",
            "Requirement already satisfied: plac<1.2.0,>=0.9.6 in /usr/local/lib/python3.6/dist-packages (from spacy<2.4.0,>=2.3.0->zh_core_web_md==2.3.1) (1.1.3)\n",
            "Requirement already satisfied: cymem<2.1.0,>=2.0.2 in /usr/local/lib/python3.6/dist-packages (from spacy<2.4.0,>=2.3.0->zh_core_web_md==2.3.1) (2.0.3)\n",
            "Requirement already satisfied: blis<0.5.0,>=0.4.0 in /usr/local/lib/python3.6/dist-packages (from spacy<2.4.0,>=2.3.0->zh_core_web_md==2.3.1) (0.4.1)\n",
            "Requirement already satisfied: requests<3.0.0,>=2.13.0 in /usr/local/lib/python3.6/dist-packages (from spacy<2.4.0,>=2.3.0->zh_core_web_md==2.3.1) (2.23.0)\n",
            "Requirement already satisfied: murmurhash<1.1.0,>=0.28.0 in /usr/local/lib/python3.6/dist-packages (from spacy<2.4.0,>=2.3.0->zh_core_web_md==2.3.1) (1.0.2)\n",
            "Requirement already satisfied: thinc==7.4.1 in /usr/local/lib/python3.6/dist-packages (from spacy<2.4.0,>=2.3.0->zh_core_web_md==2.3.1) (7.4.1)\n",
            "Requirement already satisfied: numpy>=1.15.0 in /usr/local/lib/python3.6/dist-packages (from spacy<2.4.0,>=2.3.0->zh_core_web_md==2.3.1) (1.18.5)\n",
            "Requirement already satisfied: tqdm<5.0.0,>=4.38.0 in /usr/local/lib/python3.6/dist-packages (from spacy<2.4.0,>=2.3.0->zh_core_web_md==2.3.1) (4.41.1)\n",
            "Requirement already satisfied: wasabi<1.1.0,>=0.4.0 in /usr/local/lib/python3.6/dist-packages (from spacy<2.4.0,>=2.3.0->zh_core_web_md==2.3.1) (0.6.0)\n",
            "Requirement already satisfied: setuptools in /usr/local/lib/python3.6/dist-packages (from spacy<2.4.0,>=2.3.0->zh_core_web_md==2.3.1) (47.3.1)\n",
            "Requirement already satisfied: cython in /usr/local/lib/python3.6/dist-packages (from pkuseg>=0.0.22->zh_core_web_md==2.3.1) (0.29.20)\n",
            "Requirement already satisfied: importlib-metadata>=0.20; python_version < \"3.8\" in /usr/local/lib/python3.6/dist-packages (from catalogue<1.1.0,>=0.0.7->spacy<2.4.0,>=2.3.0->zh_core_web_md==2.3.1) (1.6.1)\n",
            "Requirement already satisfied: chardet<4,>=3.0.2 in /usr/local/lib/python3.6/dist-packages (from requests<3.0.0,>=2.13.0->spacy<2.4.0,>=2.3.0->zh_core_web_md==2.3.1) (3.0.4)\n",
            "Requirement already satisfied: idna<3,>=2.5 in /usr/local/lib/python3.6/dist-packages (from requests<3.0.0,>=2.13.0->spacy<2.4.0,>=2.3.0->zh_core_web_md==2.3.1) (2.9)\n",
            "Requirement already satisfied: urllib3!=1.25.0,!=1.25.1,<1.26,>=1.21.1 in /usr/local/lib/python3.6/dist-packages (from requests<3.0.0,>=2.13.0->spacy<2.4.0,>=2.3.0->zh_core_web_md==2.3.1) (1.24.3)\n",
            "Requirement already satisfied: certifi>=2017.4.17 in /usr/local/lib/python3.6/dist-packages (from requests<3.0.0,>=2.13.0->spacy<2.4.0,>=2.3.0->zh_core_web_md==2.3.1) (2020.4.5.2)\n",
            "Requirement already satisfied: zipp>=0.5 in /usr/local/lib/python3.6/dist-packages (from importlib-metadata>=0.20; python_version < \"3.8\"->catalogue<1.1.0,>=0.0.7->spacy<2.4.0,>=2.3.0->zh_core_web_md==2.3.1) (3.1.0)\n",
            "Building wheels for collected packages: zh-core-web-md, pkuseg\n",
            "  Building wheel for zh-core-web-md (setup.py) ... \u001b[?25l\u001b[?25hdone\n",
            "  Created wheel for zh-core-web-md: filename=zh_core_web_md-2.3.1-cp36-none-any.whl size=78733266 sha256=7b4cabbf9506a9741c72a1dd9359cf4e92c033aa6fa05a38f4daec5eaa98948f\n",
            "  Stored in directory: /tmp/pip-ephem-wheel-cache-fghaigl8/wheels/8a/38/cf/bde95f3f103e5a7ba7e719f318cb3933577cfe3e3f19eab222\n",
            "  Building wheel for pkuseg (setup.py) ... \u001b[?25l\u001b[?25hdone\n",
            "  Created wheel for pkuseg: filename=pkuseg-0.0.25-cp36-cp36m-linux_x86_64.whl size=50131905 sha256=1d89b2cfc5677ffd7becc3f6c320700c6acfb96756c0319d41cbf32fe103e4f1\n",
            "  Stored in directory: /tmp/pip-ephem-wheel-cache-fghaigl8/wheels/7b/e1/23/a7ad8a65e052b7961808cc7d17236f6ba92fc451327f13f3f9\n",
            "Successfully built zh-core-web-md pkuseg\n",
            "Installing collected packages: pkuseg, zh-core-web-md\n",
            "Successfully installed pkuseg-0.0.25 zh-core-web-md-2.3.1\n",
            "\u001b[38;5;2m✔ Download and installation successful\u001b[0m\n",
            "You can now load the model via spacy.load('zh_core_web_md')\n"
          ],
          "name": "stdout"
        }
      ]
    },
    {
      "cell_type": "markdown",
      "metadata": {
        "id": "8XUgjBmnD-hq",
        "colab_type": "text"
      },
      "source": [
        "### Restart the Runtime\n",
        "In order for the language models to load, we need to restart the Colab runtime.\n",
        "\n",
        "Runtime -> Restart Runtime\n",
        "\n",
        "This reuses the same cloud machine, but restarts Python so that it can find the new models.\n",
        "\n",
        "Otherwise you get this error: `OSError: [E050] Can't find model 'en_core_web_md'. It doesn't seem to be a shortcut link, a Python package or a valid path to a data directory.`\n",
        "\n",
        "Once runtime is restarted, continue with the cells below.\n"
      ]
    },
    {
      "cell_type": "code",
      "metadata": {
        "id": "XPad1uZJEF5L",
        "colab_type": "code",
        "colab": {}
      },
      "source": [
        "import spacy"
      ],
      "execution_count": 1,
      "outputs": []
    },
    {
      "cell_type": "code",
      "metadata": {
        "id": "gOSdQSJwGvXV",
        "colab_type": "code",
        "colab": {
          "base_uri": "https://localhost:8080/",
          "height": 87
        },
        "outputId": "ae641f69-b361-40a6-ed42-c8780d0c3744"
      },
      "source": [
        "nlp_en = spacy.load(\"en_core_web_md\")\n",
        "nlp_zh = spacy.load(\"zh_core_web_md\")"
      ],
      "execution_count": 2,
      "outputs": [
        {
          "output_type": "stream",
          "text": [
            "Building prefix dict from the default dictionary ...\n",
            "Dumping model to file cache /tmp/jieba.cache\n",
            "Loading model cost 0.919 seconds.\n",
            "Prefix dict has been built successfully.\n"
          ],
          "name": "stderr"
        }
      ]
    },
    {
      "cell_type": "markdown",
      "metadata": {
        "id": "EpWQyRQkG8hZ",
        "colab_type": "text"
      },
      "source": [
        "### Tokenise some text\n",
        "\n",
        "We'll try both English and Chinese text from news articles.\n",
        "\n",
        "Note that the language models are not interchangeable (different vocabulary, tokenisation, linguistic features).\n",
        "\n",
        "Simple tokenisations:\n",
        "1. Tokenise by word, or\n",
        "2. Tokenise by sentence\n",
        "\n",
        "Here's an example of tokenisation by word:\n",
        "\n",
        "![stringstore](https://github.com/lisaong/stackup-workshops/raw/master/text-similarity/assets/vocab_stringstore.png)\n",
        "\n",
        "(Image: https://course.spacy.io)"
      ]
    },
    {
      "cell_type": "code",
      "metadata": {
        "id": "iqpYCZWxG_6n",
        "colab_type": "code",
        "colab": {}
      },
      "source": [
        "# Taken from: https://www.straitstimes.com/singapore/jobs-for-many-singaporeans-in-growing-infocomm-sector\n",
        "text_en = \"\"\"Jobs are available for Singaporeans in the infocommunications space over the next three years, with the Republic facing a huge shortage of professionals, said Minister-in-charge of the Smart Nation Initiative Vivian Balakrishnan.\n",
        "\n",
        "Singaporeans can secure these well-paying jobs if they are prepared to train and reskill, said Dr Balakrishnan, who is also Foreign Minister, in an interview with The Straits Times.\n",
        "\n",
        "He said digitalisation and disruption had already taken root when the current crisis struck. Covid-19 accelerated these trends.\n",
        "\n",
        "While Singapore's immediate priority is to save jobs, that is not enough because \"jobs are going to change\", he added.\n",
        "\"\"\"\n",
        "\n",
        "# process using spaCy\n",
        "doc_en = nlp_en(text_en)"
      ],
      "execution_count": 4,
      "outputs": []
    },
    {
      "cell_type": "code",
      "metadata": {
        "id": "SCDURbSc41TS",
        "colab_type": "code",
        "colab": {
          "base_uri": "https://localhost:8080/",
          "height": 1000
        },
        "outputId": "93a51808-7969-47f2-aeb4-e521f7dedf7b"
      },
      "source": [
        "# word tokenisation\n",
        "[t for t in doc_en]"
      ],
      "execution_count": 5,
      "outputs": [
        {
          "output_type": "execute_result",
          "data": {
            "text/plain": [
              "[Jobs,\n",
              " are,\n",
              " available,\n",
              " for,\n",
              " Singaporeans,\n",
              " in,\n",
              " the,\n",
              " infocommunications,\n",
              " space,\n",
              " over,\n",
              " the,\n",
              " next,\n",
              " three,\n",
              " years,\n",
              " ,,\n",
              " with,\n",
              " the,\n",
              " Republic,\n",
              " facing,\n",
              " a,\n",
              " huge,\n",
              " shortage,\n",
              " of,\n",
              " professionals,\n",
              " ,,\n",
              " said,\n",
              " Minister,\n",
              " -,\n",
              " in,\n",
              " -,\n",
              " charge,\n",
              " of,\n",
              " the,\n",
              " Smart,\n",
              " Nation,\n",
              " Initiative,\n",
              " Vivian,\n",
              " Balakrishnan,\n",
              " .,\n",
              " \n",
              " ,\n",
              " Singaporeans,\n",
              " can,\n",
              " secure,\n",
              " these,\n",
              " well,\n",
              " -,\n",
              " paying,\n",
              " jobs,\n",
              " if,\n",
              " they,\n",
              " are,\n",
              " prepared,\n",
              " to,\n",
              " train,\n",
              " and,\n",
              " reskill,\n",
              " ,,\n",
              " said,\n",
              " Dr,\n",
              " Balakrishnan,\n",
              " ,,\n",
              " who,\n",
              " is,\n",
              " also,\n",
              " Foreign,\n",
              " Minister,\n",
              " ,,\n",
              " in,\n",
              " an,\n",
              " interview,\n",
              " with,\n",
              " The,\n",
              " Straits,\n",
              " Times,\n",
              " .,\n",
              " \n",
              " ,\n",
              " He,\n",
              " said,\n",
              " digitalisation,\n",
              " and,\n",
              " disruption,\n",
              " had,\n",
              " already,\n",
              " taken,\n",
              " root,\n",
              " when,\n",
              " the,\n",
              " current,\n",
              " crisis,\n",
              " struck,\n",
              " .,\n",
              " Covid-19,\n",
              " accelerated,\n",
              " these,\n",
              " trends,\n",
              " .,\n",
              " \n",
              " ,\n",
              " While,\n",
              " Singapore,\n",
              " 's,\n",
              " immediate,\n",
              " priority,\n",
              " is,\n",
              " to,\n",
              " save,\n",
              " jobs,\n",
              " ,,\n",
              " that,\n",
              " is,\n",
              " not,\n",
              " enough,\n",
              " because,\n",
              " \",\n",
              " jobs,\n",
              " are,\n",
              " going,\n",
              " to,\n",
              " change,\n",
              " \",\n",
              " ,,\n",
              " he,\n",
              " added,\n",
              " .,\n",
              " ]"
            ]
          },
          "metadata": {
            "tags": []
          },
          "execution_count": 5
        }
      ]
    },
    {
      "cell_type": "code",
      "metadata": {
        "id": "S9w7mWqB4AFx",
        "colab_type": "code",
        "colab": {
          "base_uri": "https://localhost:8080/",
          "height": 177
        },
        "outputId": "805527cf-1b66-4a5a-e105-e684959014e1"
      },
      "source": [
        "# sentence tokenisation\n",
        "[s for s in doc_en.sents]"
      ],
      "execution_count": 6,
      "outputs": [
        {
          "output_type": "execute_result",
          "data": {
            "text/plain": [
              "[Jobs are available for Singaporeans in the infocommunications space over the next three years, with the Republic facing a huge shortage of professionals, said Minister-in-charge of the Smart Nation Initiative Vivian Balakrishnan.\n",
              " ,\n",
              " Singaporeans can secure these well-paying jobs if they are prepared to train and reskill, said Dr Balakrishnan, who is also Foreign Minister, in an interview with The Straits Times.\n",
              " ,\n",
              " He said digitalisation and disruption had already taken root when the current crisis struck.,\n",
              " Covid-19 accelerated these trends.\n",
              " ,\n",
              " While Singapore's immediate priority is to save jobs, that is not enough because \"jobs are going to change\", he added.]"
            ]
          },
          "metadata": {
            "tags": []
          },
          "execution_count": 6
        }
      ]
    },
    {
      "cell_type": "code",
      "metadata": {
        "id": "px2Kb77FHWcf",
        "colab_type": "code",
        "colab": {}
      },
      "source": [
        "# Taken from: https://www.zaobao.com.sg/zvideos/news/story20200621-1062143\n",
        "text_zh = \"\"\"今年的8月9日对林猷冠来说，将和往年大为不同。这位过去60年里每年都必定亲临现场为新加坡庆生的“最忠实出席者”，今年因国庆形式调整，首次无法到现场庆祝国庆。\n",
        "\n",
        "林猷冠（75岁）不只每年看国庆，早年还是在庆典上亮相的表演者，每年表演醒狮。\n",
        "\n",
        "70年代中期后，国庆庆典上的醒狮表演逐渐少了，林猷冠的身份也从表演者转为观众。但他对国庆的热忱不减，每年坚持到现场观看庆典。\n",
        "\"\"\"\n",
        "\n",
        "# parse using spaCy\n",
        "doc_zh = nlp_zh(text_zh) "
      ],
      "execution_count": 7,
      "outputs": []
    },
    {
      "cell_type": "code",
      "metadata": {
        "id": "0cxtAQKn4wvu",
        "colab_type": "code",
        "colab": {
          "base_uri": "https://localhost:8080/",
          "height": 1000
        },
        "outputId": "d7d123cc-2030-4711-9b66-002de26b713f"
      },
      "source": [
        "# word tokenisation\n",
        "[t for t in doc_zh]"
      ],
      "execution_count": 8,
      "outputs": [
        {
          "output_type": "execute_result",
          "data": {
            "text/plain": [
              "[今年,\n",
              " 的,\n",
              " 8月,\n",
              " 9日,\n",
              " 对,\n",
              " 林猷冠,\n",
              " 来说,\n",
              " ，,\n",
              " 将,\n",
              " 和,\n",
              " 往年,\n",
              " 大为,\n",
              " 不同,\n",
              " 。,\n",
              " 这位,\n",
              " 过去,\n",
              " 60年,\n",
              " 里,\n",
              " 每年,\n",
              " 都,\n",
              " 必定,\n",
              " 亲临,\n",
              " 现场,\n",
              " 为,\n",
              " 新加坡,\n",
              " 庆生,\n",
              " 的,\n",
              " “,\n",
              " 最,\n",
              " 忠实,\n",
              " 出席者,\n",
              " ”,\n",
              " ，,\n",
              " 今年,\n",
              " 因,\n",
              " 国庆,\n",
              " 形式,\n",
              " 调整,\n",
              " ，,\n",
              " 首次,\n",
              " 无法,\n",
              " 到,\n",
              " 现场,\n",
              " 庆祝,\n",
              " 国庆,\n",
              " 。,\n",
              " \n",
              " ,\n",
              " 林猷冠,\n",
              " （,\n",
              " 75,\n",
              " 岁,\n",
              " ）,\n",
              " 不只,\n",
              " 每年,\n",
              " 看,\n",
              " 国庆,\n",
              " ，,\n",
              " 早年,\n",
              " 还是,\n",
              " 在,\n",
              " 庆典,\n",
              " 上,\n",
              " 亮相,\n",
              " 的,\n",
              " 表演者,\n",
              " ，,\n",
              " 每年,\n",
              " 表演,\n",
              " 醒狮,\n",
              " 。,\n",
              " \n",
              " ,\n",
              " 70年代,\n",
              " 中期,\n",
              " 后,\n",
              " ，,\n",
              " 国庆,\n",
              " 庆典,\n",
              " 上,\n",
              " 的,\n",
              " 醒狮,\n",
              " 表演,\n",
              " 逐渐,\n",
              " 少,\n",
              " 了,\n",
              " ，,\n",
              " 林猷冠,\n",
              " 的,\n",
              " 身份,\n",
              " 也,\n",
              " 从,\n",
              " 表演者,\n",
              " 转为,\n",
              " 观众,\n",
              " 。,\n",
              " 但,\n",
              " 他,\n",
              " 对,\n",
              " 国庆,\n",
              " 的,\n",
              " 热忱不减,\n",
              " ，,\n",
              " 每年,\n",
              " 坚持,\n",
              " 到,\n",
              " 现场,\n",
              " 观看,\n",
              " 庆典,\n",
              " 。,\n",
              " ]"
            ]
          },
          "metadata": {
            "tags": []
          },
          "execution_count": 8
        }
      ]
    },
    {
      "cell_type": "code",
      "metadata": {
        "id": "etyYaxmq4P5j",
        "colab_type": "code",
        "colab": {
          "base_uri": "https://localhost:8080/",
          "height": 157
        },
        "outputId": "f66bbb28-8a88-4856-85c1-8b2997d4e3db"
      },
      "source": [
        "# sentence tokenisation\n",
        "[s for s in doc_zh.sents]"
      ],
      "execution_count": 9,
      "outputs": [
        {
          "output_type": "execute_result",
          "data": {
            "text/plain": [
              "[今年的8月9日对林猷冠来说，将和往年大为不同。,\n",
              " 这位过去60年里每年都必定亲临现场为新加坡庆生的“最忠实出席者”，今年因国庆形式调整，首次无法到现场庆祝国庆。\n",
              " ,\n",
              " 林猷冠（75岁）,\n",
              " 不只每年看国庆，早年还是在庆典上亮相的表演者，每年表演醒狮。\n",
              " ,\n",
              " 70年代中期后，国庆庆典上的醒狮表演逐渐少了，林猷冠的身份也从表演者转为观众。,\n",
              " 但他对国庆的热忱不减，每年坚持到现场观看庆典。]"
            ]
          },
          "metadata": {
            "tags": []
          },
          "execution_count": 9
        }
      ]
    },
    {
      "cell_type": "markdown",
      "metadata": {
        "id": "88J9ZDJGTaxW",
        "colab_type": "text"
      },
      "source": [
        "### Clean the text\n",
        "\n",
        "Each document contains a list of tokens. We'll go through each of them and discard the tokens we don't need.\n",
        "\n",
        "Q: How do we decide what we need or don't need?\n",
        "\n",
        "A: This depends on what you are trying to build. For example, are punctuation or upper/lower-case important for understanding your text?\n",
        "\n",
        "Commonly done:\n",
        "- Remove punctuation\n",
        "- Remove extra spaces (such as newlines)\n",
        "- Remove very common words that don't add to meaning (aka. stop words)\n",
        "\n",
        "Note: Casing is automatically handled by spaCy"
      ]
    },
    {
      "cell_type": "code",
      "metadata": {
        "id": "sVJkItsPT5RU",
        "colab_type": "code",
        "colab": {
          "base_uri": "https://localhost:8080/",
          "height": 964
        },
        "outputId": "9841c7ad-fa50-4483-881e-f0ffaea0f3b1"
      },
      "source": [
        "# We will combine tokenisation and cleaning into a helper function so we\n",
        "# can see end-to-end\n",
        "def clean_text(text, nlp):\n",
        "  \"\"\"Takes in an input text and returns tokens after cleaning\n",
        "  \"\"\"\n",
        "  doc = nlp(text)\n",
        "  return [t for t in doc if not (t.is_punct \n",
        "    or t.is_space or t.is_stop)]\n",
        "\n",
        "clean_text(text_en, nlp_en)"
      ],
      "execution_count": 10,
      "outputs": [
        {
          "output_type": "execute_result",
          "data": {
            "text/plain": [
              "[Jobs,\n",
              " available,\n",
              " Singaporeans,\n",
              " infocommunications,\n",
              " space,\n",
              " years,\n",
              " Republic,\n",
              " facing,\n",
              " huge,\n",
              " shortage,\n",
              " professionals,\n",
              " said,\n",
              " Minister,\n",
              " charge,\n",
              " Smart,\n",
              " Nation,\n",
              " Initiative,\n",
              " Vivian,\n",
              " Balakrishnan,\n",
              " Singaporeans,\n",
              " secure,\n",
              " paying,\n",
              " jobs,\n",
              " prepared,\n",
              " train,\n",
              " reskill,\n",
              " said,\n",
              " Dr,\n",
              " Balakrishnan,\n",
              " Foreign,\n",
              " Minister,\n",
              " interview,\n",
              " Straits,\n",
              " Times,\n",
              " said,\n",
              " digitalisation,\n",
              " disruption,\n",
              " taken,\n",
              " root,\n",
              " current,\n",
              " crisis,\n",
              " struck,\n",
              " Covid-19,\n",
              " accelerated,\n",
              " trends,\n",
              " Singapore,\n",
              " immediate,\n",
              " priority,\n",
              " save,\n",
              " jobs,\n",
              " jobs,\n",
              " going,\n",
              " change,\n",
              " added]"
            ]
          },
          "metadata": {
            "tags": []
          },
          "execution_count": 10
        }
      ]
    },
    {
      "cell_type": "code",
      "metadata": {
        "id": "q8N3pzb3VPGL",
        "colab_type": "code",
        "colab": {
          "base_uri": "https://localhost:8080/",
          "height": 859
        },
        "outputId": "05165a1e-c303-4b50-d74e-e21cf598a41d"
      },
      "source": [
        "clean_text(text_zh, nlp_zh)"
      ],
      "execution_count": 11,
      "outputs": [
        {
          "output_type": "execute_result",
          "data": {
            "text/plain": [
              "[8月,\n",
              " 9日,\n",
              " 林猷冠,\n",
              " 往年,\n",
              " 大为,\n",
              " 这位,\n",
              " 60年,\n",
              " 里,\n",
              " 亲临,\n",
              " 现场,\n",
              " 新加坡,\n",
              " 庆生,\n",
              " 忠实,\n",
              " 出席者,\n",
              " 国庆,\n",
              " 形式,\n",
              " 调整,\n",
              " 首次,\n",
              " 现场,\n",
              " 庆祝,\n",
              " 国庆,\n",
              " 林猷冠,\n",
              " 75,\n",
              " 岁,\n",
              " 国庆,\n",
              " 早年,\n",
              " 庆典,\n",
              " 亮相,\n",
              " 表演者,\n",
              " 表演,\n",
              " 醒狮,\n",
              " 70年代,\n",
              " 中期,\n",
              " 国庆,\n",
              " 庆典,\n",
              " 醒狮,\n",
              " 表演,\n",
              " 少,\n",
              " 林猷冠,\n",
              " 身份,\n",
              " 表演者,\n",
              " 转为,\n",
              " 观众,\n",
              " 国庆,\n",
              " 热忱不减,\n",
              " 现场,\n",
              " 观看,\n",
              " 庆典]"
            ]
          },
          "metadata": {
            "tags": []
          },
          "execution_count": 11
        }
      ]
    },
    {
      "cell_type": "code",
      "metadata": {
        "id": "0d0Az5W6oK-J",
        "colab_type": "code",
        "colab": {
          "base_uri": "https://localhost:8080/",
          "height": 1000
        },
        "outputId": "be4de6a3-262b-47c1-f2f7-be8b5014e460"
      },
      "source": [
        "# checking the stop words\n",
        "\n",
        "nlp_en.Defaults.stop_words"
      ],
      "execution_count": 12,
      "outputs": [
        {
          "output_type": "execute_result",
          "data": {
            "text/plain": [
              "{\"'d\",\n",
              " \"'ll\",\n",
              " \"'m\",\n",
              " \"'re\",\n",
              " \"'s\",\n",
              " \"'ve\",\n",
              " 'a',\n",
              " 'about',\n",
              " 'above',\n",
              " 'across',\n",
              " 'after',\n",
              " 'afterwards',\n",
              " 'again',\n",
              " 'against',\n",
              " 'all',\n",
              " 'almost',\n",
              " 'alone',\n",
              " 'along',\n",
              " 'already',\n",
              " 'also',\n",
              " 'although',\n",
              " 'always',\n",
              " 'am',\n",
              " 'among',\n",
              " 'amongst',\n",
              " 'amount',\n",
              " 'an',\n",
              " 'and',\n",
              " 'another',\n",
              " 'any',\n",
              " 'anyhow',\n",
              " 'anyone',\n",
              " 'anything',\n",
              " 'anyway',\n",
              " 'anywhere',\n",
              " 'are',\n",
              " 'around',\n",
              " 'as',\n",
              " 'at',\n",
              " 'back',\n",
              " 'be',\n",
              " 'became',\n",
              " 'because',\n",
              " 'become',\n",
              " 'becomes',\n",
              " 'becoming',\n",
              " 'been',\n",
              " 'before',\n",
              " 'beforehand',\n",
              " 'behind',\n",
              " 'being',\n",
              " 'below',\n",
              " 'beside',\n",
              " 'besides',\n",
              " 'between',\n",
              " 'beyond',\n",
              " 'both',\n",
              " 'bottom',\n",
              " 'but',\n",
              " 'by',\n",
              " 'ca',\n",
              " 'call',\n",
              " 'can',\n",
              " 'cannot',\n",
              " 'could',\n",
              " 'did',\n",
              " 'do',\n",
              " 'does',\n",
              " 'doing',\n",
              " 'done',\n",
              " 'down',\n",
              " 'due',\n",
              " 'during',\n",
              " 'each',\n",
              " 'eight',\n",
              " 'either',\n",
              " 'eleven',\n",
              " 'else',\n",
              " 'elsewhere',\n",
              " 'empty',\n",
              " 'enough',\n",
              " 'even',\n",
              " 'ever',\n",
              " 'every',\n",
              " 'everyone',\n",
              " 'everything',\n",
              " 'everywhere',\n",
              " 'except',\n",
              " 'few',\n",
              " 'fifteen',\n",
              " 'fifty',\n",
              " 'first',\n",
              " 'five',\n",
              " 'for',\n",
              " 'former',\n",
              " 'formerly',\n",
              " 'forty',\n",
              " 'four',\n",
              " 'from',\n",
              " 'front',\n",
              " 'full',\n",
              " 'further',\n",
              " 'get',\n",
              " 'give',\n",
              " 'go',\n",
              " 'had',\n",
              " 'has',\n",
              " 'have',\n",
              " 'he',\n",
              " 'hence',\n",
              " 'her',\n",
              " 'here',\n",
              " 'hereafter',\n",
              " 'hereby',\n",
              " 'herein',\n",
              " 'hereupon',\n",
              " 'hers',\n",
              " 'herself',\n",
              " 'him',\n",
              " 'himself',\n",
              " 'his',\n",
              " 'how',\n",
              " 'however',\n",
              " 'hundred',\n",
              " 'i',\n",
              " 'if',\n",
              " 'in',\n",
              " 'indeed',\n",
              " 'into',\n",
              " 'is',\n",
              " 'it',\n",
              " 'its',\n",
              " 'itself',\n",
              " 'just',\n",
              " 'keep',\n",
              " 'last',\n",
              " 'latter',\n",
              " 'latterly',\n",
              " 'least',\n",
              " 'less',\n",
              " 'made',\n",
              " 'make',\n",
              " 'many',\n",
              " 'may',\n",
              " 'me',\n",
              " 'meanwhile',\n",
              " 'might',\n",
              " 'mine',\n",
              " 'more',\n",
              " 'moreover',\n",
              " 'most',\n",
              " 'mostly',\n",
              " 'move',\n",
              " 'much',\n",
              " 'must',\n",
              " 'my',\n",
              " 'myself',\n",
              " \"n't\",\n",
              " 'name',\n",
              " 'namely',\n",
              " 'neither',\n",
              " 'never',\n",
              " 'nevertheless',\n",
              " 'next',\n",
              " 'nine',\n",
              " 'no',\n",
              " 'nobody',\n",
              " 'none',\n",
              " 'noone',\n",
              " 'nor',\n",
              " 'not',\n",
              " 'nothing',\n",
              " 'now',\n",
              " 'nowhere',\n",
              " 'n‘t',\n",
              " 'n’t',\n",
              " 'of',\n",
              " 'off',\n",
              " 'often',\n",
              " 'on',\n",
              " 'once',\n",
              " 'one',\n",
              " 'only',\n",
              " 'onto',\n",
              " 'or',\n",
              " 'other',\n",
              " 'others',\n",
              " 'otherwise',\n",
              " 'our',\n",
              " 'ours',\n",
              " 'ourselves',\n",
              " 'out',\n",
              " 'over',\n",
              " 'own',\n",
              " 'part',\n",
              " 'per',\n",
              " 'perhaps',\n",
              " 'please',\n",
              " 'put',\n",
              " 'quite',\n",
              " 'rather',\n",
              " 're',\n",
              " 'really',\n",
              " 'regarding',\n",
              " 'same',\n",
              " 'say',\n",
              " 'see',\n",
              " 'seem',\n",
              " 'seemed',\n",
              " 'seeming',\n",
              " 'seems',\n",
              " 'serious',\n",
              " 'several',\n",
              " 'she',\n",
              " 'should',\n",
              " 'show',\n",
              " 'side',\n",
              " 'since',\n",
              " 'six',\n",
              " 'sixty',\n",
              " 'so',\n",
              " 'some',\n",
              " 'somehow',\n",
              " 'someone',\n",
              " 'something',\n",
              " 'sometime',\n",
              " 'sometimes',\n",
              " 'somewhere',\n",
              " 'still',\n",
              " 'such',\n",
              " 'take',\n",
              " 'ten',\n",
              " 'than',\n",
              " 'that',\n",
              " 'the',\n",
              " 'their',\n",
              " 'them',\n",
              " 'themselves',\n",
              " 'then',\n",
              " 'thence',\n",
              " 'there',\n",
              " 'thereafter',\n",
              " 'thereby',\n",
              " 'therefore',\n",
              " 'therein',\n",
              " 'thereupon',\n",
              " 'these',\n",
              " 'they',\n",
              " 'third',\n",
              " 'this',\n",
              " 'those',\n",
              " 'though',\n",
              " 'three',\n",
              " 'through',\n",
              " 'throughout',\n",
              " 'thru',\n",
              " 'thus',\n",
              " 'to',\n",
              " 'together',\n",
              " 'too',\n",
              " 'top',\n",
              " 'toward',\n",
              " 'towards',\n",
              " 'twelve',\n",
              " 'twenty',\n",
              " 'two',\n",
              " 'under',\n",
              " 'unless',\n",
              " 'until',\n",
              " 'up',\n",
              " 'upon',\n",
              " 'us',\n",
              " 'used',\n",
              " 'using',\n",
              " 'various',\n",
              " 'very',\n",
              " 'via',\n",
              " 'was',\n",
              " 'we',\n",
              " 'well',\n",
              " 'were',\n",
              " 'what',\n",
              " 'whatever',\n",
              " 'when',\n",
              " 'whence',\n",
              " 'whenever',\n",
              " 'where',\n",
              " 'whereafter',\n",
              " 'whereas',\n",
              " 'whereby',\n",
              " 'wherein',\n",
              " 'whereupon',\n",
              " 'wherever',\n",
              " 'whether',\n",
              " 'which',\n",
              " 'while',\n",
              " 'whither',\n",
              " 'who',\n",
              " 'whoever',\n",
              " 'whole',\n",
              " 'whom',\n",
              " 'whose',\n",
              " 'why',\n",
              " 'will',\n",
              " 'with',\n",
              " 'within',\n",
              " 'without',\n",
              " 'would',\n",
              " 'yet',\n",
              " 'you',\n",
              " 'your',\n",
              " 'yours',\n",
              " 'yourself',\n",
              " 'yourselves',\n",
              " '‘d',\n",
              " '‘ll',\n",
              " '‘m',\n",
              " '‘re',\n",
              " '‘s',\n",
              " '‘ve',\n",
              " '’d',\n",
              " '’ll',\n",
              " '’m',\n",
              " '’re',\n",
              " '’s',\n",
              " '’ve'}"
            ]
          },
          "metadata": {
            "tags": []
          },
          "execution_count": 12
        }
      ]
    },
    {
      "cell_type": "markdown",
      "metadata": {
        "id": "hUyEGrSx1C3k",
        "colab_type": "text"
      },
      "source": [
        "The stopwords lists are a set, so you can easily add/remove words to customise the stopwords for your needs.\n",
        "\n",
        "More details are here:\n",
        "\n",
        "https://stackoverflow.com/questions/41170726/add-remove-custom-stop-words-with-spacy\n"
      ]
    },
    {
      "cell_type": "markdown",
      "metadata": {
        "id": "puzCArVVWlJX",
        "colab_type": "text"
      },
      "source": [
        "## Part 1b - Exploring Tokens\n",
        "What else can we do with tokens? Internally, this is what spaCy does when you call nlp(text)\n",
        "\n",
        "![nlp](https://github.com/lisaong/stackup-workshops/raw/master/text-similarity/assets/pipeline.png)\n",
        "\n",
        "Besides tokens, spaCy also provides:\n",
        "- Part of speech tagging\n",
        "- Name entity recognition\n",
        "- Dependency tree\n",
        "\n",
        "Let's take a look at some attributes of a token: https://spacy.io/api/token#attributes\n",
        "\n",
        "(Image: https://course.spacy.io)\n"
      ]
    },
    {
      "cell_type": "code",
      "metadata": {
        "id": "Y_jTEAZsXEnK",
        "colab_type": "code",
        "colab": {}
      },
      "source": [
        "# let's use the cleaned tokens\n",
        "tokens_en = clean_text(text_en, nlp_en)\n",
        "tokens_zh = clean_text(text_zh, nlp_zh)"
      ],
      "execution_count": 13,
      "outputs": []
    },
    {
      "cell_type": "code",
      "metadata": {
        "id": "8uOgBnpjXt3p",
        "colab_type": "code",
        "colab": {}
      },
      "source": [
        "def get_token_info(token):\n",
        "  \"\"\"Gets some information about any token\"\"\"\n",
        "  print('Text:', token.text)\n",
        "  print('Part of Speech (name, id):', token.pos_, token.pos)\n",
        "  print('Syntatic dependency:', token.dep_)\n",
        "  print('Syntatic Ancestors:', list(token.ancestors))\n",
        "  print('Syntatic Children:', list(token.children))\n",
        "  print('Word Vector:', list(token.vector))"
      ],
      "execution_count": 14,
      "outputs": []
    },
    {
      "cell_type": "code",
      "metadata": {
        "id": "MdesF-EVYRs3",
        "colab_type": "code",
        "colab": {
          "base_uri": "https://localhost:8080/",
          "height": 142
        },
        "outputId": "b164c88b-2831-4580-e095-51bfe7d74b45"
      },
      "source": [
        "get_token_info(tokens_en[0])"
      ],
      "execution_count": 15,
      "outputs": [
        {
          "output_type": "stream",
          "text": [
            "Text: Jobs\n",
            "Part of Speech (name, id): NOUN 92\n",
            "Syntatic dependency: nsubj\n",
            "Syntatic Ancestors: [are, said]\n",
            "Syntatic Children: []\n",
            "Word Vector: [-0.40137, -0.19474, 0.19818, -0.54391, 0.5309, 0.21999, -0.32818, 0.17793, 0.016401, 2.8541, -0.72737, -0.16053, -0.36131, -0.23523, -0.22177, 0.057084, 0.35281, 1.3199, -0.057253, 0.13008, 0.41834, 0.13319, 0.0074174, -0.21275, -0.023246, 0.20783, -0.35368, 0.14472, 0.68741, 0.38607, -0.14863, 0.01487, -0.19167, -0.5062, 0.75318, 0.38715, -0.28412, 0.1147, -0.63108, -0.061117, 0.039542, -0.078562, 0.10637, -0.23889, -0.21867, -0.023955, 0.86638, -0.38597, 0.89935, -0.36541, -0.007828, 0.21034, 0.13718, -0.3254, -0.52749, 0.43597, 0.14639, 0.028763, 0.28184, -1.0619, -0.52786, -0.88469, -0.30208, 0.19786, 1.4698, 0.0067428, 0.30814, -0.051615, -0.096924, 0.43097, -0.19442, 0.13786, -0.32614, 0.052293, 0.18228, 0.87438, 0.30449, 0.075829, 0.72784, 0.30703, -0.023131, -0.16769, 0.28953, -0.68041, -0.43045, 0.32522, 0.25538, 1.0164, 0.3058, -0.55121, -0.35774, -0.21213, -0.17357, -0.25733, 0.3795, 0.14245, -0.14306, 0.0067099, -0.03196, -0.3945, -0.51138, -0.023619, -0.1748, 0.42499, 0.26489, -0.56952, -0.3306, -0.050024, -0.12753, 0.42436, 0.11279, -0.52238, -0.363, 0.17332, 0.81041, 0.031304, 0.44279, 0.14885, 0.011846, -0.42452, 0.24963, -0.053352, -0.054832, -0.74474, 0.059633, -0.20949, 0.072993, 0.25198, 0.40471, -0.17838, 0.40314, -0.32715, -0.12058, -0.37789, 0.367, -0.24727, -0.67594, -0.017063, -0.47778, 0.10693, 0.47294, 0.28899, 0.19776, -0.17696, -0.61112, 0.065152, -0.025838, 0.27856, 0.2691, -0.35514, -0.020296, -0.44099, -0.42204, -0.19784, 0.40887, -0.077042, 0.24079, 0.16272, -0.015732, -0.30781, 0.20439, 0.14926, -0.13345, -0.253, -0.27029, -0.1277, -0.15853, -1.1341, 0.41858, -0.092391, -0.509, 0.32582, -0.83564, -0.27087, 0.33336, 0.69663, -0.95239, 0.30663, 0.67671, -0.075326, 0.34065, -0.44855, -0.26065, 0.42341, 0.56772, 0.30301, 0.44444, -0.21, 0.11659, -0.21711, -0.12504, 0.14252, 0.41105, 0.24357, -0.024195, 0.018596, 0.3063, -0.33918, 0.072837, -0.60451, 0.085889, -0.51024, 0.69874, -0.30607, -0.14931, -0.24156, -0.060618, -0.087356, 0.62127, -0.13404, -0.0020968, -0.3274, 0.19177, 0.6276, 0.28945, -0.28445, 0.16366, -0.56529, 0.042418, -0.19638, -0.34776, 0.21262, -0.44288, 0.15795, 0.10789, 0.024975, -0.26859, 0.1038, -0.30082, -0.44872, -0.038764, 0.25481, 0.086887, 0.010651, -0.0119, -0.15031, 0.25395, -0.24904, -0.00031422, 0.039556, -0.1586, -0.89605, 0.24803, -0.034598, 0.24563, -0.71942, -0.014434, 0.099594, -0.2629, -0.16294, -0.37327, 0.31369, -0.19471, -0.79784, 0.020979, -0.10572, -0.30149, 0.60441, -0.24563, -0.16595, 0.19678, 0.76048, -0.22934, 0.26227, 0.06664, -0.71306, -0.03172, -0.36983, 0.35513, 0.022471, -0.49492, -0.18356, 0.42977, 0.02594, -0.5768, 0.046096, 0.096204, 0.20267, 0.68989, 0.10379, 0.0059252, 0.7066, -0.40729, 1.0941, 0.65034, -0.79977, 0.38452, -0.089542, -0.060221, -0.87802, 0.041848, 0.057174, 0.48853, -0.38654, 0.06156, 0.14147, -0.84896, 0.08216, -0.62672, -0.49653]\n"
          ],
          "name": "stdout"
        }
      ]
    },
    {
      "cell_type": "code",
      "metadata": {
        "id": "41BMeCg2ZyRc",
        "colab_type": "code",
        "colab": {
          "base_uri": "https://localhost:8080/",
          "height": 142
        },
        "outputId": "681ed062-ef27-447a-c1c9-296b13e61cc2"
      },
      "source": [
        "get_token_info(tokens_en[1])"
      ],
      "execution_count": 16,
      "outputs": [
        {
          "output_type": "stream",
          "text": [
            "Text: available\n",
            "Part of Speech (name, id): ADJ 84\n",
            "Syntatic dependency: acomp\n",
            "Syntatic Ancestors: [are, said]\n",
            "Syntatic Children: [for]\n",
            "Word Vector: [0.014507, -0.11624, 0.010342, -0.14761, 0.1576, -0.14334, 0.091898, -0.24521, -0.026863, 1.583, 0.023671, 0.56386, 0.013103, -0.35812, 0.29182, 0.086263, -0.02164, 2.3166, -0.076147, -0.53473, -0.89396, -0.15404, -0.17019, 0.019818, -0.10969, 0.22048, -0.085441, 0.00033733, 0.16612, -0.017404, 0.014849, -0.57812, 0.19454, -0.0040787, -0.38443, 0.036314, -0.17783, 0.136, 0.21289, 0.3293, -0.2546, 0.29294, -0.12063, -0.05737, -0.26232, 0.45102, 0.15652, -0.12469, 0.38356, -0.13506, -0.042586, -0.63343, -0.039293, 0.30387, 0.063688, -0.26632, -0.026717, -0.55038, -0.63944, -0.12253, 0.16655, -0.33855, 0.080006, 0.45584, 0.38396, 0.37248, -0.52798, 0.36999, -0.020948, 0.44524, -0.076609, -0.0076453, 0.81858, -0.31565, 0.53618, 0.25676, -0.0041489, 0.16316, 0.033448, 0.43533, -0.10441, 0.20812, -0.35925, 0.16069, -0.027052, -0.035009, -0.35581, 0.50112, 0.63855, -0.20734, 0.029605, 0.36625, 0.13515, -0.12046, 0.14261, -0.20593, -0.035545, 0.15655, -0.026144, -0.17946, -0.34717, 0.035709, -0.0051285, 0.43291, 0.25572, -0.3136, -0.18686, 0.30298, -0.17403, -0.06549, 0.10109, -0.39247, 0.59386, 0.044101, 0.28328, -0.04048, 0.24536, 0.28002, 0.085857, 0.38434, -0.029564, 0.1782, 0.002701, -0.40793, 0.014738, -0.10276, 0.10377, -0.17447, 0.47794, -0.22322, 0.29548, -0.51727, 0.02994, -0.13321, 0.036382, 0.49976, -0.038916, -0.27944, 0.10477, 0.066212, 0.089264, 0.18465, 0.37138, -0.44888, 0.17666, -0.5547, 0.14372, -0.23891, 0.25838, -0.13543, -0.31553, -0.065803, -0.28975, -0.3381, -0.46142, 0.071756, -0.11711, 0.0049992, -0.035558, -0.017172, 0.14225, 0.053836, -0.036669, -0.76752, 0.1659, 0.091722, 0.24717, 0.021982, 0.27378, -0.34327, 0.0066341, -0.01485, 0.25668, 0.18737, -0.21675, 0.38742, 0.048649, -0.2917, 0.23336, 0.52671, 0.11948, 0.11275, 0.071636, -0.13227, -0.34866, -0.33272, -0.040038, -0.10106, 0.020197, 0.61629, -0.55023, 0.19182, 0.2243, 0.21753, -0.080913, 0.19254, -0.33462, 0.64496, 0.096261, 0.39701, 0.1968, -0.34774, 0.064455, -0.22183, 0.57437, 0.2206, -0.055076, 0.15888, -0.1863, 0.47205, 0.00193, -0.1974, 0.055705, -0.44887, 0.029601, 0.30282, 0.081396, 0.21129, -0.74025, 0.36318, -0.29849, -0.29003, 0.062487, -0.20938, 0.1703, 0.016421, 0.033108, -0.26561, 0.19147, 0.23661, 0.038555, -0.25777, 0.65766, -0.017141, 0.30305, -0.060576, 0.18006, -0.6189, 0.070895, 0.31909, 0.097771, 0.35595, -0.3881, -0.036091, 0.37846, -0.31005, -0.37436, 0.19838, -0.28532, 0.14652, 0.21537, -0.2963, -0.3622, -0.089261, 0.45414, 0.44746, 0.41071, -0.22855, -0.10752, -0.18022, 0.3601, -0.27987, -0.24764, 0.15602, -0.51254, 0.032316, 0.049243, 0.42272, 0.53384, -0.17769, 0.096599, 0.1342, 0.17903, -0.017986, -0.010457, -0.04995, 0.10951, 0.70733, 0.0091384, 0.1074, 0.063498, 0.18939, -0.15128, -0.30982, 0.19866, -0.10743, -0.019501, -0.087331, -0.053955, 0.076729, -0.71336, -0.23579, 0.036933, -0.10303, -0.017653, 0.032475, -0.053972, -0.79815, 0.16186, 0.41637]\n"
          ],
          "name": "stdout"
        }
      ]
    },
    {
      "cell_type": "code",
      "metadata": {
        "id": "HH7w1WAiZdHF",
        "colab_type": "code",
        "colab": {
          "base_uri": "https://localhost:8080/",
          "height": 142
        },
        "outputId": "0a8306d6-b674-4b28-9f93-98acd2eaeb09"
      },
      "source": [
        "get_token_info(tokens_zh[0])"
      ],
      "execution_count": 17,
      "outputs": [
        {
          "output_type": "stream",
          "text": [
            "Text: 8月\n",
            "Part of Speech (name, id): NOUN 92\n",
            "Syntatic dependency: compound:nn\n",
            "Syntatic Ancestors: [9日, 不同]\n",
            "Syntatic Children: []\n",
            "Word Vector: [-0.91128, -2.6509, 3.6976, -3.1713, 4.8117, -1.656, -2.3266, 7.2307, 4.6191, -0.097682, -5.0225, -0.11716, 1.1935, -0.51917, -4.3766, -0.18002, 1.6073, 4.9088, -2.6837, 4.4773, -4.6425, 1.2229, 1.7836, 0.44313, 2.4923, 6.7588, -3.1278, -5.6155, -3.2504, -0.2284, -1.2825, 0.84207, 1.527, -1.2087, 0.62729, -2.7056, -3.4955, -7.602, -1.3812, 1.4504, 1.766, -1.3787, 1.6272, 1.7121, -2.8224, 4.7295, -4.8305, -2.3925, -0.80655, -0.81372, 0.43209, -3.4676, 3.2186, 10.491, -4.0767, -2.7056, -0.14365, -0.55266, 0.39485, -1.4152, 4.2886, -1.2944, -2.3571, -1.7825, -0.7717, 2.238, 3.6974, 0.091701, -3.9523, 4.634, 0.09359, 1.0207, -2.8256, 3.4699, 0.022762, -3.5618, 2.2222, -1.9482, -2.0209, -1.3345, 0.36243, 4.3488, -3.4396, 1.4275, -5.5295, -2.5989, -1.752, 1.5052, -0.053689, -1.3154, -9.5545, -5.4593, 4.2067, 4.3516, 3.165, 8.8794, 0.73182, 2.911, 1.41, 3.5808, -1.6745, -2.4049, 1.7181, 2.251, 0.25499, 0.35631, 3.0264, 1.1089, 0.95764, -1.1336, 4.0679, 3.0949, -0.083279, 1.7318, -2.3882, 8.9708, 4.1554, 1.0764, -0.67769, 2.441, -1.1847, 2.1538, 2.1559, -0.95226, -1.9511, 0.5653, 4.9887, 4.8699, 2.0723, 2.959, 1.4428, -5.2034, 3.5686, 2.0365, -3.3738, -0.12631, 1.2541, 2.3565, 1.2968, -3.2466, 0.38803, 1.752, -4.5706, 2.6493, 3.1783, 2.5271, 2.2418, 8.6882, 2.1742, -3.4847, -2.5951, -1.6326, 3.118, -2.2989, 2.1624, 0.53351, 0.077791, 0.41375, -0.71654, -3.3772, -6.0078, -3.4029, -3.4025, -0.15977, 1.736, 3.7963, -6.3755, -1.426, -6.3204, 6.9104, -1.2921, -4.5975, -1.8224, -2.1867, 2.7083, 0.81096, -6.0615, 0.70142, 6.4619, -2.4786, -2.7216, -3.122, 3.0465, -5.8105, 1.2479, -1.1089, -0.94388, 3.1997, -1.4966, 4.42, -2.27, 0.63282, -2.4666, 2.8035, 0.44169, 9.9806, -2.0152, 0.93834, -1.5398, -1.4003, 0.63938, -1.7823, -6.1132, -0.39603, -3.5366, 2.2039, 3.015, 4.4471, 3.4708, 3.318, -1.7072, 0.24335, 5.462, -0.080476, 2.0168, -1.8762, -4.0414, -2.1857, 0.6681, -1.69, 0.46047, 3.2781, 2.9455, 0.077457, 4.9907, 2.9773, -1.0631, -2.4431, 2.4735, -7.7477, -3.3762, -3.101, -1.3317, -2.4163, 4.0811, 3.9431, -0.52306, 1.2758, 2.5218, -2.1915, -2.619, 0.28717, -4.133, -2.5371, 3.7831, -2.1731, -1.1646, 3.2889, -1.3609, -1.8641, 5.4529, 4.2795, -0.4582, -3.8937, 2.3818, -3.9874, -0.50441, 2.9178, 4.078, 2.3753, -4.589, 0.028897, -1.591, -5.3739, -3.8322, 2.3203, -7.0382, 3.1099, -2.4375, 3.5614, 3.9407, -2.5911, 4.3491, -2.1888, 3.4621, -3.4429, 0.82044, 3.8818, -1.3431, -4.3044, -0.14596, -1.0612, 1.8397, -1.5082, 4.6154, 0.97618, 1.0962, -0.061187, -4.4258, -0.47362, 2.6298, 1.4627, 2.1714, -2.935, -2.0217, 3.6116, -2.0959, 3.9741, 2.3962, -5.198]\n"
          ],
          "name": "stdout"
        }
      ]
    },
    {
      "cell_type": "markdown",
      "metadata": {
        "id": "iDU3gGRXeoFH",
        "colab_type": "text"
      },
      "source": [
        "### Part of Speech\n",
        "Part of speech tags can be used as filters.\n",
        "\n",
        "For example, you can use the same pattern that clean_text() used to extract just the nouns.\n",
        "\n",
        "https://spacy.io/usage/linguistic-features#pos-tagging\n"
      ]
    },
    {
      "cell_type": "code",
      "metadata": {
        "id": "Zex21fIvZ5uN",
        "colab_type": "code",
        "colab": {
          "base_uri": "https://localhost:8080/",
          "height": 315
        },
        "outputId": "76166bfb-c75b-4fc6-9009-3ccec82585e7"
      },
      "source": [
        "def get_part_of_speech(text, nlp, pos):\n",
        "  \"\"\"Takes in an input text and returns only the nouns\n",
        "  \"\"\"\n",
        "  doc = nlp(text)\n",
        "  return [t for t in doc if t.pos_ == pos]\n",
        "\n",
        "get_part_of_speech(text_en, nlp_en, pos=\"NOUN\")"
      ],
      "execution_count": 18,
      "outputs": [
        {
          "output_type": "execute_result",
          "data": {
            "text/plain": [
              "[Jobs,\n",
              " infocommunications,\n",
              " space,\n",
              " years,\n",
              " shortage,\n",
              " professionals,\n",
              " charge,\n",
              " jobs,\n",
              " interview,\n",
              " digitalisation,\n",
              " disruption,\n",
              " root,\n",
              " crisis,\n",
              " trends,\n",
              " priority,\n",
              " jobs,\n",
              " jobs]"
            ]
          },
          "metadata": {
            "tags": []
          },
          "execution_count": 18
        }
      ]
    },
    {
      "cell_type": "code",
      "metadata": {
        "id": "2z46j_lH5rIB",
        "colab_type": "code",
        "colab": {
          "base_uri": "https://localhost:8080/",
          "height": 34
        },
        "outputId": "bd2e37b4-cefb-402c-b230-b4b27c948ca4"
      },
      "source": [
        "get_part_of_speech(text_en, nlp_en, pos=\"ADJ\")"
      ],
      "execution_count": 19,
      "outputs": [
        {
          "output_type": "execute_result",
          "data": {
            "text/plain": [
              "[available, next, huge, prepared, current, immediate, enough]"
            ]
          },
          "metadata": {
            "tags": []
          },
          "execution_count": 19
        }
      ]
    },
    {
      "cell_type": "code",
      "metadata": {
        "id": "qirPC_Hl5z6m",
        "colab_type": "code",
        "colab": {
          "base_uri": "https://localhost:8080/",
          "height": 210
        },
        "outputId": "8147fdf5-9c4f-4fb1-cc6f-f65dea7f024c"
      },
      "source": [
        "# to see what part of speech can be found in a document\n",
        "{t.pos_ for t in doc_zh}"
      ],
      "execution_count": 20,
      "outputs": [
        {
          "output_type": "execute_result",
          "data": {
            "text/plain": [
              "{'ADJ',\n",
              " 'ADP',\n",
              " 'ADV',\n",
              " 'NOUN',\n",
              " 'NUM',\n",
              " 'PART',\n",
              " 'PRON',\n",
              " 'PROPN',\n",
              " 'PUNCT',\n",
              " 'SPACE',\n",
              " 'VERB'}"
            ]
          },
          "metadata": {
            "tags": []
          },
          "execution_count": 20
        }
      ]
    },
    {
      "cell_type": "code",
      "metadata": {
        "id": "VHvhRVNQ5SdV",
        "colab_type": "code",
        "colab": {
          "base_uri": "https://localhost:8080/",
          "height": 34
        },
        "outputId": "8ab558a1-d27b-44ad-be3d-ddc9ec459258"
      },
      "source": [
        "get_part_of_speech(text_zh, nlp_zh, pos='PROPN')"
      ],
      "execution_count": 21,
      "outputs": [
        {
          "output_type": "execute_result",
          "data": {
            "text/plain": [
              "[林猷冠, 新加坡, 林猷冠, 林猷冠]"
            ]
          },
          "metadata": {
            "tags": []
          },
          "execution_count": 21
        }
      ]
    },
    {
      "cell_type": "code",
      "metadata": {
        "id": "oRXgLdcehXpE",
        "colab_type": "code",
        "colab": {
          "base_uri": "https://localhost:8080/",
          "height": 332
        },
        "outputId": "72c0dea3-0ca0-4cee-9ae5-9e842c9f5847"
      },
      "source": [
        "# let's see how well this PoS tagging works\n",
        "tricky_text_en = \"\"\"\n",
        "She thinks fast when she had a fast. The correct beat must be beat.\n",
        "\"\"\" \n",
        "\n",
        "def get_pos(text, nlp):\n",
        "  doc = nlp(text)\n",
        "  return [(t.text, t.pos_) for t in doc]\n",
        "\n",
        "get_pos(tricky_text_en, nlp_en)"
      ],
      "execution_count": 22,
      "outputs": [
        {
          "output_type": "execute_result",
          "data": {
            "text/plain": [
              "[('\\n', 'SPACE'),\n",
              " ('She', 'PRON'),\n",
              " ('thinks', 'VERB'),\n",
              " ('fast', 'ADV'),\n",
              " ('when', 'ADV'),\n",
              " ('she', 'PRON'),\n",
              " ('had', 'AUX'),\n",
              " ('a', 'DET'),\n",
              " ('fast', 'NOUN'),\n",
              " ('.', 'PUNCT'),\n",
              " ('The', 'DET'),\n",
              " ('correct', 'ADJ'),\n",
              " ('beat', 'NOUN'),\n",
              " ('must', 'VERB'),\n",
              " ('be', 'AUX'),\n",
              " ('beat', 'VERB'),\n",
              " ('.', 'PUNCT'),\n",
              " ('\\n', 'SPACE')]"
            ]
          },
          "metadata": {
            "tags": []
          },
          "execution_count": 22
        }
      ]
    },
    {
      "cell_type": "markdown",
      "metadata": {
        "id": "8NN-VxKGgJcO",
        "colab_type": "text"
      },
      "source": [
        "## Part 1c - Exploring Entity Recognition\n",
        "\n",
        "Entity Recognition can be done, but at the document level. This does not require tokenisation because spaCy already processed the text for you.\n",
        "\n",
        "https://spacy.io/usage/linguistic-features#named-entities\n",
        "\n",
        "We'll just do a quick demo using spacy's visualiser (displacy).\n",
        "\n",
        "https://spacy.io/usage/visualizers"
      ]
    },
    {
      "cell_type": "code",
      "metadata": {
        "id": "RSuH1WoGgm0S",
        "colab_type": "code",
        "colab": {
          "base_uri": "https://localhost:8080/",
          "height": 326
        },
        "outputId": "1b06845c-2dac-4e74-94d2-3d34b88f04cf"
      },
      "source": [
        "from spacy import displacy\n",
        "\n",
        "displacy.render(doc_en, style=\"ent\", jupyter=True)"
      ],
      "execution_count": 23,
      "outputs": [
        {
          "output_type": "display_data",
          "data": {
            "text/html": [
              "<span class=\"tex2jax_ignore\"><div class=\"entities\" style=\"line-height: 2.5; direction: ltr\">Jobs are available for \n",
              "<mark class=\"entity\" style=\"background: #c887fb; padding: 0.45em 0.6em; margin: 0 0.25em; line-height: 1; border-radius: 0.35em;\">\n",
              "    Singaporeans\n",
              "    <span style=\"font-size: 0.8em; font-weight: bold; line-height: 1; border-radius: 0.35em; text-transform: uppercase; vertical-align: middle; margin-left: 0.5rem\">NORP</span>\n",
              "</mark>\n",
              " in the infocommunications space over \n",
              "<mark class=\"entity\" style=\"background: #bfe1d9; padding: 0.45em 0.6em; margin: 0 0.25em; line-height: 1; border-radius: 0.35em;\">\n",
              "    the next three years\n",
              "    <span style=\"font-size: 0.8em; font-weight: bold; line-height: 1; border-radius: 0.35em; text-transform: uppercase; vertical-align: middle; margin-left: 0.5rem\">DATE</span>\n",
              "</mark>\n",
              ", with the Republic facing a huge shortage of professionals, said Minister-in-charge of the Smart Nation Initiative \n",
              "<mark class=\"entity\" style=\"background: #aa9cfc; padding: 0.45em 0.6em; margin: 0 0.25em; line-height: 1; border-radius: 0.35em;\">\n",
              "    Vivian Balakrishnan\n",
              "    <span style=\"font-size: 0.8em; font-weight: bold; line-height: 1; border-radius: 0.35em; text-transform: uppercase; vertical-align: middle; margin-left: 0.5rem\">PERSON</span>\n",
              "</mark>\n",
              ".</br></br>\n",
              "<mark class=\"entity\" style=\"background: #c887fb; padding: 0.45em 0.6em; margin: 0 0.25em; line-height: 1; border-radius: 0.35em;\">\n",
              "    Singaporeans\n",
              "    <span style=\"font-size: 0.8em; font-weight: bold; line-height: 1; border-radius: 0.35em; text-transform: uppercase; vertical-align: middle; margin-left: 0.5rem\">NORP</span>\n",
              "</mark>\n",
              " can secure these well-paying jobs if they are prepared to train and reskill, said \n",
              "<mark class=\"entity\" style=\"background: #aa9cfc; padding: 0.45em 0.6em; margin: 0 0.25em; line-height: 1; border-radius: 0.35em;\">\n",
              "    Dr Balakrishnan\n",
              "    <span style=\"font-size: 0.8em; font-weight: bold; line-height: 1; border-radius: 0.35em; text-transform: uppercase; vertical-align: middle; margin-left: 0.5rem\">PERSON</span>\n",
              "</mark>\n",
              ", who is also Foreign Minister, in an interview with \n",
              "<mark class=\"entity\" style=\"background: #7aecec; padding: 0.45em 0.6em; margin: 0 0.25em; line-height: 1; border-radius: 0.35em;\">\n",
              "    The Straits Times\n",
              "    <span style=\"font-size: 0.8em; font-weight: bold; line-height: 1; border-radius: 0.35em; text-transform: uppercase; vertical-align: middle; margin-left: 0.5rem\">ORG</span>\n",
              "</mark>\n",
              ".</br></br>He said digitalisation and disruption had already taken root when the current crisis struck. Covid-19 accelerated these trends.</br></br>While \n",
              "<mark class=\"entity\" style=\"background: #feca74; padding: 0.45em 0.6em; margin: 0 0.25em; line-height: 1; border-radius: 0.35em;\">\n",
              "    Singapore\n",
              "    <span style=\"font-size: 0.8em; font-weight: bold; line-height: 1; border-radius: 0.35em; text-transform: uppercase; vertical-align: middle; margin-left: 0.5rem\">GPE</span>\n",
              "</mark>\n",
              "'s immediate priority is to save jobs, that is not enough because &quot;jobs are going to change&quot;, he added.\n",
              "</div></span>"
            ],
            "text/plain": [
              "<IPython.core.display.HTML object>"
            ]
          },
          "metadata": {
            "tags": []
          }
        }
      ]
    },
    {
      "cell_type": "markdown",
      "metadata": {
        "id": "XkNDPZOwjhAS",
        "colab_type": "text"
      },
      "source": [
        "The symbols above are documented here:\n",
        "\n",
        "https://spacy.io/api/annotation#named-entities\n"
      ]
    },
    {
      "cell_type": "code",
      "metadata": {
        "id": "ZfyYCJ5XjpqC",
        "colab_type": "code",
        "colab": {
          "base_uri": "https://localhost:8080/",
          "height": 34
        },
        "outputId": "eb400659-b64e-46b3-a0f7-3c59f36aa0cd"
      },
      "source": [
        "# too lazy to look it up, ask spaCy!\n",
        "spacy.explain(\"NORP\")"
      ],
      "execution_count": 24,
      "outputs": [
        {
          "output_type": "execute_result",
          "data": {
            "text/plain": [
              "'Nationalities or religious or political groups'"
            ]
          },
          "metadata": {
            "tags": []
          },
          "execution_count": 24
        }
      ]
    },
    {
      "cell_type": "code",
      "metadata": {
        "id": "4UbXN0rPjub5",
        "colab_type": "code",
        "colab": {
          "base_uri": "https://localhost:8080/",
          "height": 34
        },
        "outputId": "3b7b2f06-bb2c-418b-e04b-c1269064a25e"
      },
      "source": [
        "# also works for part of speech tags\n",
        "spacy.explain(\"PROPN\")"
      ],
      "execution_count": 25,
      "outputs": [
        {
          "output_type": "execute_result",
          "data": {
            "text/plain": [
              "'proper noun'"
            ]
          },
          "metadata": {
            "tags": []
          },
          "execution_count": 25
        }
      ]
    },
    {
      "cell_type": "code",
      "metadata": {
        "id": "0wX2XcUvhHnE",
        "colab_type": "code",
        "colab": {
          "base_uri": "https://localhost:8080/",
          "height": 257
        },
        "outputId": "e24da99e-0754-4f05-c88f-9997a0c20d0d"
      },
      "source": [
        "# let's try chinese\n",
        "displacy.render(doc_zh, style=\"ent\", jupyter=True)"
      ],
      "execution_count": 26,
      "outputs": [
        {
          "output_type": "display_data",
          "data": {
            "text/html": [
              "<span class=\"tex2jax_ignore\"><div class=\"entities\" style=\"line-height: 2.5; direction: ltr\">\n",
              "<mark class=\"entity\" style=\"background: #bfe1d9; padding: 0.45em 0.6em; margin: 0 0.25em; line-height: 1; border-radius: 0.35em;\">\n",
              "    今年\n",
              "    <span style=\"font-size: 0.8em; font-weight: bold; line-height: 1; border-radius: 0.35em; text-transform: uppercase; vertical-align: middle; margin-left: 0.5rem\">DATE</span>\n",
              "</mark>\n",
              "的\n",
              "<mark class=\"entity\" style=\"background: #bfe1d9; padding: 0.45em 0.6em; margin: 0 0.25em; line-height: 1; border-radius: 0.35em;\">\n",
              "    8月9日\n",
              "    <span style=\"font-size: 0.8em; font-weight: bold; line-height: 1; border-radius: 0.35em; text-transform: uppercase; vertical-align: middle; margin-left: 0.5rem\">DATE</span>\n",
              "</mark>\n",
              "对\n",
              "<mark class=\"entity\" style=\"background: #aa9cfc; padding: 0.45em 0.6em; margin: 0 0.25em; line-height: 1; border-radius: 0.35em;\">\n",
              "    林猷冠\n",
              "    <span style=\"font-size: 0.8em; font-weight: bold; line-height: 1; border-radius: 0.35em; text-transform: uppercase; vertical-align: middle; margin-left: 0.5rem\">PERSON</span>\n",
              "</mark>\n",
              "来说，将和往年大为不同。这位\n",
              "<mark class=\"entity\" style=\"background: #bfe1d9; padding: 0.45em 0.6em; margin: 0 0.25em; line-height: 1; border-radius: 0.35em;\">\n",
              "    过去60年\n",
              "    <span style=\"font-size: 0.8em; font-weight: bold; line-height: 1; border-radius: 0.35em; text-transform: uppercase; vertical-align: middle; margin-left: 0.5rem\">DATE</span>\n",
              "</mark>\n",
              "里每年都必定亲临现场为\n",
              "<mark class=\"entity\" style=\"background: #feca74; padding: 0.45em 0.6em; margin: 0 0.25em; line-height: 1; border-radius: 0.35em;\">\n",
              "    新加坡\n",
              "    <span style=\"font-size: 0.8em; font-weight: bold; line-height: 1; border-radius: 0.35em; text-transform: uppercase; vertical-align: middle; margin-left: 0.5rem\">GPE</span>\n",
              "</mark>\n",
              "庆生的“最忠实出席者”，\n",
              "<mark class=\"entity\" style=\"background: #bfe1d9; padding: 0.45em 0.6em; margin: 0 0.25em; line-height: 1; border-radius: 0.35em;\">\n",
              "    今年\n",
              "    <span style=\"font-size: 0.8em; font-weight: bold; line-height: 1; border-radius: 0.35em; text-transform: uppercase; vertical-align: middle; margin-left: 0.5rem\">DATE</span>\n",
              "</mark>\n",
              "因国庆形式调整，首次无法到现场庆祝国庆。</br></br>\n",
              "<mark class=\"entity\" style=\"background: #aa9cfc; padding: 0.45em 0.6em; margin: 0 0.25em; line-height: 1; border-radius: 0.35em;\">\n",
              "    林猷冠\n",
              "    <span style=\"font-size: 0.8em; font-weight: bold; line-height: 1; border-radius: 0.35em; text-transform: uppercase; vertical-align: middle; margin-left: 0.5rem\">PERSON</span>\n",
              "</mark>\n",
              "（\n",
              "<mark class=\"entity\" style=\"background: #bfe1d9; padding: 0.45em 0.6em; margin: 0 0.25em; line-height: 1; border-radius: 0.35em;\">\n",
              "    75岁\n",
              "    <span style=\"font-size: 0.8em; font-weight: bold; line-height: 1; border-radius: 0.35em; text-transform: uppercase; vertical-align: middle; margin-left: 0.5rem\">DATE</span>\n",
              "</mark>\n",
              "）不只每年看国庆，早年还是在庆典上亮相的表演者，每年表演醒狮。</br></br>\n",
              "<mark class=\"entity\" style=\"background: #bfe1d9; padding: 0.45em 0.6em; margin: 0 0.25em; line-height: 1; border-radius: 0.35em;\">\n",
              "    70年代中期\n",
              "    <span style=\"font-size: 0.8em; font-weight: bold; line-height: 1; border-radius: 0.35em; text-transform: uppercase; vertical-align: middle; margin-left: 0.5rem\">DATE</span>\n",
              "</mark>\n",
              "后，国庆庆典上的醒狮表演逐渐少了，\n",
              "<mark class=\"entity\" style=\"background: #aa9cfc; padding: 0.45em 0.6em; margin: 0 0.25em; line-height: 1; border-radius: 0.35em;\">\n",
              "    林猷冠\n",
              "    <span style=\"font-size: 0.8em; font-weight: bold; line-height: 1; border-radius: 0.35em; text-transform: uppercase; vertical-align: middle; margin-left: 0.5rem\">PERSON</span>\n",
              "</mark>\n",
              "的身份也从表演者转为观众。但他对国庆的热忱不减，每年坚持到现场观看庆典。\n",
              "</div></span>"
            ],
            "text/plain": [
              "<IPython.core.display.HTML object>"
            ]
          },
          "metadata": {
            "tags": []
          }
        }
      ]
    },
    {
      "cell_type": "markdown",
      "metadata": {
        "id": "d7sRDfDeXTnc",
        "colab_type": "text"
      },
      "source": [
        "## Intermission: Try with your own text!\n",
        "\n",
        "Common issues:\n",
        "- Use the correct language model for your text.\n",
        "- If you want to try another language model, you need to Restart the Runtime after loading it.\n",
        "\n",
        "### Back in 15 minutes ###"
      ]
    },
    {
      "cell_type": "markdown",
      "metadata": {
        "id": "P-ph1_zfeeet",
        "colab_type": "text"
      },
      "source": [
        "## Part 2 - Word Meaning\n",
        "\n",
        "Let's inspect spaCy's pre-trained word vectors.\n",
        "\n",
        "The English word vectors are trained using two corpora:\n",
        "\n",
        "1. OntoNotes5, which is:\n",
        "\n",
        "  \"a large corpus comprising various genres of text (news, conversational telephone speech, weblogs, usenet newsgroups, broadcast, talk shows) in three languages (English, Chinese, and Arabic) with structural information (syntax and predicate argument structure) and shallow semantics (word sense linked to an ontology and coreference).\"\n",
        "\n",
        "  https://catalog.ldc.upenn.edu/LDC2013T19\n",
        "\n",
        "2. Common Crawl, a public dataset of web crawled data\n",
        "\n",
        "  https://commoncrawl.org/the-data/get-started/\n",
        "\n",
        "The spaCy model architecture is documented here: https://spacy.io/models#architecture. It uses multiple neural networks for tagging, parsing, and entity recognition. "
      ]
    },
    {
      "cell_type": "code",
      "metadata": {
        "id": "qQh76ozGgLAk",
        "colab_type": "code",
        "colab": {
          "base_uri": "https://localhost:8080/",
          "height": 1000
        },
        "outputId": "5e53dc13-b9a5-4b25-d28c-c221a875c4b6"
      },
      "source": [
        "doc_text = nlp_en('meaning')\n",
        "doc_text[0].vector"
      ],
      "execution_count": 27,
      "outputs": [
        {
          "output_type": "execute_result",
          "data": {
            "text/plain": [
              "array([ 3.2456e-02,  1.5584e-01, -2.2763e-01,  1.2952e-01,  2.9447e-01,\n",
              "       -3.1122e-02,  6.2653e-02,  2.3528e-01, -8.5213e-02,  2.0571e+00,\n",
              "       -1.9374e-02,  3.3405e-01,  9.8610e-02,  2.7788e-02,  6.0454e-02,\n",
              "        1.7122e-01, -4.9111e-02,  9.8979e-01, -2.1726e-01, -3.2660e-01,\n",
              "        9.0827e-02, -1.0801e-01,  1.2777e-01,  3.8531e-01,  2.8327e-01,\n",
              "       -6.9632e-02,  3.2282e-01,  2.6586e-01,  3.7181e-02,  1.2763e-01,\n",
              "       -1.3892e-01,  2.2034e-01,  8.4188e-02, -9.5130e-03,  2.0808e-03,\n",
              "        3.5423e-01,  2.6161e-01, -2.7047e-01, -3.2764e-01, -3.4673e-01,\n",
              "       -7.1548e-02,  2.2396e-02,  1.3196e-01,  3.9390e-01,  4.9190e-01,\n",
              "       -4.1159e-01,  4.4494e-02, -9.1078e-02,  5.4010e-02,  4.7170e-01,\n",
              "       -1.5795e-01,  2.5271e-01,  1.4769e-02, -1.3274e-01,  1.2935e-01,\n",
              "        2.2756e-01, -1.3793e-01,  2.4162e-01, -1.9500e-01, -2.2097e-01,\n",
              "        6.0782e-03, -8.7166e-03,  1.3770e-01, -3.7410e-02, -1.3763e-01,\n",
              "       -3.1902e-01, -3.5133e-01, -9.6998e-03,  1.0729e-01, -2.0723e-01,\n",
              "       -3.6163e-01,  1.0227e-01,  1.4537e-01, -6.0757e-01, -2.5794e-01,\n",
              "       -1.9560e-01,  2.3099e-01,  4.7218e-02,  1.5584e-03,  2.8123e-01,\n",
              "        2.9572e-01,  1.2124e-01,  4.2972e-02,  1.1784e-01,  9.7076e-02,\n",
              "       -4.4845e-01,  8.4110e-02, -3.9689e-01,  3.1017e-01, -1.6653e-01,\n",
              "       -1.8534e-01, -4.7112e-01, -3.5771e-01, -3.4215e-01,  3.1367e-01,\n",
              "        2.1553e-01, -1.6713e-01, -3.0991e-01,  2.4636e-02, -1.9560e-01,\n",
              "       -1.0073e-01, -2.9215e-01, -2.1568e-01,  2.4253e-01,  1.6436e-01,\n",
              "       -1.5600e+00, -4.4484e-01,  4.4324e-02, -1.1579e-01,  2.1172e-01,\n",
              "       -1.8853e-01,  1.4425e-01, -1.1017e-01, -3.2022e-01, -2.5804e-01,\n",
              "        2.1067e-01, -2.2911e-01,  2.6742e-01,  2.1163e-01,  1.2557e-01,\n",
              "       -8.5720e-02, -3.5478e-01, -2.6326e-01,  3.1343e-01, -7.2564e-02,\n",
              "        2.4358e-02,  1.6323e-01,  1.1664e-01, -2.3570e-01, -8.7535e-02,\n",
              "        1.2826e-01, -5.2996e-02,  3.2689e-01,  5.0983e-02, -1.9174e-01,\n",
              "       -1.6517e-01,  4.4753e-01, -2.3025e-01, -1.6515e-01,  6.7993e-02,\n",
              "       -1.2859e+00,  2.9333e-02, -3.7701e-01,  7.6443e-02, -1.4911e-01,\n",
              "       -3.2855e-01,  9.4768e-02,  4.7008e-01,  1.5430e-01, -1.6614e-01,\n",
              "       -8.7554e-03, -8.6511e-02, -5.3939e-02,  1.8126e-01,  6.3560e-02,\n",
              "       -1.4920e-01, -3.9469e-01, -6.7921e-01, -8.0543e-03,  1.5409e-01,\n",
              "       -2.8031e-02, -3.8945e-02,  1.1106e-01, -1.5527e-01, -1.4336e-01,\n",
              "       -1.8146e-01,  1.3343e-01,  2.5560e-01, -2.0840e-01,  3.4149e-01,\n",
              "        2.4361e-02,  9.0697e-02,  5.2292e-02, -4.4855e-01, -4.1392e-02,\n",
              "        8.5016e-02,  2.1710e-01, -2.7419e-01,  1.1289e-02, -9.9996e-02,\n",
              "        1.0870e-01, -4.6319e-02,  1.3372e-02,  4.7567e-02, -3.0401e-01,\n",
              "        1.1756e-01, -4.0176e-01,  1.2905e-01,  3.2964e-01, -2.5061e-01,\n",
              "       -1.9691e-01,  6.7109e-03, -3.6440e-01,  1.0676e-01,  2.4418e-01,\n",
              "        1.5312e-01, -3.0287e-01, -2.9092e-01,  9.1893e-02,  5.9030e-01,\n",
              "        6.9891e-02,  6.6036e-02, -3.3195e-02,  8.1647e-02, -2.6326e-02,\n",
              "       -1.2598e-01,  1.2263e-01, -1.2985e-01,  1.4479e-01,  4.7547e-02,\n",
              "       -6.5082e-02,  9.3325e-02,  1.2862e-01, -1.2424e-01,  2.4795e-01,\n",
              "       -1.9611e-01,  2.6830e-01,  7.5257e-02, -4.7574e-01,  1.3305e-02,\n",
              "        3.6444e-01, -1.6590e-01,  1.0881e-01, -6.5466e-02, -1.3281e-02,\n",
              "       -3.6087e-01,  2.5321e-01,  1.2266e-01, -1.5213e-01, -8.5507e-02,\n",
              "       -2.5057e-01, -2.7833e-01,  5.0956e-02,  9.7918e-02,  6.3331e-02,\n",
              "        1.0916e-01,  1.6448e-01, -8.8419e-03, -1.3727e-01,  1.0802e-01,\n",
              "       -2.8047e-01,  9.2134e-02,  4.9656e-01,  5.4192e-02,  2.8238e-01,\n",
              "       -4.2756e-01,  4.3642e-02, -2.9087e-01,  3.8079e-02, -3.2215e-01,\n",
              "        2.0613e-01, -1.7952e-02, -1.1936e-01, -2.2700e-02, -1.8665e-01,\n",
              "        9.9261e-01,  2.6586e-01,  2.6167e-01,  4.6157e-01,  4.6947e-02,\n",
              "       -1.5289e-01, -8.1688e-02, -4.3422e-02,  4.7462e-01, -4.4452e-03,\n",
              "       -6.7132e-02, -2.7552e-01,  5.4428e-02,  5.2880e-01, -1.6642e-01,\n",
              "       -9.0937e-02,  1.4491e-01, -2.9183e-01,  2.0945e-01,  7.1046e-02,\n",
              "       -3.4054e-01,  1.2516e-01,  5.9946e-02,  3.5146e-01,  2.9057e-01,\n",
              "        1.9986e-01, -3.7934e-01,  3.4895e-01, -8.0245e-01, -2.4051e-01,\n",
              "       -2.4505e-01, -2.6329e-01,  5.5549e-02,  3.7589e-01, -9.1842e-02,\n",
              "       -3.2249e-01, -3.2109e-01, -1.9358e-01, -1.6586e-01,  1.5954e-01,\n",
              "        7.3340e-02, -3.8179e-01, -7.1982e-02,  2.6607e-01, -4.0503e-01],\n",
              "      dtype=float32)"
            ]
          },
          "metadata": {
            "tags": []
          },
          "execution_count": 27
        }
      ]
    },
    {
      "cell_type": "code",
      "metadata": {
        "id": "Qh42Z8mq_8Yf",
        "colab_type": "code",
        "colab": {
          "base_uri": "https://localhost:8080/",
          "height": 237
        },
        "outputId": "7e6a364e-cbe3-4ad6-f639-5d20ae77ce8c"
      },
      "source": [
        "import matplotlib.pyplot as plt\n",
        "import seaborn as sns\n",
        "\n",
        "def plot_word_vector(word, nlp):\n",
        "  \"\"\"Plots a heatmap of a word vector\"\"\"\n",
        "  doc_text = nlp(word)\n",
        "  fig, ax = plt.subplots(figsize=(10, 2))\n",
        "  sns.heatmap([doc_text[0].vector], ax=ax)\n",
        "  ax.set_title(doc_text[0].text)\n",
        "  plt.show()\n",
        "\n",
        "plot_word_vector(\"meaning\", nlp_en)"
      ],
      "execution_count": 28,
      "outputs": [
        {
          "output_type": "stream",
          "text": [
            "/usr/local/lib/python3.6/dist-packages/statsmodels/tools/_testing.py:19: FutureWarning: pandas.util.testing is deprecated. Use the functions in the public API at pandas.testing instead.\n",
            "  import pandas.util.testing as tm\n"
          ],
          "name": "stderr"
        },
        {
          "output_type": "display_data",
          "data": {
            "image/png": "[encoded data removed]",
            "text/plain": [
              "<Figure size 720x144 with 2 Axes>"
            ]
          },
          "metadata": {
            "tags": [],
            "needs_background": "light"
          }
        }
      ]
    },
    {
      "cell_type": "code",
      "metadata": {
        "id": "D0e8PAXRAFNP",
        "colab_type": "code",
        "colab": {
          "base_uri": "https://localhost:8080/",
          "height": 182
        },
        "outputId": "7c24a0c9-af41-4dd0-91ae-5df6e57f500e"
      },
      "source": [
        "plot_word_vector(\"definition\", nlp_en)"
      ],
      "execution_count": 29,
      "outputs": [
        {
          "output_type": "display_data",
          "data": {
            "image/png": "[encoded data removed]",
            "text/plain": [
              "<Figure size 720x144 with 2 Axes>"
            ]
          },
          "metadata": {
            "tags": [],
            "needs_background": "light"
          }
        }
      ]
    },
    {
      "cell_type": "code",
      "metadata": {
        "id": "IcOa-_bIBWXu",
        "colab_type": "code",
        "colab": {
          "base_uri": "https://localhost:8080/",
          "height": 182
        },
        "outputId": "c79c1f8b-7d0e-48f0-de88-024ac1eeb694"
      },
      "source": [
        "plot_word_vector(\"banana\", nlp_en)"
      ],
      "execution_count": 30,
      "outputs": [
        {
          "output_type": "display_data",
          "data": {
            "image/png": "[encoded data removed]",
            "text/plain": [
              "<Figure size 720x144 with 2 Axes>"
            ]
          },
          "metadata": {
            "tags": [],
            "needs_background": "light"
          }
        }
      ]
    },
    {
      "cell_type": "code",
      "metadata": {
        "id": "eXAk3U2eBY4Y",
        "colab_type": "code",
        "colab": {
          "base_uri": "https://localhost:8080/",
          "height": 182
        },
        "outputId": "9e075494-0d85-4fa4-ba80-aaaa2ee7eabd"
      },
      "source": [
        "plot_word_vector(\"strawberry\", nlp_en)"
      ],
      "execution_count": 31,
      "outputs": [
        {
          "output_type": "display_data",
          "data": {
            "image/png": "[encoded data removed]",
            "text/plain": [
              "<Figure size 720x144 with 2 Axes>"
            ]
          },
          "metadata": {
            "tags": [],
            "needs_background": "light"
          }
        }
      ]
    },
    {
      "cell_type": "markdown",
      "metadata": {
        "id": "J49nJYU-MKUs",
        "colab_type": "text"
      },
      "source": [
        "### Word Similarity\n",
        "\n",
        "How do we compare two words? By ranking them in distance from one another.\n",
        "\n",
        "A common distance measurement is Euclidean distance. Cosine similarity is an alternative measurement that just looks at direction, not magnitude. "
      ]
    },
    {
      "cell_type": "code",
      "metadata": {
        "id": "UAzgD8aBMOSU",
        "colab_type": "code",
        "colab": {
          "base_uri": "https://localhost:8080/",
          "height": 34
        },
        "outputId": "7d81323e-11a4-46f7-dbaf-1ff3fbf2ebda"
      },
      "source": [
        "from scipy.spatial.distance import euclidean\n",
        "\n",
        "def compute_distances(ref_word, other_word, nlp):\n",
        "  \"\"\"Computes distances of other word from ref word\n",
        "  Returns (euclidean_disstance, cosine_similarity)\n",
        "  \"\"\"\n",
        "  doc_ref_word = nlp(ref_word)\n",
        "  doc_other_word = nlp(other_word)\n",
        "\n",
        "  vec_ref_word = doc_ref_word[0].vector\n",
        "  vec_other_word = doc_other_word[0].vector\n",
        "\n",
        "  return euclidean(vec_ref_word, vec_other_word), \\\n",
        "    doc_ref_word.similarity(doc_other_word)\n",
        "\n",
        "compute_distances(\"meaning\", \"definition\", nlp_en)"
      ],
      "execution_count": 32,
      "outputs": [
        {
          "output_type": "execute_result",
          "data": {
            "text/plain": [
              "(4.856840133666992, 0.6071904297086296)"
            ]
          },
          "metadata": {
            "tags": []
          },
          "execution_count": 32
        }
      ]
    },
    {
      "cell_type": "code",
      "metadata": {
        "id": "J66CiYS3dAQ5",
        "colab_type": "code",
        "colab": {
          "base_uri": "https://localhost:8080/",
          "height": 34
        },
        "outputId": "ff46960f-ea8e-40b7-b577-71fa5a2f2deb"
      },
      "source": [
        "compute_distances(\"meaning\", \"banana\", nlp_en)"
      ],
      "execution_count": 33,
      "outputs": [
        {
          "output_type": "execute_result",
          "data": {
            "text/plain": [
              "(7.688778400421143, 0.17432999270501778)"
            ]
          },
          "metadata": {
            "tags": []
          },
          "execution_count": 33
        }
      ]
    },
    {
      "cell_type": "code",
      "metadata": {
        "id": "riI_MshrcKx-",
        "colab_type": "code",
        "colab": {
          "base_uri": "https://localhost:8080/",
          "height": 34
        },
        "outputId": "0532675f-3d64-4136-9302-025750a04e28"
      },
      "source": [
        "compute_distances(\"strawberry\", \"banana\", nlp_en)"
      ],
      "execution_count": 34,
      "outputs": [
        {
          "output_type": "execute_result",
          "data": {
            "text/plain": [
              "(5.140804290771484, 0.7120676031360639)"
            ]
          },
          "metadata": {
            "tags": []
          },
          "execution_count": 34
        }
      ]
    },
    {
      "cell_type": "code",
      "metadata": {
        "id": "6ZyAaUFadHVo",
        "colab_type": "code",
        "colab": {
          "base_uri": "https://localhost:8080/",
          "height": 34
        },
        "outputId": "96609f04-e820-43ab-d853-e3dda107c622"
      },
      "source": [
        "# teacher, student\n",
        "compute_distances(\"老师\", \"学生\", nlp_zh)"
      ],
      "execution_count": 35,
      "outputs": [
        {
          "output_type": "execute_result",
          "data": {
            "text/plain": [
              "(47.06417465209961, 0.627628163765226)"
            ]
          },
          "metadata": {
            "tags": []
          },
          "execution_count": 35
        }
      ]
    },
    {
      "cell_type": "code",
      "metadata": {
        "id": "K1eFbZ-mdHby",
        "colab_type": "code",
        "colab": {
          "base_uri": "https://localhost:8080/",
          "height": 34
        },
        "outputId": "a63c6245-c896-4ed3-8334-088ccc958e99"
      },
      "source": [
        "# teacher, president\n",
        "compute_distances(\"老师\", \"总统\", nlp_zh)"
      ],
      "execution_count": 36,
      "outputs": [
        {
          "output_type": "execute_result",
          "data": {
            "text/plain": [
              "(67.63304901123047, 0.1306844171792103)"
            ]
          },
          "metadata": {
            "tags": []
          },
          "execution_count": 36
        }
      ]
    },
    {
      "cell_type": "code",
      "metadata": {
        "id": "TbVRMkJZdrtz",
        "colab_type": "code",
        "colab": {
          "base_uri": "https://localhost:8080/",
          "height": 34
        },
        "outputId": "e719cbb8-b196-4405-a77e-d0bb4beaeb8d"
      },
      "source": [
        "# election, president\n",
        "compute_distances(\"竞选\", \"总统\", nlp_zh)"
      ],
      "execution_count": 37,
      "outputs": [
        {
          "output_type": "execute_result",
          "data": {
            "text/plain": [
              "(44.456024169921875, 0.524938677536565)"
            ]
          },
          "metadata": {
            "tags": []
          },
          "execution_count": 37
        }
      ]
    },
    {
      "cell_type": "markdown",
      "metadata": {
        "id": "P7ZqNmRtd--a",
        "colab_type": "text"
      },
      "source": [
        "Another use case is to get the topmost similar words of a word, phrase, or sentence.\n",
        "\n",
        "We'll try two examples:\n",
        "- Word level\n",
        "- Sentence level\n",
        "\n"
      ]
    },
    {
      "cell_type": "code",
      "metadata": {
        "id": "VZ4FosE7my24",
        "colab_type": "code",
        "colab": {
          "base_uri": "https://localhost:8080/",
          "height": 192
        },
        "outputId": "84dbe606-2703-4c55-be26-e52f59af3724"
      },
      "source": [
        "# get most similar words to a word\n",
        "\n",
        "tokens = clean_text(text_en, nlp_en)\n",
        "tokens[:10] # first 10"
      ],
      "execution_count": 38,
      "outputs": [
        {
          "output_type": "execute_result",
          "data": {
            "text/plain": [
              "[Jobs,\n",
              " available,\n",
              " Singaporeans,\n",
              " infocommunications,\n",
              " space,\n",
              " years,\n",
              " Republic,\n",
              " facing,\n",
              " huge,\n",
              " shortage]"
            ]
          },
          "metadata": {
            "tags": []
          },
          "execution_count": 38
        }
      ]
    },
    {
      "cell_type": "code",
      "metadata": {
        "id": "f3LHaN5kgI_4",
        "colab_type": "code",
        "colab": {
          "base_uri": "https://localhost:8080/",
          "height": 192
        },
        "outputId": "2f1954b5-9b2b-4b95-d908-98b2107d4913"
      },
      "source": [
        "import numpy as np\n",
        "def get_most_similar_words(text, nlp, topN=10):\n",
        "  \"\"\"Returns the most similar words to a text\"\"\"\n",
        "  doc = nlp(text)\n",
        "\n",
        "  # https://spacy.io/api/vectors#most_similar\n",
        "  # most_similar expects a numpy 2D array\n",
        "  # and returns as a (keys, best_rows, scores) tuple\n",
        "  keys, best_rows, scores = nlp.vocab.vectors.most_similar(np.array([doc.vector]),\n",
        "                                                           n=topN)\n",
        "  \n",
        "  # do a key to string table lookup\n",
        "  # keys is a numpy 2D array, so we flatten it\n",
        "  return [(nlp.vocab.strings[k], score) \n",
        "    for k, score in zip(keys.flatten(), scores.flatten())]\n",
        "\n",
        "get_most_similar_words(\"Jobs\", nlp_en)"
      ],
      "execution_count": 39,
      "outputs": [
        {
          "output_type": "execute_result",
          "data": {
            "text/plain": [
              "[('jobs', 1.0),\n",
              " ('VACANCIES', 1.0),\n",
              " ('job', 0.7648),\n",
              " ('JOB', 0.7648),\n",
              " ('SALARIES', 0.6708),\n",
              " ('Reemployment', 0.6606),\n",
              " ('CAREERS', 0.6013),\n",
              " ('PayScale', 0.5885),\n",
              " ('Rehiring', 0.5749),\n",
              " ('UNIONIZED', 0.5459)]"
            ]
          },
          "metadata": {
            "tags": []
          },
          "execution_count": 39
        }
      ]
    },
    {
      "cell_type": "code",
      "metadata": {
        "id": "A9yCTK6Rgcoh",
        "colab_type": "code",
        "colab": {
          "base_uri": "https://localhost:8080/",
          "height": 563
        },
        "outputId": "441c32f5-e840-4ea0-adae-fc2b96c65c56"
      },
      "source": [
        "for t in tokens[:10]:\n",
        "  print(t.text)\n",
        "  print(get_most_similar_words(t.text, nlp_en))\n",
        "  print()"
      ],
      "execution_count": 40,
      "outputs": [
        {
          "output_type": "stream",
          "text": [
            "Jobs\n",
            "[('jobs', 1.0), ('VACANCIES', 1.0), ('job', 0.7648), ('JOB', 0.7648), ('SALARIES', 0.6708), ('Reemployment', 0.6606), ('CAREERS', 0.6013), ('PayScale', 0.5885), ('Rehiring', 0.5749), ('UNIONIZED', 0.5459)]\n",
            "\n",
            "available\n",
            "[('free-of-charge', 1.0), ('OFFERRED', 0.6232), ('AVAILABILITIES', 0.6127), ('OPTIONS', 0.6043), ('OFFER', 0.5945), ('offer', 0.5945), ('limted', 0.5901), ('limited', 0.5901), ('PROVIDED', 0.5842), ('PROVIDE', 0.5789)]\n",
            "\n",
            "Singaporeans\n",
            "[('SINGAPOREANS', 1.0), ('bumiputras', 0.7055), ('GEORGIANS', 0.6541), ('ARGENTINIANS', 0.6435), ('SAXONS', 0.6432), ('LATINS', 0.6387), ('Asians', 0.6387), ('Americans', 0.6375), ('AMericans', 0.6375), ('Kwazulu', 0.6353)]\n",
            "\n",
            "infocommunications\n",
            "[('ALADDIN', 0.0), ('CLUTCHES', 0.0), ('twin', 0.0), ('erratum', 0.0), ('AFFIRMATION', 0.0), ('bronze', 0.0), ('DETONATION', 0.0), ('WRITES', 0.0), ('WELL-QUALIFIED', 0.0), ('COMMISH', 0.0)]\n",
            "\n",
            "space\n",
            "[('SPACE', 1.0), ('space', 1.0), ('SPACES', 0.7454), ('ROOM', 0.5857), ('room', 0.5857), ('safe-keeping', 0.5772), ('storage', 0.5772), ('area', 0.5374), ('AREA', 0.5374), ('FLOOR', 0.5336)]\n",
            "\n",
            "years\n",
            "[('years', 1.0), ('YEARs', 1.0), ('Years', 1.0), ('Year', 0.805), ('year', 0.805), ('YEAR', 0.805), ('6-months', 0.7682), ('HALF-CENTURY', 0.7305), ('Decade-Long', 0.7205), ('days', 0.7004)]\n",
            "\n",
            "Republic\n",
            "[('REPUBLICS', 1.0), ('Republic', 1.0), ('DEMOCRACTIC', 0.6341), ('democratic', 0.6341), ('democracy', 0.6182), ('DEMOCRATIZATION', 0.6182), ('UNited', 0.6044), ('United', 0.6044), ('SULTANATE', 0.604), ('self-reliance', 0.6013)]\n",
            "\n",
            "facing\n",
            "[('FACING', 1.0), ('FACED', 0.7594), ('FACES', 0.6738), ('Face', 0.5914), ('face', 0.5914), ('FACE', 0.5914), ('cash-strapped', 0.562), ('UNMASK', 0.5401), ('stuggle', 0.5286), ('SIDES', 0.5229)]\n",
            "\n",
            "huge\n",
            "[('HUGE', 1.0), ('huge', 1.0), ('Huge', 1.0), ('MASSIVE', 0.8712), ('massive', 0.8712), ('Big', 0.8695), ('big', 0.8695), ('BIg', 0.8695), ('DWARFED', 0.8536), ('50-Foot', 0.7974)]\n",
            "\n",
            "shortage\n",
            "[('OVERSUPPLY', 1.0), ('Inaccessibility', 0.7011), ('DEMAND', 0.5849), ('LACK', 0.5623), ('lack', 0.5623), ('Influxes', 0.5588), ('SOVEREIGN-DEBT', 0.5268), ('crisis', 0.5268), ('Near-Universal', 0.526), ('Scarcer', 0.5229)]\n",
            "\n"
          ],
          "name": "stdout"
        }
      ]
    },
    {
      "cell_type": "code",
      "metadata": {
        "id": "-f1qfPy_aD7k",
        "colab_type": "code",
        "colab": {
          "base_uri": "https://localhost:8080/",
          "height": 423
        },
        "outputId": "1b7346c0-b27a-4419-998f-aef6a727de06"
      },
      "source": [
        "def get_sentence_most_similar_words(text, nlp):\n",
        "  \"\"\"get most similar words to a sentence\n",
        "  \"\"\"\n",
        "  cleaned = clean_text(text, nlp_en)\n",
        "  cleaned_text = ' '.join([t.text for t in cleaned])\n",
        "  return get_most_similar_words(cleaned_text, nlp_en)\n",
        "\n",
        "for s in doc_en.sents:\n",
        "  print(s)\n",
        "  print(get_sentence_most_similar_words(s.text, nlp_en))\n",
        "  print(\"-----\")"
      ],
      "execution_count": 41,
      "outputs": [
        {
          "output_type": "stream",
          "text": [
            "Jobs are available for Singaporeans in the infocommunications space over the next three years, with the Republic facing a huge shortage of professionals, said Minister-in-charge of the Smart Nation Initiative Vivian Balakrishnan.\n",
            "\n",
            "\n",
            "[('THere', 0.6941), ('there', 0.6941), ('There', 0.6941), ('government', 0.6937), ('STATE-RUN', 0.6937), ('people', 0.692), ('PEople', 0.692), ('People', 0.692), ('that', 0.687), ('tHaT', 0.687)]\n",
            "-----\n",
            "Singaporeans can secure these well-paying jobs if they are prepared to train and reskill, said Dr Balakrishnan, who is also Foreign Minister, in an interview with The Straits Times.\n",
            "\n",
            "\n",
            "[('theY', 0.6615), ('They', 0.6615), ('they', 0.6615), ('Even', 0.6549), ('even', 0.6549), ('EVen', 0.6549), ('because', 0.6506), ('Because', 0.6506), ('becAuse', 0.6506), ('STATE-RUN', 0.6495)]\n",
            "-----\n",
            "He said digitalisation and disruption had already taken root when the current crisis struck.\n",
            "[('that', 0.7123), ('tHaT', 0.7123), ('That', 0.7123), ('COuld', 0.7018), ('Could', 0.7018), ('could', 0.7018), ('CONCERN', 0.6966), ('LIKELY', 0.6921), ('likely', 0.6921), ('When', 0.692)]\n",
            "-----\n",
            "Covid-19 accelerated these trends.\n",
            "\n",
            "\n",
            "[('MEGATRENDS', 0.8187), ('ACCELERATED', 0.7906), ('TREND', 0.7339), ('Decelerating', 0.6797), ('time-to-market', 0.6441), ('Ever-Increasing', 0.6347), ('GROWTH', 0.6284), ('EMERGING', 0.6238), ('RAPIDLY', 0.6225), ('Rapidity', 0.6215)]\n",
            "-----\n",
            "While Singapore's immediate priority is to save jobs, that is not enough because \"jobs are going to change\", he added.\n",
            "\n",
            "[('jobs', 0.7477), ('VACANCIES', 0.7477), ('job', 0.7462), ('JOB', 0.7462), ('NEED', 0.6992), ('need', 0.6992), ('Need', 0.6992), ('NEEDED', 0.6938), ('change', 0.6858), ('CHANGE', 0.6858)]\n",
            "-----\n"
          ],
          "name": "stdout"
        }
      ]
    },
    {
      "cell_type": "markdown",
      "metadata": {
        "id": "M-Tm7riJpoTH",
        "colab_type": "text"
      },
      "source": [
        "Many enhancements we can make, such as:\n",
        "\n",
        "1. Removing stop words from the suggestions\n",
        "2. Normalising the case. Currently the string table contains words for different cases.\n",
        "3. Removing misspelt words (this is tough to guarantee, but you can use third party Python spell checker libraries)"
      ]
    },
    {
      "cell_type": "code",
      "metadata": {
        "id": "GpV1igO1szlt",
        "colab_type": "code",
        "colab": {
          "base_uri": "https://localhost:8080/",
          "height": 423
        },
        "outputId": "8c6cae6c-ebb7-4ce7-d1b9-74f14fd7d98e"
      },
      "source": [
        "def get_most_similar_words_v2(text, nlp, topN=20):\n",
        "  \"\"\"Returns the most similar words to a text\n",
        "    ignoring stopwords and normalising the case.\n",
        "  \"\"\"\n",
        "  doc = nlp(text)\n",
        "\n",
        "  # https://spacy.io/api/vectors#most_similar\n",
        "  # most_similar expects a numpy 2D array\n",
        "  # and returns as a (keys, best_rows, scores) tuple\n",
        "  keys, best_rows, scores = nlp.vocab.vectors.most_similar(np.array([doc.vector]),\n",
        "                                                           n=topN)\n",
        "  \n",
        "  # do a key to string table lookup\n",
        "  # keys is a numpy 2D array, so we flatten it\n",
        "  candidates = [(nlp.vocab.strings[k], score) \n",
        "    for k, score in zip(keys.flatten(), scores.flatten())]\n",
        "\n",
        "  # remove stopwords and normalise-case\n",
        "  return {c[0].lower():c[1] for c in candidates if not nlp(c[0])[0].is_stop}\n",
        "\n",
        "def get_sentence_most_similar_words(text, nlp):\n",
        "  \"\"\"get most similar words to a sentence\n",
        "  \"\"\"\n",
        "  cleaned = clean_text(text, nlp)\n",
        "  cleaned_text = ' '.join([t.text for t in cleaned])\n",
        "  return get_most_similar_words_v2(cleaned_text, nlp)\n",
        "\n",
        "def show_per_sentence_topics(text, nlp):\n",
        "  \"\"\"Prints topics (top similar words) for each sentence in the text\"\"\"\n",
        "  doc = nlp(text)\n",
        "  for s in doc.sents:\n",
        "    print(s)\n",
        "    print(get_sentence_most_similar_words(s.text, nlp))\n",
        "    print(\"-----\")\n",
        "\n",
        "show_per_sentence_topics(text_en, nlp_en)"
      ],
      "execution_count": 49,
      "outputs": [
        {
          "output_type": "stream",
          "text": [
            "Jobs are available for Singaporeans in the infocommunications space over the next three years, with the Republic facing a huge shortage of professionals, said Minister-in-charge of the Smart Nation Initiative Vivian Balakrishnan.\n",
            "\n",
            "\n",
            "{'state-run': 0.6937, 'government': 0.6937, 'people': 0.692, 'country': 0.6857}\n",
            "-----\n",
            "Singaporeans can secure these well-paying jobs if they are prepared to train and reskill, said Dr Balakrishnan, who is also Foreign Minister, in an interview with The Straits Times.\n",
            "\n",
            "\n",
            "{'state-run': 0.6495, 'government': 0.6495, 'concerned': 0.6375, 'saying': 0.6371}\n",
            "-----\n",
            "He said digitalisation and disruption had already taken root when the current crisis struck.\n",
            "{'concern': 0.6966, 'likely': 0.6921, 'situation': 0.6858, 'crisis': 0.674, 'sovereign-debt': 0.674, 'caused': 0.6734, 'concerned': 0.6676}\n",
            "-----\n",
            "Covid-19 accelerated these trends.\n",
            "\n",
            "\n",
            "{'megatrends': 0.8187, 'accelerated': 0.7906, 'trend': 0.7339, 'decelerating': 0.6797, 'time-to-market': 0.6441, 'growth': 0.6284, 'emerging': 0.6238, 'rapidly': 0.6225, 'rapidity': 0.6215, 'developments': 0.6073, 'technology-related': 0.5981, 'declines': 0.594, 'sharply': 0.589, 'impact': 0.5833, 'economic': 0.574, 'macro-economic': 0.574, 'continuing': 0.5691, 'stategies': 0.564}\n",
            "-----\n",
            "While Singapore's immediate priority is to save jobs, that is not enough because \"jobs are going to change\", he added.\n",
            "\n",
            "{'jobs': 0.7477, 'vacancies': 0.7477, 'job': 0.7462, 'need': 0.6992, 'needed': 0.6938, 'change': 0.6858, 'needs': 0.6611, 'want': 0.6502, 'going': 0.6472}\n",
            "-----\n"
          ],
          "name": "stdout"
        }
      ]
    },
    {
      "cell_type": "code",
      "metadata": {
        "id": "CWK1IbmhD035",
        "colab_type": "code",
        "colab": {
          "base_uri": "https://localhost:8080/",
          "height": 440
        },
        "outputId": "f8d27c02-bdcd-4304-c00c-447855da0bb2"
      },
      "source": [
        "show_per_sentence_topics(text_zh, nlp_zh)"
      ],
      "execution_count": 50,
      "outputs": [
        {
          "output_type": "stream",
          "text": [
            "今年的8月9日对林猷冠来说，将和往年大为不同。\n",
            "{'11月': 0.8062, '10月\\x08': 0.8013, '张素)': 0.7832, '购乐彩': 0.7815, '7-8日': 0.7773, '宋宇晟': 0.7748, '杨艳敏': 0.7695, '11月\\x07': 0.7694, '白天夜': 0.7667, '旅游塔': 0.7662, '2时30分': 0.7484, '樊曦': 0.7469, '１１日': 0.744, '26-27日': 0.7422, '2时45分': 0.7389, '16日': 0.7339, '米林县派': 0.7301, '09日': 0.7284, '２５日': 0.7279, 'e夜': 0.7276}\n",
            "-----\n",
            "这位过去60年里每年都必定亲临现场为新加坡庆生的“最忠实出席者”，今年因国庆形式调整，首次无法到现场庆祝国庆。\n",
            "\n",
            "\n",
            "{'开庆': 0.6044, '最野': 0.6032, '庆回归': 0.5946, '踩线': 0.578, '9点整': 0.5717, '团们': 0.5554, '接旗': 0.5512, '期间': 0.5443, '东浩兰生': 0.5421, '主题月': 0.5301, '即\\x07': 0.5272, '斋日': 0.5214, '参加县': 0.5171, '场\\x05': 0.5169, '于此同时': 0.5096, '师来': 0.5087, '鲁璐': 0.5077, '7日早': 0.5069}\n",
            "-----\n",
            "林猷冠（75岁）\n",
            "{'雪君': 0.8906, '鲁比诺': 0.6856, '周b': 0.6686, '飞即': 0.5398, '歲人': 0.5257, '年龄\\x06': 0.4405, '世寿': 0.426, '东北爷们': 0.4056, '年后': 0.4034, '160cm': 0.403, 'n个': 0.3998, '华氏度': 0.3997, '图片p': 0.3949, '纪大': 0.3913, '年头\\x05': 0.3902, '百分比\\x08': 0.3895, '九成\\x08': 0.3839, '尹峰': 0.3827}\n",
            "-----\n",
            "不只每年看国庆，早年还是在庆典上亮相的表演者，每年表演醒狮。\n",
            "\n",
            "\n",
            "{'川劇': 0.8124, '马儿山村': 0.7372, '舞及': 0.6654, '鲁璐': 0.6649, '表演类': 0.6518, '衣旧': 0.6351, '庆回归': 0.6245, '燕乐': 0.6243, '处女秀': 0.6229, '盛全': 0.5983, '接旗': 0.5946, '展才': 0.5816, '扎西顿珠': 0.5737, '共奏': 0.5735, '武僧团': 0.5579, '中国·四海': 0.5554, '刘秀荣': 0.5537, '秀\\x05': 0.5512, '戏码\\x08': 0.5428, '梁汉文': 0.5332}\n",
            "-----\n",
            "70年代中期后，国庆庆典上的醒狮表演逐渐少了，林猷冠的身份也从表演者转为观众。\n",
            "{'川劇': 0.7252, '马儿山村': 0.6692, '鲁璐': 0.5801, '参观者们': 0.568, '舞及': 0.5594, '衣旧': 0.5417, '表演类': 0.5404, '威尔第': 0.5313, '刘秀荣': 0.5289, '盛全': 0.5233, '燕乐': 0.5214, '琴派': 0.517, '秀\\x05': 0.516, '武僧团': 0.5043, '曹灿': 0.4957, '丰硕多彩': 0.4857, '庆回归': 0.4852, '歌舞类': 0.4839, '皮娜': 0.4827, '彭磊': 0.478}\n",
            "-----\n",
            "但他对国庆的热忱不减，每年坚持到现场观看庆典。\n",
            "\n",
            "{'热情\\x06': 0.5837, '最野': 0.557, '庆回归': 0.4971, '团们': 0.4853, '热切': 0.481, '斋日': 0.475, '9点整': 0.4745, '踩线': 0.4745, '谈兴': 0.4723, '主题月': 0.4717, '衣旧': 0.4698, '期间': 0.4635, '场\\x05': 0.4597, '东浩兰生': 0.4577, '暂歇': 0.4498, '蔡潇丽': 0.4477, '圣诞季': 0.4473, '宾客盈门': 0.4379, '参观者们': 0.4356}\n",
            "-----\n"
          ],
          "name": "stdout"
        }
      ]
    },
    {
      "cell_type": "markdown",
      "metadata": {
        "id": "oZHmGTD4vk5-",
        "colab_type": "text"
      },
      "source": [
        "### Bonus demo: Comparing two texts for similarity\n",
        "\n",
        "Whose speech is more similar?\n",
        "\n",
        "We take the first 5-6 paragraphs of past US presidential inauguration speeches (after the greeting), and run through spaCy to get the speech similarity.\n",
        "\n",
        "Guess whose speeches are more similar?"
      ]
    },
    {
      "cell_type": "code",
      "metadata": {
        "id": "3PI88bPxvq07",
        "colab_type": "code",
        "colab": {}
      },
      "source": [
        "# https://www.whitehouse.gov/briefings-statements/the-inaugural-address/\n",
        "trump_speech = \"\"\"We, the citizens of America, are now joined in a great national effort to rebuild our country and restore its promise for all of our people. Together we will determine the course of America and the world for many, many years to come.\t   2\n",
        "  We will face challenges. We will confront hardships. But we will get the job done. Every four years, we gather on these steps to carry out the orderly and peaceful transfer of power.\t   3\n",
        "  And we are grateful to President Obama and First Lady Michelle Obama for their gracious aid throughout this transition. They have been magnificent. Thank you.\t   4\n",
        "  Today’s ceremony, however, has very special meaning. Because today, we are not merely transferring power from one administration to another or from one party to another, but we are transferring power from Washington, D.C., and giving it back to you, the people.\t   5\n",
        "  For too long, a small group in our nation’s capital has reaped the rewards of government while the people have borne the cost. Washington flourished, but the people did not share in its wealth. Politicians prospered, but the jobs left and the factories closed.\"\"\"\n",
        "\n",
        "# https://www.bartleby.com/124/pres69.html\n",
        "obama_speech = \"\"\"Each time we gather to inaugurate a president, we bear witness to the enduring strength of our Constitution. We affirm the promise of our democracy. We recall that what binds this nation together is not the colors of our skin or the tenets of our faith or the origins of our names. What makes us exceptional—what makes us American—is our allegiance to an idea articulated in a declaration made more than two centuries ago: “We hold these truths to be self-evident, that all men are created equal, that they are endowed by their Creator with certain unalienable rights, that among these are Life, Liberty, and the pursuit of Happiness.”\t   1\n",
        "  Today we continue a never-ending journey to bridge the meaning of those words with the realities of our time. For history tells us that while these truths may be self-evident, they have never been self-executing; that while freedom is a gift from God, it must be secured by His people here on Earth. The patriots of 1776 did not fight to replace the tyranny of a king with the privileges of a few or the rule of a mob. They gave to us a Republic, a government of, and by, and for the people: entrusting each generation to keep safe our founding creed.\t   2\n",
        "  For more than two hundred years, we have.\t   3\n",
        "  Through blood drawn by lash and blood drawn by sword, we learned that no union founded on the principles of liberty and equality could survive half-slave and half-free. We made ourselves anew, and vowed to move forward together.\t   4\n",
        "  Together, we determined that a modern economy requires railroads and highways to speed travel and commerce, schools and colleges to train our workers.\n",
        "\"\"\"\n",
        "\n",
        "# https://www.bartleby.com/124/pres56.html\n",
        "kennedy_speech = \"\"\"we observe today not a victory of party, but a celebration of freedom—symbolizing an end, as well as a beginning—signifying renewal, as well as change. For I have sworn before you and Almighty God the same solemn oath our forebears prescribed nearly a century and three quarters ago.\t   1\n",
        "  The world is very different now. For man holds in his mortal hands the power to abolish all forms of human poverty and all forms of human life. And yet the same revolutionary beliefs for which our forebears fought are still at issue around the globe—the belief that the rights of man come not from the generosity of the state, but from the hand of God.\t2\n",
        "  We dare not forget today that we are the heirs of that first revolution. Let the word go forth from this time and place, to friend and foe alike, that the torch has been passed to a new generation of Americans—born in this century, tempered by war, disciplined by a hard and bitter peace, proud of our ancient heritage—and unwilling to witness or permit the slow undoing of those human rights to which this Nation has always been committed, and to which we are committed today at home and around the world.\t3\n",
        "  Let every nation know, whether it wishes us well or ill, that we shall pay any price, bear any burden, meet any hardship, support any friend, oppose any foe, in order to assure the survival and the success of liberty.\t4\n",
        "  This much we pledge—and more.\"\"\"\n",
        "\n",
        "# https://www.bartleby.com/124/pres62.html\n",
        "reagan_speech = \"\"\"This day has been made brighter with the presence here of one who, for a time, has been absent—Senator John Stennis.\t   1\n",
        "  God bless you and welcome back.\t2\n",
        "  There is, however, one who is not with us today: Representative Gillis Long of Louisiana left us last night. I wonder if we could all join in a moment of silent prayer. (Moment of silent prayer.) Amen.\t3\n",
        "  There are no words adequate to express my thanks for the great honor that you have bestowed on me. I will do my utmost to be deserving of your trust.\t4\n",
        "  This is, as Senator Mathias told us, the 50th time that we the people have celebrated this historic occasion. When the first President, George Washington, placed his hand upon the Bible, he stood less than a single day's journey by horseback from raw, untamed wilderness. There were 4 million Americans in a union of 13 States. Today we are 60 times as many in a union of 50 States. We have lighted the world with our inventions, gone to the aid of mankind wherever in the world there was a cry for help, journeyed to the Moon and safely returned. So much has changed. And yet we stand together as we did two centuries ago.\t\"\"\"\n",
        "\n",
        "doc_trump = nlp_en(trump_speech)\n",
        "doc_obama = nlp_en(obama_speech)\n",
        "doc_reagan = nlp_en(reagan_speech)\n",
        "doc_jfk = nlp_en(kennedy_speech)"
      ],
      "execution_count": 51,
      "outputs": []
    },
    {
      "cell_type": "code",
      "metadata": {
        "id": "W3cLM0CJx9Fk",
        "colab_type": "code",
        "colab": {
          "base_uri": "https://localhost:8080/",
          "height": 281
        },
        "outputId": "474cdf23-a904-4dc5-8e08-b29b8ad09475"
      },
      "source": [
        "# compute similarity for the speech and plot in a graph\n",
        "scores = {}\n",
        "for person, doc in zip([\"obama\", \"reagan\", \"jfk\"], [doc_obama, doc_reagan, doc_jfk]):\n",
        "  scores[person] = doc_trump.similarity(doc)\n",
        "\n",
        "plt.scatter(list(scores.keys()), list(scores.values()))\n",
        "plt.ylabel(\"similarity\")\n",
        "plt.title(\"Similarity to Trump's Inauguration Speech\")\n",
        "plt.show()"
      ],
      "execution_count": 69,
      "outputs": [
        {
          "output_type": "display_data",
          "data": {
            "image/png": "[encoded data removed]",
            "text/plain": [
              "<Figure size 432x288 with 1 Axes>"
            ]
          },
          "metadata": {
            "tags": [],
            "needs_background": "light"
          }
        }
      ]
    },
    {
      "cell_type": "code",
      "metadata": {
        "id": "2CQoYuS3zdsu",
        "colab_type": "code",
        "colab": {
          "base_uri": "https://localhost:8080/",
          "height": 281
        },
        "outputId": "2f570993-6d29-459f-c587-97d93251a216"
      },
      "source": [
        "# https://www.channelnewsasia.com/news/singapore/full-speech-pm-lee-president-dissolve-parliament-writ-election-12862420\n",
        "\n",
        "lhl_speech = \"\"\"Let me explain why I have decided to call the general election now.\n",
        "\n",
        "We are approaching the end of the five-year term of this Government. Under the Constitution, elections must be held at the latest by April 2021. That is less than a year away.\n",
        "\n",
        "We have been fully occupied with the COVID-19 outbreak since the beginning of the year. The pandemic set upon the world suddenly. It quickly grew into a global crisis, spreading across many countries.\n",
        "\n",
        "Around the world, nearly half a million people have died, and countless more have seen their lives disrupted.\n",
        "\n",
        "Singapore detected our first cases in January.\n",
        "\n",
        "At first, most were imported. But soon we observed a growing number of local cases, with no links to infected visitors.\"\"\"\n",
        "\n",
        "doc_lhl = nlp_en(lhl_speech)\n",
        "\n",
        "scores = {}\n",
        "for person, doc in zip([\"trump\", \"obama\", \"reagan\", \"jfk\"], \n",
        "                       [doc_trump, doc_obama, doc_reagan, doc_jfk]):\n",
        "  scores[person] = doc_lhl.similarity(doc)\n",
        "\n",
        "plt.scatter(list(scores.keys()), list(scores.values()))\n",
        "plt.ylabel('similarity')\n",
        "plt.title(\"Similarity to LHL's Speech\")\n",
        "plt.show()"
      ],
      "execution_count": 65,
      "outputs": [
        {
          "output_type": "display_data",
          "data": {
            "image/png": "[encoded data removed]",
            "text/plain": [
              "<Figure size 432x288 with 1 Axes>"
            ]
          },
          "metadata": {
            "tags": [],
            "needs_background": "light"
          }
        }
      ]
    },
    {
      "cell_type": "code",
      "metadata": {
        "id": "7q12oyLS1i_t",
        "colab_type": "code",
        "colab": {
          "base_uri": "https://localhost:8080/",
          "height": 791
        },
        "outputId": "66bf715b-54ef-4d37-ebee-e30887e6fa99"
      },
      "source": [
        "# what are the main topics for the most similar speeches?\n",
        "\n",
        "show_per_sentence_topics(lhl_speech, nlp_en)"
      ],
      "execution_count": 66,
      "outputs": [
        {
          "output_type": "stream",
          "text": [
            "Let me explain why I have decided to call the general election now.\n",
            "\n",
            "\n",
            "{'explain': 0.7717, 'decided': 0.7591, 'let': 0.7523, 'reason': 0.7479, 'decide': 0.7464}\n",
            "-----\n",
            "We are approaching the end of the five-year term of this Government.\n",
            "{'end': 0.7583, 'year': 0.7289, 'state-run': 0.7168, 'government': 0.7168, 'term': 0.7116, 'commencing': 0.6985, 'expected': 0.6847, 'past': 0.6827, 'coming': 0.6814, 'comming': 0.6814}\n",
            "-----\n",
            "Under the Constitution, elections must be held at the latest by April 2021.\n",
            "{'mid-term': 0.7891, 'post-election': 0.7653, 'constitution': 0.6714, 'constitutions': 0.6714, 'vice-presidential': 0.6263, 'parliament': 0.6222, '150-member': 0.6222, 'cityhood': 0.6198, 'democratic': 0.6161, 'democractic': 0.6161, 'government': 0.6127, 'state-run': 0.6127, 'second-term': 0.5998, 'state-level': 0.5976, 'voting': 0.5965, 'quorum': 0.5965, 'gerrymandered': 0.5958, 'congress': 0.5917, 'non-elected': 0.5847}\n",
            "-----\n",
            "That is less than a year away.\n",
            "\n",
            "\n",
            "{'year': 0.8419, 'away': 0.8165, 'years': 0.7459, 'past': 0.7246, 'comming': 0.7155, 'coming': 0.7155, 'gone': 0.7117}\n",
            "-----\n",
            "We have been fully occupied with the COVID-19 outbreak since the beginning of the year.\n",
            "{'commencing': 0.7552, 'year': 0.696, 'commenced': 0.6682}\n",
            "-----\n",
            "The pandemic set upon the world suddenly.\n",
            "{'world': 0.7559, 'momentarily': 0.7075, 'suddenly': 0.7075, 'public-health': 0.6753}\n",
            "-----\n",
            "It quickly grew into a global crisis, spreading across many countries.\n",
            "\n",
            "\n",
            "{'rapidly': 0.7345, 'fast-growing': 0.7338, 'growing': 0.7338, 'sovereign-debt': 0.733, 'crisis': 0.733, 'countires': 0.7262, 'multi-industry': 0.724, 'global': 0.724, 'macro-economic': 0.7009, 'economic': 0.7009, 'country': 0.6852, 'agriculture-based': 0.6753, 'ecomony': 0.6649, 'emerging': 0.6607, 'concern': 0.6588, 'world': 0.6586}\n",
            "-----\n",
            "Around the world, nearly half a million people have died, and countless more have seen their lives disrupted.\n",
            "\n",
            "\n",
            "{'people': 0.7903, 'surpassed': 0.786, 'nearly': 0.786, 'lives': 0.776, 'millions': 0.7362}\n",
            "-----\n",
            "Singapore detected our first cases in January.\n",
            "\n",
            "\n",
            "{'cathay': 0.6607, 'cases': 0.6498, 'january': 0.6358, 'prweb': 0.6102, 'sept': 0.608, 'october': 0.6061, 'july': 0.606, 'australia': 0.59, 'austalia': 0.59, 'detectable': 0.5836, 'december': 0.5795, 'canda': 0.5743, 'canada': 0.5743, 'augusti': 0.5713, 'august': 0.5694, 'desember': 0.5688, 'johor': 0.565, 'augustus': 0.5445, 'leyte': 0.5376, 'india': 0.5321}\n",
            "-----\n",
            "At first, most were imported.\n",
            "{'antidumping': 0.7448, 'export/import': 0.7068, 'import-export': 0.6806, 'soymeal': 0.6297, 'renewably': 0.5511, 'perishable': 0.5353, 'unprocessed': 0.4905, 'semi-finished': 0.4761, 'manufacturered': 0.4731, 'raw': 0.4613, 'quanties': 0.4578, 'regionally': 0.4573, 'cultivars': 0.4516, 'sold': 0.4503, 'grained': 0.4498}\n",
            "-----\n",
            "But soon we observed a growing number of local cases, with no links to infected visitors.\n",
            "{'serveral': 0.7081}\n",
            "-----\n"
          ],
          "name": "stdout"
        }
      ]
    },
    {
      "cell_type": "code",
      "metadata": {
        "id": "8pNWzRBnFbR1",
        "colab_type": "code",
        "colab": {
          "base_uri": "https://localhost:8080/",
          "height": 1000
        },
        "outputId": "0b63da6b-adb3-49a6-ae48-f459d0f169ef"
      },
      "source": [
        "show_per_sentence_topics(trump_speech, nlp_en)"
      ],
      "execution_count": 67,
      "outputs": [
        {
          "output_type": "stream",
          "text": [
            "We, the citizens of America, are now joined in a great national effort to rebuild our country and restore its promise for all of our people.\n",
            "{'country': 0.7664, 'nation': 0.7455, 'people': 0.7155, 'citizens': 0.7073, 'tax-paying': 0.7073, 'spearhead': 0.7043, 'way': 0.6953, 'bring': 0.6923, 'effort': 0.6919, 'hope': 0.6903}\n",
            "-----\n",
            "Together we will determine the course of America and the world for many, many years to come.\t   \n",
            "{'world': 0.7734, 'come': 0.7363}\n",
            "-----\n",
            "2\n",
            "  \n",
            "{'2': 1.0, '3': 0.9514, '4': 0.9089, '1': 0.8826, '5': 0.7948, '6': 0.7929, '8': 0.7059, '7': 0.6842, '9': 0.6731, '10': 0.5904, '11': 0.5797, '12': 0.5779, '13': 0.5553, '1-2': 0.5542, '31/2': 0.5513, '16': 0.5441, '14': 0.5375, '15': 0.5342, '31-35': 0.518, '2-3': 0.5071}\n",
            "-----\n",
            "We will face challenges.\n",
            "{'challenges': 0.8415, 'face': 0.8344, 'faced': 0.7425, 'faces': 0.7314, 'challenge': 0.7304, 'challange': 0.7304, 'facing': 0.6599, 'unmask': 0.648, 'challenging': 0.6423, 'insurmountable': 0.6305, 'difficult': 0.6222, 'stuggle': 0.6103, 'concerns': 0.6036, 'impediments': 0.5988, 'future': 0.5946, 'concern': 0.5894, 'dificulties': 0.5875}\n",
            "-----\n",
            "We will confront hardships.\n",
            "{'privations': 0.8603, 'unmask': 0.8228, 'confronted': 0.7094, 'insurmountable': 0.6893, 'stuggle': 0.6867, 'circumstances': 0.6805, 'toils': 0.6793, 'injustices': 0.675, 'faced': 0.6576, 'irreversible': 0.6571, 'vicissitudes': 0.6553, 'dificulties': 0.6483, 'copes': 0.6449, 'travails': 0.6425, 'spill-over': 0.6324, 'impelled': 0.6313, 'dejection': 0.6306, 'sufferings': 0.6283, 'fear': 0.6258}\n",
            "-----\n",
            "But we will get the job done.\n",
            "{'job': 1.0, 'jobs': 0.7648, 'vacancies': 0.7648, 'work': 0.661, 'rehiring': 0.6496, 'working': 0.6472, 'reemployment': 0.6345, 'careeer': 0.6037, 'looking': 0.603, 'good': 0.5923, 'careers': 0.592, 'payscale': 0.5908, 'resumé': 0.5895}\n",
            "-----\n",
            "Every four years, we gather on these steps to carry out the orderly and peaceful transfer of power.\t   \n",
            "{'way': 0.7166, 'able': 0.7073, 'necesary': 0.6849}\n",
            "-----\n",
            "3\n",
            "  \n",
            "{'3': 1.0, '4': 0.9535, '2': 0.9514, '5': 0.8826, '6': 0.8638, '1': 0.8449, '8': 0.769, '7': 0.7673, '9': 0.7522, '10': 0.6622, '11': 0.6511, '12': 0.6385, '13': 0.6209, '14': 0.5998, '15': 0.5869, '16': 0.582, '1-2': 0.5522, '17': 0.5502, '18': 0.5462, '31-35': 0.5451}\n",
            "-----\n",
            "And we are grateful to President Obama and First Lady Michelle Obama for their gracious aid throughout this transition.\n",
            "{'obama': 0.7705, 'bernanke': 0.6463, 'spitzer': 0.6307, 'vice-president': 0.63, 'president': 0.63, 'dukakis': 0.6121, 'america': 0.6036, 'tenzing': 0.6006, 'lady': 0.5992, 'hope': 0.5959, 'gratefully': 0.5906, 'thank': 0.5755, 'everybody': 0.5745}\n",
            "-----\n",
            "They have been magnificent.\n",
            "{'magnificient': 1.0, 'breath-taking': 0.8364, 'grandeur': 0.8304, 'dazzling': 0.7913, 'beauitful': 0.7425, 'beautiful': 0.7425, 'glorious': 0.7386, 'splendour': 0.7386, 'boasting': 0.7046, 'impressive': 0.7046, 'incredible': 0.6925, 'remarkable': 0.6828, 'bewitching': 0.6761, 'fantastic': 0.6742, 'wonderful': 0.6683, 'wondeful': 0.6683, 'fabulous': 0.6669}\n",
            "-----\n",
            "Thank you.\t   \n",
            "{'thank': 1.0, 'thanks': 0.8532, 'glad': 0.7763, 'wellcome': 0.7729, 'gratefully': 0.7598, 'heartiest': 0.759, 'congratulations': 0.759, 'dears': 0.7031, 'dear': 0.7031, 'hope': 0.6964, 'congrats': 0.6938, 'appreciate': 0.6903}\n",
            "-----\n",
            "4\n",
            "  \n",
            "{'4': 1.0, '3': 0.9535, '6': 0.9243, '5': 0.9142, '2': 0.9089, '8': 0.8438, '7': 0.8225, '1': 0.814, '9': 0.805, '11': 0.702, '12': 0.6954, '10': 0.6929, '13': 0.6708, '14': 0.6579, '16': 0.6558, '15': 0.6268, '17': 0.6011, '18': 0.5964, '19': 0.5742, '21': 0.5547}\n",
            "-----\n",
            "Today’s ceremony, however, has very special meaning.\n",
            "{'extra-special': 0.7663, 'special': 0.7663, 'send-off': 0.7648, 'fete': 0.6918, 'today': 0.6862, 'day': 0.66, 'meaning': 0.6459, 'occasion': 0.6402, 'given': 0.6392}\n",
            "-----\n",
            "Because today, we are not merely transferring power from one administration to another or from one party to another, but we are transferring power from Washington, D.C., and giving it back to you, the people.\t   \n",
            "{'powe': 0.7081, 'power': 0.7081, 'state': 0.6672, 'giving': 0.6566, 'means': 0.6538, 'government': 0.6495, 'state-run': 0.6495}\n",
            "-----\n",
            "5\n",
            "  \n",
            "{'5': 1.0, '6': 0.9323, '4': 0.9142, '3': 0.8826, '7': 0.8747, '8': 0.8697, '9': 0.8584, '10': 0.8286, '2': 0.7948, '11': 0.7548, '1': 0.7506, '12': 0.7365, '13': 0.7186, '15': 0.718, '14': 0.7031, '16': 0.662, '20': 0.649, '17': 0.6437, '18': 0.6301, '25': 0.6238}\n",
            "-----\n",
            "For too long, a small group in our nation’s capital has reaped the rewards of government while the people have borne the cost.\n",
            "{'government': 0.7241, 'state-run': 0.7241, 'people': 0.7137, 'long-term': 0.6933, 'benifit': 0.6901, 'capital': 0.687, 'captial': 0.687, 'nation': 0.6867}\n",
            "-----\n",
            "Washington flourished, but the people did not share in its wealth.\n",
            "{'ill-gotten': 0.7509, 'people': 0.7266, 'ways': 0.6486, 'world': 0.6438, 'history': 0.6421, 'annals': 0.6421, 'peoples': 0.6344, 'share': 0.6316}\n",
            "-----\n",
            "Politicians prospered, but the jobs left and the factories closed.\n",
            "{'unionized': 0.6812, 'godowns': 0.6706, 'vacancies': 0.6587, 'jobs': 0.6587, 'small-to-medium': 0.6483, 'state-run': 0.617, 'government': 0.617, 'office-holders': 0.6114, 'politicians': 0.6114, 'machine-building': 0.6061, 'lifeblood': 0.5946}\n",
            "-----\n"
          ],
          "name": "stdout"
        }
      ]
    },
    {
      "cell_type": "code",
      "metadata": {
        "id": "CkQ1gqZ0Fftj",
        "colab_type": "code",
        "colab": {}
      },
      "source": [
        ""
      ],
      "execution_count": null,
      "outputs": []
    }
  ]
}