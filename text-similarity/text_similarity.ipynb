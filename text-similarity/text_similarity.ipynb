{
  "nbformat": 4,
  "nbformat_minor": 0,
  "metadata": {
    "colab": {
      "name": "text_similarity.ipynb",
      "provenance": [],
      "toc_visible": true,
      "authorship_tag": "ABX9TyPPUvNYxeVMg6itUEkKWJ1A",
      "include_colab_link": true
    },
    "kernelspec": {
      "name": "python3",
      "display_name": "Python 3"
    }
  },
  "cells": [
    {
      "cell_type": "markdown",
      "metadata": {
        "id": "view-in-github",
        "colab_type": "text"
      },
      "source": [
        "<a href=\"https://colab.research.google.com/github/lisaong/stackup-workshops/blob/text_similarity_datasource/text-similarity/text_similarity.ipynb\" target=\"_parent\"><img src=\"https://colab.research.google.com/assets/colab-badge.svg\" alt=\"Open In Colab\"/></a>"
      ]
    },
    {
      "cell_type": "code",
      "metadata": {
        "id": "PkE4jk2P6ok5",
        "colab_type": "code",
        "colab": {
          "base_uri": "https://localhost:8080/",
          "height": 441
        },
        "outputId": "347ed2dc-fd04-4114-e63c-31eb0866d1fe"
      },
      "source": [
        "# load the medium-sized model\n",
        "!python -m spacy download en_core_web_md"
      ],
      "execution_count": 3,
      "outputs": [
        {
          "output_type": "stream",
          "text": [
            "Requirement already satisfied: en_core_web_md==2.2.5 from https://github.com/explosion/spacy-models/releases/download/en_core_web_md-2.2.5/en_core_web_md-2.2.5.tar.gz#egg=en_core_web_md==2.2.5 in /usr/local/lib/python3.6/dist-packages (2.2.5)\n",
            "Requirement already satisfied: spacy>=2.2.2 in /usr/local/lib/python3.6/dist-packages (from en_core_web_md==2.2.5) (2.2.4)\n",
            "Requirement already satisfied: tqdm<5.0.0,>=4.38.0 in /usr/local/lib/python3.6/dist-packages (from spacy>=2.2.2->en_core_web_md==2.2.5) (4.41.1)\n",
            "Requirement already satisfied: plac<1.2.0,>=0.9.6 in /usr/local/lib/python3.6/dist-packages (from spacy>=2.2.2->en_core_web_md==2.2.5) (1.1.3)\n",
            "Requirement already satisfied: srsly<1.1.0,>=1.0.2 in /usr/local/lib/python3.6/dist-packages (from spacy>=2.2.2->en_core_web_md==2.2.5) (1.0.2)\n",
            "Requirement already satisfied: requests<3.0.0,>=2.13.0 in /usr/local/lib/python3.6/dist-packages (from spacy>=2.2.2->en_core_web_md==2.2.5) (2.23.0)\n",
            "Requirement already satisfied: numpy>=1.15.0 in /usr/local/lib/python3.6/dist-packages (from spacy>=2.2.2->en_core_web_md==2.2.5) (1.18.4)\n",
            "Requirement already satisfied: thinc==7.4.0 in /usr/local/lib/python3.6/dist-packages (from spacy>=2.2.2->en_core_web_md==2.2.5) (7.4.0)\n",
            "Requirement already satisfied: wasabi<1.1.0,>=0.4.0 in /usr/local/lib/python3.6/dist-packages (from spacy>=2.2.2->en_core_web_md==2.2.5) (0.6.0)\n",
            "Requirement already satisfied: setuptools in /usr/local/lib/python3.6/dist-packages (from spacy>=2.2.2->en_core_web_md==2.2.5) (46.3.0)\n",
            "Requirement already satisfied: blis<0.5.0,>=0.4.0 in /usr/local/lib/python3.6/dist-packages (from spacy>=2.2.2->en_core_web_md==2.2.5) (0.4.1)\n",
            "Requirement already satisfied: preshed<3.1.0,>=3.0.2 in /usr/local/lib/python3.6/dist-packages (from spacy>=2.2.2->en_core_web_md==2.2.5) (3.0.2)\n",
            "Requirement already satisfied: catalogue<1.1.0,>=0.0.7 in /usr/local/lib/python3.6/dist-packages (from spacy>=2.2.2->en_core_web_md==2.2.5) (1.0.0)\n",
            "Requirement already satisfied: murmurhash<1.1.0,>=0.28.0 in /usr/local/lib/python3.6/dist-packages (from spacy>=2.2.2->en_core_web_md==2.2.5) (1.0.2)\n",
            "Requirement already satisfied: cymem<2.1.0,>=2.0.2 in /usr/local/lib/python3.6/dist-packages (from spacy>=2.2.2->en_core_web_md==2.2.5) (2.0.3)\n",
            "Requirement already satisfied: urllib3!=1.25.0,!=1.25.1,<1.26,>=1.21.1 in /usr/local/lib/python3.6/dist-packages (from requests<3.0.0,>=2.13.0->spacy>=2.2.2->en_core_web_md==2.2.5) (1.24.3)\n",
            "Requirement already satisfied: idna<3,>=2.5 in /usr/local/lib/python3.6/dist-packages (from requests<3.0.0,>=2.13.0->spacy>=2.2.2->en_core_web_md==2.2.5) (2.9)\n",
            "Requirement already satisfied: chardet<4,>=3.0.2 in /usr/local/lib/python3.6/dist-packages (from requests<3.0.0,>=2.13.0->spacy>=2.2.2->en_core_web_md==2.2.5) (3.0.4)\n",
            "Requirement already satisfied: certifi>=2017.4.17 in /usr/local/lib/python3.6/dist-packages (from requests<3.0.0,>=2.13.0->spacy>=2.2.2->en_core_web_md==2.2.5) (2020.4.5.1)\n",
            "Requirement already satisfied: importlib-metadata>=0.20; python_version < \"3.8\" in /usr/local/lib/python3.6/dist-packages (from catalogue<1.1.0,>=0.0.7->spacy>=2.2.2->en_core_web_md==2.2.5) (1.6.0)\n",
            "Requirement already satisfied: zipp>=0.5 in /usr/local/lib/python3.6/dist-packages (from importlib-metadata>=0.20; python_version < \"3.8\"->catalogue<1.1.0,>=0.0.7->spacy>=2.2.2->en_core_web_md==2.2.5) (3.1.0)\n",
            "\u001b[38;5;2m✔ Download and installation successful\u001b[0m\n",
            "You can now load the model via spacy.load('en_core_web_md')\n"
          ],
          "name": "stdout"
        }
      ]
    },
    {
      "cell_type": "markdown",
      "metadata": {
        "id": "GV2JF4wZAcnj",
        "colab_type": "text"
      },
      "source": [
        "### After installing the above:\n",
        "\n",
        "Runtime -> Restart Runtime"
      ]
    },
    {
      "cell_type": "code",
      "metadata": {
        "id": "LHPrHTmBxNcd",
        "colab_type": "code",
        "colab": {}
      },
      "source": [
        "import numpy as np\n",
        "import spacy\n",
        "import matplotlib.pyplot as plt\n",
        "from sklearn.manifold import TSNE\n",
        "import pickle\n",
        "\n",
        "plt.style.use('seaborn-whitegrid')"
      ],
      "execution_count": 0,
      "outputs": []
    },
    {
      "cell_type": "code",
      "metadata": {
        "id": "0GR0PPj9LR2x",
        "colab_type": "code",
        "colab": {}
      },
      "source": [
        "# loads the medium-sized english language model\n",
        "# this includes: tokenizer, tagger, parser, named-entity recogniser, and word vectors\n",
        "#  the default (en_core_web_sm) is fast but not as accurate.\n",
        "#  the large (en_core_web_lg) can also be installed but it's a large download.\n",
        "nlp = spacy.load(\"en_core_web_md\")"
      ],
      "execution_count": 0,
      "outputs": []
    },
    {
      "cell_type": "markdown",
      "metadata": {
        "id": "XH8ZP1Fb2QlZ",
        "colab_type": "text"
      },
      "source": [
        "## Word vectors\n",
        "\n",
        "Like a dictionary for machines to consume.\n",
        "\n",
        "Vectors are analogous to \"definitions\" that humans read."
      ]
    },
    {
      "cell_type": "code",
      "metadata": {
        "id": "8aZwv0YJMbxn",
        "colab_type": "code",
        "colab": {
          "base_uri": "https://localhost:8080/",
          "height": 1000
        },
        "outputId": "9df0d9c1-6cb3-4a79-c205-937fafe59b45"
      },
      "source": [
        "# try it out with some text, we'll try a real text later.\n",
        "tokens = nlp(\"man woman king queen\")\n",
        "\n",
        "for token in tokens:\n",
        "    print(token.text, token.has_vector, token.vector_norm, token.is_oov, token.vector)"
      ],
      "execution_count": 6,
      "outputs": [
        {
          "output_type": "stream",
          "text": [
            "man True 6.352939 False [-1.7310e-01  2.0663e-01  1.6543e-02 -3.1026e-01  1.9719e-02  2.7791e-01\n",
            "  1.2283e-01 -2.6328e-01  1.2522e-01  3.1894e+00 -1.6291e-01 -8.8759e-02\n",
            "  3.3067e-03 -2.9483e-03 -3.4398e-01  1.2779e-01 -9.4536e-02  4.3467e-01\n",
            "  4.9742e-01  2.5068e-01 -2.0901e-01 -5.8931e-01  6.1615e-02  1.0434e-01\n",
            "  2.4424e-01 -2.9120e-01  3.0746e-01  3.6276e-01  7.1151e-01 -8.0523e-02\n",
            " -5.9524e-01  3.4834e-01 -3.3048e-01  7.0316e-02  5.3329e-01 -2.9081e-01\n",
            "  1.3459e-01 -3.9856e-01 -3.2435e-01  1.1867e-01 -1.4938e-01 -3.8256e-01\n",
            "  3.3116e-01 -3.1488e-01 -9.4491e-02 -6.1319e-02  1.5518e-01 -2.5523e-01\n",
            " -1.1813e-01  2.5296e-01 -9.5174e-02 -1.6596e-01 -1.0840e-01  8.8803e-02\n",
            "  2.0890e-01  4.3981e-01  1.0476e-03 -4.0666e-02  2.6487e-01 -6.1009e-01\n",
            " -1.4405e-01 -8.1185e-02  7.5475e-03  2.3373e-01 -2.7772e-02 -2.9315e-01\n",
            " -1.1744e-01 -8.3193e-02 -2.3768e-01  1.5735e-01 -5.6408e-01 -2.9323e-01\n",
            "  1.6387e-02 -7.8160e-02 -2.1301e-01 -1.7845e-01 -3.0769e-01 -4.6203e-01\n",
            " -2.5220e-03  4.2973e-01 -4.5647e-02  4.3434e-01  2.9144e-01 -2.0231e-01\n",
            "  6.5217e-02 -4.2321e-01  7.1227e-01 -5.5498e-01 -3.6118e-01 -1.4849e-01\n",
            " -1.0082e-01 -1.0045e-01 -1.7666e-01  2.7141e-02 -1.4148e-01 -5.2112e-01\n",
            " -4.8785e-02 -2.9672e-01 -1.4418e-01 -2.8042e-01 -6.8216e-02  6.4455e-01\n",
            "  9.4982e-02  8.4994e-02  8.2954e-02 -2.5255e-01 -4.6606e-01  2.7432e-01\n",
            "  1.4998e-01  5.6889e-02  3.4382e-01 -3.5301e-01 -4.0666e-01  1.3636e-02\n",
            "  6.3070e-02  3.4924e-01  1.7517e-01 -1.7623e-01 -8.0157e-02  1.2179e-01\n",
            " -1.4025e-01 -2.6541e-01  1.7016e-01  1.2596e-01 -2.1399e-01 -2.1077e-01\n",
            " -4.6861e-01 -2.2138e-01  1.6753e-03 -1.4527e-01  1.1256e-01 -2.4644e-02\n",
            " -2.5005e-01 -4.3965e-01  4.6923e-01  2.0156e-01  3.2739e-01  6.8498e-02\n",
            " -2.0121e-01 -7.8691e-02 -2.6755e+00  1.4326e-01  6.9114e-02  3.6917e-01\n",
            " -1.1858e-01 -2.1332e-01  2.4918e-01 -1.2622e-01  5.5950e-02 -2.8807e-01\n",
            " -5.9173e-01 -9.0193e-02 -1.8155e-01 -3.3470e-01 -7.4857e-02  1.1898e-01\n",
            " -4.1698e-01 -1.9773e-01  1.9724e-01  1.1124e-01  2.6915e-01 -4.3901e-01\n",
            " -5.8556e-02  4.2020e-01  2.7380e-01 -9.7767e-02  7.5527e-02 -2.1164e-01\n",
            " -1.9093e-01  3.5376e-01 -6.9182e-01 -2.5014e-02  5.8887e-02 -1.7279e-01\n",
            " -4.4822e-01 -1.5286e-01 -2.1873e-01  2.2586e-01 -1.3494e-01  7.7586e-03\n",
            " -2.8582e-01  6.0300e-02 -6.1573e-03 -3.0737e-01 -8.2510e-01  5.8975e-01\n",
            " -4.1435e-01  9.8575e-02 -8.0579e-02 -6.0510e-01 -3.1138e-01  2.3793e-01\n",
            " -3.3706e-01  9.7126e-02  4.1277e-01  2.7025e-01 -7.1067e-02 -5.1049e-01\n",
            " -8.0376e-02 -1.6188e-01  1.3121e-02  2.1678e-01 -2.7958e-01 -1.9755e-01\n",
            " -3.4668e-01  1.0901e-01 -1.5878e-01  1.1535e-02 -2.5060e-02 -2.4669e-01\n",
            "  2.7795e-02 -4.6083e-01 -1.6082e-01 -1.6443e-01  3.4003e-01 -6.1288e-01\n",
            "  1.3028e-03 -1.2118e-01  3.8965e-01 -4.3394e-01  6.6747e-02  2.4109e-01\n",
            " -3.1253e-01  2.7997e-01  1.4047e-01 -1.6265e-02 -6.0792e-02  6.5612e-01\n",
            " -7.1277e-02  8.2271e-02  8.5240e-02  1.5606e-01 -2.1927e-01 -1.2083e-01\n",
            " -2.0386e-01 -3.9694e-03 -4.3643e-02  4.2532e-01 -3.3641e-01  3.0292e-01\n",
            "  2.9297e-01  1.2963e-01  1.5872e-01 -3.1301e-01  2.6109e-01  2.4433e-01\n",
            " -1.9605e-02 -4.4197e-01  4.5351e-01  2.2184e-01  3.6002e-02  3.0979e-01\n",
            "  2.8024e-02  2.9232e-01  8.8706e-02  1.3376e-01  5.6731e-01 -1.7374e-01\n",
            "  3.7015e-01 -2.9521e-01  3.4110e-02  4.1392e-01  1.5641e-02 -3.1128e-01\n",
            " -3.4823e-01  3.3560e-01  1.7200e-01  4.1568e-01 -2.6028e-01  3.3601e-01\n",
            " -4.1509e-03 -1.6774e-02 -2.6867e-01  5.0892e-02 -1.2670e-01  4.6916e-01\n",
            " -1.1842e-01  2.9402e-01  3.5544e-01  7.3157e-02 -1.9305e-01  2.3060e-01\n",
            " -2.6933e-01  6.2013e-02 -5.4700e-02 -3.8535e-01 -1.3039e-01 -8.4836e-02\n",
            "  9.8583e-02 -1.5403e-01 -3.6347e-01 -1.9985e-01 -2.2663e-01 -5.3781e-01\n",
            " -2.4666e-01  1.9266e-02  2.1319e-01  1.6665e-01 -3.8341e-01 -7.3803e-02]\n",
            "woman True 6.8987513 False [ 2.5567e-02  2.7885e-01 -1.6992e-01  2.7348e-01 -5.4906e-02  2.6873e-01\n",
            "  1.5479e-01 -2.2401e-01  2.6404e-01  3.2573e+00 -3.6653e-01  1.4961e-01\n",
            " -2.6870e-01 -3.1193e-01 -5.0554e-01 -1.8622e-02 -5.3002e-01  6.2383e-01\n",
            "  2.0168e-01  2.1561e-01 -1.9996e-01 -3.3419e-01 -9.5230e-02 -2.5538e-01\n",
            "  2.1543e-01  1.0939e-01  4.1532e-01  1.5005e-01  3.9662e-01 -2.5728e-01\n",
            " -4.6104e-01  2.9125e-01 -1.0363e-01 -1.6447e-01  9.3747e-01 -4.5412e-02\n",
            "  2.7272e-01 -7.1627e-01 -3.8877e-01  1.6912e-01  4.3804e-01 -2.2131e-01\n",
            "  2.0337e-01 -3.6581e-01 -3.6242e-02 -2.1563e-01 -1.1942e-01 -2.9580e-01\n",
            "  3.4733e-01 -1.6351e-02 -7.9160e-01 -2.4388e-01 -4.8220e-01 -4.5474e-01\n",
            "  2.1058e-01  6.3894e-01  8.8826e-02 -2.2047e-01 -5.9894e-02 -4.2726e-01\n",
            " -9.9469e-02 -5.2176e-01  4.6980e-02  3.2228e-01 -1.0954e-01 -2.5837e-01\n",
            "  1.0217e-01  9.0491e-02  1.8292e-01  3.8789e-01 -4.3365e-01 -2.4162e-01\n",
            " -4.3422e-01  2.2077e-01  5.0189e-01  9.0415e-03 -2.9682e-01 -5.2089e-01\n",
            "  5.5734e-02 -3.9163e-02 -4.3091e-03 -6.4597e-02 -2.5508e-01 -3.5399e-02\n",
            " -2.0516e-01 -1.1271e-01  8.7014e-01  6.0037e-02 -2.4875e-01 -5.1786e-01\n",
            " -1.0997e-01  3.8666e-01 -2.0147e-01 -1.7448e-01 -6.6240e-02 -8.6425e-01\n",
            " -6.2866e-02  1.5059e-01 -4.5898e-02 -2.9925e-01  4.9547e-01  8.5508e-01\n",
            "  5.0861e-01 -3.9749e-02  1.3830e-01 -4.3328e-01 -8.2351e-01  1.4587e-01\n",
            " -2.5802e-02  2.1241e-02  4.1686e-01  1.3879e-01 -2.8574e-01 -1.1489e-01\n",
            "  1.4417e-02 -1.0605e-01  9.2083e-02  1.6331e-01  5.1418e-01  2.6796e-01\n",
            " -3.0879e-01 -1.5634e-01  2.3043e-01 -1.9157e-01  2.0620e-03  7.1663e-02\n",
            " -1.5257e-01  8.9785e-03 -1.2435e-01  1.1599e-01 -2.3492e-01 -1.6969e-01\n",
            " -5.1814e-01 -3.3792e-01  3.4203e-01 -2.0270e-01 -3.0722e-01  2.4821e-01\n",
            " -2.1101e-01  1.6024e-01 -2.2108e+00 -3.3644e-02  1.5281e-01 -9.1025e-02\n",
            " -5.3468e-01 -1.9606e-01 -1.0073e-01 -1.4763e-01 -3.7963e-01 -1.1470e-01\n",
            " -7.7200e-01  3.4073e-03 -4.3319e-01 -1.9260e-01 -2.8495e-01  1.1820e-01\n",
            " -7.3914e-02 -4.4934e-01  1.5063e-01  7.5852e-02 -3.5571e-01 -2.2156e-01\n",
            "  1.5631e-02  5.4899e-01  2.7738e-01 -3.4669e-01 -4.6663e-02  2.0436e-01\n",
            "  3.1897e-02  4.9289e-01 -5.1963e-01 -1.5231e-01  4.7612e-01 -5.0498e-02\n",
            " -4.7795e-01 -2.1124e-01 -6.1119e-01 -3.5826e-02 -5.2109e-01  3.9765e-01\n",
            " -3.2262e-01  3.4586e-01 -3.6950e-02 -3.0117e-01 -1.8839e-01  7.4328e-01\n",
            " -4.6940e-01  2.2037e-01 -6.3876e-02 -4.2307e-01 -3.0980e-01 -9.2729e-02\n",
            " -1.4554e-01 -4.5225e-02  5.2110e-01  3.5251e-02 -1.6337e-01 -2.0276e-01\n",
            " -5.4362e-02 -1.7507e-01  4.6784e-01  2.8518e-01 -2.4753e-01 -3.8146e-01\n",
            " -6.5522e-01  2.8048e-01 -2.2469e-01  3.1348e-02 -3.7321e-02 -1.2925e-01\n",
            " -3.5847e-01 -6.3603e-01 -5.8490e-01  1.7119e-02  3.0965e-01 -3.9587e-01\n",
            " -6.3493e-01 -1.4329e-02  3.5014e-01 -5.6452e-01 -1.9727e-01 -2.8897e-01\n",
            "  5.3300e-02  8.2705e-02 -2.5107e-02 -4.0928e-01  4.5675e-01  3.6729e-01\n",
            "  5.5723e-02 -3.9100e-02 -4.7065e-02  1.4521e-01  2.8315e-01 -7.7514e-02\n",
            " -2.4889e-01 -2.1624e-01  3.2185e-02  2.9615e-01 -4.4788e-02 -7.8702e-02\n",
            " -2.9525e-01  1.1738e-01  3.9822e-01 -7.7722e-01  3.7586e-01 -8.3447e-02\n",
            " -1.3070e-01 -9.7301e-02  5.3456e-01 -5.6583e-02 -2.0945e-01  3.1246e-01\n",
            "  5.1180e-01 -5.2732e-02 -2.4482e-01  3.5617e-01  5.5137e-01 -1.6055e-01\n",
            "  8.8772e-02  2.0303e-01 -6.3832e-02  5.2000e-01 -2.6473e-02 -2.1467e-01\n",
            "  1.1760e-01  2.5080e-01  2.7871e-01  3.1016e-01 -8.8719e-01  1.8565e-02\n",
            " -9.0917e-01 -3.2640e-01 -4.6293e-01  3.6726e-01 -1.1205e-01  3.2701e-01\n",
            " -3.6490e-01  7.9312e-02  2.2619e-01  5.2265e-01  4.6024e-02  4.5068e-01\n",
            "  1.4493e-01 -3.3406e-01 -3.8688e-01  2.5465e-02 -4.9985e-01  5.4518e-02\n",
            "  1.2466e-01  1.2283e-02  7.5499e-02 -1.3099e-01  1.9764e-01 -6.5310e-01\n",
            " -2.7553e-01 -5.1765e-03 -1.6025e-01 -1.8582e-02 -1.0128e-01 -3.4728e-01]\n",
            "king True 7.1417456 False [ 3.1542e-01 -3.5068e-01  4.2923e-01 -5.3825e-01 -1.8480e-01 -3.1082e-01\n",
            "  2.9196e-01 -7.1030e-01 -2.3867e-01  1.8471e+00 -3.6446e-01 -5.1282e-01\n",
            "  1.2210e-01  3.8909e-01 -7.3204e-02  3.5462e-02  3.3289e-01  6.6466e-01\n",
            "  2.7175e-02  4.2021e-01 -1.4520e-01  3.7991e-01 -6.0520e-01  1.0695e-01\n",
            " -6.4716e-01 -1.0739e-02 -3.9754e-01  3.8857e-01 -2.0134e-01  6.9813e-01\n",
            " -3.2411e-01  7.3085e-01 -1.0930e-01 -2.3511e-01  1.8482e-01 -1.1595e-01\n",
            " -7.1003e-01 -2.2974e-01 -4.1979e-01  8.1004e-03 -1.0504e-01 -4.4802e-01\n",
            " -7.3928e-02 -4.2380e-01  2.8482e-01 -7.4517e-02  9.8161e-02  6.4602e-01\n",
            " -2.5832e-01 -2.0452e-02 -6.6863e-02  5.1501e-01  1.6758e-01  1.2329e-01\n",
            "  1.9636e-01  1.1958e-01 -1.8296e-01 -1.4325e-01 -2.7758e-01  5.0597e-02\n",
            " -6.6122e-02 -1.8920e-01  3.3300e-01  2.5319e-01  6.6355e-01  6.6735e-01\n",
            "  4.9969e-01  1.5481e-01 -8.4247e-02 -2.2947e-01 -6.8367e-01 -2.9783e-01\n",
            " -1.8651e-01 -4.7121e-01  1.8272e-01 -3.2604e-01 -6.8030e-02  7.0073e-01\n",
            "  3.3159e-01  7.0393e-02 -7.6987e-01  5.9069e-01  2.0592e-01  1.7976e-01\n",
            "  6.9525e-03  5.7855e-02  7.2047e-01 -7.7249e-01 -5.4188e-01 -1.2189e-01\n",
            " -3.1734e-03 -1.5960e-01  1.6970e-01 -1.2546e-01  8.7069e-01 -4.6478e-01\n",
            " -1.9302e-01 -4.5618e-01 -1.5419e-01  8.1190e-01 -2.0544e-01  3.9454e-01\n",
            " -3.1178e-01 -6.4318e-02 -4.4443e-02 -5.8338e-01 -1.4792e-01  1.7083e-02\n",
            "  8.3239e-01 -1.1280e-01  5.7826e-02  1.7024e-01 -1.3635e-01 -2.8894e-01\n",
            " -4.0590e-01 -5.0685e-02  4.9856e-01  6.0885e-02  1.9437e-01 -1.9811e-01\n",
            " -2.2335e-01 -2.5909e-02  3.9846e-01  4.4087e-01  2.3195e-02  9.8666e-02\n",
            " -1.3004e-01 -2.0339e-01 -4.2958e-01 -7.9760e-03 -3.2016e-01 -4.1094e-01\n",
            " -1.0304e-01 -7.5565e-01  1.7748e-02 -2.0037e-01  1.7185e-01  2.1787e-01\n",
            " -3.1685e-01  2.2068e-02 -2.5559e+00 -9.9115e-02  1.8434e-01  1.2448e-01\n",
            " -5.9413e-02 -4.5649e-02  7.9018e-01  2.4556e-01 -1.5059e-02 -7.8996e-01\n",
            "  2.9087e-01 -3.9419e-01  3.7617e-01  1.5718e-01  5.1356e-01 -3.4219e-01\n",
            "  5.0628e-02 -3.3254e-01 -1.4157e-01  3.3355e-01  4.4398e-01 -2.5451e-01\n",
            " -3.3201e-02 -2.0958e-01  3.8870e-01 -2.4565e-01  5.2391e-01  4.3247e-01\n",
            " -4.1701e-01  2.9031e-01 -7.8001e-01  3.0100e-02 -6.1446e-02 -1.4029e-01\n",
            " -5.5354e-01 -1.9175e-01  6.7279e-01 -1.1104e-01 -3.5486e-01 -2.8601e-01\n",
            "  1.1720e-01 -4.5021e-01  1.4004e-01 -5.7484e-01 -2.2531e-01  4.1572e-01\n",
            " -1.5950e-01 -2.7877e-01  7.9785e-02  1.9120e-02 -9.8357e-01 -5.6998e-01\n",
            " -3.4023e-02  1.7382e-02 -1.7157e-02 -2.8211e-01  1.5573e-01 -1.3556e-01\n",
            " -2.6296e-01 -7.4571e-01  1.2015e-01  5.4234e-01  5.6783e-02 -7.5675e-02\n",
            "  2.1820e-01 -2.5679e-01  2.3552e-01 -2.7111e-02 -1.9342e-01 -3.1088e-01\n",
            " -1.0600e-01  4.9512e-01  5.7932e-02  3.8773e-01  9.3160e-02 -1.3782e-01\n",
            "  2.4244e-01  3.8098e-01  9.1109e-04  8.8338e-01  4.3823e-01 -7.7041e-02\n",
            "  1.1541e-01  3.4702e-01  5.9785e-01  6.7012e-01 -6.0953e-02 -4.3872e-02\n",
            " -4.0800e-01  7.5721e-01  2.4773e-01  8.8926e-02 -1.8493e-01 -5.2339e-01\n",
            "  8.5809e-02 -6.0880e-01 -7.7463e-02 -2.6829e-01 -3.9021e-01 -1.5002e-01\n",
            "  5.4297e-01 -4.1076e-01 -9.5215e-02 -2.9787e-01  1.0041e-01 -3.7774e-01\n",
            "  7.5511e-01 -4.3910e-01 -6.1722e-01 -1.0360e+00  6.9651e-01  1.4157e-01\n",
            " -4.4533e-01  3.2702e-01  3.8306e-02  2.6765e-01  5.4242e-02 -3.0242e-02\n",
            " -4.5133e-01  6.2505e-03  2.7504e-01 -5.2413e-02 -1.9870e-01 -1.7869e-01\n",
            " -2.4658e-01 -3.7369e-01  2.6174e-01  4.1482e-01 -5.9277e-01  6.1446e-02\n",
            "  6.6261e-02  1.0970e-01 -1.4388e-01 -3.2442e-01 -3.9016e-04 -2.1392e-01\n",
            "  3.2963e-01  5.0402e-01  1.3454e-01 -5.6133e-01  1.0422e+00  5.8985e-01\n",
            "  1.4473e-01  1.7745e-01  1.6160e-01  3.3230e-01  2.2909e-01  1.5774e-01\n",
            " -3.5463e-01 -4.7642e-01 -2.5822e-01  2.3677e-01 -4.0255e-01 -3.5364e-01\n",
            " -1.6697e-01  7.0677e-01  8.4272e-02  1.1427e-01  5.8221e-01 -1.0559e-01]\n",
            "queen True 6.8297405 False [ 0.4095    -0.22693    0.25362   -0.36055   -0.37095   -0.35181\n",
            "  0.50669   -0.77897   -0.32571    1.4895     0.052438  -0.36751\n",
            " -0.074025   0.37078    0.063077   0.32274    0.346      0.64214\n",
            " -0.09583    0.14303   -0.33826    0.79005   -0.7136    -0.050134\n",
            " -0.46467   -0.067917  -0.32107    0.042919   0.018576   0.59272\n",
            " -0.032392   0.72779    0.26002    0.30401    0.43033    0.25546\n",
            " -0.37986   -0.14398   -0.54399   -0.46181    0.11046   -0.034391\n",
            " -0.10458   -0.069689   0.091839  -0.19097   -0.057108   0.61218\n",
            " -0.19544   -0.31698   -0.46372    0.088749  -0.052501  -0.27969\n",
            "  0.025125  -0.42097   -0.069404  -0.038672  -0.26489    0.10911\n",
            " -0.084848  -0.23826    0.61538    0.0039223  0.20285    0.56085\n",
            "  0.015419   0.30707    0.19435   -0.20358   -0.18724   -0.10311\n",
            " -0.46468   -0.16804    0.22614    0.040657  -0.5147     0.46701\n",
            "  0.61985   -0.46281   -0.8657     0.26458   -0.015476   0.12292\n",
            "  0.084031  -0.07936    0.58967   -0.011092  -0.3795    -0.053612\n",
            "  0.21134    0.46996    0.11207   -0.16461    0.43344   -0.40563\n",
            " -0.056622   0.37558   -0.41568    0.48919   -0.21899    0.070619\n",
            " -0.17975   -0.31542    0.030309  -0.50396   -0.3454     0.046303\n",
            "  0.65506   -0.34406    0.26439    0.65116    0.064871  -0.21301\n",
            " -0.33609   -0.13405    0.021996   0.13674    0.39605   -0.53568\n",
            " -0.4572     0.015033   0.34131    0.081045   0.13898    0.077339\n",
            "  0.12537   -0.36673   -0.45194    0.18747   -0.80829   -0.72773\n",
            " -0.16877   -0.10304    0.61342   -0.11578   -0.08559    0.32745\n",
            "  0.20161    0.16451   -2.6898    -0.13789    0.38222   -0.14568\n",
            " -0.54351   -0.057114   0.052728   0.21628    0.17275   -0.52548\n",
            "  0.33424   -0.11197    0.32572    0.073191   0.55281   -0.42832\n",
            "  0.66409   -0.88453   -0.097977   0.44619   -0.32691   -0.24954\n",
            " -0.077847  -0.0092577  0.52026   -0.22013    0.097384   0.55009\n",
            " -0.17778    0.31343   -0.27513   -0.040442   0.21805    0.17002\n",
            " -0.072219   0.0059726  0.35768    0.084917  -0.86797    0.35865\n",
            "  0.065546   0.10703    0.2024    -0.38667   -0.054235   0.2198\n",
            " -0.49117   -0.018379  -0.10444    0.55107   -0.49634   -0.29664\n",
            "  0.33894   -0.0087991 -0.03863   -0.54128    0.0079764  0.054724\n",
            " -0.2015    -0.18551    0.13176    0.27923    0.076447  -0.048008\n",
            " -0.055424  -0.34943    0.39729    0.2457     0.029499  -0.68098\n",
            " -0.6871     0.59309    0.074554   0.20225   -0.036478   0.14827\n",
            " -0.25059    0.26117   -0.31805    0.45437   -0.038272   0.028742\n",
            "  0.27339   -0.33354    0.91142    0.31166    0.11014    0.042104\n",
            " -0.12473    0.51306    0.16476    0.072608   0.31229   -0.10835\n",
            "  0.21623   -0.63722    0.21012   -0.083516  -0.17219   -0.51574\n",
            "  0.12891   -0.42211    0.031661  -0.27926    0.32035   -0.76117\n",
            "  0.32241    0.14613   -0.23227   -0.8071     0.11194    0.38073\n",
            " -0.022643  -0.24833   -0.26833    0.4066    -0.13731   -0.3489\n",
            " -0.6394     0.21267   -0.099964   0.37609   -0.23807   -0.4519\n",
            " -0.29246   -0.06527    0.53402    0.49704   -1.2046     0.028652\n",
            " -0.76803   -0.14139   -0.27493    0.090442   0.1094    -0.11903\n",
            "  0.26246   -0.094261  -0.004892  -0.22072    0.98163    0.68397\n",
            " -0.046815  -0.26183   -0.35914    0.10693    0.047385  -0.12417\n",
            " -0.17449    0.056819   0.086431   0.28052   -0.044373  -0.29452\n",
            " -0.19942    0.59475   -0.33682   -0.34563    0.12043   -0.36494  ]\n"
          ],
          "name": "stdout"
        }
      ]
    },
    {
      "cell_type": "code",
      "metadata": {
        "id": "ktgnnjdiMm4y",
        "colab_type": "code",
        "colab": {
          "base_uri": "https://localhost:8080/",
          "height": 34
        },
        "outputId": "672f5d8c-311c-4213-bf78-eb219244a770"
      },
      "source": [
        "# plot the word vectors in 2-D space\n",
        "\n",
        "# doing a bit of list comprehension to get the vectors\n",
        "# then dumping it into a numpy array\n",
        "vectors = np.array([token.vector for token in tokens])\n",
        "\n",
        "vectors.shape"
      ],
      "execution_count": 7,
      "outputs": [
        {
          "output_type": "execute_result",
          "data": {
            "text/plain": [
              "(4, 300)"
            ]
          },
          "metadata": {
            "tags": []
          },
          "execution_count": 7
        }
      ]
    },
    {
      "cell_type": "code",
      "metadata": {
        "id": "mR7SF42gosOd",
        "colab_type": "code",
        "colab": {
          "base_uri": "https://localhost:8080/",
          "height": 87
        },
        "outputId": "df4e1c97-a7a7-420f-c5a4-8440ef49f03c"
      },
      "source": [
        "tsne = TSNE(n_components=2, random_state=42)\n",
        "vectors_2d = tsne.fit_transform(vectors)\n",
        "\n",
        "# each of these are 2 dimensions\n",
        "vectors_2d"
      ],
      "execution_count": 8,
      "outputs": [
        {
          "output_type": "execute_result",
          "data": {
            "text/plain": [
              "array([[ -32.147305, -293.99146 ],\n",
              "       [-114.43374 ,  -16.287865],\n",
              "       [-309.85068 , -376.27866 ],\n",
              "       [-392.13712 ,  -98.57503 ]], dtype=float32)"
            ]
          },
          "metadata": {
            "tags": []
          },
          "execution_count": 8
        }
      ]
    },
    {
      "cell_type": "code",
      "metadata": {
        "id": "tQYmM-zFo6NF",
        "colab_type": "code",
        "colab": {
          "base_uri": "https://localhost:8080/",
          "height": 262
        },
        "outputId": "b200c366-56b1-440a-e61e-e090cd7a8064"
      },
      "source": [
        "# here's one vector\n",
        "plt.quiver([0], [0], vectors_2d[0, 0], vectors_2d[0, 1], \n",
        "           label=tokens[0].text,\n",
        "           scale=1500) \n",
        "plt.legend()\n",
        "plt.show()"
      ],
      "execution_count": 9,
      "outputs": [
        {
          "output_type": "display_data",
          "data": {
            "image/png": "[encoded data removed]",
            "text/plain": [
              "<Figure size 432x288 with 1 Axes>"
            ]
          },
          "metadata": {
            "tags": []
          }
        }
      ]
    },
    {
      "cell_type": "code",
      "metadata": {
        "id": "0Wi8sfByo8NG",
        "colab_type": "code",
        "colab": {
          "base_uri": "https://localhost:8080/",
          "height": 262
        },
        "outputId": "de8c1bc8-5d38-4f31-d241-44d2d04fe201"
      },
      "source": [
        "# let's plot all of them\n",
        "\n",
        "colours = ['blue', 'red', 'yellow', 'green']\n",
        "\n",
        "for i in range(len(tokens)):\n",
        "  plt.quiver([0], [0], vectors_2d[i, 0], vectors_2d[i, 1], \n",
        "             label=tokens[i].text,\n",
        "             scale=1500,\n",
        "             color=colours[i])\n",
        "\n",
        "plt.legend()\n",
        "plt.show()"
      ],
      "execution_count": 10,
      "outputs": [
        {
          "output_type": "display_data",
          "data": {
            "image/png": "[encoded data removed]",
            "text/plain": [
              "<Figure size 432x288 with 1 Axes>"
            ]
          },
          "metadata": {
            "tags": []
          }
        }
      ]
    },
    {
      "cell_type": "markdown",
      "metadata": {
        "id": "0fnf9iK_9OGv",
        "colab_type": "text"
      },
      "source": [
        "## Measuring similarity\n",
        "\n",
        "We can measure the similarity (cosine similarity) of two word vectors.\n",
        "\n",
        "Nearer to 1: more similar\n",
        "\n",
        "Nearer to 0: less similar "
      ]
    },
    {
      "cell_type": "code",
      "metadata": {
        "id": "3FdonL0rpqNA",
        "colab_type": "code",
        "colab": {
          "base_uri": "https://localhost:8080/",
          "height": 34
        },
        "outputId": "c72c40ce-f7a3-4160-a82a-4b7873b95478"
      },
      "source": [
        "# Explore more word vectors\n",
        "\n",
        "# create a dictionary\n",
        "word_to_token = { token.text : token for token in tokens }\n",
        "word_to_token"
      ],
      "execution_count": 11,
      "outputs": [
        {
          "output_type": "execute_result",
          "data": {
            "text/plain": [
              "{'king': king, 'man': man, 'queen': queen, 'woman': woman}"
            ]
          },
          "metadata": {
            "tags": []
          },
          "execution_count": 11
        }
      ]
    },
    {
      "cell_type": "code",
      "metadata": {
        "id": "7_vEkCjN5hcF",
        "colab_type": "code",
        "colab": {
          "base_uri": "https://localhost:8080/",
          "height": 34
        },
        "outputId": "8f7aa6fc-b5fd-4e76-ffe1-967bfe53119b"
      },
      "source": [
        "word_to_token['queen'].similarity(word_to_token['woman'])"
      ],
      "execution_count": 12,
      "outputs": [
        {
          "output_type": "execute_result",
          "data": {
            "text/plain": [
              "0.40660653"
            ]
          },
          "metadata": {
            "tags": []
          },
          "execution_count": 12
        }
      ]
    },
    {
      "cell_type": "code",
      "metadata": {
        "id": "QlVCxOPO5l0r",
        "colab_type": "code",
        "colab": {
          "base_uri": "https://localhost:8080/",
          "height": 34
        },
        "outputId": "82e375c3-4dca-4182-e981-2422d470aec1"
      },
      "source": [
        "word_to_token['king'].similarity(word_to_token['man'])"
      ],
      "execution_count": 13,
      "outputs": [
        {
          "output_type": "execute_result",
          "data": {
            "text/plain": [
              "0.4088461"
            ]
          },
          "metadata": {
            "tags": []
          },
          "execution_count": 13
        }
      ]
    },
    {
      "cell_type": "code",
      "metadata": {
        "id": "kgX581Q13_Ni",
        "colab_type": "code",
        "colab": {
          "base_uri": "https://localhost:8080/",
          "height": 34
        },
        "outputId": "4bb2516f-b338-4193-f9aa-37432f9b64c9"
      },
      "source": [
        "word_to_token['king'].similarity(word_to_token['woman'])"
      ],
      "execution_count": 14,
      "outputs": [
        {
          "output_type": "execute_result",
          "data": {
            "text/plain": [
              "0.26556593"
            ]
          },
          "metadata": {
            "tags": []
          },
          "execution_count": 14
        }
      ]
    },
    {
      "cell_type": "code",
      "metadata": {
        "id": "9vkC6H408XsN",
        "colab_type": "code",
        "colab": {
          "base_uri": "https://localhost:8080/",
          "height": 34
        },
        "outputId": "77d9dec9-e81d-4fd7-b941-bbd996b0716d"
      },
      "source": [
        "word_to_token['man'].similarity(word_to_token['woman'])"
      ],
      "execution_count": 15,
      "outputs": [
        {
          "output_type": "execute_result",
          "data": {
            "text/plain": [
              "0.7401745"
            ]
          },
          "metadata": {
            "tags": []
          },
          "execution_count": 15
        }
      ]
    },
    {
      "cell_type": "markdown",
      "metadata": {
        "id": "jG0UFcB29Eyd",
        "colab_type": "text"
      },
      "source": [
        "### Dot product between two vectors also gives the measure of similarity\n",
        "\n",
        "Larger value: more similar\n",
        "\n",
        "Smaller value: less similar"
      ]
    },
    {
      "cell_type": "code",
      "metadata": {
        "id": "RCUKgnLx8kyO",
        "colab_type": "code",
        "colab": {
          "base_uri": "https://localhost:8080/",
          "height": 34
        },
        "outputId": "68169b0e-35b5-4439-ae92-3541d0d39d7f"
      },
      "source": [
        "np.dot(word_to_token['queen'].vector, word_to_token['woman'].vector)"
      ],
      "execution_count": 16,
      "outputs": [
        {
          "output_type": "execute_result",
          "data": {
            "text/plain": [
              "19.15795"
            ]
          },
          "metadata": {
            "tags": []
          },
          "execution_count": 16
        }
      ]
    },
    {
      "cell_type": "code",
      "metadata": {
        "id": "vFxYW4Qw80vB",
        "colab_type": "code",
        "colab": {
          "base_uri": "https://localhost:8080/",
          "height": 34
        },
        "outputId": "7018a96b-a5e3-4a6d-ea72-1f2e4a48c445"
      },
      "source": [
        "np.dot(word_to_token['man'].vector, word_to_token['woman'].vector)"
      ],
      "execution_count": 17,
      "outputs": [
        {
          "output_type": "execute_result",
          "data": {
            "text/plain": [
              "32.439884"
            ]
          },
          "metadata": {
            "tags": []
          },
          "execution_count": 17
        }
      ]
    },
    {
      "cell_type": "code",
      "metadata": {
        "id": "TwwcDfdo84FV",
        "colab_type": "code",
        "colab": {
          "base_uri": "https://localhost:8080/",
          "height": 34
        },
        "outputId": "75862b70-8b11-4618-df7d-f05de494d263"
      },
      "source": [
        "np.dot(word_to_token['king'].vector, word_to_token['woman'].vector)"
      ],
      "execution_count": 18,
      "outputs": [
        {
          "output_type": "execute_result",
          "data": {
            "text/plain": [
              "13.084201"
            ]
          },
          "metadata": {
            "tags": []
          },
          "execution_count": 18
        }
      ]
    },
    {
      "cell_type": "markdown",
      "metadata": {
        "id": "3DZ-cbU489gM",
        "colab_type": "text"
      },
      "source": [
        "## Application: How much does a text match topics of interest\n",
        "\n",
        "1. Take any text\n",
        "2. Tokenise it into words\n",
        "3. Get the list of word vectors\n",
        "4. Do a dot product with each topic keyword\n",
        "5. Rank the dot products to find out the highest matching keywords\n",
        "\n",
        "Q: what are the advantages/disadvantages of this approach over simple string search / matching?"
      ]
    },
    {
      "cell_type": "code",
      "metadata": {
        "id": "yvHs9Yvk9Ct5",
        "colab_type": "code",
        "colab": {}
      },
      "source": [
        "# let's find some text\n",
        "# https://www.kdramapal.com/highest-rated-korean-dramas-cable-all-time/\n",
        "\n",
        "TEXT = \"\"\"Signal is so good because it properly exploits the mystery and thrill aspect so profoundly, giving the viewers an emotionally gripping experience that would leave them in awe at certain scenes. It centers on a modern-day criminal profiler (Lee Je-hoon, Where Stars Land) who solves cold cases with the help of a detective (Cho Jin-woong, Entourage) from the past with whom he communicates through a mysterious walkie-talkie. The series received critical acclaim for its superb plot, solid acting, and sophisticated direction. It won Best Drama, Best Screenplay, and Best Actress at the 2016 Baeksang Arts Awards. It pulled in a peak rating of 12.5 percent.\"\"\""
      ],
      "execution_count": 0,
      "outputs": []
    },
    {
      "cell_type": "code",
      "metadata": {
        "id": "-VRuqNDQBr-J",
        "colab_type": "code",
        "colab": {
          "base_uri": "https://localhost:8080/",
          "height": 34
        },
        "outputId": "61e9c51e-bf63-4b96-9be0-ffbc01ccf55c"
      },
      "source": [
        "text_tokens = nlp(TEXT)\n",
        "len(text_tokens)"
      ],
      "execution_count": 28,
      "outputs": [
        {
          "output_type": "execute_result",
          "data": {
            "text/plain": [
              "129"
            ]
          },
          "metadata": {
            "tags": []
          },
          "execution_count": 28
        }
      ]
    },
    {
      "cell_type": "code",
      "metadata": {
        "id": "efyWed6mB0_c",
        "colab_type": "code",
        "colab": {
          "base_uri": "https://localhost:8080/",
          "height": 34
        },
        "outputId": "ec13193c-dc3f-4a4e-dbcb-087eb76cc36c"
      },
      "source": [
        "text_tokens[0].text"
      ],
      "execution_count": 29,
      "outputs": [
        {
          "output_type": "execute_result",
          "data": {
            "text/plain": [
              "'Signal'"
            ]
          },
          "metadata": {
            "tags": []
          },
          "execution_count": 29
        }
      ]
    },
    {
      "cell_type": "code",
      "metadata": {
        "id": "9orLpZHDCBpP",
        "colab_type": "code",
        "colab": {
          "base_uri": "https://localhost:8080/",
          "height": 34
        },
        "outputId": "ffd6b84d-ab68-4b25-cc89-9587bb3d573d"
      },
      "source": [
        "text_tokens[1].text"
      ],
      "execution_count": 30,
      "outputs": [
        {
          "output_type": "execute_result",
          "data": {
            "text/plain": [
              "'is'"
            ]
          },
          "metadata": {
            "tags": []
          },
          "execution_count": 30
        }
      ]
    },
    {
      "cell_type": "markdown",
      "metadata": {
        "id": "dGmT2X42CNiM",
        "colab_type": "text"
      },
      "source": [
        "### Removing common words\n",
        "\n",
        "Stop words (such as \"is\", \"a\", \"the\") don't contribute much to the meaning of the text.\n",
        "\n",
        "We can find them by checking the is_stop flag for each token."
      ]
    },
    {
      "cell_type": "code",
      "metadata": {
        "id": "BjUwuJnFCalY",
        "colab_type": "code",
        "colab": {
          "base_uri": "https://localhost:8080/",
          "height": 34
        },
        "outputId": "9001c79c-885b-4b08-f035-ee425c4d361e"
      },
      "source": [
        "text_tokens[0].text, text_tokens[0].is_stop"
      ],
      "execution_count": 34,
      "outputs": [
        {
          "output_type": "execute_result",
          "data": {
            "text/plain": [
              "('Signal', False)"
            ]
          },
          "metadata": {
            "tags": []
          },
          "execution_count": 34
        }
      ]
    },
    {
      "cell_type": "code",
      "metadata": {
        "id": "6xAiGYbUDyxZ",
        "colab_type": "code",
        "colab": {
          "base_uri": "https://localhost:8080/",
          "height": 34
        },
        "outputId": "64605995-b71e-40e8-c330-cc8a75e73bb8"
      },
      "source": [
        "text_tokens[1].text, text_tokens[1].is_stop"
      ],
      "execution_count": 33,
      "outputs": [
        {
          "output_type": "execute_result",
          "data": {
            "text/plain": [
              "('is', True)"
            ]
          },
          "metadata": {
            "tags": []
          },
          "execution_count": 33
        }
      ]
    },
    {
      "cell_type": "code",
      "metadata": {
        "id": "BWNoskITD0W7",
        "colab_type": "code",
        "colab": {
          "base_uri": "https://localhost:8080/",
          "height": 34
        },
        "outputId": "6216c797-c5be-455d-a2d7-73447b3aa81a"
      },
      "source": [
        "# filter out stop words\n",
        "# list comprehension again!\n",
        "text_tokens_clean = [token for token in text_tokens if not token.is_stop]\n",
        "\n",
        "len(text_tokens_clean)"
      ],
      "execution_count": 44,
      "outputs": [
        {
          "output_type": "execute_result",
          "data": {
            "text/plain": [
              "87"
            ]
          },
          "metadata": {
            "tags": []
          },
          "execution_count": 44
        }
      ]
    },
    {
      "cell_type": "code",
      "metadata": {
        "id": "kTMnOSseEGVh",
        "colab_type": "code",
        "colab": {
          "base_uri": "https://localhost:8080/",
          "height": 54
        },
        "outputId": "15d2ed94-d586-4c26-9786-81e2b8c24510"
      },
      "source": [
        "# what is the result?\n",
        "' '.join([token.text for token in text_tokens_clean])"
      ],
      "execution_count": 45,
      "outputs": [
        {
          "output_type": "execute_result",
          "data": {
            "text/plain": [
              "'Signal good properly exploits mystery thrill aspect profoundly , giving viewers emotionally gripping experience leave awe certain scenes . centers modern - day criminal profiler ( Lee Je - hoon , Stars Land ) solves cold cases help detective ( Cho Jin - woong , Entourage ) past communicates mysterious walkie - talkie . series received critical acclaim superb plot , solid acting , sophisticated direction . won Best Drama , Best Screenplay , Best Actress 2016 Baeksang Arts Awards . pulled peak rating 12.5 percent .'"
            ]
          },
          "metadata": {
            "tags": []
          },
          "execution_count": 45
        }
      ]
    },
    {
      "cell_type": "markdown",
      "metadata": {
        "id": "YD7swOOlEYDA",
        "colab_type": "text"
      },
      "source": [
        "### Cleaning punctuation\n",
        "\n",
        "Punctuation is also not very useful here because we are comparing similarity of words."
      ]
    },
    {
      "cell_type": "code",
      "metadata": {
        "id": "RNCyuSZCEZcg",
        "colab_type": "code",
        "colab": {
          "base_uri": "https://localhost:8080/",
          "height": 34
        },
        "outputId": "08a365ac-2b9d-4a10-fd0e-ee9ea1dbaeb8"
      },
      "source": [
        "text_tokens_clean[0].text, text_tokens_clean[0].is_punct"
      ],
      "execution_count": 40,
      "outputs": [
        {
          "output_type": "execute_result",
          "data": {
            "text/plain": [
              "('Signal', False)"
            ]
          },
          "metadata": {
            "tags": []
          },
          "execution_count": 40
        }
      ]
    },
    {
      "cell_type": "code",
      "metadata": {
        "id": "2jyDKWJTEo2E",
        "colab_type": "code",
        "colab": {
          "base_uri": "https://localhost:8080/",
          "height": 34
        },
        "outputId": "0820027f-c818-4c65-986e-8870197c739e"
      },
      "source": [
        "text_tokens_clean[8].text, text_tokens_clean[8].is_punct"
      ],
      "execution_count": 46,
      "outputs": [
        {
          "output_type": "execute_result",
          "data": {
            "text/plain": [
              "(',', True)"
            ]
          },
          "metadata": {
            "tags": []
          },
          "execution_count": 46
        }
      ]
    },
    {
      "cell_type": "code",
      "metadata": {
        "id": "hmrLgl0ZEw0m",
        "colab_type": "code",
        "colab": {
          "base_uri": "https://localhost:8080/",
          "height": 34
        },
        "outputId": "3539828b-2a79-4e06-fe4a-f611200398dd"
      },
      "source": [
        "text_tokens_clean = [token for token in text_tokens_clean if not token.is_punct]\n",
        "\n",
        "len(text_tokens_clean)"
      ],
      "execution_count": 47,
      "outputs": [
        {
          "output_type": "execute_result",
          "data": {
            "text/plain": [
              "67"
            ]
          },
          "metadata": {
            "tags": []
          },
          "execution_count": 47
        }
      ]
    },
    {
      "cell_type": "code",
      "metadata": {
        "id": "XLxJOWKpFDsa",
        "colab_type": "code",
        "colab": {
          "base_uri": "https://localhost:8080/",
          "height": 54
        },
        "outputId": "05c31d27-6c9e-4d77-f082-b64849d27399"
      },
      "source": [
        "# what is the result?\n",
        "' '.join([token.text for token in text_tokens_clean])"
      ],
      "execution_count": 48,
      "outputs": [
        {
          "output_type": "execute_result",
          "data": {
            "text/plain": [
              "'Signal good properly exploits mystery thrill aspect profoundly giving viewers emotionally gripping experience leave awe certain scenes centers modern day criminal profiler Lee Je hoon Stars Land solves cold cases help detective Cho Jin woong Entourage past communicates mysterious walkie talkie series received critical acclaim superb plot solid acting sophisticated direction won Best Drama Best Screenplay Best Actress 2016 Baeksang Arts Awards pulled peak rating 12.5 percent'"
            ]
          },
          "metadata": {
            "tags": []
          },
          "execution_count": 48
        }
      ]
    },
    {
      "cell_type": "markdown",
      "metadata": {
        "id": "KSjSyFHLFJS4",
        "colab_type": "text"
      },
      "source": [
        "### Convert to lower-case?\n",
        "\n",
        "Since we already have the word vectors, we don't actually need to convert the text to lowercase here."
      ]
    },
    {
      "cell_type": "markdown",
      "metadata": {
        "id": "eC11d-LJFksm",
        "colab_type": "text"
      },
      "source": [
        "### Truncate text to fixed length\n",
        "\n",
        "This is useful when we want to compare with other texts.\n",
        "\n",
        "We'll look at the first 50 tokens (words in this case).\n",
        "\n",
        "If the text is shorter than 50 words, we do nothing. When we take the scores, we can use the average scores over the document sizes, so that shorter documents are not penalised."
      ]
    },
    {
      "cell_type": "code",
      "metadata": {
        "id": "ceSumGS7F9K1",
        "colab_type": "code",
        "colab": {
          "base_uri": "https://localhost:8080/",
          "height": 34
        },
        "outputId": "8226d55e-c576-493a-9b1b-ef9fbba20a4a"
      },
      "source": [
        "MAX_TOKENS = 50\n",
        "\n",
        "text_tokens_clean = text_tokens_clean[:MAX_TOKENS]\n",
        "len(text_tokens_clean)"
      ],
      "execution_count": 49,
      "outputs": [
        {
          "output_type": "execute_result",
          "data": {
            "text/plain": [
              "50"
            ]
          },
          "metadata": {
            "tags": []
          },
          "execution_count": 49
        }
      ]
    },
    {
      "cell_type": "markdown",
      "metadata": {
        "id": "8Xd-tiqVGoLh",
        "colab_type": "text"
      },
      "source": [
        "### Create text matrix\n",
        "\n",
        "We'll create a 50 x 300 matrix containing the vectors for our tokens."
      ]
    },
    {
      "cell_type": "code",
      "metadata": {
        "id": "5bwFQZxoIr2O",
        "colab_type": "code",
        "colab": {
          "base_uri": "https://localhost:8080/",
          "height": 34
        },
        "outputId": "7c93a1b5-3437-488a-b3ba-e5e7d7c2c48e"
      },
      "source": [
        "text_vectors_clean = np.array([token.vector for token in text_tokens_clean])\n",
        "text_vectors_clean.shape"
      ],
      "execution_count": 52,
      "outputs": [
        {
          "output_type": "execute_result",
          "data": {
            "text/plain": [
              "(50, 300)"
            ]
          },
          "metadata": {
            "tags": []
          },
          "execution_count": 52
        }
      ]
    },
    {
      "cell_type": "code",
      "metadata": {
        "id": "LRPm76W4G5QB",
        "colab_type": "code",
        "colab": {}
      },
      "source": [
        "# Since we are doing continuous integration of this notebook,\n",
        "# so saving the data as a checkpoint for CI testing.\n",
        "#\n",
        "# Refer to ci_test.py in the Github repository for the tests.\n",
        "ci_artifacts = dict()\n",
        "\n",
        "# we can add anything we want to the text\n",
        "ci_artifacts['text_clean'] = ' '.join([token.text for token in text_tokens_clean])\n",
        "ci_artifacts['text_vectors_clean'] = text_vectors_clean\n",
        "pickle.dump(ci_artifacts, open('ci_artifacts.pkl', 'wb'))"
      ],
      "execution_count": 0,
      "outputs": []
    },
    {
      "cell_type": "markdown",
      "metadata": {
        "id": "CEDEkuq8PgjA",
        "colab_type": "text"
      },
      "source": [
        "### Get some keyword vectors\n",
        "\n",
        "We'll use spaCy again to get the vectors for a few keywords."
      ]
    },
    {
      "cell_type": "code",
      "metadata": {
        "id": "KxTtyik5Psda",
        "colab_type": "code",
        "colab": {}
      },
      "source": [
        "keywords = \"scifi romance detective horror comedy banana\""
      ],
      "execution_count": 0,
      "outputs": []
    },
    {
      "cell_type": "code",
      "metadata": {
        "id": "2HtxYL13P4S0",
        "colab_type": "code",
        "colab": {
          "base_uri": "https://localhost:8080/",
          "height": 1000
        },
        "outputId": "d129d23d-65f1-425b-b115-119bfb0ef0c4"
      },
      "source": [
        "keyword_tokens = nlp(keywords)\n",
        "\n",
        "for token in keyword_tokens:\n",
        "  print(token.text, token.vector, token.is_oov)"
      ],
      "execution_count": 104,
      "outputs": [
        {
          "output_type": "stream",
          "text": [
            "scifi [ 0.094939  -0.10267    0.42392   -0.40213   -0.14457   -0.070644\n",
            " -0.35015   -0.25285    0.01198   -0.25149   -0.11189   -0.61149\n",
            "  0.24924    0.6938     0.3182    -0.61331   -0.047078  -0.07844\n",
            "  0.13209   -0.17102    0.18954   -0.21407    0.15187   -0.12566\n",
            " -0.18568   -0.13215   -0.42645    0.23906    0.21247    0.18843\n",
            " -0.14795   -0.62741   -0.17439    0.24783    0.35318    0.045159\n",
            " -0.20962    0.48708   -0.62244    0.12764    0.32978   -0.039494\n",
            "  0.025667  -0.27464    0.12632   -0.003734   0.20072    0.37205\n",
            "  0.045808  -0.41571    0.54854   -0.55347   -0.033815  -0.17913\n",
            " -0.29249   -0.06503   -0.31915   -0.71092    0.02909    0.2114\n",
            " -0.19564   -0.12045    1.0655     0.05991    0.52023   -0.24906\n",
            "  0.037148   0.057069  -0.68724   -0.24688    0.75718   -0.67206\n",
            " -0.0837    -0.03699    0.43365    0.16658   -0.36782   -0.073537\n",
            "  0.096973   1.0014    -0.055244  -0.62155    0.085991   0.35577\n",
            "  0.26205    0.40596    0.34358   -0.40708    0.2727    -1.1286\n",
            "  0.012177   0.015896  -0.50324   -0.22024    0.0086699 -0.35307\n",
            " -0.15357    0.50073   -0.45942   -0.06893   -0.018005  -0.011723\n",
            " -0.036715   0.06589    0.33468   -0.99321    0.067026  -0.45493\n",
            " -0.31603   -0.36611   -0.22569    0.0090247  0.091959  -0.67147\n",
            "  0.054349   0.71314   -0.60621    0.48049    0.5563     0.0068607\n",
            "  0.032472   0.17685   -0.039431   0.23166    0.57463    0.82215\n",
            " -0.015774   0.32116   -0.043501   0.0087501  0.098995  -0.19974\n",
            " -0.12189   -0.22396   -0.28769    0.010165  -0.72886   -0.74484\n",
            "  0.40335   -0.15403   -1.7899    -0.17346    0.01026   -0.28909\n",
            "  0.12418    0.12043   -0.20201   -0.64991   -0.57014   -0.18379\n",
            "  0.55301   -0.29372    0.0019713  0.35196   -0.29222   -0.30581\n",
            "  0.19457   -0.36279    0.59225    0.81905    0.5097    -0.83815\n",
            " -0.2034     0.69278    0.14414   -0.39276   -0.082487  -0.38788\n",
            "  0.19503   -0.23641    0.64185    0.36175   -0.16599    0.10585\n",
            "  0.7641     0.35693    0.042918  -0.23885    0.19959   -0.4557\n",
            "  0.30853   -0.39902    0.17556   -0.45607    0.53163    0.078846\n",
            "  0.44769    0.32609    0.36185   -0.34778    0.13931   -0.22684\n",
            " -0.14945   -0.45256   -0.13548   -0.62797   -0.043546  -0.01703\n",
            "  0.31341   -0.16065   -0.19559   -0.23688    0.5244     0.25654\n",
            " -0.47605    0.027432   0.20192    0.1576    -0.058668  -0.18246\n",
            "  0.10773    0.22975   -0.27732   -0.89823   -0.90722    0.37924\n",
            "  0.029581   0.4719     0.036643  -0.26243   -0.28453   -0.43815\n",
            " -0.16221    0.28608    0.092597  -0.42155   -0.035814  -0.10415\n",
            " -0.097041   0.14724    0.31409    0.71098   -0.10856   -0.31287\n",
            "  0.21736    0.0040556 -0.44066    0.63279    0.09746   -0.6209\n",
            "  0.15014   -0.0749    -0.25919   -0.049417   0.15781    0.52697\n",
            " -0.49766    0.50339    0.73204   -0.61085    0.35985   -0.35353\n",
            "  0.87603   -0.16227    0.18292   -0.49549    0.35806    0.057979\n",
            "  0.059336  -0.4104    -0.21101    0.33995   -0.29472    0.7093\n",
            "  0.59463   -0.042442  -0.139      0.19453   -0.01633    0.40278\n",
            " -1.0063    -0.035556  -0.15798    0.22229   -0.016554   0.13668\n",
            " -0.64917   -0.54823   -0.084862  -0.21532   -0.16195   -0.58553\n",
            " -0.21958   -0.49083    0.020269  -0.0073815  0.17113   -0.49261\n",
            " -0.27035   -0.041201  -0.14325   -0.21949   -0.2324     0.47065\n",
            "  0.22316   -0.3991     0.46346   -0.064246  -0.20606   -0.084314 ] False\n",
            "romance [ 8.4104e-02  2.2771e-01  9.7953e-02 -1.7108e-02  2.3257e-01  1.2605e-01\n",
            "  7.0164e-02 -4.5455e-01  1.8749e-01  2.0373e+00 -3.8395e-01 -2.9009e-01\n",
            " -3.6296e-02 -1.5193e-01 -7.3935e-02 -7.6481e-01  3.9511e-01  3.1758e-01\n",
            "  3.2922e-01  4.0379e-01 -3.2433e-01 -2.9733e-01 -1.2353e-01 -2.8088e-01\n",
            "  4.0870e-01  2.8869e-01  7.9894e-02  3.9800e-01 -2.6630e-01  6.4532e-01\n",
            "  2.9184e-01 -2.0370e-01 -5.5898e-01 -1.7074e-01  4.0643e-01  2.0033e-01\n",
            "  3.4770e-02 -1.6300e-02 -2.5095e-01 -2.5400e-01  3.4313e-01  3.0926e-01\n",
            "  2.0576e-01 -3.0757e-01  6.9587e-01  1.3996e-01  8.3271e-02  1.2841e-01\n",
            "  2.4453e-01 -1.6187e-01  1.7224e-01 -8.0923e-01 -1.5992e-01 -3.0100e-01\n",
            " -1.2551e-01  3.6632e-01  3.2242e-01 -6.2994e-01 -2.6725e-01  2.0118e-02\n",
            "  9.6044e-01  4.9472e-02 -1.8418e-01 -2.1680e-01 -1.2802e-01  5.5385e-01\n",
            " -4.1199e-01 -2.0482e-01 -1.6410e-01  6.9230e-02  1.6099e-01 -2.3307e-03\n",
            " -5.2588e-01  2.7579e-01  8.9956e-02  5.1950e-01 -5.7891e-01 -1.1936e-01\n",
            "  3.5121e-01 -2.4767e-01 -2.7540e-01 -5.7427e-01 -1.2778e-01 -1.3623e-02\n",
            " -3.0406e-01 -5.6057e-02 -1.5158e-01  1.7682e-01  3.6000e-01 -1.4530e-02\n",
            " -4.6533e-01  1.0049e-01  1.7620e-01 -1.5412e-02 -3.6987e-01  2.3595e-02\n",
            " -2.8428e-01  1.9987e-01 -7.2879e-01 -2.9568e-01  2.4860e-01 -1.6520e-01\n",
            " -2.2345e-01  8.0209e-02  3.6001e-01 -3.2747e-01 -4.8580e-01  3.3933e-01\n",
            " -8.1651e-02 -7.3762e-01  2.2858e-01  5.8484e-01  1.6663e-01 -3.7436e-01\n",
            " -3.6014e-01 -3.1566e-02 -1.0810e-01  2.9737e-01  1.7042e-01 -1.1871e-01\n",
            " -1.3224e-01 -1.1936e-01 -3.1984e-03  1.9581e-01  1.0139e+00  1.0460e+00\n",
            " -4.3715e-01  1.0410e-01  1.2183e-01  7.4203e-02 -4.6261e-01 -4.3447e-01\n",
            " -6.2864e-02 -1.5040e-02  4.6736e-01  2.7947e-01 -5.1019e-01 -4.5136e-01\n",
            " -3.9755e-01 -2.4362e-01 -2.3904e+00 -3.0485e-01  1.5084e-01  1.0192e-01\n",
            " -7.8699e-01 -3.1329e-01 -1.8350e-01  4.0766e-02  6.4251e-02 -1.4570e-01\n",
            "  5.0769e-01  1.3128e-01  7.0073e-01  6.8845e-01  1.3765e-01  9.6027e-02\n",
            "  1.3717e-01 -6.2618e-01 -1.3230e-01  7.0313e-01 -2.9187e-01 -2.7291e-01\n",
            "  8.0406e-02 -9.0151e-02  1.1576e-01 -6.4324e-02  3.8882e-02 -5.8450e-01\n",
            "  3.5623e-01 -3.0755e-02  1.5608e-01  4.4054e-01  4.5719e-01 -5.1639e-02\n",
            "  3.9955e-01 -6.6483e-03  7.2546e-02 -1.1242e+00  2.1802e-01 -4.7648e-01\n",
            " -2.6256e-02 -5.6495e-01  3.6822e-01  2.1152e-02 -1.0952e-01  1.5530e-01\n",
            " -3.7733e-01 -3.4120e-01  1.3240e-01 -2.3633e-01  3.0374e-01 -3.5398e-01\n",
            "  1.3418e-02  2.4911e-01 -2.3662e-01 -8.4335e-01 -7.1077e-01 -2.6670e-01\n",
            "  1.8349e-01  5.4248e-01 -3.4842e-02 -3.4493e-01  4.3128e-01  6.9837e-03\n",
            " -5.7229e-01  7.1922e-02  2.1890e-01  1.4711e-01  8.9980e-02 -3.2505e-02\n",
            " -3.8113e-01 -3.5334e-02  1.2581e-01 -7.0929e-01  4.1618e-02  3.7967e-02\n",
            "  3.3431e-01  6.7081e-02  4.5602e-01 -2.8526e-02  1.7224e-01 -1.2366e-03\n",
            "  1.7461e-01  2.3415e-01 -1.1146e-01 -6.9005e-02 -1.3629e-01 -4.7455e-01\n",
            "  3.3770e-01  1.6440e-02 -4.7824e-01  7.6149e-01  4.9942e-02 -6.9905e-02\n",
            " -4.6184e-01 -1.7068e-01 -9.7960e-02  4.4208e-01 -1.3561e-01 -8.4268e-02\n",
            " -1.7419e-02 -2.3233e-01 -1.5996e-01 -3.0950e-01 -8.0072e-02  1.3049e-01\n",
            " -5.3681e-01  5.7789e-01  1.1096e+00 -4.8482e-01 -2.1341e-01 -2.9506e-01\n",
            " -1.6354e-01  1.4221e-01 -1.8479e-01  9.3564e-02  3.4020e-01 -2.5788e-01\n",
            " -6.1198e-01 -2.8237e-01 -2.6222e-01  2.7815e-01 -1.9246e-02  5.1935e-01\n",
            "  3.8898e-01 -4.5705e-02  4.9617e-01  5.3007e-01 -2.2362e-01 -1.2353e-01\n",
            " -1.4590e+00 -3.2261e-01 -6.6866e-01  6.1331e-01 -7.5550e-02  3.0074e-02\n",
            " -5.4935e-01 -4.5635e-01  3.4160e-02  6.9313e-01 -1.7196e-01 -5.2310e-01\n",
            "  5.7509e-01 -4.3564e-01  2.9947e-01  8.0985e-01 -1.9221e-01  4.8048e-02\n",
            " -3.5726e-01 -4.2739e-01  1.0073e-01  7.2764e-02 -8.0328e-02  1.8071e-01\n",
            "  3.5453e-02  7.9153e-02 -2.1412e-01 -2.1567e-01 -1.1590e-01 -2.4489e-01] False\n",
            "detective [ 2.1049e-01  1.5710e-03 -1.9159e-01 -3.0060e-01 -1.2707e-01  6.7287e-02\n",
            "  2.2637e-01 -4.7829e-01  1.8265e-01  2.2200e+00 -3.6022e-01 -2.9760e-01\n",
            "  1.0793e-01 -1.6739e-01 -8.3802e-02 -4.0764e-01  3.1997e-01 -3.9578e-01\n",
            "  8.7024e-01 -8.9973e-01  5.0530e-01 -6.6251e-01 -1.9707e-01 -2.4974e-01\n",
            "  1.7799e-01 -2.5807e-01  6.8693e-02 -1.5490e-01  3.3153e-02 -4.3652e-01\n",
            "  1.2783e-01 -2.1991e-01  8.6867e-03  3.3962e-01  3.5628e-01 -6.2595e-01\n",
            " -2.2110e-01  2.9371e-01 -2.9825e-01 -7.5437e-01  5.9875e-01 -4.6845e-01\n",
            "  2.1063e-01 -6.6275e-01  6.1634e-01  2.5494e-01  5.0385e-01  1.0960e-01\n",
            " -2.0362e-01 -2.8041e-01  8.7817e-01 -1.9007e-01  9.9734e-02 -5.7810e-02\n",
            " -3.0482e-01  3.6776e-01  1.2295e-01 -3.0242e-01  1.6446e-01  2.9223e-01\n",
            "  7.1106e-02 -1.1741e-01  1.1106e-01 -7.3825e-01  1.9272e-01 -3.1442e-01\n",
            " -2.1301e-01  1.5666e-01  4.6409e-01 -1.5749e-01  9.0738e-02 -3.7099e-01\n",
            "  1.0288e-01  3.4827e-01 -3.2502e-01 -1.1191e-01 -2.0279e-01 -7.1799e-01\n",
            "  5.2612e-01  5.9634e-01 -1.1394e-02 -2.9494e-01 -3.7988e-01 -7.3252e-01\n",
            " -3.2843e-01  4.8674e-03  1.5418e-01 -2.5979e-01 -6.6012e-03  1.2604e-02\n",
            "  1.0139e-01  3.8466e-01 -1.2459e-02  3.5966e-01 -2.4777e-01 -8.9440e-01\n",
            "  1.1018e-01  3.9754e-01 -1.5665e-01 -3.1315e-01 -2.0879e-01 -8.2360e-02\n",
            "  1.6160e-01  2.6374e-02  7.4445e-02 -5.3189e-01 -3.6233e-01  2.1373e-01\n",
            "  1.2683e-01  1.9283e-02  7.0390e-02  1.2966e+00  2.6280e-01  5.2886e-01\n",
            " -1.5868e-01  4.0995e-01 -8.9120e-02 -2.1660e-03  4.2745e-01 -5.0564e-01\n",
            "  1.3618e-01 -4.5387e-01  3.9794e-02 -4.1474e-01  4.3683e-01  6.4616e-01\n",
            " -1.9112e-01  2.7166e-01  5.8389e-02 -5.8684e-02  1.4405e-02  3.1600e-01\n",
            " -4.0811e-02  2.4847e-01  1.3121e-01  2.4784e-01 -2.0346e-01 -7.8968e-01\n",
            " -1.5373e-01 -6.0229e-01 -1.3410e+00 -4.7601e-02  1.9657e-01  1.2553e-01\n",
            " -4.0570e-01  3.2636e-01 -1.9475e-02 -4.2950e-01  4.9451e-01 -4.5525e-01\n",
            "  8.4791e-02 -1.4033e-01  1.2330e-01  1.7490e-02  8.5754e-02  3.2998e-01\n",
            " -4.2205e-01 -3.8049e-01  6.5992e-01 -1.7650e-01  1.0592e-01 -6.5200e-01\n",
            "  2.4967e-01  4.1403e-01  3.3321e-01 -2.2803e-01 -2.0822e-01 -5.2634e-01\n",
            "  1.5132e-01  1.5934e-02 -1.8975e-01 -7.7579e-03 -3.1409e-01  9.8209e-02\n",
            " -5.3308e-02  2.4988e-02 -4.3773e-01 -2.2453e-01 -5.6057e-01  3.3646e-01\n",
            " -2.2427e-01  3.3680e-01 -2.4992e-01 -2.3406e-01  7.4622e-03  9.3729e-01\n",
            " -2.4551e-01  4.7029e-01 -1.0707e-01 -3.2965e-01 -7.7087e-01  4.0121e-01\n",
            " -1.0547e-01  7.5021e-02 -2.1762e-01 -3.4457e-01  3.8906e-02  2.7309e-01\n",
            " -1.7994e-02 -4.3898e-02 -4.1199e-01 -4.9100e-01 -1.4061e-01  6.6645e-01\n",
            " -1.2517e+00 -3.5439e-01  5.0509e-01  1.9539e-01  7.5168e-02  5.8254e-01\n",
            "  1.9047e-01 -6.2771e-01 -2.1209e-01 -8.0040e-01 -9.6234e-02 -6.6995e-01\n",
            "  2.4399e-01  2.1631e-01  2.9200e-02  3.1493e-01  2.3742e-01 -1.0721e-01\n",
            "  1.7232e-01  5.3686e-01 -3.7024e-02 -6.8292e-03 -3.5406e-01  2.9276e-01\n",
            "  3.8879e-01  2.3585e-01 -7.7434e-01  1.8189e-01 -1.6898e-01 -1.1006e-01\n",
            " -5.5123e-01  2.3764e-01 -4.9393e-01  3.8773e-02  3.5510e-01  2.0483e-01\n",
            "  1.9454e-01 -3.4624e-01 -1.3952e-01 -6.5991e-01 -1.5727e-01  6.4510e-01\n",
            " -2.7901e-02  5.3561e-02  6.1722e-01 -5.4622e-01  2.0297e-01  1.3632e-01\n",
            " -1.6277e-01  4.9224e-01 -2.5864e-01 -4.4523e-01  2.3024e-01 -2.4142e-01\n",
            "  2.5604e-01 -3.7521e-01  2.0248e-01  6.3871e-01 -3.8640e-01 -3.5406e-01\n",
            "  1.4141e-01  3.8863e-01 -4.8921e-01  7.7769e-02 -3.4115e-01 -2.2799e-01\n",
            " -4.1830e-01  5.0169e-01  2.3233e-02  3.9410e-01  3.1071e-01  4.7036e-01\n",
            " -5.7796e-01 -5.1105e-01  9.4733e-03 -1.4773e-02  5.4438e-02  1.4977e-01\n",
            "  4.5618e-01  1.4561e-01  4.2794e-01  5.6488e-01 -1.8961e-01 -3.0416e-01\n",
            " -8.7335e-01 -2.0396e-01 -2.1505e-01 -4.3662e-01  1.2845e-01  7.2182e-01\n",
            " -2.8115e-01 -3.5887e-01  3.3633e-01 -9.4409e-02 -2.4114e-02 -9.4072e-01] False\n",
            "horror [ 1.0388e-01 -3.9523e-01  2.1927e-01 -2.2400e-01  6.0348e-01  1.4978e-01\n",
            " -8.2165e-02 -1.7421e-01 -2.4042e-01  1.9386e+00 -1.5659e-01  1.5372e-01\n",
            "  6.7570e-02  2.9021e-01  1.9204e-01  1.0585e-01  2.2189e-01  3.0766e-01\n",
            " -1.6157e-02 -5.2218e-03  2.0295e-01 -3.2753e-01  4.8334e-02  1.8889e-02\n",
            " -2.6037e-01 -7.3538e-02 -2.2874e-01  2.5303e-01 -1.3837e-01 -8.4500e-02\n",
            "  2.4267e-01 -6.9326e-01 -9.2268e-01  1.7099e-01  4.3315e-01  6.5548e-02\n",
            " -1.0695e-01  9.2744e-01 -4.9916e-01  4.8313e-01  8.0668e-01  4.9770e-02\n",
            "  1.5106e-03 -5.0424e-01  2.9461e-01  1.7756e-01 -8.0500e-02  4.2928e-01\n",
            "  3.6350e-01 -1.9300e-01  2.2332e-01 -3.0102e-01  1.6643e-01  1.7148e-01\n",
            " -3.7227e-01  1.9445e-01 -4.2242e-01 -6.9479e-01 -7.7270e-02  7.3860e-02\n",
            " -1.9653e-01  2.6683e-01  5.3275e-01 -3.5468e-01  6.9406e-02  4.9932e-02\n",
            "  2.8147e-01 -8.4762e-01 -4.8823e-01 -2.3720e-01  1.2863e+00 -7.0327e-01\n",
            " -4.2446e-01  2.8804e-01  4.5067e-01 -3.7960e-01 -1.9159e-01 -1.5276e-01\n",
            "  3.1276e-01  7.2371e-01 -4.7562e-01 -3.9288e-01 -1.0089e-01 -5.2317e-01\n",
            "  3.2852e-01 -2.1645e-01 -6.2259e-01 -5.0501e-01  2.2011e-01  1.3325e-02\n",
            " -5.3226e-01  2.3378e-01 -3.7460e-01 -2.3090e-01  1.4147e-01 -3.3209e-01\n",
            " -4.9759e-01  5.8882e-01 -4.2055e-01 -3.7798e-01  7.0034e-02  1.6105e-01\n",
            " -4.5993e-01 -1.7887e-01  7.0015e-01 -5.7564e-01 -5.9776e-01  1.0704e-01\n",
            " -5.6284e-01 -9.0682e-01 -4.1634e-01  5.8888e-01 -1.4565e-01 -2.8589e-01\n",
            " -6.0108e-01 -4.9079e-02 -2.8103e-01 -1.5964e-01  7.7387e-01  1.6444e-01\n",
            " -4.5652e-01 -1.3756e-01 -3.0512e-01 -3.6452e-01  1.6125e-01  4.2428e-01\n",
            "  2.6666e-01 -1.7760e-01 -4.5622e-01  1.6711e-01  2.2932e-01 -1.4634e-01\n",
            "  3.1180e-02  4.5191e-01 -3.2150e-01  1.5586e-01 -4.5507e-01 -1.2438e-01\n",
            "  2.8102e-01  4.5899e-02 -2.8860e+00 -5.5084e-01 -2.9438e-01  2.5265e-01\n",
            " -3.0339e-01  3.3473e-01 -3.1151e-01 -3.7682e-01 -1.3094e-02 -3.0330e-01\n",
            "  9.4510e-02 -5.9581e-01  7.2755e-01 -1.3931e-01  4.6009e-01 -5.8131e-01\n",
            " -2.4842e-01 -5.1283e-01  3.3359e-01  4.3728e-01  1.1678e-01 -3.5974e-01\n",
            "  3.9155e-02  9.9300e-02 -5.8137e-02 -3.1371e-01 -1.7280e-01 -2.0595e-01\n",
            " -2.3682e-01 -6.4815e-01  1.2041e-01 -4.0224e-01 -7.7711e-02 -1.3750e-02\n",
            "  2.7424e-01 -1.8010e-01 -1.6547e-01 -4.1314e-01  2.9993e-01 -6.6954e-01\n",
            " -2.2505e-01 -4.0861e-02  5.0429e-02  3.5893e-02  3.8022e-01 -3.3724e-01\n",
            "  8.5814e-02  2.2080e-01  1.7232e-01 -5.0223e-02 -3.3832e-01 -1.9160e-01\n",
            "  2.8239e-01  7.3371e-02 -2.2447e-01 -6.5120e-01 -3.1659e-01 -2.5026e-01\n",
            "  4.2491e-01 -3.1147e-01  4.1365e-01  3.2721e-01 -6.5350e-02 -5.3824e-02\n",
            " -6.9161e-03  4.8418e-02  6.5737e-02  4.7843e-01  9.6073e-02  1.6706e-01\n",
            "  2.8681e-01  3.5267e-02  7.7491e-02 -2.0694e-01 -3.1453e-01 -2.8181e-02\n",
            "  4.0297e-01  1.0947e-01 -4.0521e-02 -2.4199e-01 -1.7235e-01  2.0918e-03\n",
            " -1.5319e-01  6.4206e-02 -3.8404e-01  9.5393e-03 -3.5049e-01  1.4637e-02\n",
            " -1.8016e-01 -2.5994e-01 -4.4391e-01  2.7148e-01 -2.9296e-01  1.8405e-01\n",
            " -2.1751e-01 -2.8677e-01 -5.4862e-01  5.2477e-02 -2.5284e-01 -4.4966e-01\n",
            " -2.1738e-01  4.0088e-01 -3.6245e-01 -2.4011e-01  1.1549e-01  3.1141e-01\n",
            "  2.3909e-01  2.9930e-01  8.4797e-01 -4.8064e-01  2.1978e-01 -5.6350e-01\n",
            "  6.6554e-01  1.2990e-01 -3.1988e-01 -1.4314e-01  1.5091e-01  1.8385e-01\n",
            "  4.0897e-01 -1.3713e-01 -1.8077e-01  3.2509e-03  6.3625e-02  1.5191e-01\n",
            "  4.3951e-01  1.8356e-01  3.0958e-01 -2.6405e-01  1.9259e-01  6.1825e-02\n",
            " -5.5806e-01 -2.0685e-01 -1.0332e-01  1.1148e-01 -2.0064e-01 -2.4883e-01\n",
            " -4.5559e-01  9.8108e-03 -2.1735e-01  4.3401e-01  1.0461e-01  4.9790e-02\n",
            " -1.4510e-01 -3.2152e-01  1.9390e-01  2.3293e-01  3.1286e-01 -7.7360e-01\n",
            " -2.0286e-01 -3.1826e-01 -6.7226e-01  1.3232e-01 -6.9156e-02  4.7442e-01\n",
            " -7.9631e-02 -2.9766e-01  6.9294e-02 -1.7475e-01 -8.2653e-02 -6.3374e-02] False\n",
            "comedy [ 9.3085e-02  1.6884e-01  4.1400e-01 -4.5711e-01  1.5554e-02  2.7430e-01\n",
            " -1.8678e-01 -6.4126e-01  4.8956e-01  1.9260e+00 -7.7859e-01 -1.5333e-02\n",
            "  1.3129e-01  5.6558e-01  1.6649e-01  2.9114e-01  7.1253e-01 -4.0204e-01\n",
            "  2.5045e-01 -1.8414e-01 -2.5368e-01 -2.7305e-01  2.5702e-01 -5.5556e-02\n",
            "  5.8490e-01  1.0597e-04 -3.8941e-01 -9.0068e-03 -4.9324e-01 -3.6538e-01\n",
            " -3.2299e-01 -6.3212e-01 -4.3648e-01  3.6639e-01  4.4367e-01 -9.2247e-02\n",
            " -3.8114e-01  1.5617e-01 -5.0011e-01  9.2692e-02  9.8996e-02  5.9205e-01\n",
            "  7.3738e-02  1.8431e-01  4.5697e-01  3.0107e-01  5.0343e-01 -2.9959e-02\n",
            "  1.1622e-01 -1.5825e-01  9.9578e-01 -3.0113e-01  5.0508e-01 -4.9628e-01\n",
            " -2.6225e-01  2.4327e-01  1.8284e-01 -6.6328e-01 -2.5263e-01 -4.2491e-01\n",
            "  6.8306e-02 -1.1955e-01  5.7989e-01  1.1166e-02  2.5589e-01 -1.8280e-01\n",
            " -3.8625e-02 -1.4139e-01 -2.7556e-01 -4.8485e-01  6.8771e-01 -6.2266e-01\n",
            " -8.8382e-02 -3.0127e-03 -2.8090e-01 -1.8719e-01 -3.0320e-01  2.0801e-01\n",
            "  6.5667e-01  4.2396e-01 -1.7474e-01 -1.6007e-02 -4.4760e-01 -3.3936e-01\n",
            " -1.9885e-01  1.4459e-01 -7.2188e-01 -2.4815e-01  1.7336e-01 -4.9057e-01\n",
            " -3.9351e-01  3.5505e-01  3.0188e-01  3.1144e-01  1.7632e-01 -3.9513e-01\n",
            " -2.4862e-01  5.9386e-01 -3.6873e-01 -4.7386e-01 -2.2032e-01 -3.9757e-01\n",
            " -6.4579e-01 -1.0271e-01  2.1633e-01  8.6321e-02  1.7256e-01 -4.8872e-02\n",
            "  3.5136e-02 -6.6494e-01 -6.0915e-01  5.2161e-01  1.1670e-01  2.9657e-02\n",
            " -5.9757e-01 -1.0865e-01  7.2462e-02  5.2387e-01  2.0278e-01  8.7752e-02\n",
            " -5.2509e-01 -2.3750e-01 -4.3060e-01 -3.5088e-01  1.6336e-01  3.1981e-01\n",
            "  4.8078e-01  5.0768e-01 -5.1802e-01 -1.2141e-01  3.5779e-02 -1.0835e-01\n",
            "  4.2822e-01  3.0469e-01 -1.3151e-01  5.9293e-01 -2.6668e-03 -8.4896e-01\n",
            " -3.3549e-01 -2.1623e-01 -2.8927e+00 -6.0451e-01 -2.7046e-01  2.9125e-01\n",
            " -4.9865e-01  6.1103e-03  8.0299e-01 -7.0289e-01  6.0713e-01 -3.8683e-02\n",
            "  2.2786e-01 -2.1169e-01  2.6866e-01 -2.1948e-01  1.0855e-01 -2.9416e-01\n",
            "  1.3357e-01 -1.5199e-01 -6.0731e-01  1.8516e-01  1.7716e-01 -8.7773e-01\n",
            "  7.5083e-01 -4.6064e-01 -1.2179e-03 -2.6821e-01 -5.4947e-01 -5.0690e-01\n",
            "  1.2609e-01 -2.4686e-01  5.8410e-02 -2.3573e-02 -3.0449e-01  7.6661e-02\n",
            " -4.9481e-02 -7.8402e-01 -5.1726e-01 -3.3905e-01  7.0133e-01 -6.4157e-01\n",
            " -3.4197e-01  1.4864e-01  3.2268e-01  5.7094e-01  2.9327e-01  2.7988e-01\n",
            "  7.8019e-02  2.6182e-01 -6.3468e-02 -3.7339e-01 -4.6324e-01 -2.2846e-01\n",
            " -1.9991e-02 -3.0713e-01 -6.0362e-01 -5.6128e-01 -6.0127e-01 -7.5723e-01\n",
            "  5.2137e-01 -4.9881e-02  4.0346e-02  7.8874e-02 -9.5242e-02  2.1141e-01\n",
            " -7.0516e-03 -3.6401e-02 -1.5909e-01 -6.8152e-02  4.2893e-01  2.4827e-01\n",
            " -7.9166e-01  5.1829e-01  3.3417e-01 -4.7808e-01 -4.4352e-01  7.3698e-01\n",
            "  5.9895e-01 -9.7753e-02  3.3395e-01 -4.4158e-01  3.0540e-02  3.0896e-01\n",
            "  4.1066e-01 -2.8267e-01 -2.4880e-02 -9.3308e-02 -2.4501e-01 -2.8341e-02\n",
            "  3.7889e-01  3.5230e-01  1.8222e-01  6.6361e-01  4.2703e-01 -2.0464e-01\n",
            " -4.0650e-01  2.0328e-01 -2.6594e-01  3.1452e-01 -1.7400e-01 -8.0744e-02\n",
            "  3.3496e-01 -2.3251e-01  2.9109e-01 -6.0016e-01 -1.0422e-02  2.6235e-01\n",
            "  9.3766e-02  7.3777e-02  5.9964e-03 -2.0708e-01  1.4198e-01  6.1902e-02\n",
            "  1.7626e-01 -2.4401e-01 -2.6419e-01 -1.1279e-01  5.4862e-01  4.2117e-01\n",
            " -1.8994e-01 -2.8279e-01 -1.1321e-01  6.4174e-01 -2.0410e-01 -2.0714e-01\n",
            " -1.1345e-01 -3.8164e-01  1.1375e-01  2.5977e-01  4.5976e-01  5.3725e-02\n",
            " -1.0015e+00  1.2953e-01 -5.5485e-01  1.5138e-02 -3.5564e-01  1.1311e-01\n",
            " -2.6737e-01 -8.8337e-01  2.4313e-01  8.8665e-01  3.4670e-01  3.3453e-01\n",
            "  4.3908e-01 -1.1862e-01 -5.7709e-01  7.8697e-01  4.7685e-01 -7.7390e-02\n",
            "  2.3293e-01  7.5858e-02  9.6689e-02  5.3801e-02 -1.9564e-01  4.9839e-01\n",
            " -2.1792e-01 -1.2777e-01  4.3126e-01 -2.3614e-01 -2.1079e-01 -2.2150e-01] False\n",
            "banana [ 2.0228e-01 -7.6618e-02  3.7032e-01  3.2845e-02 -4.1957e-01  7.2069e-02\n",
            " -3.7476e-01  5.7460e-02 -1.2401e-02  5.2949e-01 -5.2380e-01 -1.9771e-01\n",
            " -3.4147e-01  5.3317e-01 -2.5331e-02  1.7380e-01  1.6772e-01  8.3984e-01\n",
            "  5.5107e-02  1.0547e-01  3.7872e-01  2.4275e-01  1.4745e-02  5.5951e-01\n",
            "  1.2521e-01 -6.7596e-01  3.5842e-01 -4.0028e-02  9.5949e-02 -5.0690e-01\n",
            " -8.5318e-02  1.7980e-01  3.3867e-01  1.3230e-01  3.1021e-01  2.1878e-01\n",
            "  1.6853e-01  1.9874e-01 -5.7385e-01 -1.0649e-01  2.6669e-01  1.2838e-01\n",
            " -1.2803e-01 -1.3284e-01  1.2657e-01  8.6723e-01  9.6721e-02  4.8306e-01\n",
            "  2.1271e-01 -5.4990e-02 -8.2425e-02  2.2408e-01  2.3975e-01 -6.2260e-02\n",
            "  6.2194e-01 -5.9900e-01  4.3201e-01  2.8143e-01  3.3842e-02 -4.8815e-01\n",
            " -2.1359e-01  2.7401e-01  2.4095e-01  4.5950e-01 -1.8605e-01 -1.0497e+00\n",
            " -9.7305e-02 -1.8908e-01 -7.0929e-01  4.0195e-01 -1.8768e-01  5.1687e-01\n",
            "  1.2520e-01  8.4150e-01  1.2097e-01  8.8239e-02 -2.9196e-02  1.2151e-03\n",
            "  5.6825e-02 -2.7421e-01  2.5564e-01  6.9793e-02 -2.2258e-01 -3.6006e-01\n",
            " -2.2402e-01 -5.3699e-02  1.2022e+00  5.4535e-01 -5.7998e-01  1.0905e-01\n",
            "  4.2167e-01  2.0662e-01  1.2936e-01 -4.1457e-02 -6.6777e-01  4.0467e-01\n",
            " -1.5218e-02 -2.7640e-01 -1.5611e-01 -7.9198e-02  4.0037e-02 -1.2944e-01\n",
            " -2.4090e-04 -2.6785e-01 -3.8115e-01 -9.7245e-01  3.1726e-01 -4.3951e-01\n",
            "  4.1934e-01  1.8353e-01 -1.5260e-01 -1.0808e-01 -1.0358e+00  7.6217e-02\n",
            "  1.6519e-01  2.6526e-04  1.6616e-01 -1.5281e-01  1.8123e-01  7.0274e-01\n",
            "  5.7956e-03  5.1664e-02 -5.9745e-02 -2.7551e-01 -3.9049e-01  6.1132e-02\n",
            "  5.5430e-01 -8.7997e-02 -4.1681e-01  3.2826e-01 -5.2549e-01 -4.4288e-01\n",
            "  8.2183e-03  2.4486e-01 -2.2982e-01 -3.4981e-01  2.6894e-01  3.9166e-01\n",
            " -4.1904e-01  1.6191e-01 -2.6263e+00  6.4134e-01  3.9743e-01 -1.2868e-01\n",
            " -3.1946e-01 -2.5633e-01 -1.2220e-01  3.2275e-01 -7.9933e-02 -1.5348e-01\n",
            "  3.1505e-01  3.0591e-01  2.6012e-01  1.8553e-01 -2.4043e-01  4.2886e-02\n",
            "  4.0622e-01 -2.4256e-01  6.3870e-01  6.9983e-01 -1.4043e-01  2.5209e-01\n",
            "  4.8984e-01 -6.1067e-02 -3.6766e-01 -5.5089e-01 -3.8265e-01 -2.0843e-01\n",
            "  2.2832e-01  5.1218e-01  2.7868e-01  4.7652e-01  4.7951e-02 -3.4008e-01\n",
            " -3.2873e-01 -4.1967e-01 -7.5499e-02 -3.8954e-01 -2.9622e-02 -3.4070e-01\n",
            "  2.2170e-01 -6.2856e-02 -5.1903e-01 -3.7774e-01 -4.3477e-03 -5.8301e-01\n",
            " -8.7546e-02 -2.3929e-01 -2.4711e-01 -2.5887e-01 -2.9894e-01  1.3715e-01\n",
            "  2.9892e-02  3.6544e-02 -4.9665e-01 -1.8160e-01  5.2939e-01  2.1992e-01\n",
            " -4.4514e-01  3.7798e-01 -5.7062e-01 -4.6946e-02  8.1806e-02  1.9279e-02\n",
            "  3.3246e-01 -1.4620e-01  1.7156e-01  3.9981e-01  3.6217e-01  1.2816e-01\n",
            "  3.1644e-01  3.7569e-01 -7.4690e-02 -4.8480e-02 -3.1401e-01 -1.9286e-01\n",
            " -3.1294e-01 -1.7553e-02 -1.7514e-01 -2.7587e-02 -1.0000e+00  1.8387e-01\n",
            "  8.1434e-01 -1.8913e-01  5.0999e-01 -9.1960e-03 -1.9295e-03  2.8189e-01\n",
            "  2.7247e-02  4.3409e-01 -5.4967e-01 -9.7426e-02 -2.4540e-01 -1.7203e-01\n",
            " -8.8650e-02 -3.0298e-01 -1.3591e-01 -2.7765e-01  3.1286e-03  2.0556e-01\n",
            " -1.5772e-01 -5.2308e-01 -6.4701e-01 -3.7014e-01  6.9393e-02  1.1401e-01\n",
            "  2.7594e-01 -1.3875e-01 -2.7268e-01  6.6891e-01 -5.6454e-02  2.4017e-01\n",
            " -2.6730e-01  2.9860e-01  1.0083e-01  5.5592e-01  3.2849e-01  7.6858e-02\n",
            "  1.5528e-01  2.5636e-01 -1.0772e-01 -1.2359e-01  1.1827e-01 -9.9029e-02\n",
            " -3.4328e-01  1.1502e-01 -3.7808e-01 -3.9012e-02 -3.4593e-01 -1.9404e-01\n",
            " -3.3580e-01 -6.2334e-02  2.8919e-01  2.8032e-01 -5.3741e-01  6.2794e-01\n",
            "  5.6955e-02  6.2147e-01 -2.5282e-01  4.1670e-01 -1.0108e-02 -2.5434e-01\n",
            "  4.0003e-01  4.2432e-01  2.2672e-01  1.7553e-01  2.3049e-01  2.8323e-01\n",
            "  1.3882e-01  3.1218e-03  1.7057e-01  3.6685e-01  2.5247e-03 -6.4009e-01\n",
            " -2.9765e-01  7.8943e-01  3.3168e-01 -1.1966e+00 -4.7156e-02  5.3175e-01] False\n"
          ],
          "name": "stdout"
        }
      ]
    },
    {
      "cell_type": "markdown",
      "metadata": {
        "id": "h6_rl4UzQVRX",
        "colab_type": "text"
      },
      "source": [
        "### Compute similarity of text with keyword\n",
        "\n",
        "Each keyword is a vector of length 300\n",
        "\n",
        "Each text is a matrix of dimensions 50 x 300\n",
        "\n",
        "One simple way is:\n",
        "1. do a dot product of the vector with each column of the matrix\n",
        "2. take the mean of the dot products\n",
        "3. rank the mean values to find the highest matching keyword."
      ]
    },
    {
      "cell_type": "code",
      "metadata": {
        "id": "q9-dd9coRE6r",
        "colab_type": "code",
        "colab": {
          "base_uri": "https://localhost:8080/",
          "height": 34
        },
        "outputId": "c295fa9c-56f0-422f-fd5f-09d369011862"
      },
      "source": [
        "def get_score(text_vectors, keyword_vector):\n",
        "  return np.apply_along_axis(lambda x: np.dot(x, keyword_vector),\n",
        "                             axis=1, # column-wise\n",
        "                             arr=text_vectors).mean() # take the average\n",
        "\n",
        "get_score(text_vectors_clean, keyword_tokens[0].vector)"
      ],
      "execution_count": 105,
      "outputs": [
        {
          "output_type": "execute_result",
          "data": {
            "text/plain": [
              "4.6729636"
            ]
          },
          "metadata": {
            "tags": []
          },
          "execution_count": 105
        }
      ]
    },
    {
      "cell_type": "code",
      "metadata": {
        "id": "wbymiHD9RaLi",
        "colab_type": "code",
        "colab": {
          "base_uri": "https://localhost:8080/",
          "height": 177
        },
        "outputId": "de5456b2-5ef0-467f-9e20-72f185125d92"
      },
      "source": [
        "# compute the scores and put the results into a dictionary\n",
        "# (dictionary comprehension again)\n",
        "scores = {\n",
        "    token.text : get_score(text_vectors_clean, token.vector)\n",
        "      for token in keyword_tokens\n",
        "}\n",
        "\n",
        "# .items() returns a tuple of key, value\n",
        "# x[1] returns the 2nd part of the tuple\n",
        "\n",
        "print(TEXT)\n",
        "print('Category:')\n",
        "sorted(scores.items(), key=lambda x: x[1], reverse=True)"
      ],
      "execution_count": 106,
      "outputs": [
        {
          "output_type": "stream",
          "text": [
            "Signal is so good because it properly exploits the mystery and thrill aspect so profoundly, giving the viewers an emotionally gripping experience that would leave them in awe at certain scenes. It centers on a modern-day criminal profiler (Lee Je-hoon, Where Stars Land) who solves cold cases with the help of a detective (Cho Jin-woong, Entourage) from the past with whom he communicates through a mysterious walkie-talkie. The series received critical acclaim for its superb plot, solid acting, and sophisticated direction. It won Best Drama, Best Screenplay, and Best Actress at the 2016 Baeksang Arts Awards. It pulled in a peak rating of 12.5 percent.\n",
            "Category:\n"
          ],
          "name": "stdout"
        },
        {
          "output_type": "execute_result",
          "data": {
            "text/plain": [
              "[('romance', 9.770959),\n",
              " ('horror', 9.694752),\n",
              " ('detective', 9.154934),\n",
              " ('comedy', 8.824589),\n",
              " ('scifi', 4.6729636),\n",
              " ('banana', 4.58241)]"
            ]
          },
          "metadata": {
            "tags": []
          },
          "execution_count": 106
        }
      ]
    },
    {
      "cell_type": "markdown",
      "metadata": {
        "id": "lilOSyWFVrCc",
        "colab_type": "text"
      },
      "source": [
        "### Organising the code into a helper class\n",
        "\n",
        "This helper class can be put into a Python .py file"
      ]
    },
    {
      "cell_type": "code",
      "metadata": {
        "id": "Z21hJ5eZVwEK",
        "colab_type": "code",
        "colab": {}
      },
      "source": [
        "class KDramaSynopsisAnalyser:\n",
        "  def __init__(self, nlp, keywords, max_length=50):\n",
        "    \"\"\"Constructs the object\n",
        "    nlp: the spaCy language model\n",
        "    keywords: space-separated list of keywords\n",
        "    max_length: max length of text to process\n",
        "    \"\"\"\n",
        "    self.nlp = nlp\n",
        "    self.max_length = max_length\n",
        "    self.keyword_tokens = self.nlp(keywords)\n",
        "\n",
        "  def analyse(self, input_text):\n",
        "    \"\"\"Analyses an input text and displays keyword scores\"\"\"\n",
        "    text_matrix = self._get_text_matrix(input_text)\n",
        "    print(input_text)\n",
        "    print('Category:')\n",
        "    print(self._get_scores(text_matrix))\n",
        "\n",
        "  def _get_text_matrix(self, input_text):\n",
        "    '''Helper to get a matrix representation\n",
        "       of an input text'''\n",
        "    tokens = self.nlp(input_text)\n",
        "    # clean text\n",
        "    # filter out stop words and punctionation\n",
        "    # (we combined a few steps here)\n",
        "    t_cleaned = [t for t in tokens if not t.is_stop and not t.is_punct]\n",
        "\n",
        "    # create our text matrix\n",
        "    # truncate if needed\n",
        "    if len(t_cleaned) > self.max_length:\n",
        "      t_cleaned = t_cleaned[:self.max_length]\n",
        "\n",
        "    # convert to matrix\n",
        "    return np.array([t.vector for t in tokens])\n",
        "\n",
        "  def _get_scores(self, text_matrix):\n",
        "    '''Helper to compute the scores for an input text matrix'''\n",
        "    # compute the scores and put the results into a dictionary\n",
        "    scores = {\n",
        "        t.text : self._get_score(text_matrix, t.vector)\n",
        "          for t in self.keyword_tokens\n",
        "    }\n",
        "    # sort in descending score\n",
        "    return sorted(scores.items(), key=lambda x: x[1], reverse=True)\n",
        "\n",
        "  def _get_score(self, text_matrix, keyword_vector):\n",
        "    '''Helper to compute a score for a keyword'''\n",
        "    return np.apply_along_axis(lambda x: np.dot(x, keyword_vector),\n",
        "                            axis=1, # column-wise\n",
        "                            arr=text_matrix).mean() # take the average"
      ],
      "execution_count": 0,
      "outputs": []
    },
    {
      "cell_type": "code",
      "metadata": {
        "id": "N2v0rkWeYYlX",
        "colab_type": "code",
        "colab": {}
      },
      "source": [
        "KEYWORDS = \"romance scifi detective historical comedy horror documentary\"\n",
        "\n",
        "my_analyser = KDramaSynopsisAnalyser(nlp, keywords=KEYWORDS)"
      ],
      "execution_count": 0,
      "outputs": []
    },
    {
      "cell_type": "code",
      "metadata": {
        "id": "rd9J0yNTcJNA",
        "colab_type": "code",
        "colab": {
          "base_uri": "https://localhost:8080/",
          "height": 90
        },
        "outputId": "c2ead7cf-41f9-48c2-b612-549d7ac2a42d"
      },
      "source": [
        "TEXT1 = \"\"\"Prison Playbook presents an unconventional and unique plot that focuses on life in prison. It follows the story of a star baseball player, played by Park Hae-soo, who becomes a criminal overnight and is forced to live life in prison as a consequence. The series became a commercial success, achieving a peak rating of 11.2 percent and solidifying PD Shin’s status as a star director. It received five nominations (including Best Director and Screenplay) from the 54th Baeksang Arts Awards and won Best Drama at the 12th Korean Cable TV Awards\"\"\"\n",
        "\n",
        "my_analyser.analyse(TEXT1)"
      ],
      "execution_count": 131,
      "outputs": [
        {
          "output_type": "stream",
          "text": [
            "Prison Playbook presents an unconventional and unique plot that focuses on life in prison. It follows the story of a star baseball player, played by Park Hae-soo, who becomes a criminal overnight and is forced to live life in prison as a consequence. The series became a commercial success, achieving a peak rating of 11.2 percent and solidifying PD Shin’s status as a star director. It received five nominations (including Best Director and Screenplay) from the 54th Baeksang Arts Awards and won Best Drama at the 12th Korean Cable TV Awards\n",
            "Category:\n",
            "[('comedy', 9.462287), ('historical', 9.087089), ('horror', 8.944556), ('romance', 8.499304), ('documentary', 7.5246954), ('detective', 6.907165), ('scifi', 2.415669)]\n"
          ],
          "name": "stdout"
        }
      ]
    },
    {
      "cell_type": "code",
      "metadata": {
        "id": "sNR0GY2Lcq_F",
        "colab_type": "code",
        "colab": {
          "base_uri": "https://localhost:8080/",
          "height": 90
        },
        "outputId": "f06085c2-6c1d-428c-aee6-a7c76fe5f17d"
      },
      "source": [
        "TEXT2 = \"\"\"When Crash Landing on You was first announced, people couldn’t help but comment on its seemingly silly plot—a South Korean heiress lands on North Korean soil after a paragliding accident. But it turned out to be the most-watched drama in the first two months of 2020, with many viewers having gone gaga over its lead actors Hyun Bin and Son Ye-jin. The story unfolds when a North Korean soldier (Hyun Bin) finds the heiress (Son Ye-jin) in the forest after the accident. He promises to help her return home, only to fall for her and make things even more complicated. You can see action, romance, comedy, and melodrama in this highly-recommended show.\"\"\"\n",
        "\n",
        "my_analyser.analyse(TEXT2)"
      ],
      "execution_count": 132,
      "outputs": [
        {
          "output_type": "stream",
          "text": [
            "When Crash Landing on You was first announced, people couldn’t help but comment on its seemingly silly plot—a South Korean heiress lands on North Korean soil after a paragliding accident. But it turned out to be the most-watched drama in the first two months of 2020, with many viewers having gone gaga over its lead actors Hyun Bin and Son Ye-jin. The story unfolds when a North Korean soldier (Hyun Bin) finds the heiress (Son Ye-jin) in the forest after the accident. He promises to help her return home, only to fall for her and make things even more complicated. You can see action, romance, comedy, and melodrama in this highly-recommended show.\n",
            "Category:\n",
            "[('horror', 9.156178), ('romance', 9.1204405), ('comedy', 8.819231), ('historical', 8.478044), ('documentary', 6.6228423), ('detective', 6.574187), ('scifi', 2.1713529)]\n"
          ],
          "name": "stdout"
        }
      ]
    },
    {
      "cell_type": "code",
      "metadata": {
        "id": "oZHwdXcJdhzZ",
        "colab_type": "code",
        "colab": {
          "base_uri": "https://localhost:8080/",
          "height": 107
        },
        "outputId": "c28c596f-53aa-40ca-95be-9ee3281a358d"
      },
      "source": [
        "# Try something from the news...\n",
        "TEXT3 = \"\"\"SINGAPORE: Safe management measures to minimise the spread of COVID-19 must be put in place by pet establishments as they resume services from Jun 2, the National Parks Board (NParks) said in a news release on Wednesday (May 20).\n",
        "This comes a day after the Government announced that Singapore will exit the \"circuit breaker\" as planned on Jun 1, with measures to be progressively lifted in three phases from the next day.\"\"\"\n",
        "\n",
        "my_analyser.analyse(TEXT3)"
      ],
      "execution_count": 133,
      "outputs": [
        {
          "output_type": "stream",
          "text": [
            "SINGAPORE: Safe management measures to minimise the spread of COVID-19 must be put in place by pet establishments as they resume services from Jun 2, the National Parks Board (NParks) said in a news release on Wednesday (May 20).\n",
            "This comes a day after the Government announced that Singapore will exit the \"circuit breaker\" as planned on Jun 1, with measures to be progressively lifted in three phases from the next day.\n",
            "Category:\n",
            "[('historical', 7.574299), ('horror', 6.6079965), ('comedy', 5.9874935), ('romance', 5.7398796), ('documentary', 5.1856093), ('detective', 4.319773), ('scifi', 0.5449756)]\n"
          ],
          "name": "stdout"
        }
      ]
    }
  ]
}