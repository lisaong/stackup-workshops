{
  "nbformat": 4,
  "nbformat_minor": 0,
  "metadata": {
    "colab": {
      "name": "text_similarity.ipynb",
      "provenance": [],
      "authorship_tag": "ABX9TyOH7o8edAviKVtSmRLdi9gF",
      "include_colab_link": true
    },
    "kernelspec": {
      "name": "python3",
      "display_name": "Python 3"
    }
  },
  "cells": [
    {
      "cell_type": "markdown",
      "metadata": {
        "id": "view-in-github",
        "colab_type": "text"
      },
      "source": [
        "<a href=\"https://colab.research.google.com/github/lisaong/stackup-workshops/blob/text_similarity_datasource/text-similarity/text_similarity.ipynb\" target=\"_parent\"><img src=\"https://colab.research.google.com/assets/colab-badge.svg\" alt=\"Open In Colab\"/></a>"
      ]
    },
    {
      "cell_type": "code",
      "metadata": {
        "id": "PkE4jk2P6ok5",
        "colab_type": "code",
        "colab": {
          "base_uri": "https://localhost:8080/",
          "height": 441
        },
        "outputId": "f4140f98-ecc6-4a08-a682-82cd2aa0c1dc"
      },
      "source": [
        "# load the medium-sized model\n",
        "!python -m spacy download en_core_web_md"
      ],
      "execution_count": 1,
      "outputs": [
        {
          "output_type": "stream",
          "text": [
            "Requirement already satisfied: en_core_web_md==2.2.5 from https://github.com/explosion/spacy-models/releases/download/en_core_web_md-2.2.5/en_core_web_md-2.2.5.tar.gz#egg=en_core_web_md==2.2.5 in /usr/local/lib/python3.6/dist-packages (2.2.5)\n",
            "Requirement already satisfied: spacy>=2.2.2 in /usr/local/lib/python3.6/dist-packages (from en_core_web_md==2.2.5) (2.2.4)\n",
            "Requirement already satisfied: tqdm<5.0.0,>=4.38.0 in /usr/local/lib/python3.6/dist-packages (from spacy>=2.2.2->en_core_web_md==2.2.5) (4.41.1)\n",
            "Requirement already satisfied: srsly<1.1.0,>=1.0.2 in /usr/local/lib/python3.6/dist-packages (from spacy>=2.2.2->en_core_web_md==2.2.5) (1.0.2)\n",
            "Requirement already satisfied: blis<0.5.0,>=0.4.0 in /usr/local/lib/python3.6/dist-packages (from spacy>=2.2.2->en_core_web_md==2.2.5) (0.4.1)\n",
            "Requirement already satisfied: thinc==7.4.0 in /usr/local/lib/python3.6/dist-packages (from spacy>=2.2.2->en_core_web_md==2.2.5) (7.4.0)\n",
            "Requirement already satisfied: requests<3.0.0,>=2.13.0 in /usr/local/lib/python3.6/dist-packages (from spacy>=2.2.2->en_core_web_md==2.2.5) (2.23.0)\n",
            "Requirement already satisfied: setuptools in /usr/local/lib/python3.6/dist-packages (from spacy>=2.2.2->en_core_web_md==2.2.5) (46.3.0)\n",
            "Requirement already satisfied: wasabi<1.1.0,>=0.4.0 in /usr/local/lib/python3.6/dist-packages (from spacy>=2.2.2->en_core_web_md==2.2.5) (0.6.0)\n",
            "Requirement already satisfied: preshed<3.1.0,>=3.0.2 in /usr/local/lib/python3.6/dist-packages (from spacy>=2.2.2->en_core_web_md==2.2.5) (3.0.2)\n",
            "Requirement already satisfied: numpy>=1.15.0 in /usr/local/lib/python3.6/dist-packages (from spacy>=2.2.2->en_core_web_md==2.2.5) (1.18.4)\n",
            "Requirement already satisfied: murmurhash<1.1.0,>=0.28.0 in /usr/local/lib/python3.6/dist-packages (from spacy>=2.2.2->en_core_web_md==2.2.5) (1.0.2)\n",
            "Requirement already satisfied: catalogue<1.1.0,>=0.0.7 in /usr/local/lib/python3.6/dist-packages (from spacy>=2.2.2->en_core_web_md==2.2.5) (1.0.0)\n",
            "Requirement already satisfied: cymem<2.1.0,>=2.0.2 in /usr/local/lib/python3.6/dist-packages (from spacy>=2.2.2->en_core_web_md==2.2.5) (2.0.3)\n",
            "Requirement already satisfied: plac<1.2.0,>=0.9.6 in /usr/local/lib/python3.6/dist-packages (from spacy>=2.2.2->en_core_web_md==2.2.5) (1.1.3)\n",
            "Requirement already satisfied: idna<3,>=2.5 in /usr/local/lib/python3.6/dist-packages (from requests<3.0.0,>=2.13.0->spacy>=2.2.2->en_core_web_md==2.2.5) (2.9)\n",
            "Requirement already satisfied: certifi>=2017.4.17 in /usr/local/lib/python3.6/dist-packages (from requests<3.0.0,>=2.13.0->spacy>=2.2.2->en_core_web_md==2.2.5) (2020.4.5.1)\n",
            "Requirement already satisfied: urllib3!=1.25.0,!=1.25.1,<1.26,>=1.21.1 in /usr/local/lib/python3.6/dist-packages (from requests<3.0.0,>=2.13.0->spacy>=2.2.2->en_core_web_md==2.2.5) (1.24.3)\n",
            "Requirement already satisfied: chardet<4,>=3.0.2 in /usr/local/lib/python3.6/dist-packages (from requests<3.0.0,>=2.13.0->spacy>=2.2.2->en_core_web_md==2.2.5) (3.0.4)\n",
            "Requirement already satisfied: importlib-metadata>=0.20; python_version < \"3.8\" in /usr/local/lib/python3.6/dist-packages (from catalogue<1.1.0,>=0.0.7->spacy>=2.2.2->en_core_web_md==2.2.5) (1.6.0)\n",
            "Requirement already satisfied: zipp>=0.5 in /usr/local/lib/python3.6/dist-packages (from importlib-metadata>=0.20; python_version < \"3.8\"->catalogue<1.1.0,>=0.0.7->spacy>=2.2.2->en_core_web_md==2.2.5) (3.1.0)\n",
            "\u001b[38;5;2m✔ Download and installation successful\u001b[0m\n",
            "You can now load the model via spacy.load('en_core_web_md')\n"
          ],
          "name": "stdout"
        }
      ]
    },
    {
      "cell_type": "code",
      "metadata": {
        "id": "LHPrHTmBxNcd",
        "colab_type": "code",
        "colab": {}
      },
      "source": [
        "import numpy as np\n",
        "import scipy\n",
        "import spacy\n",
        "import matplotlib.pyplot as plt\n",
        "from sklearn.manifold import TSNE\n",
        "\n",
        "plt.style.use('seaborn-whitegrid')"
      ],
      "execution_count": 0,
      "outputs": []
    },
    {
      "cell_type": "code",
      "metadata": {
        "id": "0GR0PPj9LR2x",
        "colab_type": "code",
        "colab": {}
      },
      "source": [
        "# load the english language model\n",
        "# this includes: tokenizer, tagger, parser, named-entity recogniser, and word vectors\n",
        "nlp = spacy.load(\"en_core_web_md\")"
      ],
      "execution_count": 0,
      "outputs": []
    },
    {
      "cell_type": "markdown",
      "metadata": {
        "id": "XH8ZP1Fb2QlZ",
        "colab_type": "text"
      },
      "source": [
        "## Word vectors\n",
        "\n",
        "Like a dictionary for machines"
      ]
    },
    {
      "cell_type": "code",
      "metadata": {
        "id": "8aZwv0YJMbxn",
        "colab_type": "code",
        "colab": {
          "base_uri": "https://localhost:8080/",
          "height": 1000
        },
        "outputId": "9ba68f79-03f7-4741-fed4-ab0138b60e38"
      },
      "source": [
        "# try it out with some text, we'll try a real text later.\n",
        "tokens = nlp(\"man woman king queen\")\n",
        "\n",
        "for token in tokens:\n",
        "    print(token.text, token.has_vector, token.vector_norm, token.is_oov, token.vector)"
      ],
      "execution_count": 4,
      "outputs": [
        {
          "output_type": "stream",
          "text": [
            "man True 6.352939 False [-1.7310e-01  2.0663e-01  1.6543e-02 -3.1026e-01  1.9719e-02  2.7791e-01\n",
            "  1.2283e-01 -2.6328e-01  1.2522e-01  3.1894e+00 -1.6291e-01 -8.8759e-02\n",
            "  3.3067e-03 -2.9483e-03 -3.4398e-01  1.2779e-01 -9.4536e-02  4.3467e-01\n",
            "  4.9742e-01  2.5068e-01 -2.0901e-01 -5.8931e-01  6.1615e-02  1.0434e-01\n",
            "  2.4424e-01 -2.9120e-01  3.0746e-01  3.6276e-01  7.1151e-01 -8.0523e-02\n",
            " -5.9524e-01  3.4834e-01 -3.3048e-01  7.0316e-02  5.3329e-01 -2.9081e-01\n",
            "  1.3459e-01 -3.9856e-01 -3.2435e-01  1.1867e-01 -1.4938e-01 -3.8256e-01\n",
            "  3.3116e-01 -3.1488e-01 -9.4491e-02 -6.1319e-02  1.5518e-01 -2.5523e-01\n",
            " -1.1813e-01  2.5296e-01 -9.5174e-02 -1.6596e-01 -1.0840e-01  8.8803e-02\n",
            "  2.0890e-01  4.3981e-01  1.0476e-03 -4.0666e-02  2.6487e-01 -6.1009e-01\n",
            " -1.4405e-01 -8.1185e-02  7.5475e-03  2.3373e-01 -2.7772e-02 -2.9315e-01\n",
            " -1.1744e-01 -8.3193e-02 -2.3768e-01  1.5735e-01 -5.6408e-01 -2.9323e-01\n",
            "  1.6387e-02 -7.8160e-02 -2.1301e-01 -1.7845e-01 -3.0769e-01 -4.6203e-01\n",
            " -2.5220e-03  4.2973e-01 -4.5647e-02  4.3434e-01  2.9144e-01 -2.0231e-01\n",
            "  6.5217e-02 -4.2321e-01  7.1227e-01 -5.5498e-01 -3.6118e-01 -1.4849e-01\n",
            " -1.0082e-01 -1.0045e-01 -1.7666e-01  2.7141e-02 -1.4148e-01 -5.2112e-01\n",
            " -4.8785e-02 -2.9672e-01 -1.4418e-01 -2.8042e-01 -6.8216e-02  6.4455e-01\n",
            "  9.4982e-02  8.4994e-02  8.2954e-02 -2.5255e-01 -4.6606e-01  2.7432e-01\n",
            "  1.4998e-01  5.6889e-02  3.4382e-01 -3.5301e-01 -4.0666e-01  1.3636e-02\n",
            "  6.3070e-02  3.4924e-01  1.7517e-01 -1.7623e-01 -8.0157e-02  1.2179e-01\n",
            " -1.4025e-01 -2.6541e-01  1.7016e-01  1.2596e-01 -2.1399e-01 -2.1077e-01\n",
            " -4.6861e-01 -2.2138e-01  1.6753e-03 -1.4527e-01  1.1256e-01 -2.4644e-02\n",
            " -2.5005e-01 -4.3965e-01  4.6923e-01  2.0156e-01  3.2739e-01  6.8498e-02\n",
            " -2.0121e-01 -7.8691e-02 -2.6755e+00  1.4326e-01  6.9114e-02  3.6917e-01\n",
            " -1.1858e-01 -2.1332e-01  2.4918e-01 -1.2622e-01  5.5950e-02 -2.8807e-01\n",
            " -5.9173e-01 -9.0193e-02 -1.8155e-01 -3.3470e-01 -7.4857e-02  1.1898e-01\n",
            " -4.1698e-01 -1.9773e-01  1.9724e-01  1.1124e-01  2.6915e-01 -4.3901e-01\n",
            " -5.8556e-02  4.2020e-01  2.7380e-01 -9.7767e-02  7.5527e-02 -2.1164e-01\n",
            " -1.9093e-01  3.5376e-01 -6.9182e-01 -2.5014e-02  5.8887e-02 -1.7279e-01\n",
            " -4.4822e-01 -1.5286e-01 -2.1873e-01  2.2586e-01 -1.3494e-01  7.7586e-03\n",
            " -2.8582e-01  6.0300e-02 -6.1573e-03 -3.0737e-01 -8.2510e-01  5.8975e-01\n",
            " -4.1435e-01  9.8575e-02 -8.0579e-02 -6.0510e-01 -3.1138e-01  2.3793e-01\n",
            " -3.3706e-01  9.7126e-02  4.1277e-01  2.7025e-01 -7.1067e-02 -5.1049e-01\n",
            " -8.0376e-02 -1.6188e-01  1.3121e-02  2.1678e-01 -2.7958e-01 -1.9755e-01\n",
            " -3.4668e-01  1.0901e-01 -1.5878e-01  1.1535e-02 -2.5060e-02 -2.4669e-01\n",
            "  2.7795e-02 -4.6083e-01 -1.6082e-01 -1.6443e-01  3.4003e-01 -6.1288e-01\n",
            "  1.3028e-03 -1.2118e-01  3.8965e-01 -4.3394e-01  6.6747e-02  2.4109e-01\n",
            " -3.1253e-01  2.7997e-01  1.4047e-01 -1.6265e-02 -6.0792e-02  6.5612e-01\n",
            " -7.1277e-02  8.2271e-02  8.5240e-02  1.5606e-01 -2.1927e-01 -1.2083e-01\n",
            " -2.0386e-01 -3.9694e-03 -4.3643e-02  4.2532e-01 -3.3641e-01  3.0292e-01\n",
            "  2.9297e-01  1.2963e-01  1.5872e-01 -3.1301e-01  2.6109e-01  2.4433e-01\n",
            " -1.9605e-02 -4.4197e-01  4.5351e-01  2.2184e-01  3.6002e-02  3.0979e-01\n",
            "  2.8024e-02  2.9232e-01  8.8706e-02  1.3376e-01  5.6731e-01 -1.7374e-01\n",
            "  3.7015e-01 -2.9521e-01  3.4110e-02  4.1392e-01  1.5641e-02 -3.1128e-01\n",
            " -3.4823e-01  3.3560e-01  1.7200e-01  4.1568e-01 -2.6028e-01  3.3601e-01\n",
            " -4.1509e-03 -1.6774e-02 -2.6867e-01  5.0892e-02 -1.2670e-01  4.6916e-01\n",
            " -1.1842e-01  2.9402e-01  3.5544e-01  7.3157e-02 -1.9305e-01  2.3060e-01\n",
            " -2.6933e-01  6.2013e-02 -5.4700e-02 -3.8535e-01 -1.3039e-01 -8.4836e-02\n",
            "  9.8583e-02 -1.5403e-01 -3.6347e-01 -1.9985e-01 -2.2663e-01 -5.3781e-01\n",
            " -2.4666e-01  1.9266e-02  2.1319e-01  1.6665e-01 -3.8341e-01 -7.3803e-02]\n",
            "woman True 6.8987513 False [ 2.5567e-02  2.7885e-01 -1.6992e-01  2.7348e-01 -5.4906e-02  2.6873e-01\n",
            "  1.5479e-01 -2.2401e-01  2.6404e-01  3.2573e+00 -3.6653e-01  1.4961e-01\n",
            " -2.6870e-01 -3.1193e-01 -5.0554e-01 -1.8622e-02 -5.3002e-01  6.2383e-01\n",
            "  2.0168e-01  2.1561e-01 -1.9996e-01 -3.3419e-01 -9.5230e-02 -2.5538e-01\n",
            "  2.1543e-01  1.0939e-01  4.1532e-01  1.5005e-01  3.9662e-01 -2.5728e-01\n",
            " -4.6104e-01  2.9125e-01 -1.0363e-01 -1.6447e-01  9.3747e-01 -4.5412e-02\n",
            "  2.7272e-01 -7.1627e-01 -3.8877e-01  1.6912e-01  4.3804e-01 -2.2131e-01\n",
            "  2.0337e-01 -3.6581e-01 -3.6242e-02 -2.1563e-01 -1.1942e-01 -2.9580e-01\n",
            "  3.4733e-01 -1.6351e-02 -7.9160e-01 -2.4388e-01 -4.8220e-01 -4.5474e-01\n",
            "  2.1058e-01  6.3894e-01  8.8826e-02 -2.2047e-01 -5.9894e-02 -4.2726e-01\n",
            " -9.9469e-02 -5.2176e-01  4.6980e-02  3.2228e-01 -1.0954e-01 -2.5837e-01\n",
            "  1.0217e-01  9.0491e-02  1.8292e-01  3.8789e-01 -4.3365e-01 -2.4162e-01\n",
            " -4.3422e-01  2.2077e-01  5.0189e-01  9.0415e-03 -2.9682e-01 -5.2089e-01\n",
            "  5.5734e-02 -3.9163e-02 -4.3091e-03 -6.4597e-02 -2.5508e-01 -3.5399e-02\n",
            " -2.0516e-01 -1.1271e-01  8.7014e-01  6.0037e-02 -2.4875e-01 -5.1786e-01\n",
            " -1.0997e-01  3.8666e-01 -2.0147e-01 -1.7448e-01 -6.6240e-02 -8.6425e-01\n",
            " -6.2866e-02  1.5059e-01 -4.5898e-02 -2.9925e-01  4.9547e-01  8.5508e-01\n",
            "  5.0861e-01 -3.9749e-02  1.3830e-01 -4.3328e-01 -8.2351e-01  1.4587e-01\n",
            " -2.5802e-02  2.1241e-02  4.1686e-01  1.3879e-01 -2.8574e-01 -1.1489e-01\n",
            "  1.4417e-02 -1.0605e-01  9.2083e-02  1.6331e-01  5.1418e-01  2.6796e-01\n",
            " -3.0879e-01 -1.5634e-01  2.3043e-01 -1.9157e-01  2.0620e-03  7.1663e-02\n",
            " -1.5257e-01  8.9785e-03 -1.2435e-01  1.1599e-01 -2.3492e-01 -1.6969e-01\n",
            " -5.1814e-01 -3.3792e-01  3.4203e-01 -2.0270e-01 -3.0722e-01  2.4821e-01\n",
            " -2.1101e-01  1.6024e-01 -2.2108e+00 -3.3644e-02  1.5281e-01 -9.1025e-02\n",
            " -5.3468e-01 -1.9606e-01 -1.0073e-01 -1.4763e-01 -3.7963e-01 -1.1470e-01\n",
            " -7.7200e-01  3.4073e-03 -4.3319e-01 -1.9260e-01 -2.8495e-01  1.1820e-01\n",
            " -7.3914e-02 -4.4934e-01  1.5063e-01  7.5852e-02 -3.5571e-01 -2.2156e-01\n",
            "  1.5631e-02  5.4899e-01  2.7738e-01 -3.4669e-01 -4.6663e-02  2.0436e-01\n",
            "  3.1897e-02  4.9289e-01 -5.1963e-01 -1.5231e-01  4.7612e-01 -5.0498e-02\n",
            " -4.7795e-01 -2.1124e-01 -6.1119e-01 -3.5826e-02 -5.2109e-01  3.9765e-01\n",
            " -3.2262e-01  3.4586e-01 -3.6950e-02 -3.0117e-01 -1.8839e-01  7.4328e-01\n",
            " -4.6940e-01  2.2037e-01 -6.3876e-02 -4.2307e-01 -3.0980e-01 -9.2729e-02\n",
            " -1.4554e-01 -4.5225e-02  5.2110e-01  3.5251e-02 -1.6337e-01 -2.0276e-01\n",
            " -5.4362e-02 -1.7507e-01  4.6784e-01  2.8518e-01 -2.4753e-01 -3.8146e-01\n",
            " -6.5522e-01  2.8048e-01 -2.2469e-01  3.1348e-02 -3.7321e-02 -1.2925e-01\n",
            " -3.5847e-01 -6.3603e-01 -5.8490e-01  1.7119e-02  3.0965e-01 -3.9587e-01\n",
            " -6.3493e-01 -1.4329e-02  3.5014e-01 -5.6452e-01 -1.9727e-01 -2.8897e-01\n",
            "  5.3300e-02  8.2705e-02 -2.5107e-02 -4.0928e-01  4.5675e-01  3.6729e-01\n",
            "  5.5723e-02 -3.9100e-02 -4.7065e-02  1.4521e-01  2.8315e-01 -7.7514e-02\n",
            " -2.4889e-01 -2.1624e-01  3.2185e-02  2.9615e-01 -4.4788e-02 -7.8702e-02\n",
            " -2.9525e-01  1.1738e-01  3.9822e-01 -7.7722e-01  3.7586e-01 -8.3447e-02\n",
            " -1.3070e-01 -9.7301e-02  5.3456e-01 -5.6583e-02 -2.0945e-01  3.1246e-01\n",
            "  5.1180e-01 -5.2732e-02 -2.4482e-01  3.5617e-01  5.5137e-01 -1.6055e-01\n",
            "  8.8772e-02  2.0303e-01 -6.3832e-02  5.2000e-01 -2.6473e-02 -2.1467e-01\n",
            "  1.1760e-01  2.5080e-01  2.7871e-01  3.1016e-01 -8.8719e-01  1.8565e-02\n",
            " -9.0917e-01 -3.2640e-01 -4.6293e-01  3.6726e-01 -1.1205e-01  3.2701e-01\n",
            " -3.6490e-01  7.9312e-02  2.2619e-01  5.2265e-01  4.6024e-02  4.5068e-01\n",
            "  1.4493e-01 -3.3406e-01 -3.8688e-01  2.5465e-02 -4.9985e-01  5.4518e-02\n",
            "  1.2466e-01  1.2283e-02  7.5499e-02 -1.3099e-01  1.9764e-01 -6.5310e-01\n",
            " -2.7553e-01 -5.1765e-03 -1.6025e-01 -1.8582e-02 -1.0128e-01 -3.4728e-01]\n",
            "king True 7.1417456 False [ 3.1542e-01 -3.5068e-01  4.2923e-01 -5.3825e-01 -1.8480e-01 -3.1082e-01\n",
            "  2.9196e-01 -7.1030e-01 -2.3867e-01  1.8471e+00 -3.6446e-01 -5.1282e-01\n",
            "  1.2210e-01  3.8909e-01 -7.3204e-02  3.5462e-02  3.3289e-01  6.6466e-01\n",
            "  2.7175e-02  4.2021e-01 -1.4520e-01  3.7991e-01 -6.0520e-01  1.0695e-01\n",
            " -6.4716e-01 -1.0739e-02 -3.9754e-01  3.8857e-01 -2.0134e-01  6.9813e-01\n",
            " -3.2411e-01  7.3085e-01 -1.0930e-01 -2.3511e-01  1.8482e-01 -1.1595e-01\n",
            " -7.1003e-01 -2.2974e-01 -4.1979e-01  8.1004e-03 -1.0504e-01 -4.4802e-01\n",
            " -7.3928e-02 -4.2380e-01  2.8482e-01 -7.4517e-02  9.8161e-02  6.4602e-01\n",
            " -2.5832e-01 -2.0452e-02 -6.6863e-02  5.1501e-01  1.6758e-01  1.2329e-01\n",
            "  1.9636e-01  1.1958e-01 -1.8296e-01 -1.4325e-01 -2.7758e-01  5.0597e-02\n",
            " -6.6122e-02 -1.8920e-01  3.3300e-01  2.5319e-01  6.6355e-01  6.6735e-01\n",
            "  4.9969e-01  1.5481e-01 -8.4247e-02 -2.2947e-01 -6.8367e-01 -2.9783e-01\n",
            " -1.8651e-01 -4.7121e-01  1.8272e-01 -3.2604e-01 -6.8030e-02  7.0073e-01\n",
            "  3.3159e-01  7.0393e-02 -7.6987e-01  5.9069e-01  2.0592e-01  1.7976e-01\n",
            "  6.9525e-03  5.7855e-02  7.2047e-01 -7.7249e-01 -5.4188e-01 -1.2189e-01\n",
            " -3.1734e-03 -1.5960e-01  1.6970e-01 -1.2546e-01  8.7069e-01 -4.6478e-01\n",
            " -1.9302e-01 -4.5618e-01 -1.5419e-01  8.1190e-01 -2.0544e-01  3.9454e-01\n",
            " -3.1178e-01 -6.4318e-02 -4.4443e-02 -5.8338e-01 -1.4792e-01  1.7083e-02\n",
            "  8.3239e-01 -1.1280e-01  5.7826e-02  1.7024e-01 -1.3635e-01 -2.8894e-01\n",
            " -4.0590e-01 -5.0685e-02  4.9856e-01  6.0885e-02  1.9437e-01 -1.9811e-01\n",
            " -2.2335e-01 -2.5909e-02  3.9846e-01  4.4087e-01  2.3195e-02  9.8666e-02\n",
            " -1.3004e-01 -2.0339e-01 -4.2958e-01 -7.9760e-03 -3.2016e-01 -4.1094e-01\n",
            " -1.0304e-01 -7.5565e-01  1.7748e-02 -2.0037e-01  1.7185e-01  2.1787e-01\n",
            " -3.1685e-01  2.2068e-02 -2.5559e+00 -9.9115e-02  1.8434e-01  1.2448e-01\n",
            " -5.9413e-02 -4.5649e-02  7.9018e-01  2.4556e-01 -1.5059e-02 -7.8996e-01\n",
            "  2.9087e-01 -3.9419e-01  3.7617e-01  1.5718e-01  5.1356e-01 -3.4219e-01\n",
            "  5.0628e-02 -3.3254e-01 -1.4157e-01  3.3355e-01  4.4398e-01 -2.5451e-01\n",
            " -3.3201e-02 -2.0958e-01  3.8870e-01 -2.4565e-01  5.2391e-01  4.3247e-01\n",
            " -4.1701e-01  2.9031e-01 -7.8001e-01  3.0100e-02 -6.1446e-02 -1.4029e-01\n",
            " -5.5354e-01 -1.9175e-01  6.7279e-01 -1.1104e-01 -3.5486e-01 -2.8601e-01\n",
            "  1.1720e-01 -4.5021e-01  1.4004e-01 -5.7484e-01 -2.2531e-01  4.1572e-01\n",
            " -1.5950e-01 -2.7877e-01  7.9785e-02  1.9120e-02 -9.8357e-01 -5.6998e-01\n",
            " -3.4023e-02  1.7382e-02 -1.7157e-02 -2.8211e-01  1.5573e-01 -1.3556e-01\n",
            " -2.6296e-01 -7.4571e-01  1.2015e-01  5.4234e-01  5.6783e-02 -7.5675e-02\n",
            "  2.1820e-01 -2.5679e-01  2.3552e-01 -2.7111e-02 -1.9342e-01 -3.1088e-01\n",
            " -1.0600e-01  4.9512e-01  5.7932e-02  3.8773e-01  9.3160e-02 -1.3782e-01\n",
            "  2.4244e-01  3.8098e-01  9.1109e-04  8.8338e-01  4.3823e-01 -7.7041e-02\n",
            "  1.1541e-01  3.4702e-01  5.9785e-01  6.7012e-01 -6.0953e-02 -4.3872e-02\n",
            " -4.0800e-01  7.5721e-01  2.4773e-01  8.8926e-02 -1.8493e-01 -5.2339e-01\n",
            "  8.5809e-02 -6.0880e-01 -7.7463e-02 -2.6829e-01 -3.9021e-01 -1.5002e-01\n",
            "  5.4297e-01 -4.1076e-01 -9.5215e-02 -2.9787e-01  1.0041e-01 -3.7774e-01\n",
            "  7.5511e-01 -4.3910e-01 -6.1722e-01 -1.0360e+00  6.9651e-01  1.4157e-01\n",
            " -4.4533e-01  3.2702e-01  3.8306e-02  2.6765e-01  5.4242e-02 -3.0242e-02\n",
            " -4.5133e-01  6.2505e-03  2.7504e-01 -5.2413e-02 -1.9870e-01 -1.7869e-01\n",
            " -2.4658e-01 -3.7369e-01  2.6174e-01  4.1482e-01 -5.9277e-01  6.1446e-02\n",
            "  6.6261e-02  1.0970e-01 -1.4388e-01 -3.2442e-01 -3.9016e-04 -2.1392e-01\n",
            "  3.2963e-01  5.0402e-01  1.3454e-01 -5.6133e-01  1.0422e+00  5.8985e-01\n",
            "  1.4473e-01  1.7745e-01  1.6160e-01  3.3230e-01  2.2909e-01  1.5774e-01\n",
            " -3.5463e-01 -4.7642e-01 -2.5822e-01  2.3677e-01 -4.0255e-01 -3.5364e-01\n",
            " -1.6697e-01  7.0677e-01  8.4272e-02  1.1427e-01  5.8221e-01 -1.0559e-01]\n",
            "queen True 6.8297405 False [ 0.4095    -0.22693    0.25362   -0.36055   -0.37095   -0.35181\n",
            "  0.50669   -0.77897   -0.32571    1.4895     0.052438  -0.36751\n",
            " -0.074025   0.37078    0.063077   0.32274    0.346      0.64214\n",
            " -0.09583    0.14303   -0.33826    0.79005   -0.7136    -0.050134\n",
            " -0.46467   -0.067917  -0.32107    0.042919   0.018576   0.59272\n",
            " -0.032392   0.72779    0.26002    0.30401    0.43033    0.25546\n",
            " -0.37986   -0.14398   -0.54399   -0.46181    0.11046   -0.034391\n",
            " -0.10458   -0.069689   0.091839  -0.19097   -0.057108   0.61218\n",
            " -0.19544   -0.31698   -0.46372    0.088749  -0.052501  -0.27969\n",
            "  0.025125  -0.42097   -0.069404  -0.038672  -0.26489    0.10911\n",
            " -0.084848  -0.23826    0.61538    0.0039223  0.20285    0.56085\n",
            "  0.015419   0.30707    0.19435   -0.20358   -0.18724   -0.10311\n",
            " -0.46468   -0.16804    0.22614    0.040657  -0.5147     0.46701\n",
            "  0.61985   -0.46281   -0.8657     0.26458   -0.015476   0.12292\n",
            "  0.084031  -0.07936    0.58967   -0.011092  -0.3795    -0.053612\n",
            "  0.21134    0.46996    0.11207   -0.16461    0.43344   -0.40563\n",
            " -0.056622   0.37558   -0.41568    0.48919   -0.21899    0.070619\n",
            " -0.17975   -0.31542    0.030309  -0.50396   -0.3454     0.046303\n",
            "  0.65506   -0.34406    0.26439    0.65116    0.064871  -0.21301\n",
            " -0.33609   -0.13405    0.021996   0.13674    0.39605   -0.53568\n",
            " -0.4572     0.015033   0.34131    0.081045   0.13898    0.077339\n",
            "  0.12537   -0.36673   -0.45194    0.18747   -0.80829   -0.72773\n",
            " -0.16877   -0.10304    0.61342   -0.11578   -0.08559    0.32745\n",
            "  0.20161    0.16451   -2.6898    -0.13789    0.38222   -0.14568\n",
            " -0.54351   -0.057114   0.052728   0.21628    0.17275   -0.52548\n",
            "  0.33424   -0.11197    0.32572    0.073191   0.55281   -0.42832\n",
            "  0.66409   -0.88453   -0.097977   0.44619   -0.32691   -0.24954\n",
            " -0.077847  -0.0092577  0.52026   -0.22013    0.097384   0.55009\n",
            " -0.17778    0.31343   -0.27513   -0.040442   0.21805    0.17002\n",
            " -0.072219   0.0059726  0.35768    0.084917  -0.86797    0.35865\n",
            "  0.065546   0.10703    0.2024    -0.38667   -0.054235   0.2198\n",
            " -0.49117   -0.018379  -0.10444    0.55107   -0.49634   -0.29664\n",
            "  0.33894   -0.0087991 -0.03863   -0.54128    0.0079764  0.054724\n",
            " -0.2015    -0.18551    0.13176    0.27923    0.076447  -0.048008\n",
            " -0.055424  -0.34943    0.39729    0.2457     0.029499  -0.68098\n",
            " -0.6871     0.59309    0.074554   0.20225   -0.036478   0.14827\n",
            " -0.25059    0.26117   -0.31805    0.45437   -0.038272   0.028742\n",
            "  0.27339   -0.33354    0.91142    0.31166    0.11014    0.042104\n",
            " -0.12473    0.51306    0.16476    0.072608   0.31229   -0.10835\n",
            "  0.21623   -0.63722    0.21012   -0.083516  -0.17219   -0.51574\n",
            "  0.12891   -0.42211    0.031661  -0.27926    0.32035   -0.76117\n",
            "  0.32241    0.14613   -0.23227   -0.8071     0.11194    0.38073\n",
            " -0.022643  -0.24833   -0.26833    0.4066    -0.13731   -0.3489\n",
            " -0.6394     0.21267   -0.099964   0.37609   -0.23807   -0.4519\n",
            " -0.29246   -0.06527    0.53402    0.49704   -1.2046     0.028652\n",
            " -0.76803   -0.14139   -0.27493    0.090442   0.1094    -0.11903\n",
            "  0.26246   -0.094261  -0.004892  -0.22072    0.98163    0.68397\n",
            " -0.046815  -0.26183   -0.35914    0.10693    0.047385  -0.12417\n",
            " -0.17449    0.056819   0.086431   0.28052   -0.044373  -0.29452\n",
            " -0.19942    0.59475   -0.33682   -0.34563    0.12043   -0.36494  ]\n"
          ],
          "name": "stdout"
        }
      ]
    },
    {
      "cell_type": "code",
      "metadata": {
        "id": "ktgnnjdiMm4y",
        "colab_type": "code",
        "colab": {
          "base_uri": "https://localhost:8080/",
          "height": 34
        },
        "outputId": "a9ce6fa5-d161-4200-ab70-bf47d3d25f00"
      },
      "source": [
        "# plot the word vectors in 2-D space\n",
        "\n",
        "# doing a bit of list comprehension to get the vectors\n",
        "# then dumping it into a numpy array\n",
        "vectors = np.array([token.vector for token in tokens])\n",
        "\n",
        "vectors.shape"
      ],
      "execution_count": 5,
      "outputs": [
        {
          "output_type": "execute_result",
          "data": {
            "text/plain": [
              "(4, 300)"
            ]
          },
          "metadata": {
            "tags": []
          },
          "execution_count": 5
        }
      ]
    },
    {
      "cell_type": "code",
      "metadata": {
        "id": "mR7SF42gosOd",
        "colab_type": "code",
        "colab": {
          "base_uri": "https://localhost:8080/",
          "height": 87
        },
        "outputId": "15359790-28ab-4399-c9dd-730c5925b4c5"
      },
      "source": [
        "tsne = TSNE(n_components=2, random_state=42)\n",
        "vectors_2d = tsne.fit_transform(vectors)\n",
        "\n",
        "# each of these are 2 dimensions\n",
        "vectors_2d"
      ],
      "execution_count": 6,
      "outputs": [
        {
          "output_type": "execute_result",
          "data": {
            "text/plain": [
              "array([[ -32.147305, -293.99146 ],\n",
              "       [-114.43374 ,  -16.287865],\n",
              "       [-309.85068 , -376.27866 ],\n",
              "       [-392.13712 ,  -98.57503 ]], dtype=float32)"
            ]
          },
          "metadata": {
            "tags": []
          },
          "execution_count": 6
        }
      ]
    },
    {
      "cell_type": "code",
      "metadata": {
        "id": "tQYmM-zFo6NF",
        "colab_type": "code",
        "colab": {
          "base_uri": "https://localhost:8080/",
          "height": 262
        },
        "outputId": "891729cf-1fd5-42f6-b9cf-b5ee460cd3d4"
      },
      "source": [
        "# here's one vector\n",
        "plt.quiver([0], [0], vectors_2d[0, 0], vectors_2d[0, 1], \n",
        "           label=tokens[0].text,\n",
        "           scale=1500) \n",
        "plt.legend()\n",
        "plt.show()"
      ],
      "execution_count": 7,
      "outputs": [
        {
          "output_type": "display_data",
          "data": {
            "image/png": "[encoded data removed]",
            "text/plain": [
              "<Figure size 432x288 with 1 Axes>"
            ]
          },
          "metadata": {
            "tags": []
          }
        }
      ]
    },
    {
      "cell_type": "code",
      "metadata": {
        "id": "0Wi8sfByo8NG",
        "colab_type": "code",
        "colab": {
          "base_uri": "https://localhost:8080/",
          "height": 262
        },
        "outputId": "de245f1c-6228-4dda-e24b-32afc976dc5f"
      },
      "source": [
        "# let's plot all of them\n",
        "\n",
        "colours = ['blue', 'red', 'yellow', 'green']\n",
        "\n",
        "for i in range(len(tokens)):\n",
        "  plt.quiver([0], [0], vectors_2d[i, 0], vectors_2d[i, 1], \n",
        "             label=tokens[i].text,\n",
        "             scale=1500,\n",
        "             color=colours[i])\n",
        "\n",
        "plt.legend()\n",
        "plt.show()"
      ],
      "execution_count": 8,
      "outputs": [
        {
          "output_type": "display_data",
          "data": {
            "image/png": "[encoded data removed]",
            "text/plain": [
              "<Figure size 432x288 with 1 Axes>"
            ]
          },
          "metadata": {
            "tags": []
          }
        }
      ]
    },
    {
      "cell_type": "markdown",
      "metadata": {
        "id": "0fnf9iK_9OGv",
        "colab_type": "text"
      },
      "source": [
        "## Measuring similarity\n",
        "\n",
        "We can measure the similarity (cosine similarity) of two word vectors.\n",
        "\n",
        "Nearer to 1: more similar\n",
        "\n",
        "Nearer to 0: less similar "
      ]
    },
    {
      "cell_type": "code",
      "metadata": {
        "id": "3FdonL0rpqNA",
        "colab_type": "code",
        "colab": {
          "base_uri": "https://localhost:8080/",
          "height": 34
        },
        "outputId": "41486765-cfcd-4f07-848e-4a0ffbd55ff1"
      },
      "source": [
        "# Explore more word vectors\n",
        "\n",
        "# create a dictionary\n",
        "word_to_token = { token.text : token for token in tokens }\n",
        "word_to_token"
      ],
      "execution_count": 14,
      "outputs": [
        {
          "output_type": "execute_result",
          "data": {
            "text/plain": [
              "{'king': king, 'man': man, 'queen': queen, 'woman': woman}"
            ]
          },
          "metadata": {
            "tags": []
          },
          "execution_count": 14
        }
      ]
    },
    {
      "cell_type": "code",
      "metadata": {
        "id": "7_vEkCjN5hcF",
        "colab_type": "code",
        "colab": {
          "base_uri": "https://localhost:8080/",
          "height": 34
        },
        "outputId": "15130091-4a3b-4d13-809b-8c0c50a4b7ed"
      },
      "source": [
        "word_to_token['queen'].similarity(word_to_token['woman'])"
      ],
      "execution_count": 17,
      "outputs": [
        {
          "output_type": "execute_result",
          "data": {
            "text/plain": [
              "0.40660653"
            ]
          },
          "metadata": {
            "tags": []
          },
          "execution_count": 17
        }
      ]
    },
    {
      "cell_type": "code",
      "metadata": {
        "id": "QlVCxOPO5l0r",
        "colab_type": "code",
        "colab": {
          "base_uri": "https://localhost:8080/",
          "height": 34
        },
        "outputId": "f5972469-b31d-4393-f89b-ad56af23bd5c"
      },
      "source": [
        "word_to_token['king'].similarity(word_to_token['man'])"
      ],
      "execution_count": 18,
      "outputs": [
        {
          "output_type": "execute_result",
          "data": {
            "text/plain": [
              "0.4088461"
            ]
          },
          "metadata": {
            "tags": []
          },
          "execution_count": 18
        }
      ]
    },
    {
      "cell_type": "code",
      "metadata": {
        "id": "kgX581Q13_Ni",
        "colab_type": "code",
        "colab": {
          "base_uri": "https://localhost:8080/",
          "height": 34
        },
        "outputId": "f35b2ded-c392-441a-b8c0-31bdc54d20e3"
      },
      "source": [
        "word_to_token['king'].similarity(word_to_token['woman'])"
      ],
      "execution_count": 16,
      "outputs": [
        {
          "output_type": "execute_result",
          "data": {
            "text/plain": [
              "0.26556593"
            ]
          },
          "metadata": {
            "tags": []
          },
          "execution_count": 16
        }
      ]
    },
    {
      "cell_type": "code",
      "metadata": {
        "id": "9vkC6H408XsN",
        "colab_type": "code",
        "colab": {
          "base_uri": "https://localhost:8080/",
          "height": 34
        },
        "outputId": "7a64a221-97bd-4097-b7f8-6521373389ff"
      },
      "source": [
        "word_to_token['man'].similarity(word_to_token['woman'])"
      ],
      "execution_count": 19,
      "outputs": [
        {
          "output_type": "execute_result",
          "data": {
            "text/plain": [
              "0.7401745"
            ]
          },
          "metadata": {
            "tags": []
          },
          "execution_count": 19
        }
      ]
    },
    {
      "cell_type": "markdown",
      "metadata": {
        "id": "jG0UFcB29Eyd",
        "colab_type": "text"
      },
      "source": [
        "### Dot product between two vectors also gives the measure of similarity\n",
        "\n",
        "Larger value: more similar\n",
        "\n",
        "Smaller value: less similar"
      ]
    },
    {
      "cell_type": "code",
      "metadata": {
        "id": "RCUKgnLx8kyO",
        "colab_type": "code",
        "colab": {
          "base_uri": "https://localhost:8080/",
          "height": 34
        },
        "outputId": "bd06bf80-dc84-439a-c887-2f207154e7d7"
      },
      "source": [
        "np.dot(word_to_token['queen'].vector, word_to_token['woman'].vector)"
      ],
      "execution_count": 23,
      "outputs": [
        {
          "output_type": "execute_result",
          "data": {
            "text/plain": [
              "19.15795"
            ]
          },
          "metadata": {
            "tags": []
          },
          "execution_count": 23
        }
      ]
    },
    {
      "cell_type": "code",
      "metadata": {
        "id": "vFxYW4Qw80vB",
        "colab_type": "code",
        "colab": {
          "base_uri": "https://localhost:8080/",
          "height": 34
        },
        "outputId": "54a9ab5e-6912-430e-d35b-9657faeda8f0"
      },
      "source": [
        "np.dot(word_to_token['man'].vector, word_to_token['woman'].vector)"
      ],
      "execution_count": 21,
      "outputs": [
        {
          "output_type": "execute_result",
          "data": {
            "text/plain": [
              "32.439884"
            ]
          },
          "metadata": {
            "tags": []
          },
          "execution_count": 21
        }
      ]
    },
    {
      "cell_type": "code",
      "metadata": {
        "id": "TwwcDfdo84FV",
        "colab_type": "code",
        "colab": {
          "base_uri": "https://localhost:8080/",
          "height": 34
        },
        "outputId": "f91b574b-4fc6-48e3-8d55-a4c3f3b87bf1"
      },
      "source": [
        "np.dot(word_to_token['king'].vector, word_to_token['woman'].vector)"
      ],
      "execution_count": 22,
      "outputs": [
        {
          "output_type": "execute_result",
          "data": {
            "text/plain": [
              "13.084201"
            ]
          },
          "metadata": {
            "tags": []
          },
          "execution_count": 22
        }
      ]
    },
    {
      "cell_type": "markdown",
      "metadata": {
        "id": "3DZ-cbU489gM",
        "colab_type": "text"
      },
      "source": [
        "## Application: How much does a text match topics of interest\n",
        "\n",
        "1. Take any text\n",
        "2. Tokenise it into words\n",
        "3. Get the list of word vectors\n",
        "4. Do a dot product with each topic keyword\n",
        "5. Rank the dot products to find out the highest matching keywords\n",
        "\n",
        "Q: what are the advantages over simple string search / matching?"
      ]
    },
    {
      "cell_type": "code",
      "metadata": {
        "id": "yvHs9Yvk9Ct5",
        "colab_type": "code",
        "colab": {}
      },
      "source": [
        ""
      ],
      "execution_count": 0,
      "outputs": []
    }
  ]
}