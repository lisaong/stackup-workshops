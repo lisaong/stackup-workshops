{
  "nbformat": 4,
  "nbformat_minor": 0,
  "metadata": {
    "colab": {
      "name": "learning_from_history.ipynb",
      "provenance": [],
      "authorship_tag": "ABX9TyNOXJVHBMlkM/i4SYZuzmpb",
      "include_colab_link": true
    },
    "kernelspec": {
      "name": "python3",
      "display_name": "Python 3"
    }
  },
  "cells": [
    {
      "cell_type": "markdown",
      "metadata": {
        "id": "view-in-github",
        "colab_type": "text"
      },
      "source": [
        "<a href=\"https://colab.research.google.com/github/lisaong/stackup-workshops/blob/learn-history-dev/learn-history/learning_from_history.ipynb\" target=\"_parent\"><img src=\"https://colab.research.google.com/assets/colab-badge.svg\" alt=\"Open In Colab\"/></a>"
      ]
    },
    {
      "cell_type": "code",
      "metadata": {
        "id": "SD5hwKwkRG9j",
        "colab_type": "code",
        "colab": {}
      },
      "source": [
        "# visualisation\n",
        "import matplotlib.pyplot as plt\n",
        "import statsmodels\n",
        "\n",
        "# dataset downloading\n",
        "import io\n",
        "import requests\n",
        "import zipfile\n",
        "\n",
        "# data processing\n",
        "import pandas as pd\n",
        "\n",
        "# models\n",
        "import tensorflow as tf\n",
        "\n",
        "# misc\n",
        "import pickle\n",
        "\n",
        "plt.style.use('seaborn-whitegrid')"
      ],
      "execution_count": 0,
      "outputs": []
    },
    {
      "cell_type": "code",
      "metadata": {
        "id": "XA2qZV56yB6Q",
        "colab_type": "code",
        "colab": {}
      },
      "source": [
        "# download dataset\n",
        "# Browse to any data.gov.sg page\n",
        "# Find the \"Download dataset button\"\n",
        "# Right-click and copy the link\n",
        "\n",
        "# https://data.gov.sg/dataset/weekly-infectious-disease-bulletin-cases\n",
        "DATASET_URL = 'https://data.gov.sg/dataset/e51da589-b2d7-486b-adfc-4505d47e1206/download'\n",
        "\n",
        "headers = {\n",
        "    'User-Agent': 'Mozilla/5.0',\n",
        "}\n",
        "response = requests.get(DATASET_URL, headers=headers)\n",
        "z = zipfile.ZipFile(io.BytesIO(response.content))\n",
        "z.extractall()"
      ],
      "execution_count": 0,
      "outputs": []
    },
    {
      "cell_type": "code",
      "metadata": {
        "id": "DY9uBythy-t2",
        "colab_type": "code",
        "outputId": "61656be5-e836-4ca0-f953-67fee76e8f5d",
        "colab": {
          "base_uri": "https://localhost:8080/",
          "height": 70
        }
      },
      "source": [
        "# get the filename\n",
        "z.printdir()"
      ],
      "execution_count": 5,
      "outputs": [
        {
          "output_type": "stream",
          "text": [
            "File Name                                             Modified             Size\n",
            "metadata-weekly-infectious-disease-bulletin-cases.txt 2020-05-21 16:09:56         1971\n",
            "weekly-infectious-disease-bulletin-cases.csv   2020-05-21 16:09:56       392156\n"
          ],
          "name": "stdout"
        }
      ]
    },
    {
      "cell_type": "code",
      "metadata": {
        "id": "rJ9_sDXa3Clm",
        "colab_type": "code",
        "outputId": "dcbe023f-75a7-4da7-dae8-bbb44204953c",
        "colab": {
          "base_uri": "https://localhost:8080/",
          "height": 199
        }
      },
      "source": [
        "csv_file = 'weekly-infectious-disease-bulletin-cases.csv'\n",
        "\n",
        "df = pd.read_csv(csv_file)\n",
        "df.head()"
      ],
      "execution_count": 6,
      "outputs": [
        {
          "output_type": "execute_result",
          "data": {
            "text/html": [
              "<div>\n",
              "<style scoped>\n",
              "    .dataframe tbody tr th:only-of-type {\n",
              "        vertical-align: middle;\n",
              "    }\n",
              "\n",
              "    .dataframe tbody tr th {\n",
              "        vertical-align: top;\n",
              "    }\n",
              "\n",
              "    .dataframe thead th {\n",
              "        text-align: right;\n",
              "    }\n",
              "</style>\n",
              "<table border=\"1\" class=\"dataframe\">\n",
              "  <thead>\n",
              "    <tr style=\"text-align: right;\">\n",
              "      <th></th>\n",
              "      <th>epi_week</th>\n",
              "      <th>disease</th>\n",
              "      <th>no._of_cases</th>\n",
              "    </tr>\n",
              "  </thead>\n",
              "  <tbody>\n",
              "    <tr>\n",
              "      <th>0</th>\n",
              "      <td>2012-W01</td>\n",
              "      <td>Acute Viral hepatitis B</td>\n",
              "      <td>0</td>\n",
              "    </tr>\n",
              "    <tr>\n",
              "      <th>1</th>\n",
              "      <td>2012-W01</td>\n",
              "      <td>Acute Viral hepatitis C</td>\n",
              "      <td>0</td>\n",
              "    </tr>\n",
              "    <tr>\n",
              "      <th>2</th>\n",
              "      <td>2012-W01</td>\n",
              "      <td>Avian Influenza</td>\n",
              "      <td>0</td>\n",
              "    </tr>\n",
              "    <tr>\n",
              "      <th>3</th>\n",
              "      <td>2012-W01</td>\n",
              "      <td>Chikungunya Fever</td>\n",
              "      <td>0</td>\n",
              "    </tr>\n",
              "    <tr>\n",
              "      <th>4</th>\n",
              "      <td>2012-W01</td>\n",
              "      <td>Cholera</td>\n",
              "      <td>0</td>\n",
              "    </tr>\n",
              "  </tbody>\n",
              "</table>\n",
              "</div>"
            ],
            "text/plain": [
              "   epi_week                  disease  no._of_cases\n",
              "0  2012-W01  Acute Viral hepatitis B             0\n",
              "1  2012-W01  Acute Viral hepatitis C             0\n",
              "2  2012-W01          Avian Influenza             0\n",
              "3  2012-W01        Chikungunya Fever             0\n",
              "4  2012-W01                  Cholera             0"
            ]
          },
          "metadata": {
            "tags": []
          },
          "execution_count": 6
        }
      ]
    },
    {
      "cell_type": "code",
      "metadata": {
        "id": "PvI8QBw03wWa",
        "colab_type": "code",
        "colab": {}
      },
      "source": [
        "# Continuous integration is enabled on this notebook\n",
        "# store artifacts for CI testing\n",
        "\n",
        "ci_artifacts = {\n",
        "    'df' : df\n",
        "}\n",
        "\n",
        "pickle.dump(ci_artifacts, open('ci_artifacts.pkl', 'wb'))"
      ],
      "execution_count": 0,
      "outputs": []
    },
    {
      "cell_type": "code",
      "metadata": {
        "id": "D_AKOrPOSrWt",
        "colab_type": "code",
        "colab": {}
      },
      "source": [
        ""
      ],
      "execution_count": 0,
      "outputs": []
    }
  ]
}