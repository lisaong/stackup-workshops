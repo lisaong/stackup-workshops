{
  "nbformat": 4,
  "nbformat_minor": 0,
  "metadata": {
    "colab": {
      "name": "learning_from_history.ipynb",
      "provenance": [],
      "authorship_tag": "ABX9TyMHq2HOSrW4IYdhkltgGRJQ",
      "include_colab_link": true
    },
    "kernelspec": {
      "name": "python3",
      "display_name": "Python 3"
    }
  },
  "cells": [
    {
      "cell_type": "markdown",
      "metadata": {
        "id": "view-in-github",
        "colab_type": "text"
      },
      "source": [
        "<a href=\"https://colab.research.google.com/github/lisaong/stackup-workshops/blob/learn_history_talk/learn-history/learning_from_history.ipynb\" target=\"_parent\"><img src=\"https://colab.research.google.com/assets/colab-badge.svg\" alt=\"Open In Colab\"/></a>"
      ]
    },
    {
      "cell_type": "markdown",
      "metadata": {
        "id": "MDC5nPXyvcD8",
        "colab_type": "text"
      },
      "source": [
        "## Imports\n",
        "\n",
        "All these libraries below are included in Google Colab. \n",
        "If you are running this from your local Python install, you may nede to do a `pip install` for them."
      ]
    },
    {
      "cell_type": "code",
      "metadata": {
        "id": "SD5hwKwkRG9j",
        "colab_type": "code",
        "colab": {}
      },
      "source": [
        "# visualisation\n",
        "import matplotlib.pyplot as plt\n",
        "import statsmodels\n",
        "\n",
        "# dataset downloading\n",
        "import io\n",
        "import requests\n",
        "import zipfile\n",
        "\n",
        "# data processing\n",
        "import pandas as pd\n",
        "\n",
        "# models\n",
        "import tensorflow as tf\n",
        "\n",
        "# for saving the processed dataset\n",
        "import pickle\n",
        "\n",
        "plt.style.use('seaborn-whitegrid')"
      ],
      "execution_count": 0,
      "outputs": []
    },
    {
      "cell_type": "markdown",
      "metadata": {
        "id": "u3D8OK5bvesn",
        "colab_type": "text"
      },
      "source": [
        "## Download dataset\n",
        "\n",
        "1. Browse to the data.gov.sg dataset page, e.g. https://data.gov.sg/dataset/gross-domestic-product-in-chained-2015-dollars-year-on-year-growth-rate-quarterly\n",
        "\n",
        "2. Find the \"Download dataset button\"\n",
        "\n",
        "3. Right-click and copy the link (which should point to a .zip file), e.g. https://data.gov.sg/dataset/92bcfcdf-cbb2-4497-a855-5aad9cf95cad/download\n",
        "\n",
        "4. Paste the link in `DATASET_URL` below."
      ]
    },
    {
      "cell_type": "code",
      "metadata": {
        "id": "XA2qZV56yB6Q",
        "colab_type": "code",
        "colab": {}
      },
      "source": [
        "# https://data.gov.sg/dataset/gross-domestic-product-in-chained-2015-dollars-year-on-year-growth-rate-quarterly\n",
        "DATASET_URL = 'https://data.gov.sg/dataset/92bcfcdf-cbb2-4497-a855-5aad9cf95cad/download'\n",
        "\n",
        "headers = {\n",
        "    'User-Agent': 'Mozilla/5.0',\n",
        "}\n",
        "response = requests.get(DATASET_URL, headers=headers)\n",
        "z = zipfile.ZipFile(io.BytesIO(response.content))\n",
        "z.extractall()"
      ],
      "execution_count": 0,
      "outputs": []
    },
    {
      "cell_type": "code",
      "metadata": {
        "id": "DY9uBythy-t2",
        "colab_type": "code",
        "outputId": "5bfaacf5-6721-4c37-942c-0411abf9c75e",
        "colab": {
          "base_uri": "https://localhost:8080/",
          "height": 70
        }
      },
      "source": [
        "# get the filename\n",
        "z.printdir()"
      ],
      "execution_count": 4,
      "outputs": [
        {
          "output_type": "stream",
          "text": [
            "File Name                                             Modified             Size\n",
            "metadata-gross-domestic-product-in-chained-2015-dollars-year-on-year-growth-rate-quarterly.txt 2020-06-05 05:23:40         2520\n",
            "gross-domestic-product-in-chained-2015-dollars-year-on-year-growth-rate-quarterly.csv 2020-06-05 05:23:40         7647\n"
          ],
          "name": "stdout"
        }
      ]
    },
    {
      "cell_type": "markdown",
      "metadata": {
        "id": "vBTeSSrs54T6",
        "colab_type": "text"
      },
      "source": [
        "Update `CSV_FILE` to use the correct .csv filename. Some zip files contain multiple datasets."
      ]
    },
    {
      "cell_type": "code",
      "metadata": {
        "id": "rJ9_sDXa3Clm",
        "colab_type": "code",
        "outputId": "847c0c5c-0b5a-46aa-9e94-fae1f3eaaa79",
        "colab": {
          "base_uri": "https://localhost:8080/",
          "height": 199
        }
      },
      "source": [
        "# Note: update CSV_FILE to the .csv filename from above\n",
        "CSV_FILE = 'gross-domestic-product-in-chained-2015-dollars-year-on-year-growth-rate-quarterly.csv'\n",
        "\n",
        "df = pd.read_csv(CSV_FILE)\n",
        "df.head()"
      ],
      "execution_count": 5,
      "outputs": [
        {
          "output_type": "execute_result",
          "data": {
            "text/html": [
              "<div>\n",
              "<style scoped>\n",
              "    .dataframe tbody tr th:only-of-type {\n",
              "        vertical-align: middle;\n",
              "    }\n",
              "\n",
              "    .dataframe tbody tr th {\n",
              "        vertical-align: top;\n",
              "    }\n",
              "\n",
              "    .dataframe thead th {\n",
              "        text-align: right;\n",
              "    }\n",
              "</style>\n",
              "<table border=\"1\" class=\"dataframe\">\n",
              "  <thead>\n",
              "    <tr style=\"text-align: right;\">\n",
              "      <th></th>\n",
              "      <th>quarter</th>\n",
              "      <th>level_1</th>\n",
              "      <th>value</th>\n",
              "    </tr>\n",
              "  </thead>\n",
              "  <tbody>\n",
              "    <tr>\n",
              "      <th>0</th>\n",
              "      <td>1976-Q1</td>\n",
              "      <td>GDP In Chained (2015) Dollars</td>\n",
              "      <td>8.2</td>\n",
              "    </tr>\n",
              "    <tr>\n",
              "      <th>1</th>\n",
              "      <td>1976-Q2</td>\n",
              "      <td>GDP In Chained (2015) Dollars</td>\n",
              "      <td>7.4</td>\n",
              "    </tr>\n",
              "    <tr>\n",
              "      <th>2</th>\n",
              "      <td>1976-Q3</td>\n",
              "      <td>GDP In Chained (2015) Dollars</td>\n",
              "      <td>7.2</td>\n",
              "    </tr>\n",
              "    <tr>\n",
              "      <th>3</th>\n",
              "      <td>1976-Q4</td>\n",
              "      <td>GDP In Chained (2015) Dollars</td>\n",
              "      <td>7.0</td>\n",
              "    </tr>\n",
              "    <tr>\n",
              "      <th>4</th>\n",
              "      <td>1977-Q1</td>\n",
              "      <td>GDP In Chained (2015) Dollars</td>\n",
              "      <td>6.2</td>\n",
              "    </tr>\n",
              "  </tbody>\n",
              "</table>\n",
              "</div>"
            ],
            "text/plain": [
              "   quarter                        level_1  value\n",
              "0  1976-Q1  GDP In Chained (2015) Dollars    8.2\n",
              "1  1976-Q2  GDP In Chained (2015) Dollars    7.4\n",
              "2  1976-Q3  GDP In Chained (2015) Dollars    7.2\n",
              "3  1976-Q4  GDP In Chained (2015) Dollars    7.0\n",
              "4  1977-Q1  GDP In Chained (2015) Dollars    6.2"
            ]
          },
          "metadata": {
            "tags": []
          },
          "execution_count": 5
        }
      ]
    },
    {
      "cell_type": "markdown",
      "metadata": {
        "id": "WAV-3NXu6D4q",
        "colab_type": "text"
      },
      "source": [
        "# Data Exploration\n",
        "\n",
        "1. Plot the dataset\n",
        "2. Compute the min, max, etc\n",
        "3. Plot the autocorrelation"
      ]
    },
    {
      "cell_type": "code",
      "metadata": {
        "id": "aaNbc7O35jC8",
        "colab_type": "code",
        "colab": {}
      },
      "source": [
        ""
      ],
      "execution_count": 0,
      "outputs": []
    },
    {
      "cell_type": "code",
      "metadata": {
        "id": "0Q-Nl1rD5jVR",
        "colab_type": "code",
        "colab": {}
      },
      "source": [
        ""
      ],
      "execution_count": 0,
      "outputs": []
    },
    {
      "cell_type": "markdown",
      "metadata": {
        "id": "tZMZoF3n6bE4",
        "colab_type": "text"
      },
      "source": [
        "# Windowing\n",
        "\n",
        "1. Create shifted windows of the dataset.\n",
        "2. Use this to setup our inputs and target."
      ]
    },
    {
      "cell_type": "code",
      "metadata": {
        "id": "q5AyPLch5jAd",
        "colab_type": "code",
        "colab": {}
      },
      "source": [
        ""
      ],
      "execution_count": 0,
      "outputs": []
    },
    {
      "cell_type": "code",
      "metadata": {
        "id": "y7NBIASe6m6N",
        "colab_type": "code",
        "colab": {}
      },
      "source": [
        ""
      ],
      "execution_count": 0,
      "outputs": []
    },
    {
      "cell_type": "markdown",
      "metadata": {
        "id": "q8Zy8Ez36nlj",
        "colab_type": "text"
      },
      "source": [
        "# Neural Network\n",
        "\n",
        "1. Create a neural network using Tensorflow-Keras\n",
        "2. Split the dataset into training and testing sets\n",
        "3. Train the neural network using the training set.\n",
        "4. Evaluate the neural network using the test set."
      ]
    },
    {
      "cell_type": "code",
      "metadata": {
        "id": "Iv6XG7Hb6m48",
        "colab_type": "code",
        "colab": {}
      },
      "source": [
        ""
      ],
      "execution_count": 0,
      "outputs": []
    },
    {
      "cell_type": "code",
      "metadata": {
        "id": "AIo_kr226s3t",
        "colab_type": "code",
        "colab": {}
      },
      "source": [
        ""
      ],
      "execution_count": 0,
      "outputs": []
    },
    {
      "cell_type": "code",
      "metadata": {
        "id": "zQv6v9mM5i7g",
        "colab_type": "code",
        "colab": {}
      },
      "source": [
        ""
      ],
      "execution_count": 0,
      "outputs": []
    },
    {
      "cell_type": "markdown",
      "metadata": {
        "id": "T5wZ_CRnwKCl",
        "colab_type": "text"
      },
      "source": [
        "# Continous Integration (Optional)\n",
        "\n",
        "When Github workflow is enabled in the repository, changes to this notebook that are pushed to Github will trigger a test run. \n",
        "\n",
        "The test will load the model and compute the metrics.\n",
        "\n",
        "See:\n",
        "https://github.com/lisaong/stackup-workshops/tree/master/.github/workflows"
      ]
    },
    {
      "cell_type": "code",
      "metadata": {
        "id": "PvI8QBw03wWa",
        "colab_type": "code",
        "colab": {}
      },
      "source": [
        "# Continuous integration is enabled on this notebook\n",
        "# store artifacts for CI testing\n",
        "\n",
        "ci_artifacts = {\n",
        "    'df' : df\n",
        "}\n",
        "\n",
        "pickle.dump(ci_artifacts, open('ci_artifacts.pkl', 'wb'))"
      ],
      "execution_count": 0,
      "outputs": []
    }
  ]
}